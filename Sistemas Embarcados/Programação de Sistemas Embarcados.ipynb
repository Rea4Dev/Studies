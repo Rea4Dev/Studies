{
 "cells": [
  {
   "attachments": {},
   "cell_type": "markdown",
   "metadata": {},
   "source": [
    "<link rel=\"stylesheet\" href=\"../Jupyter Style/style.css\">\n",
    "\n",
    "# <h1 id=\"center\" class=\"white-neon\" style=\"font-weight:700\">Programação de Sistemas Embarcados</h1>"
   ]
  },
  {
   "attachments": {},
   "cell_type": "markdown",
   "metadata": {},
   "source": [
    "<div class=\"animated-border\">\n",
    "    <img src=\"../Images/Mime and Dash Ilustrations/Gifs/Join with us.gif\" alt=\"descrição do gif\" width=\"900\" style=\"display: block; margin-left: auto; margin-right: auto; border-radius:20px\">\n",
    "</div>"
   ]
  },
  {
   "attachments": {},
   "cell_type": "markdown",
   "metadata": {},
   "source": [
    "## <p style=\"border-bottom:solid #ffffff38 5px;\">"
   ]
  },
  {
   "attachments": {},
   "cell_type": "markdown",
   "metadata": {},
   "source": [
    "<link rel=\"stylesheet\" href=\"../Jupyter Style/style.css\"> \n",
    "\n",
    "## <h2 class=\"white-neon\">Fundamentos</h2>"
   ]
  },
  {
   "cell_type": "markdown",
   "metadata": {},
   "source": [
    "<link rel=\"stylesheet\" href=\"../Jupyter Style/style.css\"> \n",
    "\n",
    "### <h3 class=\"red-neon\">Noção de Pré-Compilação</h3>"
   ]
  },
  {
   "cell_type": "markdown",
   "metadata": {},
   "source": [
    "<link rel=\"stylesheet\" href=\"../Jupyter Style/style.css\">\n",
    "\n",
    "<p>Existem <span>6 diretivas</span> que permitem <span>condicionar a compilação</span> de um código baseada numa premissa."
   ]
  },
  {
   "cell_type": "markdown",
   "metadata": {},
   "source": [
    "<link rel=\"stylesheet\" href=\"../Jupyter Style/style.css\"> \n",
    "\n",
    "#### <h4 class=\"blue-neon\">↴ #if #elif #else #endif</h4>"
   ]
  },
  {
   "cell_type": "code",
   "execution_count": null,
   "metadata": {},
   "outputs": [],
   "source": [
    "#if <cond1>\n",
    "    /* código mantido se cond1 = verdadeira */\n",
    "#elif <cond2>\n",
    "    /* código mantido se cond1 = falso mas cond2 = verdadeiro */\n",
    "#else\n",
    "    /* código mantido se ambas forem falsas */\n",
    "#endif"
   ]
  },
  {
   "cell_type": "markdown",
   "metadata": {},
   "source": [
    "<link rel=\"stylesheet\" href=\"../Jupyter Style/style.css\"> \n",
    "\n",
    "#### <h4 class=\"blue-neon\">↴ #ifdef #ifndef</h4>"
   ]
  },
  {
   "cell_type": "markdown",
   "metadata": {},
   "source": [
    "<link rel=\"stylesheet\" href=\"../Jupyter Style/style.css\">\n",
    "\n",
    "<p>Realizam decisões <span>baseadas no fato de uma macro ter sido definida ou não</span>.<br>Bastante utilizadas para gerar a configuração do sistema."
   ]
  },
  {
   "cell_type": "markdown",
   "metadata": {},
   "source": [
    "<link rel=\"stylesheet\" href=\"../Jupyter Style/style.css\"> \n",
    "\n",
    "##### <h5 class=\"green-neon\">↴ ↴ Exemplo prático</h5>"
   ]
  },
  {
   "cell_type": "markdown",
   "metadata": {},
   "source": [
    "<link rel=\"stylesheet\" href=\"../Jupyter Style/style.css\"><p>Uma empresa possui três termômetros, uma versão mais barata teria um aviso sonoro em caso de sobretemperatura, uma versão intermediária teria um display LCD mostrando o valor atual e uma versão mais cara teria ambos. Ao invés de criar três programas separados, os programadores optaram por criar <span>apenas um código que pode ser parametrizado utilizando as macros e as diretivas de pré-compilação</span>."
   ]
  },
  {
   "cell_type": "markdown",
   "metadata": {},
   "source": [
    "<link rel=\"stylesheet\" href=\"../Jupyter Style/style.css\"> \n",
    "\n",
    "### <h3 class=\"red-neon\">Noção de Função main()</h3>"
   ]
  },
  {
   "cell_type": "markdown",
   "metadata": {},
   "source": [
    "<link rel=\"stylesheet\" href=\"../Jupyter Style/style.css\"> <p>Possui aqui (Sistemas Embarcados) diferenças ao usual, aqui ela <span>não recebe e nem retorna nada</span>."
   ]
  },
  {
   "cell_type": "code",
   "execution_count": null,
   "metadata": {},
   "outputs": [],
   "source": [
    "void main(void) {\n",
    "    /* aqui entra o código do programa */\n",
    "}"
   ]
  },
  {
   "cell_type": "markdown",
   "metadata": {},
   "source": [
    "<link rel=\"stylesheet\" href=\"../Jupyter Style/style.css\"> <p>Aqui, por ser projetado para começar a funcionar assim que ligado e apenas parar quando desligado (continua executando até ser desligado ou receber um comando para desligar), deve ter um <span>loop infinito</span>."
   ]
  },
  {
   "cell_type": "markdown",
   "metadata": {},
   "source": [
    "<link rel=\"stylesheet\" href=\"../Jupyter Style/style.css\"> \n",
    "\n",
    "### <h3 class=\"red-neon\">Noção de Loop infinito<h3>"
   ]
  },
  {
   "cell_type": "markdown",
   "metadata": {},
   "source": [
    "<link rel=\"stylesheet\" href=\"../Jupyter Style/style.css\"> \n",
    "\n",
    "#### <h4 class=\"blue-neon\">↴ O porquê do loop infinito</h4>"
   ]
  },
  {
   "cell_type": "markdown",
   "metadata": {},
   "source": [
    "<link rel=\"stylesheet\" href=\"../Jupyter Style/style.css\"> \n",
    "<p>Enquanto ligados, vários dos equipamentos embarcados são <span>desenvolvidos para funcionar continuamente, monitorando sinais de entrada, tomando decisões e atuando nos dispositivos de saída</span>.\n",
    "\n",
    "<br>     - Geralmente, eles não têm contato com a parte do usuário, seja um teclado ou comunicação serial. Mesmo que o equipamento tenha essas interfaces, estes eventos podem não acontecer. Assim sendo, os programas são pensados para continuarem sua execução independentemente da interação do usuário. Se um equipamento embarcado ficar aguardando uma informação de um usuário, ele pode negligenciar outras funções.\n",
    "\n",
    "<br>     - Devemos levar em conta a necessidade de gerenciar tanto os periféricos de entrada e saída quanto a aplicação em si. O programador tem a responsabilidade de primeiro garantir que o sistema esteja funcionando, com todas as suas características básicas, para só então desenvolver uma aplicação. É necessário primeiro se certificar de que todas as bibliotecas e drivers funcionam corretamente antes de programar as funcionalidades do sistema. \n",
    "\n",
    "<br>     - É necessário, nestes sistemas, que o programador se preocupe com as questões temporais. Os sistemas embarcados possuem informações que se alteram constantemente, mesmo sem a interferência do usuário. Além disso, algumas atividades possuem requisitos de execução que, se não atendidos, podem causar problemas, desde simples falhas no sistema até a destruição do equipamento.\n",
    "\n",
    "<br>Levando todas essas questões em consideração, <span>o funcionamento do programa para um sistema embarcado é diferente do de um programa para desktop, para internet ou até mesmo para um celular</span>. É necessário planejar o programa levando em conta todas essas peculiaridades. \n",
    "\n",
    "<br> Existem algumas técnicas/modelos que facilitam o desenvolvimento de programas para sistemas embarcados. Boa parte delas está relacionada a estruturas de máquinas de estado ou fluxogramas. O que todos esses modelos têm em comum é a implementação de um <span>loop infinito</span> e o conceito de <span>evolução temporal do código</span>.</p>"
   ]
  },
  {
   "cell_type": "markdown",
   "metadata": {},
   "source": [
    "<link rel=\"stylesheet\" href=\"../Jupyter Style/style.css\"> \n",
    "\n",
    "#### <h4 class=\"blue-neon\">↴ O loop Infinito</h3>"
   ]
  },
  {
   "cell_type": "markdown",
   "metadata": {},
   "source": [
    "<link rel=\"stylesheet\" href=\"../Jupyter Style/style.css\"> \n",
    "\n",
    "<p> Todo software embarcado <span>possui ao menos um loop infinito</span>. Este loop <span>normalmente se localiza dentro da função main()</span> como no código abaixo: "
   ]
  },
  {
   "cell_type": "code",
   "execution_count": null,
   "metadata": {},
   "outputs": [],
   "source": [
    "//includes\n",
    "void main (void) {\n",
    "    //inicialização do sistema\n",
    "    for(;;){\n",
    "        //código a ser executado\n",
    "    }\n",
    "    //o sistema não deve chegar neste ponto\n",
    "}"
   ]
  },
  {
   "cell_type": "markdown",
   "metadata": {},
   "source": [
    "<link rel=\"stylesheet\" href=\"../Jupyter Style/style.css\"> \n",
    "<p>Na inicialização da placa, <span>devem-se configurar todos os periféricos</span> que forem utilizados na aplicação, como timers, portas de I/O, comunicações seriais, entre outros.<br>\n",
    "\n",
    "<br><span>Deve-se tomar cuido</span> com a inicialização dos periféricos externos ao chip. Estes periféricos podem possuir rotinas complexas de inicialização. Além disso, eles dependem de periféricos internos, de modo que estes têm que ser inicializados primeiro.<br>\n",
    "\n",
    "<br>As funções inseridas no loop serão repetidas diversas vezes ao longo do tempo, enquanto o sistema estiver ligado. Devemos tomar o cuidado para lembrar do loop quando formos projetar essas funções. Se fizermos uma função que fique travada esperando algum comando, todas as demais funções do sistema vão parar de funcionar.\n",
    "<br>De fato, as funções projetadas para o loop infinito se baseam justamente no fato de que serão repetidas indefinidamente para funcionar. Por isso, não podemos criar funções que façam com que este fluxo de repetição seja bloqueado.<br>\n",
    "\n",
    "<br>Quando criamos um comando dentro do loop que verifica uma informação de teclado, por exemplo, devemos lembrar que essa verificação será reexecutada a cada rodada do loop. Por isso não convém ficar aguardando um determinado evento, pordemos simplesmente perguntas se as condições para aquele evento são verdadeiras e, caso não sejam, esperamos uma próxima rodada do loop para perguntar novamente."
   ]
  },
  {
   "cell_type": "markdown",
   "metadata": {},
   "source": [
    "<link rel=\"stylesheet\" href=\"../Jupyter Style/style.css\"> \n",
    "\n",
    "### <h3 class=\"red-neon\">Noção de microcontroladores</h3>"
   ]
  },
  {
   "cell_type": "markdown",
   "metadata": {},
   "source": [
    "<link rel=\"stylesheet\" href=\"../Jupyter Style/style.css\"> \n",
    "\n",
    "#### <h4 class=\"blue-neon\">↴ Contexto histórico</h4>"
   ]
  },
  {
   "cell_type": "markdown",
   "metadata": {},
   "source": [
    "<link rel=\"stylesheet\" href=\"../Jupyter Style/style.css\"> \n",
    "\n",
    "<p class=\"sub\">Os circuitos digitais</p>\n",
    "<p><span class=\"blue-neon\">A maioria dos circuitos digital é desenvolvida de modo a realizar uma operação específica</span>. O tamanho destes circuitos depende das funcionalidades a ele agregadas. Desenvolver um novo circuito dedicado a cada atividade é um problema que <span class=\"blue-neon\">consome muito tempo de projeto e o produto final, geralmente um chip, não pode ser reutilizado</span> em outros projetos. Em alguns casos, eles podem se tornar inviáveis tecnicamente devido à grande quantidade de transistores.<br>\n",
    "<br>\n",
    "<p class=\"sub\">Tentando solucionar</p>\n",
    "<p><span class=\"blue-neon\">Tentando resolver esses problemas e gerar um chip que pudesse ser utilizado em diversos projetos</span>, sem que fosse necessário reconstruir o hardware, o engenheiro Grederico Faggin, da Intel, <span class=\"blue-neon\">desenvolveu um circuito que possuía um conjunto de operações que poderiam ser executadas em uma sequência definida por um roteiro armazenado numa memória</span>. Passava-se de um circuito combinacional, em que o valor de saída só depende dos valores das entradas, para um <span class=\"blue-neon\">circuito sequencial</span>, em que a saída depende das entradas, como tembém das operações realizadas em passos anteriores.<br>\n",
    "<br>\n",
    "<p class=\"sub\">Primeira tentantiva e problemas</p><p>\n",
    "O<span class=\"red-neon\"> primeiro produto desenvolvido com essa tecnologia foi a calculadora BUSICOM 141-PF</span>, que utilizava o chip 4004, o primeiro processador comercial.<br>\n",
    "<br>\n",
    "O microprocessador 4004 foi lançado em 1971, possuindo uma arquitetura de 4 bits e 45 instruções diferentes. Sua frequência de operação máxima era de 740khz, chegando ao número de até 92.600 instruções por segundo.<br>\n",
    "No entanto, <span class=\"red-neon\">apenas com o microprocessador não era possível desenvolver um produto completo</span>. Eram necessários outros circuitos para que o processador pudesse <span class=\"red-neon\">interagir com o meio externo</span>. Em conjunto com o 4004 <span class=\"red-neon\">foram desenvolvidos mais três circuitos auxiliares</span>: uma mamória ROM de 2048 bits (4001), uma memória RAM de 320 bits (4002) e um registrador de deslocamento de 10 bits (4003), utilizado para realizar a interface com dispositivos externos.<br>\n",
    "<br>\n",
    "O <span class=\"red-neon\">problema</span> com a utilização de diversos circuitos separados é que a construção de uma <span class=\"red-neon\">placa acaba sendo mais complexa</span>.<br>\n",
    "<br>\n",
    "<p class=\"sub\">Solução Definitiva / Microcontroladores</p><p>\n",
    "<span class=\"blue-neon\">Visando reduzir essa complexidade, várias empresas começaram a incluir dentro de um mesmo chip tanto o processador quanto a memória e até alguns periféricos de entrada e saída</span>. Estes chips são chamados de <span class=\"blue-neon\">microcontroladores</span>, pois, <span class=\"blue-neon\">além de possuir as estruturas computacionais, também conseguem realizar o controle de elementos externos</span>.<br>\n",
    "Em geral, os <span class=\"blue-neon\">periféricos de entrada e saída são tratados da mesma forma que a memória</span>. Isso quer dizer que, <span class=\"blue-neon\">para o processador, não existe diferença se estamos tratando com um valor guardado na memória RAM ou com valores externos de chaves ou leds</span>.<br>\n",
    "Isto é possível porque existem circuitos eletrônicos que criam essa <span class=\"blue-neon\">abstração</span> em hardware fazendo com que <span class=\"blue-neon\">todos os dispositivos apareçam como endereços de memória</span>. Dizemos, nestes casos, que <span class=\"blue-neon\">os dispositivos estão mapeados na memória</span>.\n"
   ]
  },
  {
   "cell_type": "markdown",
   "metadata": {},
   "source": [
    "<img src=\"Images/Contexto Histórico - Introdução à microcontroladores.jpeg\" style=\"width:500px; display:block; margin:0 auto;\">"
   ]
  },
  {
   "cell_type": "markdown",
   "metadata": {},
   "source": [
    "<link rel=\"stylesheet\" href=\"../Jupyter Style/style.css\"> \n",
    "<p>Podemos notar que as memórias e os periféricos estão todos conectados no mesmo barramento interno.<br>\n",
    "<span class=\"blue-neon\">Como todos os dispositivos utilizam um único barramento de dados para enviar e receber mensagens, é necessário que alguém controle o acesso</span>. Há diversos modos de fazer esse controle e um dos <span class=\"blue-neon\">mais simples é fornecer autorização ao dispositivo através de um outro barramento, conhecido como barramento de endereço (responsável por indicar quem deve ler ou escrever no barramento de dados)</span>.<br>\n",
    "<span class=\"blue-neon\">Em geral, apenas a unidade de processamento (ULA) possui controle sobre esse barramento</span>. Assem sendo, os <span class=\"blue-neon\">acessos são todos organizados por ela</span>.<br>\n",
    "Por fim, é necessário um sistema de geração de clock para sincronizar os eventos e permitir que a unidade de processamento execute suas tarefas."
   ]
  },
  {
   "cell_type": "markdown",
   "metadata": {},
   "source": [
    "<link rel=\"stylesheet\" href=\"../Jupyter Style/style.css\"> \n",
    "\n",
    "#### <h4 class=\"blue-neon\">↴ A unidade de processamento de um microcontrolador</h4>"
   ]
  },
  {
   "cell_type": "markdown",
   "metadata": {},
   "source": [
    "<link rel=\"stylesheet\" href=\"../Jupyter Style/style.css\"><p>⚫  - A unidade de processamento, ou processador, é o <span class=\"red-neon\">centro</span> de um microcontrolador. É <span class=\"red-neon\">ela que cordena, executa e gerencia</span> todos os recursos disponíveis.<br><br>\n",
    "⚫  - <span class=\"blue-neon\">O processador é um circuito digital sequencial</span>. Isto <span class=\"blue-neon\">quer dizer que o estado atual e os dados de entrada definem o próximo estado em que o circuito se encontrará</span>. \n",
    "<br>\n",
    "<br>⚫  - A <span class=\"blue-neon\">mudança entre um estado para o próximo é comandada por um circuito de sincronismo (também chamado de clock)</span>. O <span class=\"red-neon\">tempo entre dois estados é chamado de ciclo</span>.<br><br>\n",
    "⚫  - <span class=\"blue-neon\">O roteiro com as entradas, que indicarão ao processador o que ele deve fazer, são listadas em um conjunto de comandos</span>. Cada comando é chamado de intrução, sendo que <span class=\"blue-neon\">cada instrução pode estar relacionada a mais de uma operação a ser efetuada pelo microprocessador</span>. <span class=\"blue-neon\"><br>\n",
    "\n",
    "<br>⚫  - O tempo que o processador leva para executar uma instrução é medido pela quantidade de cliclos necesásairos para terminar a instrução</span>, bem como o tempo de cada ciclo. Alguns comandos podem realizar operações com valores armazenados na memória. Esses valores são também chamados de dados.\n",
    "<br> \n",
    "<br><img src=\"Images/Mapeamento de tarefa para operação.jfif\" style=\"display:block; margin:0 auto; width:500px\">\n",
    "</p>"
   ]
  },
  {
   "cell_type": "markdown",
   "metadata": {},
   "source": [
    "<link rel=\"stylesheet\" href=\"../Jupyter Style/style.css\"> \n",
    "\n",
    "##### <h4 class=\"green-neon\">↴↴ Arquiteturas Von/Harvard</h4>"
   ]
  },
  {
   "cell_type": "markdown",
   "metadata": {},
   "source": [
    "<link rel=\"stylesheet\" href=\"../Jupyter Style/style.css\"> \n",
    "<p>Com relação ao modo de funcionamento, <span class=\"blue-neon\">a grande maioria dos processadores atuais se divide em duas</span> arquiteturas: Harvard e Von Neumman.<br>\n",
    "<br>\n",
    "⚫ <span class=\"red-neon\">A arquitetura de Von neumman</span> existe <span class=\"red-neon\">apenas um barramento de dados</span>. O <span class=\"blue-neon\">barramento de dados é o caminho pelo qual os valores são transportados</span>. Por haver apenas um barramento, <span class=\"red-neon\">os dados e as intruções do programa fazem o mesmo percurso para chegar ao processador</span>.\n",
    "<br>Nos <span class=\"red-neon\">processadores Von Neumman</span>, as <span class=\"red-neon\">memórias são diferenciadas através do barramento de endereços</span>. A memória de programas e a memória de dados recebem, cada uma, uma <span class=\"red-neon\">faixa de valores distintos</span>. Uma opção bastante comum é reservas os primeiros endereços para a memória de dados e os últimos para a memória de programa. Isto no entanto, é uma opção do desenvolvedor do microcontrolador.\n",
    "<br><span class=\"red-neon\">O projetista do chip insere um hardware dedicado que verifica qual é o endereço que está chegando para a memória e, estando de acordo, ele habilita ou não o envio de informações entre a memória e o barramento de dados</span>.\n",
    "<br><img src=\"Images/Arquitetura de processador Von Neumman.jfif\" style=\"display:block; margin:0 auto; width:500px\">\n",
    "<br>\n",
    "<br>\n",
    "⚫ <span>Na arquitetura Harvard</span> os <span>barramentos são separados</span>.\n",
    "<br>Neste caso, a <span>memória de dados pode ser acessada independentemente da memória de programa</span>. \n",
    "<br>Isso <span>permite executar duas ações ao mesmo tempo</span>, dado que os barramentos são distintos.\n",
    "<br>\n",
    "<br><img src=\"Images/Arquitetura de processador Harvard.png\" style=\"display:block; margin:0 auto; width:500px\">\n",
    "</p>"
   ]
  },
  {
   "cell_type": "markdown",
   "metadata": {},
   "source": [
    "<link rel=\"stylesheet\" href=\"../Jupyter Style/style.css\"> \n",
    "\n",
    "### <h3 class=\"red-neon\">Noções de programação de periféricos</h3>"
   ]
  },
  {
   "cell_type": "markdown",
   "metadata": {},
   "source": [
    "<link rel=\"stylesheet\" href=\"../Jupyter Style/style.css\"> \n",
    "\n",
    "#### <h4 class=\"blue-neon\">↴ Os periféricos</h4>"
   ]
  },
  {
   "cell_type": "markdown",
   "metadata": {},
   "source": [
    "<span class=\"sub\">Periféricos</span>\n",
    "<link rel=\"stylesheet\" href=\"../Jupyter Style/style.css\"><p>No microcontrolador, o processador é responsável por executar a lista de códigos, incluindo as abstrações lógicas e aritiméticas. <span>As demais atividades são carregadas por dispositivos dedicados chamados periféricos</span>.\n",
    "<br>\n",
    "<br>Os periféricos <span>podem ser internos ao microcontrolador</span>, <span>embutidos</span> no mesmo chip, <span>servirem de interface</span> entre as estruturas internas do chip e o mundo externo ou <span>serem circuitos externos</span> com funções próprias.\n",
    "<br>\n",
    "<br>⚫ ➖ Os periféricos <span>internos</span> podem executar atividades dedicadas de modo independente do processador, como converter um sinal analógico num valor digital, realizar a contagem de um tempo ou preparar uma mensagem para ser enviada por um sistema serial\n",
    "<br>⚫ ➖ Os periféricos de <span>interface</span> fazem com que os sinais gerados pelo processador cheguem aos terminais físicos do microcontrolador. Eles funcionam como periféricos de saída. Eles podem, ainda, fazer o caminho contrário, recebendo valores dos terminais físicos e dequando-os para que o processador seja capaz de interpretar e manipular essa informação.\n",
    "<br>⚫ ➖ Os periféricos <span>externos</span> adicionam funcionalidades ao produto desenvolvido, funcionando como interfaces de entrada e saída para o usuário, como um teclado ou um display LCD. Estes tipos de periféricos podem também complementar as funções internas do chip, provendo recursos que o processador não apresenta, como relógios de tempo real, memória extra de armazenamento, conversão de protocolos de comunicação, entre outros.<br>\n",
    "<br>\n",
    "<span class=\"sub\">O que usaremos?</span>\n",
    "<br>Este estudo toma como base um conjunto de periféricos que visam compreender os principais conceitos de acionamento, gerenciamento e programação de preiféricos para sistemas embarcados.\n",
    "<br><br>⚫ ➖ Com relação aos <span>periféricos externos de exibição</span>, serão abordados: um display de LCD, um display de leds de 7 segmentos e um led RGB. O led RGB será controlado por uma saída PWM.\n",
    "<br><br>⚫ ➖ Como <span>periféricos externos de entrada</span> serão utilizados um teclado matricial, com duas linhas e cinco colunas, um sensor de luminosidade e um potenciômetro, os dois últimos através de um conversor ADC.\n",
    "<br><br>⚫ ➖ Para exemplificar os <span>periféricos de comunicação</span>, serão abordados um sistema de comunicação assíncrono, utilizando uma UART, e um sistema síncrono, comunicando-se com um relgógio de tempo real via L2C.\n",
    "<br><br>⚫ ➖ Por fim, para estudo dos <span>periféricos internos</span>, serão abordados os sitemas de PWM, ADC, temporização, interrupção e watchdog.\n",
    "</p>"
   ]
  },
  {
   "cell_type": "markdown",
   "metadata": {},
   "source": [
    "<link rel=\"stylesheet\" href=\"../Jupyter Style/style.css\"> \n",
    "\n",
    "#### <h4 class=\"blue-neon\">↴ Controlando os terminais do microcontrolador</h4>"
   ]
  },
  {
   "cell_type": "markdown",
   "metadata": {},
   "source": [
    "<link rel=\"stylesheet\" href=\"../Jupyter Style/style.css\"> <p>A maioria dos microcontroladores que disponibilizam <span>terminais de entrada e saída</span>, acaba organizando esses terminais <span class=\"red-neon\">através de conjuntos, denominados portas</span>(registros que repassam a informação da memória para os terminais físicos). \n",
    "<br><span class=\"red-neon\">Nestas portas cada um dos <span class=\"green-neon\">bits</span> representa um </span><span>terminal</span>. Deste modo, ao ligar o bit, um dos terminais passa a ter um nível de tensão alto. Quando o bit é desligado, o terminal correspondente passa ao nível de tensão zero.\n",
    "<br>\n",
    "<br>O primeiro passo é identificar <span class=\"red-neon\">qual registro controla cada uma das <span class=\"red-neon\">portas</span>,</span><span> bem como quais terminais correspondem aos <span class=\"green-neon\">bits</span> do registro</span>. A figura 13.1 apresenta um exemplo onde cada terminal é mapeado para um bit na memória.\n",
    "<br>\n",
    "<br>\n",
    "<img src=\"Images/Mapeamento de terminais físicos a bits de memória.jfif\" style=\"width:500px; display:block; margin:0 auto;\">\n",
    "<br>\n",
    "<br>No caso da figura 13.1, os oito bits estão diretamente conectados aos terminais físicos de número 33 a 40. Isto quer dizer que, ligando o bit de número 4, o terminal 37 apresentará nível alto de tensão, <span>3.3 ou 5 volts</span> (dependendo do microcontrolador utilizado). Desligando esse bit, o terminal 37 apresentará zero volts em sua saída. Deste modo, podemos controlar o que estiver conectado ao terminal utilizado as operações com os bits.</p>\n",
    "<br>\n",
    "<img src=\"Images/Processo de leitura.jfif\" style=\"width:700px; display:block; margin:0 auto;\">\n",
    "<br>\n",
    "<br> Em geral, as portas possuem dois regristros: um para realizar a leitura/escrita da porta e outro para controlar a direção do sinal. Algumas arquiteturas separam os registros de escrita e leitura. Deste modo, para ler um determinado valor, devemos primeiro configurar a porta como entrada e realizar a leitura no registro correto. Para a escrita, devemos reconfigurar a porta como saída e depois escrever em outro registro. O comportamento exato do periférico deve ser observado no datasheet do microcontrolador utilizado.\n",
    "<br>Para realizar a leitura, o nível de tensão que está conectado ao pino externo é convertido para uma informação lógica 0 ou 1, dependendo do nível de tensão. Este valor binário é então levado para uma posição pré-definida de memória, comumente chamado de porta.\n",
    "<br>Para conseguir mudar o valor de tensão externo é preciso primeiramente configurá-lo como saída. Este controle é feito através de um bit em outra região de memória que controla a direção dos sinais. Dependendo do microcontrolador, escrevendo zero neste bit faz com que o pino se torne uma saída e, escrevendo um, ele se torna uma entrada.\n",
    "<br>Depois de configurado com saída basta acionar o bit correspondente na porta para que o terminal tenha sua tensão controlada pelo valor do bit.\n",
    "<br>Uma mesma porta pode possuir parte de seus terminais configurados como entrada e parte como saída, sem interferir no funcionamento do programa.\n",
    "<br>Com relação aos três microcontroladores utilizados, seus terminais foram conectados de modo que ficassem compatíveis com o modelo utilizado pela placa do Arduíno.\n",
    "<br>Deste modo, 14 terminais digitais do microcontrolador foram ligados ao lado direito da placa. Seis terminais analógicos foram conectados ao lado esquerdo da placa. As figuras apresentam as três placas com suas conexões, nomes dos terminais e relações com os regirstros de configuração das portas.\n",
    "<br>\n",
    "<br>\n",
    "<img src=\"Images/13.1.jfif\" style=\"width:300px; display:block; margin:0 auto;\">\n",
    "<div style=\"display: flex; justify-content:center;\">\n",
    "    <img src=\"Images/13.3.jfif\" style=\"height:420px\">\n",
    "    <img src=\"Images/13.4.jfif\" style=\"height:420px\">\n",
    "    <img src=\"Images/13.5.jfif\" style=\"height:420px\">\n",
    "</div>\n",
    "<br>"
   ]
  },
  {
   "attachments": {},
   "cell_type": "markdown",
   "metadata": {},
   "source": [
    "## <p style=\"border-bottom:solid #ffffff38 5px;\">"
   ]
  },
  {
   "cell_type": "markdown",
   "metadata": {},
   "source": [
    "<link rel=\"stylesheet\" href=\"../Jupyter Style/style.css\"> \n",
    "\n",
    "## <h2 class=\"white-neon\">Fundamentos e Linguagem C</h2>"
   ]
  },
  {
   "cell_type": "markdown",
   "metadata": {},
   "source": [
    "<link rel=\"stylesheet\" href=\"../Jupyter Style/style.css\"> \n",
    "\n",
    "### <h3 class=\"red-neon\">Introdução</h3>"
   ]
  },
  {
   "cell_type": "markdown",
   "metadata": {},
   "source": [
    "<link rel=\"stylesheet\" href=\"../Jupyter Style/style.css\"> \n",
    "\n",
    "#### <h4 class=\"blue-neon\">↴ O que são sistemas embarcados</h4>"
   ]
  },
  {
   "cell_type": "markdown",
   "metadata": {},
   "source": [
    "<link rel=\"stylesheet\" href=\"../Jupyter Style/style.css\">\n",
    "\n",
    "#### <h4 class=\"sub\">↴↴ Um tema amplo</h4> "
   ]
  },
  {
   "cell_type": "markdown",
   "metadata": {},
   "source": [
    "<link rel=\"stylesheet\" href=\"../Jupyter Style/style.css\">\n",
    "\n",
    "<p>O tema de sistemas embarcados é <span>bastante amplo</span>, <span class=\"red-neon\">indo de</span> sistemas simples com <span>poucos bytes de memória</span> <span class=\"red-neon\">até</span> sistemas de entreterimento <span>complexos com comunicações de alta velocidade</span>, <span class=\"red-neon\">passando por</span> sistemas de suporte à vida, controles de <span>operações críticas e com altos requisitos de segurança, confiabilidade e estabilidade</span>.\n",
    "<br><span>Esta variedade <span class=\"red-neon\">traz consigo</span> diferentes abordagens de programação</span>, frameworks e camadas de abstração. <span><span class=\"red-neon\">Cada projeto apresenta</span> estruturas próprias e diferenças substantivas na programação dos periféricos</span>. \n",
    "<br>\n",
    "<br>Abordar todos estes aspectos <span class=\"red-neon\">é</span> uma tarefa <span>complexa</span>, principalmente para aqueles que estão ingressando nesta área.\n",
    "<br>\n",
    "<br>\n",
    "<span class=\"sub\">Nossa escolha</span> \n",
    "<br>Os sistemas <span>abordados</span> <span class=\"red-neon\">são</span> aqueles baseados em <span>microcontroladores com pouca capacidade de processamento e armazenamento</span>. Estes componentes <span class=\"red-neon\">oferecem</span> um <span>bom balanço entre simplicidade e quantidade de recursos</span>, <span class=\"red-neon\">sendo</span> <span>ideal</span> para aqueles que estão começando seus estudos sobre programação embarcada. \n",
    "<br>Isto <span class=\"red-neon\">também oferece</span> uma boa <span>oportunidade</span> para <span>entendermos a relação entre eletrônica e programação</span>, <span class=\"red-neon\">e também</span> conceitos relacionados à <span>evolução temporal dos circuitos</span>.\n",
    "</p>\n"
   ]
  },
  {
   "cell_type": "markdown",
   "metadata": {},
   "source": [
    "<link rel=\"stylesheet\" href=\"../Jupyter Style/style.css\"> \n",
    "\n",
    "#### <h4 class=\"blue-neon\">↴ O hardware</h4>"
   ]
  },
  {
   "cell_type": "markdown",
   "metadata": {},
   "source": [
    "<link rel=\"stylesheet\" href=\"../Jupyter Style/style.css\"> \n",
    "\n",
    "#### <h4 class=\"blue-neon\">↴ Hardware utilizado</h4>"
   ]
  },
  {
   "cell_type": "markdown",
   "metadata": {},
   "source": [
    "<link rel=\"stylesheet\" href=\"../Jupyter Style/style.css\"> \n",
    "\n",
    "#### <h4 class=\"blue-neon\">↴ Ambiente de programação</h4>"
   ]
  },
  {
   "cell_type": "markdown",
   "metadata": {},
   "source": [
    "<link rel=\"stylesheet\" href=\"../Jupyter Style/style.css\"> \n",
    "\n",
    "#### <h4 class=\"blue-neon\">↴ Uso da linguagem C</h4>"
   ]
  },
  {
   "cell_type": "markdown",
   "metadata": {},
   "source": [
    "<link rel=\"stylesheet\" href=\"../Jupyter Style/style.css\"> \n",
    "\n",
    "### <h3 class=\"red-neon\">Sistemas de numeração</h3>"
   ]
  },
  {
   "cell_type": "markdown",
   "metadata": {},
   "source": [
    "<link rel=\"stylesheet\" href=\"../Jupyter Style/style.css\"> \n",
    "\n",
    "#### <h4 class=\"blue-neon\">↴ As bases</h4>"
   ]
  },
  {
   "cell_type": "markdown",
   "metadata": {},
   "source": [
    "<link rel=\"stylesheet\" href=\"../Jupyter Style/style.css\"> \n",
    "\n",
    "#### <h4 class=\"blue-neon\">↴ Conversão entre bases</h4>"
   ]
  },
  {
   "cell_type": "markdown",
   "metadata": {},
   "source": [
    "<link rel=\"stylesheet\" href=\"../Jupyter Style/style.css\"> \n",
    "\n",
    "#### <h4 class=\"blue-neon\">↴ BCD e BCD compactado</h4>"
   ]
  },
  {
   "cell_type": "markdown",
   "metadata": {},
   "source": [
    "<link rel=\"stylesheet\" href=\"../Jupyter Style/style.css\"> \n",
    "\n",
    "#### <h4 class=\"blue-neon\">↴ Código Gray</h4>"
   ]
  },
  {
   "cell_type": "markdown",
   "metadata": {},
   "source": [
    "<link rel=\"stylesheet\" href=\"../Jupyter Style/style.css\"> \n",
    "\n",
    "#### <h4 class=\"blue-neon\">↴ Codificação ASCII</h4>"
   ]
  },
  {
   "cell_type": "markdown",
   "metadata": {},
   "source": [
    "<link rel=\"stylesheet\" href=\"../Jupyter Style/style.css\"> \n",
    "\n",
    "#### <h4 class=\"blue-neon\">↴ Exercícios</h4>"
   ]
  },
  {
   "cell_type": "markdown",
   "metadata": {},
   "source": [
    "<link rel=\"stylesheet\" href=\"../Jupyter Style/style.css\"> \n",
    "\n",
    "### <h3 class=\"red-neon\">Linguagem C</h3>"
   ]
  },
  {
   "cell_type": "markdown",
   "metadata": {},
   "source": [
    "<link rel=\"stylesheet\" href=\"../Jupyter Style/style.css\"> \n",
    "\n",
    "#### <h4 class=\"blue-neon\">↴ Processo de compilação</h4>"
   ]
  },
  {
   "cell_type": "markdown",
   "metadata": {},
   "source": [
    "<link rel=\"stylesheet\" href=\"../Jupyter Style/style.css\"> \n",
    "\n",
    "#### <h4 class=\"blue-neon\">↴ Organização dos programas em C</h4>"
   ]
  },
  {
   "cell_type": "markdown",
   "metadata": {},
   "source": [
    "<link rel=\"stylesheet\" href=\"../Jupyter Style/style.css\"> \n",
    "\n",
    "#### <h4 class=\"blue-neon\">↴ Padrão de escrita</h4>"
   ]
  },
  {
   "cell_type": "markdown",
   "metadata": {},
   "source": [
    "<link rel=\"stylesheet\" href=\"../Jupyter Style/style.css\"> \n",
    "\n",
    "#### <h4 class=\"blue-neon\">↴ Diretivas de pré-compilação</h4>"
   ]
  },
  {
   "cell_type": "markdown",
   "metadata": {},
   "source": [
    "<link rel=\"stylesheet\" href=\"../Jupyter Style/style.css\"> \n",
    "\n",
    "#### <h4 class=\"blue-neon\">↴ Função main</h4>"
   ]
  },
  {
   "cell_type": "markdown",
   "metadata": {},
   "source": [
    "<link rel=\"stylesheet\" href=\"../Jupyter Style/style.css\"> \n",
    "\n",
    "#### <h4 class=\"blue-neon\">↴ Entrada e saída de dados</h4>"
   ]
  },
  {
   "cell_type": "markdown",
   "metadata": {},
   "source": [
    "<link rel=\"stylesheet\" href=\"../Jupyter Style/style.css\"> \n",
    "\n",
    "#### <h4 class=\"blue-neon\">↴ Exercícios</h4>"
   ]
  },
  {
   "cell_type": "markdown",
   "metadata": {},
   "source": [
    "<link rel=\"stylesheet\" href=\"../Jupyter Style/style.css\"> \n",
    "\n",
    "### <h3 class=\"red-neon\">Variáveis</h3>"
   ]
  },
  {
   "cell_type": "markdown",
   "metadata": {},
   "source": [
    "<link rel=\"stylesheet\" href=\"../Jupyter Style/style.css\"> \n",
    "\n",
    "#### <h4 class=\"blue-neon\">↴ Utilização de números e seus tipos</h4>"
   ]
  },
  {
   "cell_type": "markdown",
   "metadata": {},
   "source": [
    "<link rel=\"stylesheet\" href=\"../Jupyter Style/style.css\"> \n",
    "\n",
    "#### <h4 class=\"blue-neon\">↴ Declaração de variáveis</h4>"
   ]
  },
  {
   "cell_type": "markdown",
   "metadata": {},
   "source": [
    "<link rel=\"stylesheet\" href=\"../Jupyter Style/style.css\"> \n",
    "\n",
    "#### <h4 class=\"blue-neon\">↴ Conversão de tipos</h4>"
   ]
  },
  {
   "cell_type": "markdown",
   "metadata": {},
   "source": [
    "<link rel=\"stylesheet\" href=\"../Jupyter Style/style.css\"> \n",
    "\n",
    "#### <h4 class=\"blue-neon\">↴ Modificadores</h4>"
   ]
  },
  {
   "cell_type": "markdown",
   "metadata": {},
   "source": [
    "<link rel=\"stylesheet\" href=\"../Jupyter Style/style.css\"> \n",
    "\n",
    "#### <h4 class=\"blue-neon\">↴ Ponteiros</h4>"
   ]
  },
  {
   "cell_type": "markdown",
   "metadata": {},
   "source": [
    "<link rel=\"stylesheet\" href=\"../Jupyter Style/style.css\"> \n",
    "\n",
    "#### <h4 class=\"blue-neon\">↴ Exercícios</h4>"
   ]
  },
  {
   "cell_type": "markdown",
   "metadata": {},
   "source": [
    "<link rel=\"stylesheet\" href=\"../Jupyter Style/style.css\"> \n",
    "\n",
    "### <h3 class=\"red-neon\">Estruturas compostas</h3>"
   ]
  },
  {
   "cell_type": "markdown",
   "metadata": {},
   "source": [
    "<link rel=\"stylesheet\" href=\"../Jupyter Style/style.css\"> \n",
    "\n",
    "#### <h4 class=\"blue-neon\">↴ Estruturas homogêneas</h4>"
   ]
  },
  {
   "cell_type": "markdown",
   "metadata": {},
   "source": [
    "<link rel=\"stylesheet\" href=\"../Jupyter Style/style.css\"> \n",
    "\n",
    "#### <h4 class=\"blue-neon\">↴ Estruturas heterogêneas</h4>"
   ]
  },
  {
   "cell_type": "markdown",
   "metadata": {},
   "source": [
    "<link rel=\"stylesheet\" href=\"../Jupyter Style/style.css\"> \n",
    "\n",
    "#### <h4 class=\"blue-neon\">↴ Bit fields</h4>"
   ]
  },
  {
   "cell_type": "markdown",
   "metadata": {},
   "source": [
    "<link rel=\"stylesheet\" href=\"../Jupyter Style/style.css\"> \n",
    "\n",
    "#### <h4 class=\"blue-neon\">↴ Enumeradores</h4>"
   ]
  },
  {
   "cell_type": "markdown",
   "metadata": {},
   "source": [
    "<link rel=\"stylesheet\" href=\"../Jupyter Style/style.css\"> \n",
    "\n",
    "#### <h4 class=\"blue-neon\">↴ Definições de tipo</h4>"
   ]
  },
  {
   "cell_type": "markdown",
   "metadata": {},
   "source": [
    "<link rel=\"stylesheet\" href=\"../Jupyter Style/style.css\"> \n",
    "\n",
    "#### <h4 class=\"blue-neon\">↴ Exercícios</h4>"
   ]
  },
  {
   "cell_type": "markdown",
   "metadata": {},
   "source": [
    "<link rel=\"stylesheet\" href=\"../Jupyter Style/style.css\"> \n",
    "\n",
    "### <h3 class=\"red-neon\">Operações binárias</h3>"
   ]
  },
  {
   "cell_type": "markdown",
   "metadata": {},
   "source": [
    "<link rel=\"stylesheet\" href=\"../Jupyter Style/style.css\"> \n",
    "\n",
    "#### <h4 class=\"blue-neon\">↴ Algebra booleana</h4>"
   ]
  },
  {
   "cell_type": "markdown",
   "metadata": {},
   "source": [
    "<link rel=\"stylesheet\" href=\"../Jupyter Style/style.css\"> \n",
    "\n",
    "#### <h4 class=\"blue-neon\">↴ Operações binárias (bitwise)</h4>"
   ]
  },
  {
   "cell_type": "markdown",
   "metadata": {},
   "source": [
    "<link rel=\"stylesheet\" href=\"../Jupyter Style/style.css\"> \n",
    "\n",
    "#### <h4 class=\"blue-neon\">↴ Operação de deslocamento</h4>"
   ]
  },
  {
   "cell_type": "markdown",
   "metadata": {},
   "source": [
    "<link rel=\"stylesheet\" href=\"../Jupyter Style/style.css\"> \n",
    "\n",
    "#### <h4 class=\"blue-neon\">↴ Manipulando apenas 1 bit de cada vez</h4>"
   ]
  },
  {
   "cell_type": "markdown",
   "metadata": {},
   "source": [
    "<link rel=\"stylesheet\" href=\"../Jupyter Style/style.css\"> \n",
    "\n",
    "#### <h4 class=\"blue-neon\">↴ Exercícios</h4>"
   ]
  },
  {
   "cell_type": "markdown",
   "metadata": {},
   "source": [
    "<link rel=\"stylesheet\" href=\"../Jupyter Style/style.css\"> \n",
    "\n",
    "### <h3 class=\"red-neon\">Estruturas condicionais</h3>"
   ]
  },
  {
   "cell_type": "markdown",
   "metadata": {},
   "source": [
    "<link rel=\"stylesheet\" href=\"../Jupyter Style/style.css\"> \n",
    "\n",
    "#### <h4 class=\"blue-neon\">↴ Comando condicional if</h4>"
   ]
  },
  {
   "cell_type": "markdown",
   "metadata": {},
   "source": [
    "<link rel=\"stylesheet\" href=\"../Jupyter Style/style.css\"> \n",
    "\n",
    "#### <h4 class=\"blue-neon\">↴ Comando condicional aninhado</h4>"
   ]
  },
  {
   "cell_type": "markdown",
   "metadata": {},
   "source": [
    "<link rel=\"stylesheet\" href=\"../Jupyter Style/style.css\"> \n",
    "\n",
    "#### <h4 class=\"blue-neon\">↴ Comando de seleção switch case</h4>"
   ]
  },
  {
   "cell_type": "markdown",
   "metadata": {},
   "source": [
    "<link rel=\"stylesheet\" href=\"../Jupyter Style/style.css\"> \n",
    "\n",
    "#### <h4 class=\"blue-neon\">↴ Exercícios</h4>"
   ]
  },
  {
   "cell_type": "markdown",
   "metadata": {},
   "source": [
    "<link rel=\"stylesheet\" href=\"../Jupyter Style/style.css\"> \n",
    "\n",
    "### <h3 class=\"red-neon\">Estruturas de repetição</h3>"
   ]
  },
  {
   "cell_type": "markdown",
   "metadata": {},
   "source": [
    "<link rel=\"stylesheet\" href=\"../Jupyter Style/style.css\"> \n",
    "\n",
    "#### <h4 class=\"blue-neon\">↴ Repetição com teste no início</h4>"
   ]
  },
  {
   "cell_type": "markdown",
   "metadata": {},
   "source": [
    "<link rel=\"stylesheet\" href=\"../Jupyter Style/style.css\"> \n",
    "\n",
    "#### <h4 class=\"blue-neon\">↴ Repetição com teste no final</h4>"
   ]
  },
  {
   "cell_type": "markdown",
   "metadata": {},
   "source": [
    "<link rel=\"stylesheet\" href=\"../Jupyter Style/style.css\"> \n",
    "\n",
    "#### <h4 class=\"blue-neon\">↴ Repetição com variável de controle</h4>"
   ]
  },
  {
   "cell_type": "markdown",
   "metadata": {},
   "source": [
    "<link rel=\"stylesheet\" href=\"../Jupyter Style/style.css\"> \n",
    "\n",
    "#### <h4 class=\"blue-neon\">↴ Comandos de desvio</h4>"
   ]
  },
  {
   "cell_type": "markdown",
   "metadata": {},
   "source": [
    "<link rel=\"stylesheet\" href=\"../Jupyter Style/style.css\"> \n",
    "\n",
    "#### <h4 class=\"blue-neon\">↴ Rotinas de tempo</h4>"
   ]
  },
  {
   "cell_type": "markdown",
   "metadata": {},
   "source": [
    "<link rel=\"stylesheet\" href=\"../Jupyter Style/style.css\"> \n",
    "\n",
    "#### <h4 class=\"blue-neon\">↴ Exercícios</h4>"
   ]
  },
  {
   "cell_type": "markdown",
   "metadata": {},
   "source": [
    "<link rel=\"stylesheet\" href=\"../Jupyter Style/style.css\"> \n",
    "\n",
    "### <h3 class=\"red-neon\">Funções e bibliotecas em linguagem C</h3>"
   ]
  },
  {
   "cell_type": "markdown",
   "metadata": {},
   "source": [
    "<link rel=\"stylesheet\" href=\"../Jupyter Style/style.css\"> \n",
    "\n",
    "#### <h4 class=\"blue-neon\">↴ Criando funções</h4>"
   ]
  },
  {
   "cell_type": "markdown",
   "metadata": {},
   "source": [
    "<link rel=\"stylesheet\" href=\"../Jupyter Style/style.css\"> \n",
    "\n",
    "#### <h4 class=\"blue-neon\">↴ Bibliotecas</h4>"
   ]
  },
  {
   "cell_type": "markdown",
   "metadata": {},
   "source": [
    "<link rel=\"stylesheet\" href=\"../Jupyter Style/style.css\"> \n",
    "\n",
    "#### <h4 class=\"blue-neon\">↴ Driver ou biblioteca?</h4>"
   ]
  },
  {
   "cell_type": "markdown",
   "metadata": {},
   "source": [
    "<link rel=\"stylesheet\" href=\"../Jupyter Style/style.css\"> \n",
    "\n",
    "#### <h4 class=\"blue-neon\">↴ Composição de bibliotecas</h4>"
   ]
  },
  {
   "cell_type": "markdown",
   "metadata": {},
   "source": [
    "<link rel=\"stylesheet\" href=\"../Jupyter Style/style.css\"> \n",
    "\n",
    "#### <h4 class=\"blue-neon\">↴ Exercícios</h4>"
   ]
  },
  {
   "cell_type": "markdown",
   "metadata": {},
   "source": [
    "<link rel=\"stylesheet\" href=\"../Jupyter Style/style.css\"> \n",
    "\n",
    "### <h3 class=\"red-neon\">Planejando o software embarcado</h3>"
   ]
  },
  {
   "cell_type": "markdown",
   "metadata": {},
   "source": [
    "<link rel=\"stylesheet\" href=\"../Jupyter Style/style.css\"> \n",
    "\n",
    "#### <h4 class=\"blue-neon\">↴ Primeiro modelo: o loop infinito</h4>"
   ]
  },
  {
   "cell_type": "markdown",
   "metadata": {},
   "source": [
    "<link rel=\"stylesheet\" href=\"../Jupyter Style/style.css\"> \n",
    "\n",
    "#### <h4 class=\"blue-neon\">↴ A evolução do loop no tempo</h4>"
   ]
  },
  {
   "cell_type": "markdown",
   "metadata": {},
   "source": [
    "<link rel=\"stylesheet\" href=\"../Jupyter Style/style.css\"> \n",
    "\n",
    "### <h3 class=\"red-neon\">Debug de sistemas embarcados</h3>"
   ]
  },
  {
   "cell_type": "markdown",
   "metadata": {},
   "source": [
    "<link rel=\"stylesheet\" href=\"../Jupyter Style/style.css\"> \n",
    "\n",
    "#### <h4 class=\"blue-neon\">↴ Externalizar as informações</h4>"
   ]
  },
  {
   "cell_type": "markdown",
   "metadata": {},
   "source": [
    "<link rel=\"stylesheet\" href=\"../Jupyter Style/style.css\"> \n",
    "\n",
    "#### <h4 class=\"blue-neon\">↴ Programação incremental</h4>"
   ]
  },
  {
   "cell_type": "markdown",
   "metadata": {},
   "source": [
    "<link rel=\"stylesheet\" href=\"../Jupyter Style/style.css\"> \n",
    "\n",
    "#### <h4 class=\"blue-neon\">↴ Cuidado com a otimização de código</h4>"
   ]
  },
  {
   "cell_type": "markdown",
   "metadata": {},
   "source": [
    "<link rel=\"stylesheet\" href=\"../Jupyter Style/style.css\"> \n",
    "\n",
    "#### <h4 class=\"blue-neon\">↴ Reproduzir e isolar o erro</h4>"
   ]
  },
  {
   "cell_type": "markdown",
   "metadata": {},
   "source": [
    "<link rel=\"stylesheet\" href=\"../Jupyter Style/style.css\"> \n",
    "\n",
    "#### <h4 class=\"blue-neon\">↴ Crie rotinas de teste</h4>"
   ]
  },
  {
   "cell_type": "markdown",
   "metadata": {},
   "source": [
    "<link rel=\"stylesheet\" href=\"../Jupyter Style/style.css\"> \n",
    "\n",
    "#### <h4 class=\"blue-neon\">↴ Criação de uma biblioteca para debug</h4>"
   ]
  },
  {
   "cell_type": "markdown",
   "metadata": {},
   "source": [
    "## <p style=\"border-bottom:solid #ffffff38 5px;\">"
   ]
  },
  {
   "cell_type": "markdown",
   "metadata": {},
   "source": [
    "<link rel=\"stylesheet\" href=\"../Jupyter Style/style.css\"> \n",
    "\n",
    "## <h2 class=\"white-neon\">Controlando periféricos de Sistemas Embarcados</h2>"
   ]
  },
  {
   "cell_type": "markdown",
   "metadata": {},
   "source": [
    "## <p style=\"border-bottom:solid #ffffff38 5px;\">"
   ]
  },
  {
   "cell_type": "markdown",
   "metadata": {},
   "source": [
    "<link rel=\"stylesheet\" href=\"../Jupyter Style/style.css\"> \n",
    "\n",
    "## <h2 class=\"white-neon\">Arquiteturas para desenvolvimento de software embarcado</h2>"
   ]
  },
  {
   "cell_type": "markdown",
   "metadata": {},
   "source": [
    "## <p style=\"border-bottom:solid #ffffff38 5px;\">"
   ]
  },
  {
   "cell_type": "markdown",
   "metadata": {},
   "source": [
    "<link rel=\"stylesheet\" href=\"../Jupyter Style/style.css\"> \n",
    "\n",
    "## <h2 class=\"white-neon\">Anexos</h2>"
   ]
  }
 ],
 "metadata": {
  "kernelspec": {
   "display_name": "Python 3",
   "language": "python",
   "name": "python3"
  },
  "language_info": {
   "codemirror_mode": {
    "name": "ipython",
    "version": 3
   },
   "file_extension": ".py",
   "mimetype": "text/x-python",
   "name": "python",
   "nbconvert_exporter": "python",
   "pygments_lexer": "ipython3",
   "version": "3.11.3"
  },
  "orig_nbformat": 4
 },
 "nbformat": 4,
 "nbformat_minor": 2
}
