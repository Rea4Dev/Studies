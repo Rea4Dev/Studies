{
 "cells": [
  {
   "attachments": {},
   "cell_type": "markdown",
   "metadata": {},
   "source": [
    "<link rel=\"stylesheet\" href=\"../Jupyter Style/style.css\">\n",
    "\n",
    "# <h1>Programação de Sistemas Embarcados</h1>"
   ]
  },
  {
   "attachments": {},
   "cell_type": "markdown",
   "metadata": {},
   "source": [
    "<div class=\"animated-border\">\n",
    "    <img src=\"../Images/Mime and Dash Ilustrations/Gifs/Join with us.gif\" alt=\"descrição do gif\" width=\"900\" style=\"display: block; margin-left: auto; margin-right: auto; border-radius:20px\">\n",
    "</div>"
   ]
  },
  {
   "attachments": {},
   "cell_type": "markdown",
   "metadata": {},
   "source": [
    "## <p style=\"border-bottom:solid #ffffff38 5px;\">"
   ]
  },
  {
   "cell_type": "markdown",
   "metadata": {},
   "source": [
    "<link rel=\"stylesheet\" href=\"../Jupyter Style/style.css\"> \n",
    "\n",
    "## <h2>Fundamentos e Linguagem C</h2>"
   ]
  },
  {
   "cell_type": "markdown",
   "metadata": {},
   "source": [
    "<link rel=\"stylesheet\" href=\"../Jupyter Style/style.css\"> \n",
    "\n",
    "### <h3>Introdução</h3>"
   ]
  },
  {
   "cell_type": "markdown",
   "metadata": {},
   "source": [
    "<link rel=\"stylesheet\" href=\"../Jupyter Style/style.css\"> \n",
    "\n",
    "#### <h4>↴ O que são sistemas embarcados</h4>"
   ]
  },
  {
   "cell_type": "markdown",
   "metadata": {},
   "source": [
    "<link rel=\"stylesheet\" href=\"../Jupyter Style/style.css\">\n",
    "\n",
    "##### <h5>↴↴ Um tema amplo</h5> "
   ]
  },
  {
   "cell_type": "markdown",
   "metadata": {},
   "source": [
    "<link rel=\"stylesheet\" href=\"../Jupyter Style/style.css\">\n",
    "\n",
    "<p>O tema de sistemas embarcados é <span>bastante amplo</span>, <span class=\"red-neon\">indo de</span> sistemas simples com <span>poucos bytes de memória</span> <span class=\"red-neon\">até</span> sistemas de entreterimento <span>complexos com comunicações de alta velocidade</span>, <span class=\"red-neon\">passando por</span> sistemas de suporte à vida, controles de <span>operações críticas e com altos requisitos de segurança, confiabilidade e estabilidade</span>.\n",
    "<br><span>Esta variedade <span class=\"red-neon\">traz consigo</span> diferentes abordagens de programação</span>, frameworks e camadas de abstração. <span><span class=\"red-neon\">Cada projeto apresenta</span> estruturas próprias e diferenças substantivas na programação dos periféricos</span>. \n",
    "<br>\n",
    "<br>Abordar todos estes aspectos <span class=\"red-neon\">é</span> uma tarefa <span>complexa</span>, principalmente para aqueles que estão ingressando nesta área.\n",
    "</p>\n"
   ]
  },
  {
   "cell_type": "markdown",
   "metadata": {},
   "source": [
    "<link rel=\"stylesheet\" href=\"../Jupyter Style/style.css\">\n",
    "\n",
    "##### <h5>↴↴ Nossas escolhas</h5> "
   ]
  },
  {
   "cell_type": "markdown",
   "metadata": {},
   "source": [
    "<link rel=\"stylesheet\" href=\"../Jupyter Style/style.css\">\n",
    "<p>\n",
    "<span class=\"sub\">De sistema</span>\n",
    "<br>Os sistemas <span>aqui abordados</span> <span class=\"red-neon\">são</span> aqueles baseados em <span>microcontroladores com pouca capacidade de processamento e armazenamento</span>. Estes componentes <span class=\"red-neon\">oferecem</span> um <span>bom balanço entre simplicidade e quantidade de recursos</span>, <span class=\"red-neon\">sendo</span> <span>ideal</span> para aqueles que estão começando seus estudos sobre programação embarcada. \n",
    "<br>Isto <span class=\"red-neon\">também oferece</span> uma boa <span>oportunidade</span> para <span>entendermos a relação entre eletrônica e programação</span>, <span class=\"red-neon\">e também</span> conceitos relacionados à <span>evolução temporal dos circuitos</span>.\n",
    "<br>\n",
    "<br>\n",
    "<span class=\"sub\">De arquitetura</span>\n",
    "<br>Mesmo que a programação de sistemas embarcados seja bastante dependente do microcontrolador e das estruturas de hardware utilizadas, os conceitos por traz dos códigos são os mesmos. No intuito de apresentar estes conceitos de maneira independente do hardware, <span>selecionamos três arquiteturas distintas para ilustrar as diferenças e similaridades entre os códigos</span>.\n",
    "<br>\n",
    "<br><span class=\"sub\">De Placa</span>\n",
    "<br><span class=\"red-neon\">Visando</span> ainda a <span>possibilidade de realizar as experiêmcias sem se ater a apenas um hardware ou placa</span>, nos contemplamos aos exemplos de <span>uso com diferentes placas de controle</span>. As <span>atividades que demandam acesso a periféricos externos podem ser realizadas conectando as placas de controle a uma placa base ou utilizando um simples protoboard. A placa base pode ser construída pelo leitor. Os esquemáticos e layout estão todos disponíveis em outros tópicos</span>.\n",
    "</p>"
   ]
  },
  {
   "cell_type": "markdown",
   "metadata": {},
   "source": [
    "<link rel=\"stylesheet\" href=\"../Jupyter Style/style.css\">\n",
    "\n",
    "##### <h5>↴↴ O que são sistemas embarcados</h5> "
   ]
  },
  {
   "cell_type": "markdown",
   "metadata": {},
   "source": [
    "<link rel=\"stylesheet\" href=\"../Jupyter Style/style.css\">\n",
    "\n",
    "<span class=\"sub\">Definição</span>\n",
    "<p>\n",
    "Sistemas embarcados <span class=\"red-neon\">são</span><span>sistemas eletrônicos microprocessados</span> que, <span>após programados</span>, <span class=\"red-neon\">possuem</span> <span>uma função específica que geralmente <span class=\"red-neon\">não pode</span> ser alterada</span>.\n",
    "<br>\n",
    "<br><span>Um exemplo de sistema embarcado é</span>: A impressora, que mesmo possuindo um processador que poderia ser urilizado para qualquer tipo de atividade, tem sua funcionalidade restrita apenas à impressão de páginas.\n",
    "<br><span>Um exemplo de não sistemas embarcado é</span>: Um computador de propósito geral, no entanto, pode ser utilizado num instante com um ambiente de entretenimento, em outro como estação de trabalho ou até mesmo um telefone.\n",
    "<br>\n",
    "<br><span class=\"sub\">Onde podemos os encontrar?</span>\n",
    "<br>Os sistemas embarcados <span>estão presentes em praticamente todos os ambientes</span>, cobrindo uma <span>ampla gama de funcionalidades</span>: antenas retransmissoras, televisões, fornos de micro-ondas, controles PID's industriais, sistemas de gerenciamento de aviação, esteiras transportadoras etc. Atualmente, <span>quase todo dispositivo que funcione com eletricidade possui um sistema embarcado coordenando seu funcionamento</span>.\n",
    "<br>\n",
    "<br><span class=\"sub\">Outras características</span>\n",
    "<br>1 - <span>Restrição de recursos</span>, tanto <span>computacionais: memória e procesamento</span>, quanto <span>físicos: números de terminais e interfaces de exibição/entrada de dados</span>. Grande parte desta restrição se deve a questões de <spam>custo, consumo de energia ou robustez</span>.\n",
    "<br>Isto leva ao desenvolvimento de alguns sistemas que não possuam nenhum botão ou luz indicativa.\n",
    "<br>\n",
    "<br>2 - Por se tratar de sistemas com funçõs específicas e com recursos de interface e computacionais bastante limitados, as rotinas e técnicas de programação são diferentes daquelas usadas em computadores convencionais.\n",
    "<br> \n",
    "<br>3 - Os <span>sinais e informações se modificam ao longo do tempo</span>, <span>independentemente da entrada de dados pelo usuário</span>. \n",
    "<br>Existem <span>alguns periféricos que necessitam de constante atualização para que mantenham seu funcionamento</span>. \n",
    "<br>\n",
    "<br>4 - A <span>necessidade de se verificar constantemente os dados e atualizar as saídas apresenta também restrições temporais</span>, algumas vezes conflitantes entre si, e que devem ser atendidas para que o sistema funcione corretamente.\n",
    "<br>\n",
    "<br>5 - <span>Cada microcontrolador apresenta uma arquitetura de hardware e um conjunto de periféricos diferentes</span>. Mesmo dois projetos que utilizam o <span>mesmo microcontrolador, mas possuem um arranjo eletrônico diferente dos componenetes externos, apresentam diferenças suficientes para que os códigos não possam ser compartilhados</span>. Como cada projeto visa atender requisitos muito específicos, esta variabilidade é bastante comum. Isto exige que os programadores entendam as relações básicas entre os componentes da placa utilizada para desenvolver códigos funcionais.\n",
    "</p>"
   ]
  },
  {
   "cell_type": "markdown",
   "metadata": {},
   "source": [
    "<link rel=\"stylesheet\" href=\"../Jupyter Style/style.css\"> \n",
    "\n",
    "#### <h4>↴ O hardware</h4>"
   ]
  },
  {
   "cell_type": "markdown",
   "metadata": {},
   "source": [
    "<link rel=\"stylesheet\" href=\"../Jupyter Style/style.css\">\n",
    "\n",
    "##### <h5>↴↴ Dependências da programação embarcada</h5> "
   ]
  },
  {
   "cell_type": "markdown",
   "metadata": {},
   "source": [
    "<link rel=\"stylesheet\" href=\"../Jupyter Style/style.css\">\n",
    "<p>\n",
    "A programação para sistemas embarcados <span>é</span> <span>intimamente ligada à arquitetura do processador, aos tipos de periféricos disponíveis no microcontrolador e ao modo com que esses periféricos foram conectados com os demais circuitos na placa</span>. <span class=\"red-neon\">Conhecer o sistema é</span>, portanto, <span>fundamental para se construir um programa</span> que funcione da maneira desejada.\n",
    "</p>"
   ]
  },
  {
   "cell_type": "markdown",
   "metadata": {},
   "source": [
    "<link rel=\"stylesheet\" href=\"../Jupyter Style/style.css\">\n",
    "\n",
    "##### <h5>↴↴ As arquiteturas</h5> "
   ]
  },
  {
   "cell_type": "markdown",
   "metadata": {},
   "source": [
    "<link rel=\"stylesheet\" href=\"../Jupyter Style/style.css\">\n",
    "<p>\n",
    "<span>Mesmo com as diferenças entre os diversos chips, o modo de funcionamento básico dos periféricos é bastante similar</span>.\n",
    "<br>Para não prender o leitor a apenas uma arquitetura ou fabricante, apresentamos o funcionamento dos dispositivos de modo independente.\n",
    "<br>Para evitar a perda de detalhes que poderia acontecer com esta abordagem, serão apresentados exemplos práticos em 3 plataformas distintas: NXP ARM Cortex Mo+ (Freedom KL05z), Microchip MIPS PIC32 (Chipkit UNO32) e Atmel ATMega 328 (Arduino Uno R3). <span>Todas essas plataformas apresentam um barramento de pinos compatíveis entre si</span>.\n",
    "</p>"
   ]
  },
  {
   "cell_type": "markdown",
   "metadata": {},
   "source": [
    "<link rel=\"stylesheet\" href=\"../Jupyter Style/style.css\">\n",
    "\n",
    "##### <h5>↴↴ Uso das bibliotecas</h5> "
   ]
  },
  {
   "cell_type": "markdown",
   "metadata": {},
   "source": [
    "<link rel=\"stylesheet\" href=\"../Jupyter Style/style.css\">\n",
    "<p>\n",
    "No nosso estudo, os códigos e exemplos fazem uso de um conjunto de bibliotecas pré-implementados e voltados para a placa de desenvolvimento. Optou-se por esta abordagem porque ela traz uma série de simplificações que permitem ao leitor aprender a programar em linguagem C em um ambiente embarcado, sem se ater a detalhes de hardware num primeiro instante.\n",
    "<br>\n",
    "<br>No nosso estudo, onde serão abordadas as questões relacionadas aos periféricos, as bilbiotecas pré-implementadas serão explicadas em detalhes, permitindo ao leitor entender como acessar e controlar os periféricos utilizando linguagem C.\n",
    "</p>"
   ]
  },
  {
   "cell_type": "markdown",
   "metadata": {},
   "source": [
    "<link rel=\"stylesheet\" href=\"../Jupyter Style/style.css\">\n",
    "\n",
    "##### <h5>↴↴ A placa utilizada</h5> "
   ]
  },
  {
   "cell_type": "markdown",
   "metadata": {},
   "source": [
    "<link rel=\"stylesheet\" href=\"../Jupyter Style/style.css\">\n",
    "<p>\n",
    "A placa de desenvolvimento foi <span>escolhida para permitir a execução de todas as experiências do nosso estudo, podendo ser conectada a qualquer uma das três plataformas</span>: Arduino, Chipkit ou Freedom. O projeto desta placa está disponibilizado em licença aberta, permitindo sua livre reprodução por qualquer pessoa.\n",
    "<br>\n",
    "<br>No entanto, <span>não é preciso adquirir ou fabricar a placa</span> de desenvolvimento para acompanhar os exercícios. Se desejar <span>poderá realizar a montagem dos circuitos para cada atividade</span>. Todos os esquemáticos e conexões dos projetos utilizados serão apresentados de <span>modo simples para montagem em protoboard</span>.\n",
    "</p>"
   ]
  },
  {
   "cell_type": "markdown",
   "metadata": {},
   "source": [
    "<link rel=\"stylesheet\" href=\"../Jupyter Style/style.css\">\n",
    "\n",
    "##### <h5>↴↴ Circuitos no Arduino</h5> "
   ]
  },
  {
   "cell_type": "markdown",
   "metadata": {},
   "source": [
    "<link rel=\"stylesheet\" href=\"../Jupyter Style/style.css\">\n",
    "<p>\n",
    "Por uma questão de espaço, <span>todos os circuitos serão apresentados conectados ao Arduino</span>. Como as <span>placas possuem barramentos compatíveis</span>, as <span>ligações são idênticas em qualquer modelo de placa de </span>controle.\n",
    "</p>"
   ]
  },
  {
   "cell_type": "markdown",
   "metadata": {},
   "source": [
    "<link rel=\"stylesheet\" href=\"../Jupyter Style/style.css\">\n",
    "\n",
    "##### <h5>↴↴ Acesso aos periféricos</h5> "
   ]
  },
  {
   "cell_type": "markdown",
   "metadata": {},
   "source": [
    "<link rel=\"stylesheet\" href=\"../Jupyter Style/style.css\">\n",
    "<p>\n",
    "No acesso aos periféricos, nosso estudo <span>utiliza uma abordagem mais próxima ao hardware, não fazendo uso de bibliotecas prontas</span>. A maioria dos compiladores disponibilizam um conjunto de bibliotecas que permite o acesso simplificado ao hardware.\n",
    "<br>\n",
    "<br>No entanto essas bibliotecas abstraem os detalhes da programação do hardware, o que pode prejudicar o entendimento do funcionamento dos periféricos. Deste modo, os autores julgam importante que o programador de sistemas embarcados entenda o funcionamento e consiga programar diretamente o hardware. Mesmo que posteriormente sejam utilizadas as bibliotecas desenvolvidas pelos fabricantes, o programador precisa deste conhecimento para solucionar os problemas e interferências que podem acontecer ao longo do desenvolvimento do projeto.\n",
    "</p>"
   ]
  },
  {
   "cell_type": "markdown",
   "metadata": {},
   "source": [
    "<link rel=\"stylesheet\" href=\"../Jupyter Style/style.css\"> \n",
    "\n",
    "#### <h4>↴ Hardware utilizado</h4>"
   ]
  },
  {
   "cell_type": "markdown",
   "metadata": {},
   "source": [
    "<link rel=\"stylesheet\" href=\"../Jupyter Style/style.css\"> \n",
    "\n",
    "##### <h5>↴↴ Lista de componentes</h5>"
   ]
  },
  {
   "cell_type": "markdown",
   "metadata": {},
   "source": [
    "<link rel=\"stylesheet\" href=\"../Jupyter Style/style.css\"> \n",
    "<p>\n",
    "Como o <span>enfoque</span> deste estudo é a programação de <span>sistemas embarcados e não a eletrônica</span>, <span>utilizaremos um kit de desenvolvimento</span> que reúne um conjunto de periféricos que formam a base de qualquer tipo de interface eletrônica. São eles:\n",
    "<br>\n",
    "<br>⚫ - 1 led RGB conectado a terminais de entrada e saída.\n",
    "<br>\n",
    "<br>⚫ - 1 expansor de saídas digitais 74hc595.\n",
    "<br>\n",
    "<br>⚫ - 4 displays de 7 segmentos com o barramento de dados compartilhados com o LCD.\n",
    "<br>\n",
    "<br>⚫ - 10 chaves organizadas em formato matricial 5x2.\n",
    "<br>\n",
    "<br>⚫ - 1 display LCD 2 linhas por 16 caracteres (compatível com HD7748o).\n",
    "<br>\n",
    "<br>⚫ - 1 sensor de luminosidade.\n",
    "<br>\n",
    "<br>⚫ - 1 sensor de temperatura.\n",
    "<br>\n",
    "<br>⚫ - 1 potenciômetro.\n",
    "<br>\n",
    "<br>⚫ - 1 buzzer ligado a uma saída PWM.\n",
    "<br>\n",
    "<br>⚫ - 1 canal de comunicação serial assíncrono com interface USB.\n",
    "<br>\n",
    "<br>⚫ - 1 relógio de tempo real com memória interna conectado através de um canal de comunicação serial síncrono.\n",
    "<br>\n",
    "</p>"
   ]
  },
  {
   "cell_type": "markdown",
   "metadata": {},
   "source": [
    "<link rel=\"stylesheet\" href=\"../Jupyter Style/style.css\"> \n",
    "\n",
    "##### <h5>↴↴ Arduino UNO - Atmel ATmega328</h5>"
   ]
  },
  {
   "cell_type": "markdown",
   "metadata": {},
   "source": [
    "<link rel=\"stylesheet\" href=\"../Jupyter Style/style.css\"> \n",
    "<p>\n",
    "<span class=\"sub\">Origem e propósito</span>\n",
    "<br>A placa de controle <span>Arduino</span> <span class=\"red-neon\">foi desenvolvida em</span> <span>2005</span> por <span>Massimo Banzi</span> para <span>baratear e simplificar o estudo de programação embarcada</span>.\n",
    "<br>\n",
    "<br><span class=\"sub\">No que foi baseado e composição</span>\n",
    "<br>Ela <span class=\"red-neon\">foi inicialmente baseada num</span><span>microcontrolador da Atmel</span>: O <span>Atmel ATmega8</span>, possuindo 14 entradas/saídas digitais e 6 entradas analógicas. O <span>bootloader instalado permite que a placa seja reprogramada sem a necessidade de um gravador dedicado</span>, todo o processo é <span>realizado através de uma porta serial</span>.\n",
    "<br>Visando <span>facilitar a compatibilidade destas placas, um conversor RS232-USB foi adicionado</span> ao projeto\n",
    "<br>\n",
    "<br><span class=\"sub\">Linguagem e Framework</span>\n",
    "<br>Como linguagem de programação foi escolhida a <span>Processing</span>. Esta linguagem tem como objetivo <span>facilitar o processo de aprendizagem da programação por pessoas que não tem muito contato com programação.</span>\n",
    "<br>Visando simplificar o acesso ao hardware, foi utilizado o <span>framework Wiring</span>. Ele <span>abstrai as questões mais complexas do hardware</span> provendo um conjunto de bibliotecas e funções pré-definidas.\n",
    "<br>\n",
    "<br>A escolha da linguagem Processing, em conjunto com o framework Wiring, bem como a utilização de um bootloader para fácil reprogramação da placa, permitiu que a plataforma Arduíno se tornasse acessível a grande parte dos hobbystas e estudantes.\n",
    "<br><img src=\"Images/1.1.jpg\" style=\"height: 500px; display: block; margin: 0 auto;\">\n",
    "</p>"
   ]
  },
  {
   "cell_type": "markdown",
   "metadata": {},
   "source": [
    "<link rel=\"stylesheet\" href=\"../Jupyter Style/style.css\"> \n",
    "\n",
    "##### <h5>↴↴ Chipkit UNO32 - Microchip PIC32MX220</h5>"
   ]
  },
  {
   "cell_type": "markdown",
   "metadata": {},
   "source": [
    "<link rel=\"stylesheet\" href=\"../Jupyter Style/style.css\"> \n",
    "<p>\n",
    "<span class=\"sub\">Propósito</span>\n",
    "<br>A placa Chipkit UNO32 foi <span>desenvolvida para ser compatível, tanto em hardware, quanto em código, com as placas Arduino</span>. Elas <span>compartilham os mesmos barramentos (footprint)</span> bem como <span>a mesma base de código</span>.\n",
    "<br>\n",
    "<br><span class=\"sub\">Reescreveu... Por quê?</span>\n",
    "<br>A <span>Microchip, fabricante dos processadores PIC32, reescreveu parte do framework Wiring</span> de modo que <span>os códigos que rodam no processador da Atmel também funcionassem em seu processador</span>.\n",
    "<br>\n",
    "<br><span class=\"sub\">Sua arquitetura</span>\n",
    "<br>O processador PIC32 é <span>baseado na arquitetura de 32 bits da MIPS, com um core M4K, chegando a velocidades de 8oMHz</span>. Por esse motivo, <span>é bem mais rápido que os Arduinos originais</span>, rodando em 8 bits, com velocidades de 16MHz. \n",
    "<br>\n",
    "<br><img src=\"Images/1.2.jpg\" style=\"height: 500px; display: block; margin: 0 auto;\">\n",
    "</p>"
   ]
  },
  {
   "cell_type": "markdown",
   "metadata": {},
   "source": [
    "<link rel=\"stylesheet\" href=\"../Jupyter Style/style.css\"> \n",
    "\n",
    "##### <h5>↴↴ Freedom KL05z - NXP ARM</h5>"
   ]
  },
  {
   "cell_type": "markdown",
   "metadata": {},
   "source": [
    "<link rel=\"stylesheet\" href=\"../Jupyter Style/style.css\"> \n",
    "<p>\n",
    "<span class=\"sub\">No que é baseada</span>\n",
    "<br>A família de placas de controle Freedom é <span>baseada num microcontrolador Kinetis-L da NXP, com um core ARM Cortex Mo+</span>. A variante utilizada neste livro é a <span>Freedom KLo5z com o menor custo entre as alternativas</span>.\n",
    "<br><span class=\"sub\">Diferenças</span>\n",
    "<br>Apesar de <span>possuir praticamente o mesmo barramento que as placas do Arduino</span>, <span>existem pequenas alterações em alguns terminais, como a ausência de um barramento I2C junto aos terminais analógicos A4 e A5</span>.\n",
    "<br>Além disso, o framework <spon>Wiring não está portado para essa plataforma</span>, fazendo com que o <span>programador precise tomar conta de todos os detalhes do acesso ao hardware</span>. Esta será a placa utilizada como referência em certa parte de nosso estudo, permitindo-nos a entender melhor os detalhes da programação de baixo nível.\n",
    "<br><img src=\"Images/1.3.jpg\" style=\"height: 500px; display: block; margin: 0 auto;\">\n",
    "</p>"
   ]
  },
  {
   "cell_type": "markdown",
   "metadata": {},
   "source": [
    "<link rel=\"stylesheet\" href=\"../Jupyter Style/style.css\"> \n",
    "\n",
    "#### <h4>↴ Ambiente de programação</h4>"
   ]
  },
  {
   "cell_type": "markdown",
   "metadata": {},
   "source": [
    "<link rel=\"stylesheet\" href=\"../Jupyter Style/style.css\"> \n",
    "<p>\n",
    "<span class=\"sub\">Uso das IDE</span>\n",
    "<br>Para <span>facilitar o processo de gravação e desenvolvimento dos programas, faremos uso de aplicativos de interface de edição que automatizam grande parte do processo de compilação e gravação</span>. Estes aplicativos são conhecidos como IDE (Integrated Development Environment) ou ambiente integrado de desenvolvimento.\n",
    "<br>\n",
    "<br>\n",
    "<span class=\"sub\">Bootloader</span>\n",
    "<br><span>Todas as placas utilizadas em nosso estudo possuem</span> um programa já instalado em sua memória chamado bootloader. Este programa <span class=\"red-neon\">permite</span> que a <span>gravação de um novo programa seja feita sem o uso de um gravador/depurador dedicado</span>, reduzindo o custo do kit de desenvolvimento.\n",
    "<br>O bootloader <span class=\"red-neon\">funciona como</span> um <span>gestor na inicialização do equipamento</span>.\n",
    "<br>Se não houver nenhum comando externo, ele inicializa o programa que estiver armazenado no microcontrolador.\n",
    "<br><span class=\"red-neon\">Quando</span> um <span>comando é percebido</span>, quando a <span>placa é ligada</span>, o <span>bootloader passa a entrar no modo de gravação</span>. Após este momento, o <span>computador pode enviar um novo programa para a placa</span>. O <span>bootloader</span> <span class=\"red-neon\">irá</span> <span>armazenar esse novo programa numa região adequada na memória para que ele possa ser executado na próxima vez</span>.\n",
    "<br>O <span class=\"red-neon\">modo de indicar</span> à placa que ela deve entrar no modo de bootloader dependo do microcontrolador utilizado e das escolhas que o projetista fez.\n",
    "<br>\n",
    "<br>O Arduino e o Chipkit possuem um terminal digital que faz essa indicação à placa. Tanto o Chipkit quanto o Arduino conectam esse terminal numa das conexões da comunicação serial. Deste modo, para regravar a placa, basta que a IDE envie o código que acionará o temrinal remotamente.\n",
    "<br>A plataforma Freedom implementa um sistema diferente. Quando conectada ao computador, ela cria um pendrive virtual. Este pendrive permite que o usuário copie o novo programa como se fosse um arquivo normal. A IDE utilizada, no entanto, faz esse procedimento automaticamente.\n",
    "<br>\n",
    "<br>A <span class=\"red-neon\">geração do código</span> compilado tem que ser feita de acordo com a placa utilizada.\n",
    "<br>Cada arquitetura de processador precisa de um compilador diferente.\n",
    "<br>Para facilitar esse processo, utilizaremos os ambientes desenvolvidos para cada plataforma.\n",
    "<br>\n",
    "<br><img src=\"Images/1.4.jpg\" style=\"height:300px; display:block; margin:0 auto;\">\n",
    "<br><img src=\"Images/T 1.1.jpg\" style=\"height:150px; display:block; margin:0 auto;\">\n",
    "</p>"
   ]
  },
  {
   "cell_type": "markdown",
   "metadata": {},
   "source": [
    "<link rel=\"stylesheet\" href=\"../Jupyter Style/style.css\"> \n",
    "\n",
    "#### <h4>↴ Uso da linguagem C</h4>"
   ]
  },
  {
   "cell_type": "markdown",
   "metadata": {},
   "source": [
    "<link rel=\"stylesheet\" href=\"../Jupyter Style/style.css\"> \n",
    "\n",
    "<p>\n",
    "A linguagem C foi escolhida para este estudo porque, além de ser a mais utilizada em sistemas embarcados, é relativamente simples para quem está começando. \n",
    "<br>Além disso, <span>permite que façamos acesso direto aos registros de hardware</span>, item fundamental para garantir que os sistemas eletrônicos se comportem do modo desejado.\n",
    "<br>\n",
    "<br>O processo de programação em C, para sistemas embarcados, <span>apresenta algumas diferenças para a programação em C para computadores tradicionais</span>. Existem <span>preocupações maiores com questões de tamanho de código, consumo de memória e velocidade de execução</span>. Isso leva a <span>cuidados extras na declaração das variáveis e dos tipos utilizados</span>.\n",
    "<br>\n",
    "<br>Além disso, é muito comum a <span>manipulação de bits na memória, principalmente nas regiões de memória onde os periféricos são mapeados</span>.\n",
    "<br>Por fim, a possibilidade de <span>utilização de interrupções em conjunto com variáveis que representam valores físicos leva o programador a utilizar arquiteturas diferentes de programação</span>.\n",
    "</p>"
   ]
  },
  {
   "cell_type": "markdown",
   "metadata": {},
   "source": [
    "<link rel=\"stylesheet\" href=\"../Jupyter Style/style.css\"> \n",
    "\n",
    "### <h3>Sistemas de numeração</h3>"
   ]
  },
  {
   "cell_type": "markdown",
   "metadata": {},
   "source": [
    "<link rel=\"stylesheet\" href=\"../Jupyter Style/style.css\"> \n",
    "\n",
    "#### <h4>↴ As bases</h4>"
   ]
  },
  {
   "cell_type": "markdown",
   "metadata": {},
   "source": [
    "<link rel=\"stylesheet\" href=\"../Jupyter Style/style.css\"> \n",
    "\n",
    "##### <h5>↴↴ Introdução</h5>"
   ]
  },
  {
   "cell_type": "markdown",
   "metadata": {},
   "source": [
    "<link rel=\"stylesheet\" href=\"../Jupyter Style/style.css\"> \n",
    "<span class=\"sub\">Por que existem?</span>\n",
    "<p>\n",
    "<br>Para poder <span>trabalhar com a informação</span> é necessário <span>representá-la em um formato acessível</span>.\n",
    "<br><br><span class=\"sub\">Exemplo</span> \n",
    "<br><br>A <span>música</span>, por exemplo, possui <span>diversas características que devem ser informadas para que ela seja tocada corretamente</span>. Para executar uma nota <span>devemos saber sua intensidade, frequência e duração</span>. A tabela abaixo apresenta uma listagem com essas informações para as quatro primeiras notas de uma música:\n",
    "<br><br><img src=\"Images/2.1 SN.jpg\" style=\"width:600px; display:block; margin:0 auto;\">\n",
    "<br><span>Este modo de representação, apesar de correto, não é adequado</span> para os músicos, principalmente por <span>ocupar muito espaço e dificultar a leitura</span> durante a execução da música. \n",
    "<br><span>Para isso foi desenvolvida a partitura</span>. Ela apresenta as notas de um modo gráfico mais natural para os músicos, como na figura 2.1. <span>Esta mudança de formato faz com que mais informações sejam disponibilizadas, como a relação entre duas notas e como é o andamento da melodia</span>. <span class=\"green-neon\">Apesar desta informação também estar disponível na tabela, o formato em que os dados são apresentados pode simplificar a leitura e utilização dos dados</span>.\n",
    "<br><br><img src=\"Images/Adeste Fideles.jpg\" style=\"width:600px; display:block; margin:0 auto;\">\n",
    "<span class=\"sub\">A base que usamos</span>\n",
    "<br><span>Muitas das informações que desejamos armazenar são formadas por quantidades</span>. A ideia de representar uma quantidade através de símbolos é bastante antiga. <span>A representação atual é baseada nos algarismos arábicos, através de uma base decimal</span>.\n",
    "<br><br><span class=\"sub\">A base que usamos nos computadores</span>\n",
    "<br>No entanto, para simplificar o desenvolvimento dos computadores, adotou-se a <span>base binária</span>. Isto permitiu a criação de <span>sistemas mais estáveis e robustos</span>. Na base binária, <span>cada posição de um número pode conter apenas os valores 0 ou 1</span>.\n",
    "<br><br><span class=\"sub\">Quais outras bases veremos?:</span>\n",
    "<br>Neste capítulo <span>abordaremos as diferentes bases comumente utilizadas em computação e também as diferentes representações destes números</span>.\n",
    "</p>"
   ]
  },
  {
   "cell_type": "markdown",
   "metadata": {},
   "source": [
    "<link rel=\"stylesheet\" href=\"../Jupyter Style/style.css\"> \n",
    "\n",
    "##### <h5>↴↴ As bases</h5>"
   ]
  },
  {
   "cell_type": "markdown",
   "metadata": {},
   "source": [
    "<link rel=\"stylesheet\" href=\"../Jupyter Style/style.css\">\n",
    "<p>\n",
    "As bases <span>mais utilizadas</span> durante a <span>programação dos sistemas embarcados</span> são a <span>decimal</span>, por ser a base que utilizamos no dia a dia, a <span>binária</span>, por ser o modo que os processadores trabalham, e a <span>hexadecimal</span>. Esta última serve para facilitar a leitura ou a operação com números binários, principalmente por reduzir a quantidade de algarismos exibidos. No entanto devemos ressaltar que dentro do processador todos os números são armazenados em binário, até mesmo as letras de um texto.\n",
    "</p>"
   ]
  },
  {
   "cell_type": "markdown",
   "metadata": {},
   "source": [
    "<link rel=\"stylesheet\" href=\"../Jupyter Style/style.css\"> \n",
    "\n",
    "###### <h6>↴↴↴ Decimal</h6>"
   ]
  },
  {
   "cell_type": "markdown",
   "metadata": {},
   "source": [
    "<link rel=\"stylesheet\" href=\"../Jupyter Style/style.css\"> \n",
    "<p>\n",
    "Um número é composto por diferentes algarismos. Para saber quanto um algarismo contribui para o número precisamos de duas informações: <span>o valor do algarismo e a posição que se encontra</span>. A figura 2.2, apresenta o número 1234, na base decimal. Este número é formado por 4 algarismos.\n",
    "<br><br><img src=\"Images/2.2 SN.jpg\" style=\"width:500px; display:block; margin:0 auto;\">\n",
    "<br>O valor do número pode ser definido de acordo com a posição de cada algarismo. Neste caso o número 1 vale 1000, o 2 vale 200, O 3 vale 30 e o 4 vale 4.\n",
    "<br><br><img src=\"Images/2.3 SN.jpg\" style=\"width:500px; display:block; margin:0 auto;\">\n",
    "<br>O <span>valor final</span> pode ser definido como a <span>soma de cada algarismo multiplicado por uma potência de 10</span>. <span>O expoente da potência depende da posição do algarismo no número</span>:\n",
    "<br><br><img src=\"Images/2.1 SN SN.jpg\" style=\"width:500px; display:block; margin:0 auto;\">\n",
    "<br>Este é um conceito relativamente simples. O que estamos fazendo ao criar um número na base 10 é <span>contar quantas vezes uma quantidade é múltipla de 1</span> (10^0) 10 (10^1), de 100 (10^2), de 1000 (10^3), etc. <span>Para as demais bases a ideia é a mesma, mas ao invés de usarmos o valor 10 como base, utilizaremos os valores 2 para a binária e 16 para a hexadecimal</span>. A representação matemática de um número N na base B é dada por Nb, conforme a equação a seguir:\n",
    "<br><br><img src=\"Images/eq.jpg\" style=\"width:500px; display:block; margin:0 auto;\">\n",
    "<br>Para que essa formulação seja válida, os valores devem obedecer a seguinte equação:\n",
    "<br><br><img src=\"Images/eq2.jpg\" style=\"width:500px; display:block; margin:0 auto;\">\n",
    "<br><br><img src=\"Images/Coisas da vidan.png\" style=\"width:1000px; display:block; margin:0 auto;\">\n",
    "</p>"
   ]
  },
  {
   "cell_type": "markdown",
   "metadata": {},
   "source": [
    "<link rel=\"stylesheet\" href=\"../Jupyter Style/style.css\"> \n",
    "\n",
    "###### <h6>↴↴↴ Binária</h6>"
   ]
  },
  {
   "cell_type": "markdown",
   "metadata": {},
   "source": [
    "<link rel=\"stylesheet\" href=\"../Jupyter Style/style.css\"> \n",
    "<p>\n",
    "Conforme apresentado, a base binária possui grande utilidade em sistemas computacionais por ser o modo como, em geral, os <span>computadores armazenam e executam as operações com números</span>. <br>Especificando, a notação matemática de uma base genérica para uma base 2, temos que um número na base 2 (N2) será representado por:\n",
    "<br><br><img src=\"Images/binaria.jpg\" style=\"width:500px; display:block; margin:0 auto;\">\n",
    "<br>Esta expressão diz que um algarismo num número binário representa a existência de um valor numa potência de 2, como representado na figura abaixo. Na figura podemos ver que cada digito dn representa um valor igual ao dobro do digito dn-1.\n",
    "<br>Os algarismos do número apresentado na figura 2.4, podem ser apenas zero ou um. Deste modo, na soma, o algarismo indica a presença (1) ou ausência (0) daquela potência de dois no número final. A figura 2.5 apresenta um exemplo de um número binário com 5 algarismos.\n",
    "<br><img src=\"Images/2.5 binário.jpg\" style=\"width:500px; display:block; margin:0 auto;\">\n",
    "<br>A figura 2.6 apresenta uma tabela com os valores de conversão de binário para decimal.\n",
    "<br><br><img src=\"Images/2.6 binário.jpg\" style=\"width:500px; display:block; margin:0 auto;\">\n",
    "<br><br><img src=\"Images/binários.png\" style=\"width:1000px; display:block; margin:0 auto;\">\n",
    "<br><br><img src=\"Images/Mais carac.png\" style=\"width:700px; display:block; margin:0 auto;\">\n",
    "</p>"
   ]
  },
  {
   "cell_type": "markdown",
   "metadata": {},
   "source": [
    "<link rel=\"stylesheet\" href=\"../Jupyter Style/style.css\"> \n",
    "\n",
    "###### <h6>↴↴↴ Hexadecimal</h6>"
   ]
  },
  {
   "cell_type": "markdown",
   "metadata": {},
   "source": [
    "<link rel=\"stylesheet\" href=\"../Jupyter Style/style.css\"> \n",
    "<p>\n",
    "A base binária representa como os números são armazenados e manipulados pelo processador. No entanto, <span>um número com vários zeros e uns é de difícil assimilação pelo ser humano. Isto pode induzir a erros, principalmente quando estamos manipulando esses números</span>.\n",
    "<br><br><span>Visando simplificar a escrita</span> desses números, é comum utilizarmos a base hexadecimal. Esta base funciona com 16 algarismos, de modo que cada posição é representada por uma potência de 16.\n",
    "<br><br><img src=\"Images/hexa soma.jpg\" style=\"width:500px; display:block; margin:0 auto;\">\n",
    "<br><span>Como existem apenas 10 algarismos, utilizamos as seis primeiras letras do alfabeto para complementar os algarismos</span>. Deste modo, o caractere \"A\" representa a quantidade 10, o caractere \"B\" o valor 11 e assim por diante até o caractere \"F\" que representa 15. A figura abaixo apresenta os valores de cada uma das posições num número hexadecimal.\n",
    "<br><br><img src=\"Images/base hexa.jpg\" style=\"width:500px; display:block; margin:0 auto;\">\n",
    "<br>Tomemos por exemplo o número F20C16. O caractere \"C\" indica que na primeira posição temos C (12) unidades de base 16, cujo valor de cada unidade é 16^0=1. Já o caractere 2 indica que este número possui duas quantidades na terceira posição. Isto indica que este número vale 2x16^2, totalizando 512. A mesma coisa acontece para o caractere \"F\". A figura 2.8 apresenta essa informação de modo gráfico:\n",
    "<br><br><img src=\"Images/f20c.jpg\" style=\"width:500px; display:block; margin:0 auto;\">\n",
    "</p>"
   ]
  },
  {
   "cell_type": "markdown",
   "metadata": {},
   "source": [
    "<link rel=\"stylesheet\" href=\"../Jupyter Style/style.css\"> \n",
    "\n",
    "#### <h4>↴ Conversão entre as bases</h4>"
   ]
  },
  {
   "cell_type": "markdown",
   "metadata": {},
   "source": [
    "<link rel=\"stylesheet\" href=\"../Jupyter Style/style.css\"> \n",
    "<p>\n",
    "Como já foi apresentado, as bases são apenas um modo de escrever a mesma quantidade. Fazendo a contagem de uma caixa com bolinhas, na base decimal existem 8 bolas ou 8_10(8 base 10). Se quisermos armazenar a mesma quantidade na base binária, teremos o valor 100_2 (100 base 2).\n",
    "<br><br><span>Todas as três bases</span> apresentadas, binária, decimal e hexadecimal, <span>possuem utilidade na hora de programar para um processador</span>. É bastante comum que em um determinado tempo desejamos saber qual o valor de uma determinada quantidade em diferentes bases, como no caso dos pontos. Se estivermos conversando com alguém, diremos que existem 8_10 pontos. No entanto, se formos armazenar esse número no computador, ele será salvo como o valor 1000_2.\n",
    "</p>"
   ]
  },
  {
   "cell_type": "markdown",
   "metadata": {},
   "source": [
    "<link rel=\"stylesheet\" href=\"../Jupyter Style/style.css\"> \n",
    "\n",
    "##### <h5>↴↴ Decimal para qualquer outro</h5>"
   ]
  },
  {
   "cell_type": "markdown",
   "metadata": {},
   "source": [
    "<link rel=\"stylesheet\" href=\"../Jupyter Style/style.css\"> \n",
    "<p>\n",
    "<br>Para converter um número N, que está numa base decimal, para uma base Y, <span>basta dividirmos N por Y sucessivas vezes enquanto anotamos o resto de cada divisão</span>. Continuamos esse procedimento <span>até o resultado ser zero</span>. \n",
    "<br><br>Por exemplo, para converter 56_10 para a base 3 podemos dividir o número por 3 e anotar os resultados.\n",
    "<br>56/3 = 18 resto 2\n",
    "<br>18/3 = 9 resto 0\n",
    "<br>9/3 = 3 resto 0\n",
    "<br>3/3 = 1 resto 0\n",
    "<br>1/3 = 0 resto 1\n",
    "<br><br><span>Anotando todos os valores de resto, da última divisão para a primeira, temos o número 10002 na base 3, que equivale ao número 56 na base decimal</span>. Portanto a conversão de decimal para binário, ou de hexadecimal para binário, pode ser feita através das divisões sucessivas.\n",
    "<br><br><img src=\"Images/saver.png\" style=\"width:600px; display:block; margin:0 auto;\">\n",
    "</p>"
   ]
  },
  {
   "cell_type": "markdown",
   "metadata": {},
   "source": [
    "<link rel=\"stylesheet\" href=\"../Jupyter Style/style.css\"> \n",
    "\n",
    "#### <h4>↴ BCD e BCD compactado</h4>"
   ]
  },
  {
   "cell_type": "markdown",
   "metadata": {},
   "source": [
    "<link rel=\"stylesheet\" href=\"../Jupyter Style/style.css\"> \n",
    "\n",
    "#### <h4>↴ Código Gray</h4>"
   ]
  },
  {
   "cell_type": "markdown",
   "metadata": {},
   "source": [
    "<link rel=\"stylesheet\" href=\"../Jupyter Style/style.css\"> \n",
    "\n",
    "#### <h4>↴ Codificação ASCII</h4>"
   ]
  },
  {
   "cell_type": "markdown",
   "metadata": {},
   "source": [
    "<link rel=\"stylesheet\" href=\"../Jupyter Style/style.css\"> \n",
    "\n",
    "#### <h4>↴ Exercícios</h4>"
   ]
  },
  {
   "cell_type": "markdown",
   "metadata": {},
   "source": [
    "## <p style=\"border-bottom:solid #ffffff38 5px;\">"
   ]
  },
  {
   "cell_type": "markdown",
   "metadata": {},
   "source": [
    "<link rel=\"stylesheet\" href=\"../Jupyter Style/style.css\"> \n",
    "\n",
    "## <h2>Controlando periféricos de Sistemas Embarcados</h2>"
   ]
  },
  {
   "cell_type": "markdown",
   "metadata": {},
   "source": [
    "## <p style=\"border-bottom:solid #ffffff38 5px;\">"
   ]
  },
  {
   "cell_type": "markdown",
   "metadata": {},
   "source": [
    "<link rel=\"stylesheet\" href=\"../Jupyter Style/style.css\"> \n",
    "\n",
    "## <h2>Arquiteturas para desenvolvimento de software embarcado</h2>"
   ]
  },
  {
   "cell_type": "markdown",
   "metadata": {},
   "source": [
    "## <p style=\"border-bottom:solid #ffffff38 5px;\">"
   ]
  },
  {
   "cell_type": "markdown",
   "metadata": {},
   "source": [
    "<link rel=\"stylesheet\" href=\"../Jupyter Style/style.css\"> \n",
    "\n",
    "## <h2>Anexos</h2>"
   ]
  },
  {
   "cell_type": "markdown",
   "metadata": {},
   "source": [
    "<link rel=\"stylesheet\" href=\"../Jupyter Style/style.css\">\n",
    "\n",
    "# <h1>Programação com Arduino</h1>"
   ]
  },
  {
   "cell_type": "markdown",
   "metadata": {},
   "source": [
    "<div class=\"animated-border\">\n",
    "    <img src=\"../Images/Mime and Dash Ilustrations/Gifs/Go, give me money!.gif\" alt=\"descrição do gif\" width=\"900\" style=\"display: block; margin-left: auto; margin-right: auto; border-radius:20px\">\n",
    "</div>"
   ]
  },
  {
   "cell_type": "markdown",
   "metadata": {},
   "source": [
    "## <p style=\"border-bottom:solid #ffffff38 5px;\">"
   ]
  },
  {
   "cell_type": "markdown",
   "metadata": {},
   "source": [
    "<link rel=\"stylesheet\" href=\"../Jupyter Style/style.css\"> \n",
    "\n",
    "## <h2>Fundamentos e Linguagem C</h2>"
   ]
  },
  {
   "cell_type": "markdown",
   "metadata": {},
   "source": [
    "<link rel=\"stylesheet\" href=\"../Jupyter Style/style.css\"> \n",
    "\n",
    "### <h3>Este é o Arduino</h3>"
   ]
  },
  {
   "cell_type": "markdown",
   "metadata": {},
   "source": [
    "<link rel=\"stylesheet\" href=\"../Jupyter Style/style.css\"> \n",
    "\n",
    "#### <h4>Introdução</h4>"
   ]
  },
  {
   "cell_type": "markdown",
   "metadata": {},
   "source": [
    "<link rel=\"stylesheet\" href=\"../Jupyter Style/style.css\"> \n",
    "<p>\n",
    "<span class=\"sub\">O que é</span>\n",
    "<br>\n",
    "<br>O Arduino <span class=\"red-neon\">é</span> uma <span>plataforma de microcontrolador</span> que atraiu a imaginação dos entusiastas de eletrônica.\n",
    "<br>\n",
    "<br>\n",
    "<span class=\"sub\">Para que serve</span>\n",
    "<br>\n",
    "<br>Basicamente, <span>permite que você conecte circuitos eletrônicos a seus terminais (do arduino), permitindo que ele controle coisas</span> - como, <span>por exemplo, ligar ou desligar dispositivos</span>, como lâmpadas e motores, ou medir grandezas físicas, como luz e temperatura. Essa é a razão pela qual <span>algumas vezes dizemos que o Arduino realiza uma computação física (concreta)</span>. Como <span class=\"red-neon\">os Arduinos podem ser conectados a um computador por meio de um cabo USB</span> (universal serial bus, ou barramento serial universal), isso significa também que <span>você pode usar o Arduino como placa de interface e controlar esses mesmos dispositivos a partir de seu computador caso queira</span>. \n",
    "<br>\n",
    "<br>Sua <span>facilidade de uso e sua natureza aberta</span> fazem dele uma ótima opção para qualquer um que queira realizar projetos eletrônicos. \n",
    "</p>"
   ]
  }
 ],
 "metadata": {
  "kernelspec": {
   "display_name": "Python 3",
   "language": "python",
   "name": "python3"
  },
  "language_info": {
   "codemirror_mode": {
    "name": "ipython",
    "version": 3
   },
   "file_extension": ".py",
   "mimetype": "text/x-python",
   "name": "python",
   "nbconvert_exporter": "python",
   "pygments_lexer": "ipython3",
   "version": "3.11.3"
  },
  "orig_nbformat": 4
 },
 "nbformat": 4,
 "nbformat_minor": 2
}
