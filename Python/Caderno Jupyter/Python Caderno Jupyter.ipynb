{
 "cells": [
  {
   "attachments": {},
   "cell_type": "markdown",
   "metadata": {},
   "source": [
    "<link rel=\"stylesheet\" href=\"style.css\">\n",
    "\n",
    "# <h1 id=\"centro\" class=\"branco-neon\" style=\"font-weight:700\">Python</h1>"
   ]
  },
  {
   "attachments": {},
   "cell_type": "markdown",
   "metadata": {},
   "source": [
    "<div class=\"animated-border\">\n",
    "    <img src=\"../../Jupyter Configs/img/Mime and Dash Ilustrations/gif Mime and Dash.gif\" alt=\"descrição do gif\" width=\"900\" style=\"display: block; margin-left: auto; margin-right: auto; border-radius:20px\">\n",
    "</div>"
   ]
  },
  {
   "attachments": {},
   "cell_type": "markdown",
   "metadata": {},
   "source": [
    "## <p style=\"border-bottom:solid #ffffff38 5px;\">"
   ]
  },
  {
   "attachments": {},
   "cell_type": "markdown",
   "metadata": {},
   "source": [
    "<link rel=\"stylesheet\" href=\"style.css\">\n",
    "\n",
    "## <h2 id=\"centro\" class=\"branco-neon\">Sintaxe - Introdução à linguagem Python</h2>"
   ]
  },
  {
   "attachments": {},
   "cell_type": "markdown",
   "metadata": {},
   "source": [
    "<div class=\"animated-border\">\n",
    "    <img src=\"../../Jupyter Configs/img/Mime and Dash Ilustrations/Mime and Dash money.gif\" alt=\"descrição do gif\" width=\"900\" style=\"display: block; margin-left: auto; margin-right: auto; border-radius:20px\">\n",
    "</div>"
   ]
  },
  {
   "attachments": {},
   "cell_type": "markdown",
   "metadata": {},
   "source": [
    "<link rel=\"stylesheet\" href=\"style.css\">\n",
    "\n",
    "### <h3 id=\"centro\" class=\"vermelho-neon\" style=\"font-weight:700\">História</h3>"
   ]
  },
  {
   "attachments": {},
   "cell_type": "markdown",
   "metadata": {},
   "source": [
    "<link rel=\"stylesheet\" href=\"style.css\">\n",
    "<p id=\"centro\">Podemos separar o resumo da história do Python em quatro tópicos:</p>"
   ]
  },
  {
   "attachments": {},
   "cell_type": "markdown",
   "metadata": {},
   "source": [
    "<link rel=\"stylesheet\" href=\"style.css\">\n",
    "<p id=\"centro\"><span style=\"color:#C82F4B;\">1</span>. O objetivo era ser o <span>sucessor</span> de uma linguagem chamada ABC.<br>\n",
    "<span style=\"color:#C82F4B;\">2.</span> Criado no início dos anos <span>90 em CWI na Holanda</span>, por <span>Guido van Rossum</span> (apesar de principal autor, houve muitas contribuições de outros pesquisadores).<br>\n",
    "<span style=\"color:#C82F4B;\">3.</span> Em 95 Guido foi a CNRI na Virgínia, em <span>2000 na BeOpen</span> onde formou a <span>BeOpen PythonLabs</span> (no mesmo ano, a equipe do PythonLabs mudou para a <span>Digital Creations</span>, agora <span>Zope Corporation</span>).<br>\n",
    "<span style=\"color:#C82F4B\">4.</span> Em <span>2001</span> foi formada a <span>PSF</span> (<span>Python Software Foundation</span>), uma organização sem fins lucrativos, criada especificamente para possuir a propriedade intelectual relacionada ao Python.</p>"
   ]
  },
  {
   "attachments": {},
   "cell_type": "markdown",
   "metadata": {},
   "source": [
    "<p style=\"border-bottom:solid #c82f4b40 5px;\">"
   ]
  },
  {
   "attachments": {},
   "cell_type": "markdown",
   "metadata": {},
   "source": [
    "<link rel=\"stylesheet\" href=\"style.css\">\n",
    "\n",
    "### <h3 id=\"centro\" class=\"vermelho-neon\" style=\"font-weight:700\">Características</h3>"
   ]
  },
  {
   "attachments": {},
   "cell_type": "markdown",
   "metadata": {},
   "source": [
    "- É uma linguagem <span>orientada a objetos</span>, ou seja, tudo é objeto (por isso ao usarmos type() os tipos de dados aparecem com <class ' '>)."
   ]
  },
  {
   "cell_type": "code",
   "execution_count": 28,
   "metadata": {},
   "outputs": [
    {
     "name": "stdout",
     "output_type": "stream",
     "text": [
      "<class 'int'>\n"
     ]
    }
   ],
   "source": [
    "x = 3\n",
    "print(type(x))\n"
   ]
  },
  {
   "attachments": {},
   "cell_type": "markdown",
   "metadata": {},
   "source": [
    "- Utiliza uma sintaxe elegante, facilitando a leitura dos programas.\n",
    "- Fácil de usar, ideal para desenvolvimento de protótipos e outras tarefas de programação ad-hoc, sem comprometer a manutenção.\n",
    "- Vem com uma grande biblioteca padrão que suporta muitas tarefas comuns de programação, como se conectar a servidores da Web, pesquisar texto com expressões regulares, ler e modificar arquivos.\n",
    "- Possui inúmeras bibliotecas que estender seu poder de atuação.\n",
    "- É uma <span style=\"color: #6890C3;\">linguagem interpretada</span>, ou seja, uma vez escrito o código, este não precisa ser convertido em linguagem de máquina por um processo de compilação."
   ]
  },
  {
   "attachments": {},
   "cell_type": "markdown",
   "metadata": {},
   "source": [
    "- Permite atribuição múltipla. Podemos atribuir valores a mais de uma variável em uma única instrução, como:"
   ]
  },
  {
   "cell_type": "code",
   "execution_count": 29,
   "metadata": {},
   "outputs": [
    {
     "name": "stdout",
     "output_type": "stream",
     "text": [
      "2\n",
      "4\n"
     ]
    }
   ],
   "source": [
    "x, y = 2, 4\n",
    "print(x)\n",
    "print(y)\n"
   ]
  },
  {
   "attachments": {},
   "cell_type": "markdown",
   "metadata": {},
   "source": [
    "- Usa da identação como forma de definição de blocos de código (em C isso era indiferente, por exemplo).\n",
    "- Tipagem dinâmica (não precisa definir o tipo antes) e forte (não realiza conversão de tipos automaticamente, podendo gerar erros em situações onde você esquece de converter).\n",
    "- O interpretador Python 3 utiliza <span style=\"color: #6890C3;\">unicode</span> por padrão, mas evite acentuações e caracteres especiais, por motivos de boa prática.\n",
    "- Um código que segue as regras do idioma Python é chamado de pythonic code.\n",
    "Caso queira as regras, referência e outras informações oficiais, veja o <span style=\"color: #6890C3;\">PEP8</span> ou a <span style=\"color: #6890C3;\">documentação iniciante</span>. Menção honrosa também ao \"<span style=\"color: #6890C3; \">The Zen of Python</span>\"."
   ]
  },
  {
   "attachments": {},
   "cell_type": "markdown",
   "metadata": {},
   "source": [
    "<p style=\"border-bottom:solid #c82f4b40 5px;\">"
   ]
  },
  {
   "attachments": {},
   "cell_type": "markdown",
   "metadata": {},
   "source": [
    "<link rel=\"stylesheet\" href=\"style.css\">\n",
    "\n",
    "### <h3 id=\"centro\" class=\"vermelho-neon\" style=\"font-weight:700\">Variáveis</h3>"
   ]
  },
  {
   "attachments": {},
   "cell_type": "markdown",
   "metadata": {},
   "source": [
    "<link rel=\"stylesheet\" href=\"style.css\">\n",
    "<p id=\"centro\">\n",
    "    São espaços alocados na memória RAM para guardar valores temporariamente.\n",
    "    Em Python, esses espaços <span style=\"color: #6890C3;\">não precisam ser tipados</span>, ou seja, a variável pode ser alocada sem especificar o tipo de dado que ela aguardará. O interpretador Python é capaz de determinar o tipo de dado da variável com base no seu valor, ou seja, as variáveis <span style=\"color: #6890C3;\">são tipadas dinamicamente</span> nessa linguagem.\n",
    "</p>"
   ]
  },
  {
   "attachments": {},
   "cell_type": "markdown",
   "metadata": {},
   "source": [
    "<p style=\"border-bottom:solid #c82f4b40 5px;\">"
   ]
  },
  {
   "attachments": {},
   "cell_type": "markdown",
   "metadata": {},
   "source": [
    "<link rel=\"stylesheet\" href=\"style.css\">\n",
    "\n",
    "### <h3 id=\"centro\" class=\"vermelho-neon\" style=\"font-weight:700\">Operações</h3>"
   ]
  },
  {
   "attachments": {},
   "cell_type": "markdown",
   "metadata": {},
   "source": [
    "<p style=\"text-align: center;\">Eis aqui as operações em Python que precisam ser destacadas:</p>"
   ]
  },
  {
   "attachments": {},
   "cell_type": "markdown",
   "metadata": {},
   "source": [
    "<span style=\"color: #6890C3;\">Quociente</span> de x e y:"
   ]
  },
  {
   "cell_type": "code",
   "execution_count": 30,
   "metadata": {},
   "outputs": [
    {
     "name": "stdout",
     "output_type": "stream",
     "text": [
      "2.0\n"
     ]
    }
   ],
   "source": [
    "x, y = 4, 2\n",
    "print(x/y)\n"
   ]
  },
  {
   "attachments": {},
   "cell_type": "markdown",
   "metadata": {},
   "source": [
    "<span style=\"color: #6890C3;\">Parte inteira</span> do quociente de x e y:"
   ]
  },
  {
   "cell_type": "code",
   "execution_count": 1,
   "metadata": {},
   "outputs": [
    {
     "name": "stdout",
     "output_type": "stream",
     "text": [
      "2\n"
     ]
    }
   ],
   "source": [
    "x, y = 4, 2\n",
    "print(x//y)\n"
   ]
  },
  {
   "attachments": {},
   "cell_type": "markdown",
   "metadata": {},
   "source": [
    "<span style=\"color: #6890C3;\">Resto</span> de x e y:"
   ]
  },
  {
   "cell_type": "code",
   "execution_count": 32,
   "metadata": {},
   "outputs": [
    {
     "name": "stdout",
     "output_type": "stream",
     "text": [
      "0\n"
     ]
    }
   ],
   "source": [
    "x, y = 4, 2\n",
    "print(x % y)\n"
   ]
  },
  {
   "attachments": {},
   "cell_type": "markdown",
   "metadata": {},
   "source": [
    "Valor absoluto de x (<span style=\"color: #6890C3;\">módulo</span>):"
   ]
  },
  {
   "cell_type": "code",
   "execution_count": 33,
   "metadata": {},
   "outputs": [
    {
     "name": "stdout",
     "output_type": "stream",
     "text": [
      "4\n"
     ]
    }
   ],
   "source": [
    "x = -4\n",
    "print(abs(x))\n"
   ]
  },
  {
   "attachments": {},
   "cell_type": "markdown",
   "metadata": {},
   "source": [
    "<span style=\"color: #6890C3;\">Exponenciação</span>, x elevado a y:"
   ]
  },
  {
   "cell_type": "code",
   "execution_count": 34,
   "metadata": {},
   "outputs": [
    {
     "name": "stdout",
     "output_type": "stream",
     "text": [
      "16\n",
      "16\n"
     ]
    }
   ],
   "source": [
    "x, y = 4, 2\n",
    "print(pow(x, y))\n",
    "print(x**y)\n"
   ]
  },
  {
   "attachments": {},
   "cell_type": "markdown",
   "metadata": {},
   "source": [
    "<p>Como pode perceber, neste último, <span style=\"color: #6890C3;\">há duas formas</span> de fazer a exponenciação.</p>"
   ]
  },
  {
   "attachments": {},
   "cell_type": "markdown",
   "metadata": {},
   "source": [
    "<p style=\"border-bottom:solid #c82f4b40 5px;\">"
   ]
  },
  {
   "attachments": {},
   "cell_type": "markdown",
   "metadata": {},
   "source": [
    "<link rel=\"stylesheet\" href=\"style.css\">\n",
    "\n",
    "### <h3 id=\"centro\" class=\"vermelho-neon\" style=\"font-weight:700\">Estruturas condicionais</h3>"
   ]
  },
  {
   "attachments": {},
   "cell_type": "markdown",
   "metadata": {},
   "source": [
    "<link rel=\"stylesheet\" href=\"style.css\">\n",
    "\n",
    "#### <h4 id=\"centro\" class=\"azul-neon\" style=\"font-weight:700\">If</h4>"
   ]
  },
  {
   "attachments": {},
   "cell_type": "markdown",
   "metadata": {},
   "source": [
    "<p style=\"text-align:center;\">Não devemos ignorar ou subestimar um if isolado, existem situações onde ele poder vir a ser útil:</p>"
   ]
  },
  {
   "cell_type": "code",
   "execution_count": 49,
   "metadata": {},
   "outputs": [],
   "source": [
    "x = input(\"Insira um valor: \")\n",
    "x = float(x)\n",
    "if x != 1:\n",
    "    print(\"Não trata-se de uma unidade.\")\n"
   ]
  },
  {
   "attachments": {},
   "cell_type": "markdown",
   "metadata": {},
   "source": [
    "<p style=\" border-bottom:solid #c82f4b40 5px;\">"
   ]
  },
  {
   "attachments": {},
   "cell_type": "markdown",
   "metadata": {},
   "source": [
    "<link rel=\"stylesheet\" href=\"style.css\">\n",
    "\n",
    "#### <h4 id=\"centro\" class=\"azul-neon\" style=\"font-weight:700\">If else</h4>"
   ]
  },
  {
   "cell_type": "code",
   "execution_count": 36,
   "metadata": {},
   "outputs": [
    {
     "name": "stdout",
     "output_type": "stream",
     "text": [
      "A não é menor que b\n"
     ]
    }
   ],
   "source": [
    "a = input(\"Insira o valor de a: \")\n",
    "b = input(\"Insira o valor de b: \")\n",
    "if a < b:\n",
    "    print(\"A é menor que b\")\n",
    "else:\n",
    "    print(\"A não é menor que b\")\n"
   ]
  },
  {
   "attachments": {},
   "cell_type": "markdown",
   "metadata": {},
   "source": [
    "<p style=\" border-bottom:solid #c82f4b40 5px;\">"
   ]
  },
  {
   "attachments": {},
   "cell_type": "markdown",
   "metadata": {},
   "source": [
    "<link rel=\"stylesheet\" href=\"style.css\">\n",
    "\n",
    "#### <h4 id=\"centro\" class=\"azul-neon\" style=\"font-weight:700;\">elif</h4>"
   ]
  },
  {
   "cell_type": "code",
   "execution_count": 37,
   "metadata": {},
   "outputs": [
    {
     "name": "stdout",
     "output_type": "stream",
     "text": [
      "Código não cadastrado\n"
     ]
    }
   ],
   "source": [
    "codigo_compra = input(\"Digite o código de compra: \")\n",
    "codigo_compra = int(codigo_compra)\n",
    "\n",
    "\n",
    "if codigo_compra == 5222:\n",
    "\n",
    "    print(\"Compra à vista.\")\n",
    "\n",
    "elif codigo_compra == 5333:\n",
    "\n",
    "    print(\"Compra à prazo no boleto.\")\n",
    "\n",
    "elif codigo_compra == 5444:\n",
    "\n",
    "    print(\"Compra à prazo no cartão.\")\n",
    "\n",
    "else:\n",
    "\n",
    "    print(\"Código não cadastrado\")\n"
   ]
  },
  {
   "attachments": {},
   "cell_type": "markdown",
   "metadata": {},
   "source": [
    "<p style=\" border-bottom:solid #c82f4b40 5px;\">"
   ]
  },
  {
   "attachments": {},
   "cell_type": "markdown",
   "metadata": {},
   "source": [
    "<link rel=\"stylesheet\" href=\"style.css\">\n",
    "\n",
    "### <h3 id=\"centro\" class=\"vermelho-neon\" style=\"font-weight:700\">Estruturas lógicas</h3>"
   ]
  },
  {
   "attachments": {},
   "cell_type": "markdown",
   "metadata": {},
   "source": [
    "<p style=\"text-align:center;\"><span style=\"color: #6890C3;\">not</span> primeiro, <span style=\"color: #6890C3;\">and</span> em seguida e <span style=\"color: #6890C3;\">or</span> por último.</p>"
   ]
  },
  {
   "attachments": {},
   "cell_type": "markdown",
   "metadata": {},
   "source": [
    "<link rel=\"stylesheet\" href=\"style.css\">\n",
    "\n",
    "#### <h4 id=\"centro\" class=\"azul-neon\" style=\"font-weight:700\">And</h4>"
   ]
  },
  {
   "cell_type": "code",
   "execution_count": 38,
   "metadata": {},
   "outputs": [
    {
     "name": "stdout",
     "output_type": "stream",
     "text": [
      "Aluno aprovado!\n"
     ]
    }
   ],
   "source": [
    "qtde_faltas = int(input(\"Digite a quantidade de faltas: \"))\n",
    "\n",
    "media_final = float(input(\"Digite a média final: \"))\n",
    "\n",
    "\n",
    "if qtde_faltas <= 5 and media_final >= 7:\n",
    "\n",
    "    print(\"Aluno aprovado!\")\n",
    "\n",
    "else:\n",
    "\n",
    "    print(\"Aluno reprovado!\")\n"
   ]
  },
  {
   "attachments": {},
   "cell_type": "markdown",
   "metadata": {},
   "source": [
    "<p style=\" border-bottom:solid #c82f4b40 5px;\">"
   ]
  },
  {
   "attachments": {},
   "cell_type": "markdown",
   "metadata": {},
   "source": [
    "<link rel=\"stylesheet\" href=\"style.css\">\n",
    "\n",
    "#### <h4 id=\"centro\" class=\"azul-neon\" style=\"font-weight:700;\">Or</h4>"
   ]
  },
  {
   "cell_type": "code",
   "execution_count": 39,
   "metadata": {},
   "outputs": [
    {
     "name": "stdout",
     "output_type": "stream",
     "text": [
      "True\n",
      "False\n"
     ]
    }
   ],
   "source": [
    "A = 15\n",
    "\n",
    "B = 9\n",
    "\n",
    "C = 9\n",
    "\n",
    "\n",
    "print(B == C or A < B and A < C)\n",
    "\n",
    "print((B == C or A < B) and A < C)\n"
   ]
  },
  {
   "attachments": {},
   "cell_type": "markdown",
   "metadata": {},
   "source": [
    "<p style=\" border-bottom:solid #c82f4b40 5px;\">"
   ]
  },
  {
   "attachments": {},
   "cell_type": "markdown",
   "metadata": {},
   "source": [
    "<link rel=\"stylesheet\" href=\"style.css\">\n",
    "\n",
    "### <h3 id=\"centro\" class=\"vermelho-neon\" style=\"font-weight:700\">Estruturas de repetição</h3>"
   ]
  },
  {
   "attachments": {},
   "cell_type": "markdown",
   "metadata": {},
   "source": [
    "<link rel=\"stylesheet\" href=\"style.css\">\n",
    "\n",
    "#### <h4 id=\"centro\" class=\"azul-neon\" style=\"font-weight:700;\">While</h4>"
   ]
  },
  {
   "cell_type": "code",
   "execution_count": 50,
   "metadata": {},
   "outputs": [
    {
     "name": "stdout",
     "output_type": "stream",
     "text": [
      "Número ímpar!\n",
      "Número par!\n",
      "Número par!\n"
     ]
    }
   ],
   "source": [
    "numero = 1\n",
    "\n",
    "while numero != 0:\n",
    "\n",
    "    numero = int(input(\"Digite um número: \"))\n",
    "\n",
    "    if numero % 2 == 0:\n",
    "\n",
    "        print(\"Número par!\")\n",
    "\n",
    "    else:\n",
    "\n",
    "        print(\"Número ímpar!\")\n"
   ]
  },
  {
   "attachments": {},
   "cell_type": "markdown",
   "metadata": {},
   "source": [
    "<p style=\" border-bottom:solid #c82f4b40 5px;\">"
   ]
  },
  {
   "attachments": {},
   "cell_type": "markdown",
   "metadata": {},
   "source": [
    "<link rel=\"stylesheet\" href=\"style.css\">\n",
    "\n",
    "#### <h4 id=\"centro\" class=\"azul-neon\" style=\"font-weight:700;\">For</h4>"
   ]
  },
  {
   "cell_type": "code",
   "execution_count": null,
   "metadata": {},
   "outputs": [
    {
     "name": "stdout",
     "output_type": "stream",
     "text": [
      "Posição = 0, valor = R\n",
      "Posição = 1, valor = e\n",
      "Posição = 2, valor = a\n"
     ]
    }
   ],
   "source": [
    "nome = \"Rea\"\n",
    "\n",
    "for i, v in enumerate(nome):\n",
    "\n",
    "    print(f\"Posição = {i}, valor = {v}\")\n"
   ]
  },
  {
   "attachments": {},
   "cell_type": "markdown",
   "metadata": {},
   "source": [
    "<p style=\" border-bottom:solid #c82f4b40 5px;\">"
   ]
  },
  {
   "attachments": {},
   "cell_type": "markdown",
   "metadata": {},
   "source": [
    "<link rel=\"stylesheet\" href=\"style.css\">\n",
    "\n",
    "#### <h4 id=\"centro\" class=\"azul-neon\" style=\"font-weight:700;\">Range</h4>"
   ]
  },
  {
   "attachments": {},
   "cell_type": "markdown",
   "metadata": {},
   "source": [
    "<p style=\"text-align:center;\">Para criar uma <span style=\"color: #6890C3;\">sequencia numérica de iteração</span>, usamos range()</p>"
   ]
  },
  {
   "cell_type": "code",
   "execution_count": 51,
   "metadata": {},
   "outputs": [
    {
     "name": "stdout",
     "output_type": "stream",
     "text": [
      "0\n",
      "1\n",
      "2\n",
      "3\n",
      "4\n"
     ]
    }
   ],
   "source": [
    "for x in range(5):\n",
    "\n",
    "    print(x)\n"
   ]
  },
  {
   "attachments": {},
   "cell_type": "markdown",
   "metadata": {},
   "source": [
    "Exemplo do uso de <span style=\"color: #6890C3;\">break</span>:"
   ]
  },
  {
   "cell_type": "code",
   "execution_count": 52,
   "metadata": {},
   "outputs": [
    {
     "name": "stdout",
     "output_type": "stream",
     "text": [
      "L\n",
      "i\n",
      "n\n",
      "g\n",
      "u\n"
     ]
    }
   ],
   "source": [
    "disciplina = \"Linguagem de programação\"\n",
    "\n",
    "for letra in disciplina:\n",
    "\n",
    "    if letra == 'a':\n",
    "\n",
    "        break\n",
    "\n",
    "    else:\n",
    "\n",
    "        print(letra)\n"
   ]
  },
  {
   "attachments": {},
   "cell_type": "markdown",
   "metadata": {},
   "source": [
    "Exemplo do uso de <span style=\"color: #6890C3;\">continue</span>:"
   ]
  },
  {
   "cell_type": "code",
   "execution_count": 53,
   "metadata": {},
   "outputs": [
    {
     "name": "stdout",
     "output_type": "stream",
     "text": [
      "L\n",
      "i\n",
      "n\n",
      "g\n",
      "u\n",
      "g\n",
      "e\n",
      "m\n",
      " \n",
      "d\n",
      "e\n",
      " \n",
      "p\n",
      "r\n",
      "o\n",
      "g\n",
      "r\n",
      "m\n",
      "ç\n",
      "ã\n",
      "o\n"
     ]
    }
   ],
   "source": [
    "disciplina = \"Linguagem de programação\"\n",
    "\n",
    "for letra in disciplina:\n",
    "\n",
    "    if letra == 'a':\n",
    "\n",
    "        continue\n",
    "\n",
    "    else:\n",
    "\n",
    "        print(letra)\n"
   ]
  },
  {
   "cell_type": "code",
   "execution_count": 54,
   "metadata": {},
   "outputs": [
    {
     "name": "stdout",
     "output_type": "stream",
     "text": [
      "Vogal 'e' encontrada, na posição ----> 1\n",
      "Vogal 'e' encontrada, na posição ----> 3\n",
      "Vogal 'a' encontrada, na posição ----> 11\n",
      "Vogal 'a' encontrada, na posição ----> 18\n",
      "Vogal 'a' encontrada, na posição ----> 26\n",
      "Vogal 'e' encontrada, na posição ----> 31\n",
      "Vogal 'e' encontrada, na posição ----> 33\n",
      "Vogal 'a' encontrada, na posição ----> 36\n",
      "Vogal 'e' encontrada, na posição ----> 38\n",
      "Vogal 'e' encontrada, na posição ----> 42\n",
      "Vogal 'a' encontrada, na posição ----> 48\n",
      "Vogal 'a' encontrada, na posição ----> 51\n",
      "Vogal 'a' encontrada, na posição ----> 56\n",
      "Vogal 'a' encontrada, na posição ----> 61\n",
      "Vogal 'e' encontrada, na posição ----> 63\n",
      "Vogal 'a' encontrada, na posição ----> 65\n",
      "Vogal 'a' encontrada, na posição ----> 70\n",
      "Vogal 'e' encontrada, na posição ----> 73\n",
      "Vogal 'a' encontrada, na posição ----> 77\n",
      "Vogal 'a' encontrada, na posição ----> 80\n"
     ]
    }
   ],
   "source": [
    "texto = \"Devemos tomar cuidado com a diferença entre o quadrado da soma e a soma de quadrados.\"\n",
    "\n",
    "for i, letra in enumerate(texto):\n",
    "\n",
    "    if letra == 'a' or letra == 'e':\n",
    "\n",
    "        print(f\"Vogal '{letra}' encontrada, na posição ----> {i}\")\n",
    "\n",
    "    else:\n",
    "\n",
    "        continue\n"
   ]
  },
  {
   "attachments": {},
   "cell_type": "markdown",
   "metadata": {},
   "source": [
    "<link rel=\"stylesheet\" href=\"style.css\">\n",
    "\n",
    "#### <h4 id=\"centro\" class=\"vermelho-neon\" style=\"font-weight:700;\">Controle de Fluxo</h4>"
   ]
  },
  {
   "attachments": {},
   "cell_type": "markdown",
   "metadata": {},
   "source": [
    "<link rel=\"stylesheet\" href=\"style.css\">\n",
    "\n",
    "##### <h5 id=\"centro\" class=\"vermelho-neon\" style=\"font-weight:700;\">Continue</h5>"
   ]
  },
  {
   "attachments": {},
   "cell_type": "markdown",
   "metadata": {},
   "source": [
    "<link rel=\"stylesheet\" href=\"../Jupyter Style/style.css\"> \n",
    "\n",
    "<p>O comando <span>continue</span> irá levar a estrutura de volta ao início de seu bloco.</p>"
   ]
  },
  {
   "cell_type": "code",
   "execution_count": 1,
   "metadata": {},
   "outputs": [
    {
     "name": "stdout",
     "output_type": "stream",
     "text": [
      "Insira o ID: \n",
      "Bem vindo, Rea! Insira sua senha: \n",
      "Bem vindo ao programa!\n"
     ]
    }
   ],
   "source": [
    "while 1:\n",
    "    print('Insira o ID: ')\n",
    "    name=input()\n",
    "    if name!='Rea':\n",
    "        continue\n",
    "    print('Bem vindo, Rea! Insira sua senha: ')\n",
    "    senha=input()\n",
    "    if senha == '852456Re!':\n",
    "        break\n",
    "print(\"Bem vindo ao programa!\")\n",
    "\n",
    "#Ps: Faz parte do fluxograma original deste programa, inclusive, que quando errar a senha volte para o início. Não se assuste."
   ]
  },
  {
   "attachments": {},
   "cell_type": "markdown",
   "metadata": {},
   "source": [
    "<p style=\" border-bottom:solid #c82f4b40 5px;\">"
   ]
  },
  {
   "attachments": {},
   "cell_type": "markdown",
   "metadata": {},
   "source": [
    "<link rel=\"stylesheet\" href=\"style.css\">\n",
    "\n",
    "### <h3 id=\"centro\" class=\"vermelho-neon\" style=\"font-weight:700;\">Funções</h3>"
   ]
  },
  {
   "attachments": {},
   "cell_type": "markdown",
   "metadata": {},
   "source": [
    "<link rel=\"stylesheet\" href=\"style.css\">\n",
    "\n",
    "#### <h4 id=\"centro\" class=\"azul-neon\" style=\"font-weight:700;\">Funções Built-in</h4>"
   ]
  },
  {
   "attachments": {},
   "cell_type": "markdown",
   "metadata": {},
   "source": [
    "<p style=\"text-align:center;\">Uma função built-in é um objeto que está integrado ao núcleo do interpretador, ou seja, <span style=\"color: #6890C3;\">não precisa ser feita nenhuma instalação adicional</span>, já está <span style=\"color: #6890C3;\">pronto para uso</span>.</p>"
   ]
  },
  {
   "attachments": {},
   "cell_type": "markdown",
   "metadata": {},
   "source": [
    "<link rel=\"stylesheet\" href=\"style.css\">\n",
    "\n",
    "##### <h5 id=\"centro\" class=\"azul-neon\" style=\"font-weight:700;\">Todas funções built-in</h5>"
   ]
  },
  {
   "attachments": {},
   "cell_type": "markdown",
   "metadata": {},
   "source": [
    "<style>\n",
    "*{\n",
    "    margin-left:auto; \n",
    "    margin-right:auto;\n",
    "}\n",
    "</style>\n",
    "\n",
    "| sintaxe | explicação |\n",
    "|------|-------|\n",
    "| abs() | Retorna o valor absoluto (módulo) de um número.    |\n",
    "| all() | Retorna True se todos os elementos em um iterável são verdadeiros ou se o iterável estiver vazio.    |\n",
    "| any() |Retorna True se pelo menos um elemento em um iterável for verdadeiro.|\n",
    "| ascii() |Retorna uma string contendo uma representação imprimível de um objeto, mas com caracteres não-ASCII escapados.|\n",
    "| bin() |Converte um número inteiro em uma string binária.|\n",
    "| bool() |Retorna o valor booleano de um objeto.|\n",
    "| breakpoint() |Causa a interrupção do código para fins de depuração.|\n",
    "| bytearray() |Retorna um objeto bytearray, que é uma sequência mutável de inteiros no intervalo 0 <= x < 256.|\n",
    "| bytes() |\tRetorna um objeto bytes, que é uma sequência imutável de inteiros no intervalo 0 <= x < 256.|\n",
    "| callable() |Retorna True se o objeto for \"chamável\", ou seja, se ele puder ser chamado como uma função.|\n",
    "| chr() |Retorna uma string representando um caractere Unicode cujo ponto de código é o inteiro passado como argumento.|\n",
    "| classmethod() |Transforma um método de uma classe em um método de classe.|\n",
    "| compile() |Compila o código-fonte em um objeto código ou retorna o código já compilado a partir de um objeto código anterior.|\n",
    "| complex() |Retorna um número complexo com o valor real + imag * 1j ou converte uma string ou número em um número complexo.|\n",
    "| delattr() |Deleta um atributo de um objeto, se possível.|\n",
    "| dict() |Retorna um dicionário (um mapeamento de chaves exclusivas para valores).|\n",
    "| dir() |Retorna uma lista de nomes de atributos e métodos válidos para o objeto fornecido.|\n",
    "| divmod() |Retorna o par (x // y, x % y).|\n",
    "| enumerate() |Retorna um objeto de enumeração, que consiste em pares (índice, valor) para cada valor em um iterável.|\n",
    "| eval() |(Perigosa!) Avalia uma string como expressão Python e retorna o resultado.|\n",
    "| exec() |Executa código Python dinamicamente.|\n",
    "| filter() |Retorna um iterador contendo os elementos do iterável para os quais a função de filtro retorna True.|\n",
    "| float() |Retorna um número de ponto flutuante construído a partir de um número ou string.|\n",
    "| format() |Formata um valor de acordo com um formato especificado em uma string de formatação.|\n",
    "| frozenset() |Retorna um novo conjunto imutável, contendo elementos únicos do iterável fornecido ou um conjunto vazio se nenhum iterável for fornecido.|\n",
    "| getattr() |Retorna o valor de um atributo de um objeto.|\n",
    "| globals() |Retorna um dicionário que representa o espaço de nomes global atual.|\n",
    "| hasattr() |Retorna True se um objeto tiver um determinado atributo.|\n",
    "| hash() |Retorna o valor hash de um objeto (um número inteiro).|\n",
    "| help() |Abre o sistema de ajuda interativo do Python.|\n",
    "| hex() |Converte um número inteiro em uma string hexadecimal.|\n",
    "| index() |Retorna o índice da primeira ocorrência.|\n",
    "| id() |Retorna o identificador único de um objeto.|\n",
    "| input() |Lê uma linha de entrada do usuário a partir do console e retorna uma string.|\n",
    "| int() | Converte um número ou string para um inteiro.|\n",
    "| isinstance() |Converte um número ou string para um inteiro.|\n",
    "| issubclass() |Verifica se uma classe é uma subclasse de outra.|\n",
    "| iter() |Retorna um iterador para um objeto.|\n",
    "| len() |Retorna o comprimento de um objeto.|\n",
    "| list() |Converte um objeto em uma lista.|\n",
    "| locals() |\tRetorna um dicionário com as variáveis locais atuais.|\n",
    "| map() |Aplica uma função a cada item de um objeto iterável.|\n",
    "| max() |\tRetorna o valor máximo de um objeto iterável ou argumentos.|\n",
    "| memoryview() |\tRetorna uma visão de memória de um objeto.|\n",
    "| min() |\tRetorna o valor mínimo de um objeto iterável ou argumentos.|\n",
    "| next() |\tRetorna o próximo item de um iterador.|\n",
    "| object() |Cria uma nova instância de objeto.|\n",
    "| oct() |Converte um inteiro em uma string octal.|\n",
    "| open() |Abre um arquivo e retorna um objeto arquivo.|\n",
    "| ord() |Retorna o valor inteiro do caractere Unicode.|\n",
    "| pow() |Retorna a potência de um número.|\n",
    "| print() |Imprime um objeto na saída padrão.|\n",
    "| property() |Cria uma propriedade para uma classe.|\n",
    "| range() |Cria uma sequência de números inteiros.|\n",
    "| repr() |Retorna a representação de string de um objeto.|\n",
    "| reversed() |Retorna uma sequência reversa de um objeto iterável.|\n",
    "| round() |Retorna um número arredondado.|\n",
    "| set() |Cria um objeto set.|\n",
    "| setattr() |Define o valor de um atributo de um objeto.|\n",
    "| slice() |Cria um objeto de fatia para acessar um subconjunto de uma sequência.|\n",
    "| sorted() |Não altera a lista original e faz a ordenação em uma nova lista.|\n",
    "| sort() |Faz a ordenação na lista original com retorno None.|\n",
    "| staticmethod() |\tTransforma um método em um método estático.|\n",
    "| str() |Converte um objeto para uma string.|\n",
    "| sum() |Retorna a soma de um objeto iterável.|\n",
    "| super() |Retorna um objeto proxy da classe pai.|\n",
    "| tuple() |Converte um objeto em uma tupla.|\n",
    "| type() |Retorna o tipo de um objeto ou cria uma nova classe.|\n",
    "| vars() |Retorna o dicionário de atributos de um objeto.|\n",
    "| zip() |Cria uma lista de tuplas, onde cada tupla contém um item de cada objeto iterável.|\n",
    "| import() |Importa um módulo.|\n"
   ]
  },
  {
   "attachments": {},
   "cell_type": "markdown",
   "metadata": {},
   "source": [
    "<p style=\" border-bottom:solid #c82f4b40 5px;\">"
   ]
  },
  {
   "attachments": {},
   "cell_type": "markdown",
   "metadata": {},
   "source": [
    "<link rel=\"stylesheet\" href=\"style.css\">\n",
    "\n",
    "##### <h5 id=\"centro\" class=\"azul-neon\" style=\"font-weight:700;\">Conversoras de tipo</h5>"
   ]
  },
  {
   "attachments": {},
   "cell_type": "markdown",
   "metadata": {},
   "source": [
    "<link rel=\"stylesheet\" href=\"../Jupyter Style/style.css\"> \n",
    "\n",
    "<p>A função <span>str()</span> converte o que tiver nela para <span class=\"green-neon\">string</span>.</p>\n",
    "<p>A função <span>int()</span> converte o que tiver nela para <span class=\"green-neon\">int</span>. O mesmo se aplica ao <span class=\"green-neon\">float()</span>.</p>"
   ]
  },
  {
   "cell_type": "code",
   "execution_count": null,
   "metadata": {},
   "outputs": [],
   "source": [
    "num1 = 1\n",
    "num2 = 2\n",
    "num1 = str(num1)\n",
    "num2 = str(num2)\n",
    "resultado = num1 + num2\n",
    "print(resultado)\n",
    "\n",
    "print(\"\\n\")\n",
    "\n",
    "num1 = int(num1)\n",
    "num2 = int(num2)\n",
    "resultado = num1+num2\n",
    "print(resultado)"
   ]
  },
  {
   "attachments": {},
   "cell_type": "markdown",
   "metadata": {},
   "source": [
    "<link rel=\"stylesheet\" href=\"../Jupyter Style/style.css\"> \n",
    "\n",
    "##### <h5>Input(), len() e contatenação<h5>"
   ]
  },
  {
   "attachments": {},
   "cell_type": "markdown",
   "metadata": {},
   "source": [
    "<link rel=\"stylesheet\" href=\"../Jupyter Style/style.css\"> \n",
    "\n",
    "<p>A função built-in <span>len()</span> aceita strings e retornará a quantidade de letras.</p>\n",
    "<br><p>A função built-in <span>input()</span> é uma função que irá sempre retornar o valor de entrada como string.</p>\n",
    "<br><p><span class=\"green-neon\">Contatenação</span> trata-se de uma junção, e no caso, é apenas possível contatenar uma string a outra (jamais outro tipo de valor). Costuma usar-se o \"+\"."
   ]
  },
  {
   "cell_type": "code",
   "execution_count": null,
   "metadata": {},
   "outputs": [],
   "source": [
    "\n",
    "#* Aplicação dos três conceitos\n",
    "\n",
    "print(\"Insira uma frase\")\n",
    "frase = input()\n",
    "\n",
    "print('A frase digitada foi: '+frase)\n",
    "\n",
    "numero_de_letras = len(frase)\n",
    "#*print('A quantidade de letras da frase é: ' + numero_de_letras) Não funcionaria pois não podemos contatenar nada que não seja string com string.\n",
    "print(\"\\nO numero de letras da frase é: \")\n",
    "print(numero_de_letras)"
   ]
  },
  {
   "cell_type": "code",
   "execution_count": null,
   "metadata": {},
   "outputs": [],
   "source": [
    "\n",
    "#* O exemplo abaixo mostra como o input() só retorna string (logo não funcionará a soma)\n",
    "\n",
    "print(\"Digite um número: \")\n",
    "num1 = input()\n",
    "print(num1)\n",
    "\n",
    "print(\"\\nDigite outro número: \")\n",
    "num2 = input()\n",
    "print(num2)\n",
    "\n",
    "print(\"\\nA soma destes valores é: \")\n",
    "resultado = num1+num2\n",
    "print(resultado)"
   ]
  },
  {
   "cell_type": "code",
   "execution_count": null,
   "metadata": {},
   "outputs": [],
   "source": [
    "\n",
    "#* Este outro exemplo mostra como a contatenação só ocorre com letras\n",
    "\n",
    "num1 = 1\n",
    "num2 = 2\n",
    "soma = num1 + num2\n",
    "print('1 + 2 = '+soma)"
   ]
  },
  {
   "attachments": {},
   "cell_type": "markdown",
   "metadata": {},
   "source": [
    "<p style=\" border-bottom:solid #c82f4b40 5px;\">"
   ]
  },
  {
   "attachments": {},
   "cell_type": "markdown",
   "metadata": {},
   "source": [
    "<link rel=\"stylesheet\" href=\"style.css\">\n",
    "\n",
    "#### <h4 id=\"centro\" class=\"azul-neon\" style=\"font-weight:700;\">Funções definida pelo usuário</h4>"
   ]
  },
  {
   "cell_type": "code",
   "execution_count": null,
   "metadata": {},
   "outputs": [
    {
     "name": "stdout",
     "output_type": "stream",
     "text": [
      "Função em Python desenvolvida na disciplina: Python, do curso: Engenharia de Software.\n"
     ]
    }
   ],
   "source": [
    "def imprimir_mensagem(disciplina, curso):\n",
    "\n",
    "    return f\"Função em Python desenvolvida na disciplina: {disciplina}, do curso: {curso}.\"\n",
    "\n",
    "\n",
    "resultado = imprimir_mensagem(\"Python\", \"Engenharia de Software\")\n",
    "print(resultado)\n"
   ]
  },
  {
   "attachments": {},
   "cell_type": "markdown",
   "metadata": {},
   "source": [
    "<p style=\" border-bottom:solid #c82f4b40 5px;\">"
   ]
  },
  {
   "attachments": {},
   "cell_type": "markdown",
   "metadata": {},
   "source": [
    "<link rel=\"stylesheet\" href=\"style.css\">\n",
    "\n",
    "#### <h4>Funções com parâmetros</h4>"
   ]
  },
  {
   "cell_type": "code",
   "execution_count": null,
   "metadata": {},
   "outputs": [],
   "source": [
    "def calcular_salario(qtd_horas, valor_hora):\n",
    "    horas = float(qtd_horas)\n",
    "    taxa = float(valor_hora)\n",
    "\n",
    "    if horas<=40:\n",
    "        salario = horas * taxa\n",
    "    else:\n",
    "        h_excd = horas - 40\n",
    "        salario = 40*taxa+(h_excd*(1.5*taxa))\n",
    "    return salario\n",
    "\n",
    "str_horas = input('Quantidade de horas trabalhadas: ')\n",
    "str_taxa = input('Digite a taxa: ')\n",
    "salario_calculado = calcular_salario(str_horas, str_taxa)\n",
    "\n",
    "print('O valor do salário é de: ', salario_calculado)"
   ]
  },
  {
   "attachments": {},
   "cell_type": "markdown",
   "metadata": {},
   "source": [
    "<link rel=\"stylesheet\" href=\"style.css\">\n",
    "\n",
    "#### <h4>Funções com parâmetros renomeados</h4>"
   ]
  },
  {
   "cell_type": "code",
   "execution_count": 1,
   "metadata": {},
   "outputs": [
    {
     "name": "stdout",
     "output_type": "stream",
     "text": [
      "24.441802087462015\n"
     ]
    }
   ],
   "source": [
    "def IMC(peso, altura):\n",
    "    print(peso/altura**2)\n",
    "\n",
    "IMC(74, 1.74)\n",
    "\n",
    "#IMC(altura=1.74, peso=74) Também funcionaria"
   ]
  },
  {
   "attachments": {},
   "cell_type": "markdown",
   "metadata": {},
   "source": [
    "<link rel=\"stylesheet\" href=\"style.css\">\n",
    "\n",
    "#### <h4 id=\"centro\" class=\"azul-neon\" style=\"font-weight:700;\">Funções com parâmetros definidos e indefinidos</h4>"
   ]
  },
  {
   "attachments": {},
   "cell_type": "markdown",
   "metadata": {},
   "source": [
    "<p style=\"text-align:center;\"><span style=\"color: #6890C3;\">Posicional</span>: Se dependerem da ordem em que forem passados para identificar.<br><span style=\"color: #6890C3;\">Nominal</span>: Se dependem do nome para identificar.<br><span style=\"color: #6890C3;\">Obrigatoriedade</span>: Se os parâmetros forem obrigatórios.<br><span style=\"color: #6890C3;\">Default</span>: Se possui um valor padrão caso nada seja passado.</p>"
   ]
  },
  {
   "attachments": {},
   "cell_type": "markdown",
   "metadata": {},
   "source": [
    "<span style=\"color: #6890C3;\">parâmetro posicional não obrigatório</span>"
   ]
  },
  {
   "cell_type": "code",
   "execution_count": null,
   "metadata": {},
   "outputs": [
    {
     "name": "stdout",
     "output_type": "stream",
     "text": [
      "\n",
      "Chamada 1\n",
      "Quantidade de parâmetros = 4\n",
      "Posição = 0, valor = São Paulo\n",
      "Posição = 1, valor = 10\n",
      "Posição = 2, valor = 23.78\n",
      "Posição = 3, valor = João\n",
      "\n",
      "Chamada 2\n",
      "Quantidade de parâmetros = 2\n",
      "Posição = 0, valor = 10\n",
      "Posição = 1, valor = São Paulo\n"
     ]
    }
   ],
   "source": [
    "def imprimir_parametros(*args):\n",
    "\n",
    "    qtde_parametros = len(args)\n",
    "\n",
    "    print(f\"Quantidade de parâmetros = {qtde_parametros}\")\n",
    "\n",
    "    for i, valor in enumerate(args):\n",
    "\n",
    "        print(f\"Posição = {i}, valor = {valor}\")\n",
    "\n",
    "\n",
    "print(\"\\nChamada 1\")\n",
    "\n",
    "imprimir_parametros(\"São Paulo\", 10, 23.78, \"João\")\n",
    "\n",
    "\n",
    "print(\"\\nChamada 2\")\n",
    "\n",
    "imprimir_parametros(10, \"São Paulo\")\n"
   ]
  },
  {
   "attachments": {},
   "cell_type": "markdown",
   "metadata": {},
   "source": [
    "<span style=\"color: #6890C3;\">parâmetro posicional obrigatório sem valor default</span>"
   ]
  },
  {
   "cell_type": "code",
   "execution_count": 41,
   "metadata": {},
   "outputs": [
    {
     "name": "stdout",
     "output_type": "stream",
     "text": [
      "2.0\n"
     ]
    }
   ],
   "source": [
    "def dividir(a, b):\n",
    "\n",
    "    return a / b\n",
    "\n",
    "\n",
    "r = dividir(4, 2)\n",
    "\n",
    "print(r)\n"
   ]
  },
  {
   "attachments": {},
   "cell_type": "markdown",
   "metadata": {},
   "source": [
    "<span style=\"color: #6890C3;\">parâmetro posicional obrigatório com valor default</span>"
   ]
  },
  {
   "cell_type": "code",
   "execution_count": null,
   "metadata": {},
   "outputs": [
    {
     "name": "stdout",
     "output_type": "stream",
     "text": [
      "2.0\n"
     ]
    }
   ],
   "source": [
    "def dividir(a=4, b=2):\n",
    "\n",
    "    return a / b\n",
    "\n",
    "\n",
    "r = dividir()  # Veja que nada foi passado\n",
    "\n",
    "print(r)\n"
   ]
  },
  {
   "attachments": {},
   "cell_type": "markdown",
   "metadata": {},
   "source": [
    "<span style=\"color: #6890C3;\">parâmetro nominal não obrigatório</span>"
   ]
  },
  {
   "cell_type": "code",
   "execution_count": 44,
   "metadata": {},
   "outputs": [
    {
     "name": "stdout",
     "output_type": "stream",
     "text": [
      "\n",
      "Chamada 1\n",
      "Tipo de objeto recebido = <class 'dict'>\n",
      "\n",
      "Quantidade de parâmetros = 3\n",
      "variável = cidade, valor = São Paulo\n",
      "variável = idade, valor = 33\n",
      "variável = nome, valor = João\n",
      "\n",
      "Chamada 2\n",
      "Tipo de objeto recebido = <class 'dict'>\n",
      "\n",
      "Quantidade de parâmetros = 2\n",
      "variável = desconto, valor = 10\n",
      "variável = valor, valor = 100\n"
     ]
    }
   ],
   "source": [
    "def imprimir_parametros(**kwargs):\n",
    "\n",
    "    print(f\"Tipo de objeto recebido = {type(kwargs)}\\n\")\n",
    "\n",
    "    qtde_parametros = len(kwargs)\n",
    "\n",
    "    print(f\"Quantidade de parâmetros = {qtde_parametros}\")\n",
    "\n",
    "    for i, valor in kwargs.items():\n",
    "\n",
    "        print(f\"variável = {i}, valor = {valor}\")\n",
    "\n",
    "\n",
    "print(\"\\nChamada 1\")\n",
    "\n",
    "imprimir_parametros(cidade=\"São Paulo\", idade=33, nome=\"João\")\n",
    "\n",
    "\n",
    "print(\"\\nChamada 2\")\n",
    "\n",
    "imprimir_parametros(desconto=10, valor=100)\n"
   ]
  },
  {
   "attachments": {},
   "cell_type": "markdown",
   "metadata": {},
   "source": [
    "<span style=\"color: #6890C3;\">parâmetro nominal obrigatório sem valor default</span>"
   ]
  },
  {
   "cell_type": "code",
   "execution_count": 42,
   "metadata": {},
   "outputs": [
    {
     "name": "stdout",
     "output_type": "stream",
     "text": [
      "JOÃO\n"
     ]
    }
   ],
   "source": [
    "def converter_maiuscula(texto, flag_maiuscula):\n",
    "\n",
    "    if flag_maiuscula:\n",
    "\n",
    "        return texto.upper()\n",
    "\n",
    "    else:\n",
    "\n",
    "        return texto.lower()\n",
    "\n",
    "\n",
    "# Passagem nominal de parâmetros\n",
    "texto = converter_maiuscula(flag_maiuscula=True, texto=\"João\")\n",
    "\n",
    "print(texto)\n"
   ]
  },
  {
   "attachments": {},
   "cell_type": "markdown",
   "metadata": {},
   "source": [
    "<span style=\"color: #6890C3;\">parâmetro nominal obrigatório com valor default</span>"
   ]
  },
  {
   "cell_type": "code",
   "execution_count": 43,
   "metadata": {},
   "outputs": [
    {
     "name": "stdout",
     "output_type": "stream",
     "text": [
      "\n",
      "Texto 1 = linguagem de programação\n",
      "\n",
      "Texto 2 = linguagem de programação\n"
     ]
    }
   ],
   "source": [
    "# O parâmetro flag_minuscula possui True como valor default\n",
    "def converter_minuscula(texto, flag_minuscula=True):\n",
    "\n",
    "    if flag_minuscula:\n",
    "\n",
    "        return texto.lower()\n",
    "\n",
    "    else:\n",
    "\n",
    "        return texto.upper()\n",
    "\n",
    "\n",
    "texto1 = converter_minuscula(\n",
    "    flag_minuscula=True, texto=\"LINGUAGEM de Programação\")\n",
    "\n",
    "texto2 = converter_minuscula(texto=\"LINGUAGEM de Programação\")\n",
    "\n",
    "\n",
    "print(f\"\\nTexto 1 = {texto1}\")\n",
    "\n",
    "print(f\"\\nTexto 2 = {texto2}\")\n"
   ]
  },
  {
   "attachments": {},
   "cell_type": "markdown",
   "metadata": {},
   "source": [
    "<p style=\" border-bottom:solid #c82f4b40 5px;\">"
   ]
  },
  {
   "attachments": {},
   "cell_type": "markdown",
   "metadata": {},
   "source": [
    "<link rel=\"stylesheet\" href=\"style.css\">\n",
    "\n",
    "#### <h4 id=\"centro\" class=\"azul-neon\" style=\"font-weight:700;\">Funções anônimas</h4>"
   ]
  },
  {
   "attachments": {},
   "cell_type": "markdown",
   "metadata": {},
   "source": [
    "<p style=\"text-align:center;\">Expressões lambda (às vezes chamadas de <span style=\"color: #6890C3;\">formas</span> lambda) são usadas para criar <span style=\"color: #6890C3;\">funções anônimas</span>. Uma função anônima é uma função que <span style=\"color: #6890C3;\">não é construída com o \"def\"</span> e, por isso, <span style=\"color: #6890C3;\">não possui nome</span>. Esse tipo de construção <span style=\"color: #6890C3;\">é útil, quando a função faz somente uma ação</span> e é <span style=\"color: #6890C3;\">usada uma única vez</span>.</p>"
   ]
  },
  {
   "cell_type": "code",
   "execution_count": 46,
   "metadata": {},
   "outputs": [
    {
     "data": {
      "text/plain": [
       "5"
      ]
     },
     "execution_count": 46,
     "metadata": {},
     "output_type": "execute_result"
    }
   ],
   "source": [
    "(lambda x, y: x + y)(x=3, y=2)\n"
   ]
  },
  {
   "attachments": {},
   "cell_type": "markdown",
   "metadata": {},
   "source": [
    "A linguagem Python, nos permite <span style=\"color: #6890C3;\">atribuir a uma variável uma função anônima</span>, dessa forma, para invocar a função, fazemos a <span style=\"color: #6890C3;\">chamada da variável</span>. Observe o código a seguir:"
   ]
  },
  {
   "cell_type": "code",
   "execution_count": 47,
   "metadata": {},
   "outputs": [
    {
     "data": {
      "text/plain": [
       "8"
      ]
     },
     "execution_count": 47,
     "metadata": {},
     "output_type": "execute_result"
    }
   ],
   "source": [
    "def somar(x, y): return x + y\n",
    "\n",
    "\n",
    "somar(x=5, y=3)\n"
   ]
  },
  {
   "attachments": {},
   "cell_type": "markdown",
   "metadata": {},
   "source": [
    "<link rel=\"stylesheet\" href=\"style.css\">\n",
    "\n",
    "#### <h4 id=\"centro\" class=\"azul-neon\" style=\"font-weight:700;\">Retornos</h4>"
   ]
  },
  {
   "attachments": {},
   "cell_type": "markdown",
   "metadata": {},
   "source": [
    "<link rel=\"stylesheet\" href=\"style.css\">\n",
    "\n",
    "#### <h4 id=\"centro\" class=\"azul-neon\" style=\"font-weight:700;\">Recursividade</h4>"
   ]
  },
  {
   "attachments": {},
   "cell_type": "markdown",
   "metadata": {},
   "source": [
    "## <p style=\"border-bottom:solid #ffffff38 5px;\">"
   ]
  },
  {
   "attachments": {},
   "cell_type": "markdown",
   "metadata": {},
   "source": [
    "<link rel=\"stylesheet\" href=\"style.css\">\n",
    "\n",
    "## <h2 id=\"centro\" class=\"branco-neon\">Estruturas de Dados em Python</h2>"
   ]
  },
  {
   "attachments": {},
   "cell_type": "markdown",
   "metadata": {},
   "source": [
    "<div class=\"animated-border\">\n",
    "    <img src=\"../../Jupyter Configs/img/Mime and Dash Ilustrations/Heads.gif\" alt=\"descrição do gif\" width=\"900\" style=\"display: block; margin-left: auto; margin-right: auto; border-radius:20px\">\n",
    "</div>"
   ]
  },
  {
   "attachments": {},
   "cell_type": "markdown",
   "metadata": {},
   "source": [
    "<p style=\"text-align:center;\">Em Python existem <span style=\"color: #6890C3;\">objetos em que podemos armazenar mais de um valor</span>, aos quais damos o nome de estrutura de dados.</p>"
   ]
  },
  {
   "attachments": {},
   "cell_type": "markdown",
   "metadata": {},
   "source": [
    "<link rel=\"stylesheet\" href=\"style.css\">\n",
    "\n",
    "### <h3 id=\"centro\" class=\"vermelho-neon\" style=\"font-weight:700\">O que são Dados?</h3>"
   ]
  },
  {
   "attachments": {},
   "cell_type": "markdown",
   "metadata": {},
   "source": [
    "<p style=\"text-align:center;\"><span style=\"color: #C82F4B;\">Dados:</span> Em programação, um dado é uma <span style=\"color: #C82F4B;\">informação</span> que pode ser armazenada e manipulada por um programa.</p>"
   ]
  },
  {
   "attachments": {},
   "cell_type": "markdown",
   "metadata": {},
   "source": [
    "<p style=\"text-align:center;\">Iniciamos este tópico ressaltando a citação:<br>\"Todos os <span style=\"color: #C82F4B;\">dados</span> em um programa Python são representados por <span style=\"color: #6890C3;\">objetos</span> ou pela <span style=\"color: #6890C3;\">relação entre objetos</span>.\" (PSF, p. 1, 2020a).<br>O que faz sentido, já que Pyton é uma linguagem orientada a objetos e nela tudo é objeto.</p>"
   ]
  },
  {
   "attachments": {},
   "cell_type": "markdown",
   "metadata": {},
   "source": [
    "#### <p style=\"border-bottom:solid #c82f4b40 5px;\">"
   ]
  },
  {
   "attachments": {},
   "cell_type": "markdown",
   "metadata": {},
   "source": [
    "<link rel=\"stylesheet\" href=\"style.css\">\n",
    "\n",
    "### <h3 id=\"centro\" class=\"vermelho-neon\" style=\"font-weight:700\">Objetos em Python e comparações a outras linguagens.</h3>"
   ]
  },
  {
   "attachments": {},
   "cell_type": "markdown",
   "metadata": {},
   "source": [
    "<p style=\"text-align:center;\">Antes de tudo, vamos ressaltar que em Python o <span style=\"color: #6890C3;\">tipo</span> do objeto determina os <span style=\"color: #6890C3;\">valores</span> que ele pode armazenar e as <span style=\"color: #6890C3;\">operações</span> que podem ser feitas com tal estrutura.<br>Agora vamos a ressalvas comparativas:</p> "
   ]
  },
  {
   "attachments": {},
   "cell_type": "markdown",
   "metadata": {},
   "source": [
    "<link rel=\"stylesheet\" href=\"style.css\">\n",
    "\n",
    "#### <h4 id=\"centro\" class=\"vermelho-neon\" style=\"font-weight:700\"><p class=\"azul-neon\">Classes</p> vs <p class=\"verde-neon\">Variáveis primitivas</p></h4>"
   ]
  },
  {
   "attachments": {},
   "cell_type": "markdown",
   "metadata": {},
   "source": [
    "<p style=\"text-align:center;\">Já conhecemos algumas <span style=\"color: #6890C3;\">classes</span> em Python, tais como o int (inteiro), o str (string), o float (ponto flutuante), tipos que nos lembram das <span style=\"color: #5AA695;\">variáveis primitivas de outras linguagens</span>, como C ou Java.<br>Um objeto pode ser <span style=\"color: #6890C3;\">mais complexo</span> que um tipo primitivo. Por exemplo, o tipo primitivo <span style=\"color: #5AA695;\">int</span>, na linguagem C, ocupa <span style=\"color: #5AA695;\">no máximo 4 bytes (32 bits)</span> e pode armazenar valores entre <span style=\"color: #5AA695;\">-2.147.483.648 e 2.147.483.647</span> . Já o objeto do tipo int, na linguagem Python, <span style=\"color: #6890C3;\">não possui um limite definido</span>, uma vez que fica <span style=\"color: #6890C3;\">limitado apenas à memória RAM</span> (random access memory) disponível no ambiente.</p>"
   ]
  },
  {
   "attachments": {},
   "cell_type": "markdown",
   "metadata": {},
   "source": [
    "<link rel=\"stylesheet\" href=\"style.css\">\n",
    "\n",
    "#### <h4 id=\"centro\" class=\"vermelho-neon\" style=\"font-weight:700\"><p class=\"azul-neon\"><p class=\"azul-neon\">Classe str</p> vs <p class=\"verde-neon\">Vetor char</p></h4>"
   ]
  },
  {
   "attachments": {},
   "cell_type": "markdown",
   "metadata": {},
   "source": [
    "<p style=\"text-align:center;\">Outro exemplo interessante é a classe (classe nada mais é que uma \"criadora\" de objetos) str (string). Em linguagem como a C, uma <span style=\"color: #5AA695;\">string é um vetor do tipo primitivo char</span>. Por sua vez, em Python, esse objeto, além de <span style=\"color: #6890C3;\">tamanho ilimitado</span>, possui <span style=\"color: #6890C3;\">vários métodos para manipulação de textos</span>, como o split(), o replace(), dentre outros.</p>"
   ]
  },
  {
   "attachments": {},
   "cell_type": "markdown",
   "metadata": {},
   "source": [
    "<link rel=\"stylesheet\" href=\"style.css\">\n",
    "\n",
    "#### <h4 id=\"centro\" class=\"vermelho-neon\" style=\"font-weight:700\"><p class=\"azul-neon\"><p class=\"azul-neon\">Estrutura de Dados</p> vs <p class=\"verde-neon\">Vetores</p></h4>"
   ]
  },
  {
   "attachments": {},
   "cell_type": "markdown",
   "metadata": {},
   "source": [
    "<p style=\"text-align:center;\">Em Python, existem várias <span style=\"color: #6890C3;\">estruturas de dados</span> que podem armazenar mais de um valor, como listas, tuplas, conjuntos e dicionários. Essas estruturas de dados são semelhantes aos <span style=\"color: #5AA695;\">vetores em C</span>, mas com algumas diferenças importantes:</p>"
   ]
  },
  {
   "attachments": {},
   "cell_type": "markdown",
   "metadata": {},
   "source": [
    "<p style=\"text-align:center;\">Uma diferença chave é que em Python, <span style=\"color: #6890C3;\">as listas podem crescer e diminuir dinamicamente</span>, enquanto em C, o <span style=\"color: #5AA695;\">tamanho de um vetor deve ser especificado no momento da declaração</span>. Além disso, em Python, as <span style=\"color: #6890C3;\">listas podem conter elementos de diferentes tipos de dados</span>, enquanto em C, um <span style=\"color: #5AA695;\">vetor deve conter elementos do mesmo tipo</span>.</p>"
   ]
  },
  {
   "attachments": {},
   "cell_type": "markdown",
   "metadata": {},
   "source": [
    "<link rel=\"stylesheet\" href=\"style.css\">\n",
    "\n",
    "### <h3 id=\"centro\" class=\"vermelho-neon\" style=\"font-weight:700\">Tipos de Estrutura de Dados</h3>"
   ]
  },
  {
   "attachments": {},
   "cell_type": "markdown",
   "metadata": {},
   "source": [
    "<p style=\"text-align:center;\"><span style=\"color: #6890C3;\">Cada objeto</span> é capaz de armazenar <span style=\"color: #6890C3;\">um tipo</span> de estrutura de dados. Separamos, então, em <span style=\"color: #6890C3;\">grupos</span>:</p>"
   ]
  },
  {
   "attachments": {},
   "cell_type": "markdown",
   "metadata": {},
   "source": [
    "<link rel=\"stylesheet\" href=\"style.css\">\n",
    "\n",
    "#### <h4 id=\"centro\" class=\"azul-neon\" style=\"font-weight:700\">Tipo sequência</h4>"
   ]
  },
  {
   "attachments": {},
   "cell_type": "markdown",
   "metadata": {},
   "source": [
    "<p style=\"text-align:center;\">Os objetos do tipo sequência são estruturas de dados <span style=\"color: #6890C3;\">capazes de armazenar mais de um valor</span>.<br>Essas estruturas de dados <span style=\"color: #6890C3;\">representam sequências finitas</span> indexadas por números não negativos.<br>O primeiro elemento de uma sequência ocupa o <span style=\"color: #6890C3;\">índice 0</span>; o segundo, 1; o último elemento, a posição n - 1, em que <span style=\"color: #6890C3;\">n é capacidade de armazenamento da sequência</span>.</p>"
   ]
  },
  {
   "attachments": {},
   "cell_type": "markdown",
   "metadata": {},
   "source": [
    "<link rel=\"stylesheet\" href=\"style.css\">\n",
    "\n",
    "##### <h5 id=\"centro\" class=\"verde-neon\" style=\"font-weight:700\">Operações em comum</h5>"
   ]
  },
  {
   "attachments": {},
   "cell_type": "markdown",
   "metadata": {},
   "source": [
    "<p style=\"text-align:center;\">As estruturas de dados desse grupo possuem algumas operações em comum:</p>"
   ]
  },
  {
   "attachments": {},
   "cell_type": "markdown",
   "metadata": {},
   "source": [
    "###### <p><span style=\"color: #6890C3; font-size:25px;\">x in s</p>"
   ]
  },
  {
   "attachments": {},
   "cell_type": "markdown",
   "metadata": {},
   "source": [
    "<p>Usada para verificar se um determinado elemento 'x' <span style=\"color: #6890C3;\">é igual a algum outro em uma sequência</span> 's', retornando <span style=\"color: #6890C3;\">True ou False</span>.</p>"
   ]
  },
  {
   "cell_type": "code",
   "execution_count": null,
   "metadata": {},
   "outputs": [
    {
     "name": "stdout",
     "output_type": "stream",
     "text": [
      "O quinto elemento, que tem índice quatro, é o 6\n",
      "O elemento 6 está presente na lista\n"
     ]
    }
   ],
   "source": [
    "s = [1, 2, 3, 4, 5+1]  # originalmente não tinha 6\n",
    "# lembre que começa em 0\n",
    "print(f\"O quinto elemento, que tem índice quatro, é o {s[4]}\")\n",
    "x = 6\n",
    "if x in s:\n",
    "    print(\"O elemento\", x, \"está presente na lista\")\n",
    "else:\n",
    "    print(\"O elemento\", x, \"não está presente na lista\")\n"
   ]
  },
  {
   "attachments": {},
   "cell_type": "markdown",
   "metadata": {},
   "source": [
    "Veja que dizer \"ele verifica se x está em s\" <span style=\"color: #6890C3;\">é errôneo</span>, pois se fosse assim, o caso acima diria que não está presente."
   ]
  },
  {
   "attachments": {},
   "cell_type": "markdown",
   "metadata": {},
   "source": [
    "###### <p><span style=\"color: #6890C3; font-size:25px;\">s + t</p>"
   ]
  },
  {
   "attachments": {},
   "cell_type": "markdown",
   "metadata": {},
   "source": [
    "Contatena duas sequências."
   ]
  },
  {
   "cell_type": "code",
   "execution_count": null,
   "metadata": {},
   "outputs": [
    {
     "name": "stdout",
     "output_type": "stream",
     "text": [
      "[1, 2, 3, 4, 5, 6]\n",
      "Saudações, Rea!\n"
     ]
    }
   ],
   "source": [
    "s = [1, 2, 3]\n",
    "t = [4, 5, 6]\n",
    "r = s + t\n",
    "print(r)\n",
    "\n",
    "a = \"Saudações, \"\n",
    "b = \"Rea!\"\n",
    "c = a + b\n",
    "print(c)\n"
   ]
  },
  {
   "attachments": {},
   "cell_type": "markdown",
   "metadata": {},
   "source": [
    "###### <p><span style=\"color: #6890C3; font-size:25px;\">n * s</p>"
   ]
  },
  {
   "attachments": {},
   "cell_type": "markdown",
   "metadata": {},
   "source": [
    "Usada para criar uma nova sequência que consiste em 'n' cópias da sequência 's'."
   ]
  },
  {
   "cell_type": "code",
   "execution_count": null,
   "metadata": {},
   "outputs": [
    {
     "name": "stdout",
     "output_type": "stream",
     "text": [
      "Python Python \n",
      "[1, 2, 3, 1, 2, 3]\n"
     ]
    }
   ],
   "source": [
    "s = \"Python \"\n",
    "t = 2 * s\n",
    "print(t)\n",
    "\n",
    "a = [1, 2, 3]\n",
    "b = 2 * a\n",
    "print(b)\n"
   ]
  },
  {
   "attachments": {},
   "cell_type": "markdown",
   "metadata": {},
   "source": [
    "###### <p><span style=\"color: #6890C3; font-size:25px;\">s[i]</p>"
   ]
  },
  {
   "attachments": {},
   "cell_type": "markdown",
   "metadata": {},
   "source": [
    "Acessa o valor guardado na posição de índice <span style=\"color: #6890C3;\">i</span> na sequência."
   ]
  },
  {
   "cell_type": "code",
   "execution_count": null,
   "metadata": {},
   "outputs": [
    {
     "data": {
      "text/plain": [
       "3"
      ]
     },
     "execution_count": 25,
     "metadata": {},
     "output_type": "execute_result"
    }
   ],
   "source": [
    "s = [1, 2, 3, 4]\n",
    "s[2]  # lembre que começa com 0\n"
   ]
  },
  {
   "attachments": {},
   "cell_type": "markdown",
   "metadata": {},
   "source": [
    "###### <p><span style=\"color: #6890C3; font-size:25px;\">s[i:j]</p>"
   ]
  },
  {
   "attachments": {},
   "cell_type": "markdown",
   "metadata": {},
   "source": [
    "Acessa os valores da posição de índice <span style=\"color: #6890C3;\">i</span> até os de índice <span style=\"color: #6890C3;\">j</span>, sem incluir j."
   ]
  },
  {
   "cell_type": "code",
   "execution_count": null,
   "metadata": {},
   "outputs": [
    {
     "data": {
      "text/plain": [
       "[1, 2, 3]"
      ]
     },
     "execution_count": 27,
     "metadata": {},
     "output_type": "execute_result"
    }
   ],
   "source": [
    "s = [1, 2, 3, 4, 5]\n",
    "s[0:3]  # intervalo aberto em 3\n"
   ]
  },
  {
   "attachments": {},
   "cell_type": "markdown",
   "metadata": {},
   "source": [
    "###### <p><span style=\"color: #6890C3; font-size:25px;\">s[i:j:k]</p>"
   ]
  },
  {
   "attachments": {},
   "cell_type": "markdown",
   "metadata": {},
   "source": [
    "Acessa os valores da posição de índice <span style=\"color: #6890C3;\">i</span> até os de índice <span style=\"color: #6890C3;\">j</span> (sem incluir j), com passo <span style=\"color: #6890C3;\">k</span> (o último passo é inclusivo)."
   ]
  },
  {
   "cell_type": "code",
   "execution_count": null,
   "metadata": {},
   "outputs": [
    {
     "data": {
      "text/plain": [
       "[1, 4, 7, 10]"
      ]
     },
     "execution_count": 29,
     "metadata": {},
     "output_type": "execute_result"
    }
   ],
   "source": [
    "s = [1, 2, 3, 4, 5, 6, 7, 8, 9, 10]\n",
    "s[0:10:3]  # intervalo aberto em 10\n"
   ]
  },
  {
   "attachments": {},
   "cell_type": "markdown",
   "metadata": {},
   "source": []
  },
  {
   "attachments": {},
   "cell_type": "markdown",
   "metadata": {},
   "source": [
    "###### <p><span style=\"color: #6890C3; font-size:25px;\">len(s)</p>"
   ]
  },
  {
   "attachments": {},
   "cell_type": "markdown",
   "metadata": {},
   "source": [
    "Comprimento de <span style=\"color: #6890C3;\">s</span>."
   ]
  },
  {
   "cell_type": "code",
   "execution_count": null,
   "metadata": {},
   "outputs": [
    {
     "name": "stdout",
     "output_type": "stream",
     "text": [
      "5\n"
     ]
    },
    {
     "data": {
      "text/plain": [
       "3"
      ]
     },
     "execution_count": 32,
     "metadata": {},
     "output_type": "execute_result"
    }
   ],
   "source": [
    "s = [1, 2, 3, 4, 5]\n",
    "print(len(s))\n",
    "\n",
    "r = \"Rea\"\n",
    "len(r)\n"
   ]
  },
  {
   "attachments": {},
   "cell_type": "markdown",
   "metadata": {},
   "source": [
    "###### <p><span style=\"color: #6890C3; font-size:25px;\">min(s)</p>"
   ]
  },
  {
   "attachments": {},
   "cell_type": "markdown",
   "metadata": {},
   "source": [
    "Menor valor de <span style=\"color: #6890C3;\">s</span>."
   ]
  },
  {
   "cell_type": "code",
   "execution_count": null,
   "metadata": {},
   "outputs": [
    {
     "name": "stdout",
     "output_type": "stream",
     "text": [
      "1\n"
     ]
    },
    {
     "data": {
      "text/plain": [
       "'a'"
      ]
     },
     "execution_count": 36,
     "metadata": {},
     "output_type": "execute_result"
    }
   ],
   "source": [
    "s = [1, 2, 3, 4, 5]\n",
    "print(min(s))\n",
    "\n",
    "r = \"rea\"\n",
    "min(r)\n"
   ]
  },
  {
   "attachments": {},
   "cell_type": "markdown",
   "metadata": {},
   "source": [
    "###### <p><span style=\"color: #6890C3; font-size:25px;\">max(s)</p>"
   ]
  },
  {
   "attachments": {},
   "cell_type": "markdown",
   "metadata": {},
   "source": [
    "Maior valor de <span style=\"color: #6890C3;\">s</span>."
   ]
  },
  {
   "cell_type": "code",
   "execution_count": null,
   "metadata": {},
   "outputs": [
    {
     "name": "stdout",
     "output_type": "stream",
     "text": [
      "5\n"
     ]
    },
    {
     "data": {
      "text/plain": [
       "'r'"
      ]
     },
     "execution_count": 37,
     "metadata": {},
     "output_type": "execute_result"
    }
   ],
   "source": [
    "s = [1, 2, 3, 4, 5]\n",
    "print(max(s))\n",
    "\n",
    "r = \"rea\"\n",
    "max(r)\n"
   ]
  },
  {
   "attachments": {},
   "cell_type": "markdown",
   "metadata": {},
   "source": [
    "###### <p><span style=\"color: #6890C3; font-size:25px;\">s.count(x)</p>"
   ]
  },
  {
   "attachments": {},
   "cell_type": "markdown",
   "metadata": {},
   "source": [
    "Número total de ocorrências de <span style=\"color: #6890C3;\">x</span> ter alguém igual em <span style=\"color: #6890C3;\">s</span>."
   ]
  },
  {
   "cell_type": "code",
   "execution_count": null,
   "metadata": {},
   "outputs": [
    {
     "name": "stdout",
     "output_type": "stream",
     "text": [
      "O quinto elemento, que tem índice quatro, é o 6\n"
     ]
    },
    {
     "data": {
      "text/plain": [
       "3"
      ]
     },
     "execution_count": 38,
     "metadata": {},
     "output_type": "execute_result"
    }
   ],
   "source": [
    "s = [1, 2, 3+3, 4+2, 5+1]  # originalmente não tinha 6\n",
    "# lembre que começa em 0\n",
    "print(f\"O quinto elemento, que tem índice quatro, é o {s[4]}\")\n",
    "x = 6\n",
    "s.count(x)\n"
   ]
  },
  {
   "attachments": {},
   "cell_type": "markdown",
   "metadata": {},
   "source": [
    "<p style=\" border-bottom:solid #c82f4b40 5px;\">"
   ]
  },
  {
   "attachments": {},
   "cell_type": "markdown",
   "metadata": {},
   "source": [
    "<link rel=\"stylesheet\" href=\"style.css\">\n",
    "\n",
    "##### <h5 id=\"centro\" class=\"verde-neon\" style=\"font-weight:700\">Texto</h5>"
   ]
  },
  {
   "attachments": {},
   "cell_type": "markdown",
   "metadata": {},
   "source": [
    "<p style=\"text-align:center;\">Um texto é um <span style=\"color: #6890C3;\">objeto da classe str</span> (strings). São objetos imutáveis, <span style=\"color: #6890C3;\">não é possível atribuir um novo valor a uma posição específica</span>.<br>Eis algumas funções para este objeto:</p>"
   ]
  },
  {
   "attachments": {},
   "cell_type": "markdown",
   "metadata": {},
   "source": [
    "###### <p><span style=\"color: #6890C3; font-size:25px;\">lower()</p>"
   ]
  },
  {
   "attachments": {},
   "cell_type": "markdown",
   "metadata": {},
   "source": [
    "Passa o que tiver em maiúsculo para minúsculo."
   ]
  },
  {
   "cell_type": "code",
   "execution_count": null,
   "metadata": {},
   "outputs": [
    {
     "name": "stdout",
     "output_type": "stream",
     "text": [
      "rea\n"
     ]
    }
   ],
   "source": [
    "texto = \"REA\"\n",
    "print(texto.lower())\n"
   ]
  },
  {
   "attachments": {},
   "cell_type": "markdown",
   "metadata": {},
   "source": [
    "###### <p><span style=\"color: #6890C3; font-size:25px;\">upper()</p>"
   ]
  },
  {
   "attachments": {},
   "cell_type": "markdown",
   "metadata": {},
   "source": [
    "Passa o que tiver em minúsculo para maiúsculo."
   ]
  },
  {
   "cell_type": "code",
   "execution_count": null,
   "metadata": {},
   "outputs": [
    {
     "name": "stdout",
     "output_type": "stream",
     "text": [
      "REA\n"
     ]
    }
   ],
   "source": [
    "texto = \"rea\"\n",
    "print(texto.upper())\n"
   ]
  },
  {
   "attachments": {},
   "cell_type": "markdown",
   "metadata": {},
   "source": [
    "###### <p><span style=\"color: #6890C3; font-size:25px;\">replace()</p>"
   ]
  },
  {
   "attachments": {},
   "cell_type": "markdown",
   "metadata": {},
   "source": [
    "Substitui um caractere por outro."
   ]
  },
  {
   "cell_type": "code",
   "execution_count": null,
   "metadata": {},
   "outputs": [
    {
     "name": "stdout",
     "output_type": "stream",
     "text": [
      "Goroto\n"
     ]
    }
   ],
   "source": [
    "texto = \"Garota\"\n",
    "print(texto.replace(\"a\", 'o'))\n"
   ]
  },
  {
   "attachments": {},
   "cell_type": "markdown",
   "metadata": {},
   "source": [
    "###### <p><span style=\"color: #6890C3; font-size:25px;\">split()</p>"
   ]
  },
  {
   "attachments": {},
   "cell_type": "markdown",
   "metadata": {},
   "source": [
    "Usada para <span style=\"color: #6890C3;\">\"cortar\"</span> um texto e <span style=\"color: #6890C3;\">transformá-lo em uma lista</span>.<br>Essa função pode ser usada sem <span style=\"color: #6890C3;\">nenhum parâmetro</span>, nesse caso, a string será cortada a cada <span style=\"color: #6890C3;\">espaço em branco</span> que for encontrado.<br>Caso seja <span style=\"color: #6890C3;\">passado um parâmetro</span>, então o corte será <span style=\"color: #6890C3;\">feito no parâmetro</span> especificado."
   ]
  },
  {
   "cell_type": "code",
   "execution_count": null,
   "metadata": {},
   "outputs": [
    {
     "name": "stdout",
     "output_type": "stream",
     "text": [
      "texto = Aprendendo Python, na disciplina de linguagem de programação.\n",
      "Tamanho do texto = 61\n",
      "\n",
      "palavras = ['Aprendendo', 'Python,', 'na', 'disciplina', 'de', 'linguagem', 'de', 'programação.']\n",
      "Tamanho de palavras = 8\n",
      "\n",
      "partes = ['Aprendendo Python', ' na disciplina de linguagem de programação.']\n",
      "Tamanho das partes = 2\n"
     ]
    }
   ],
   "source": [
    "texto = \"Aprendendo Python, na disciplina de linguagem de programação.\"\n",
    "\n",
    "print(f\"texto = {texto}\")\n",
    "\n",
    "print(f\"Tamanho do texto = {len(texto)}\\n\")\n",
    "\n",
    "\n",
    "palavras = texto.split()\n",
    "\n",
    "print(f\"palavras = {palavras}\")\n",
    "\n",
    "print(f\"Tamanho de palavras = {len(palavras)}\\n\")\n",
    "\n",
    "\n",
    "# Aposto, em português, é a parte que explica um termo imediatamente citado.\n",
    "aposto = texto.split(\",\")\n",
    "\n",
    "print(f\"partes = {aposto}\")\n",
    "\n",
    "print(f\"Tamanho das partes = {len(aposto)}\")\n"
   ]
  },
  {
   "attachments": {},
   "cell_type": "markdown",
   "metadata": {},
   "source": [
    "<p style=\" border-bottom:solid #c82f4b40 5px;\">"
   ]
  },
  {
   "attachments": {},
   "cell_type": "markdown",
   "metadata": {},
   "source": [
    "<link rel=\"stylesheet\" href=\"style.css\">\n",
    "\n",
    "##### <h5 id=\"centro\" class=\"verde-neon\" style=\"font-weight:700\">Listas</h5>"
   ]
  },
  {
   "attachments": {},
   "cell_type": "markdown",
   "metadata": {},
   "source": [
    "<p style=\"text-align:center;\">Lista é uma estrutura de dados do tipo <span style=\"color: #6890C3;\">sequencial</span> que possui como principal característica ser <span style=\"color: #6890C3;\">mutável</span>.<br><span style=\"color: #6890C3;\">Pode abrigar dentro dela valores de tipos diferentes entre si ao mesmo tempo</span>.<br>Pode abrigar até mesmo uma lista dentro dela (<span style=\"color: #6890C3;\">lista dentro de lista</span>).</p>"
   ]
  },
  {
   "attachments": {},
   "cell_type": "markdown",
   "metadata": {},
   "source": [
    "###### <h6 style=\"text-align: center; color: #C82F4B; font-weight: 700; font-size:15px;\">Overview prática inicial</span></h6>"
   ]
  },
  {
   "cell_type": "code",
   "execution_count": 2,
   "metadata": {},
   "outputs": [
    {
     "name": "stdout",
     "output_type": "stream",
     "text": [
      "[]\n",
      "[1, 2, 3]\n",
      "[1, 'dog', 'dog', 3, 4, 5]\n",
      "['animais', 123, [1, 'dog', 'dog', 3, 4, 5]]\n",
      "['água', 'coca']\n",
      "['coca', 'suco', 'nave', 'olho']\n",
      "['água', 'coca', 'suco']\n",
      "['água', 'coca', 'suco']\n",
      "\n",
      "3\n",
      "3\n",
      "4\n"
     ]
    }
   ],
   "source": [
    "#? Tipos de lista e funcionamento\n",
    "lista=[] #lista vazia\n",
    "print(lista)\n",
    "\n",
    "lista2=[1, 2, 3]\n",
    "print(lista2)\n",
    "\n",
    "lista3=[1, \"dog\", 'dog', 3, 4, 5]\n",
    "print(lista3)\n",
    "\n",
    "lista4=['animais', 123, lista3]\n",
    "print(lista4)\n",
    "\n",
    "listaA=[\"água\", \"coca\", \"suco\", \"nave\", \"olho\"]\n",
    "print(listaA[0:2]) #Esta técnica é chamada de slice.\n",
    "print(listaA[1:]) \n",
    "print(listaA[:3]) \n",
    "print(listaA[:-2]) \n",
    "\n",
    "print(\"\")\n",
    "\n",
    "#? Acessando Elementos Individuais\n",
    "lista5=[1, 2, 3, 4]\n",
    "print(lista5[2])\n",
    "print(lista5[-2])\n",
    "\n",
    "lista6=[lista5, 5, 6, 7, 8]\n",
    "print(lista6[0][3]) #lista6⊃lista5/estamos acessando elementos da lista5 através da lista6"
   ]
  },
  {
   "cell_type": "code",
   "execution_count": 3,
   "metadata": {},
   "outputs": [
    {
     "name": "stdout",
     "output_type": "stream",
     "text": [
      "0\n",
      "3\n",
      "3\n"
     ]
    }
   ],
   "source": [
    "#? Tamanho de listas\n",
    "lista=[] \n",
    "print(len(lista))\n",
    "\n",
    "lista2=[1, 2, 3]\n",
    "print(len(lista2))\n",
    "\n",
    "lista3=[lista2, 4, 5] #Mostrando que aqui, lista2 é um elemento.\n",
    "print(len(lista3))"
   ]
  },
  {
   "cell_type": "code",
   "execution_count": 4,
   "metadata": {},
   "outputs": [
    {
     "name": "stdout",
     "output_type": "stream",
     "text": [
      "[0, 1, 2]\n",
      "[0, 'Teste', 2]\n"
     ]
    }
   ],
   "source": [
    "#? Alterando valores\n",
    "lista=[0, 1, 2] \n",
    "\n",
    "print(lista)\n",
    "lista[1]=\"Teste\"\n",
    "print(lista)"
   ]
  },
  {
   "cell_type": "code",
   "execution_count": 6,
   "metadata": {},
   "outputs": [
    {
     "name": "stdout",
     "output_type": "stream",
     "text": [
      "['jose', 'luiz', 'fernando', 'bonefacio', 'antonio', 'dias']\n",
      "['jose', 'luiz', 'fernando', 'jose', 'luiz', 'fernando']\n"
     ]
    }
   ],
   "source": [
    "#? Operando com listas\n",
    "lista1=['jose', 'luiz', 'fernando']\n",
    "lista2=['bonefacio', 'antonio', 'dias']\n",
    "\n",
    "lista3=lista1+lista2;\n",
    "print(lista3)\n",
    "\n",
    "lista4=lista1*2\n",
    "print(lista4)\n",
    "\n"
   ]
  },
  {
   "attachments": {},
   "cell_type": "markdown",
   "metadata": {},
   "source": [
    "###### <h6 style=\"text-align: center; color: #C82F4B; font-weight: 700; font-size:15px;\">List Comprehension</span></h6>"
   ]
  },
  {
   "attachments": {},
   "cell_type": "markdown",
   "metadata": {},
   "source": [
    "<p style=\"text-align:center;\">Uma construção sintática para <span style=\"color:#6990C3;\">criação de uma lista baseada em listas existente</span>."
   ]
  },
  {
   "cell_type": "code",
   "execution_count": 14,
   "metadata": {},
   "outputs": [
    {
     "name": "stdout",
     "output_type": "stream",
     "text": [
      "[0, 4, 8, 12, 16]\n"
     ]
    }
   ],
   "source": [
    "S = [x*2 for x in range(0, 10) if x % 2 == 0]\n",
    "print(S)\n"
   ]
  },
  {
   "attachments": {},
   "cell_type": "markdown",
   "metadata": {},
   "source": [
    "###### <h6 style=\"text-align: center; color: #C82F4B; font-weight: 700; font-size:15px;\">Operações</span></h6>"
   ]
  },
  {
   "attachments": {},
   "cell_type": "markdown",
   "metadata": {},
   "source": [
    "<span style=\"color:#6990C3;\">append()</span>"
   ]
  },
  {
   "attachments": {},
   "cell_type": "markdown",
   "metadata": {},
   "source": [
    "Adiciona um elemento no final da lista"
   ]
  },
  {
   "cell_type": "code",
   "execution_count": 7,
   "metadata": {},
   "outputs": [
    {
     "name": "stdout",
     "output_type": "stream",
     "text": [
      "[1, 2]\n",
      "[1, 2, 3]\n"
     ]
    }
   ],
   "source": [
    "lista = [1, 2]\n",
    "print(lista)\n",
    "lista.append(3)\n",
    "print(lista)\n"
   ]
  },
  {
   "attachments": {},
   "cell_type": "markdown",
   "metadata": {},
   "source": [
    "<span style=\"color:#6990C3;\">insert(x, y)"
   ]
  },
  {
   "attachments": {},
   "cell_type": "markdown",
   "metadata": {},
   "source": [
    "Adiciona o elemento y na posição x"
   ]
  },
  {
   "cell_type": "code",
   "execution_count": 8,
   "metadata": {},
   "outputs": [
    {
     "name": "stdout",
     "output_type": "stream",
     "text": [
      "[1, 2, 3]\n",
      "[0, 1, 2, 3]\n"
     ]
    }
   ],
   "source": [
    "lista = [1, 2, 3]\n",
    "print(lista)\n",
    "lista.insert(0, 0)\n",
    "print(lista)\n"
   ]
  },
  {
   "attachments": {},
   "cell_type": "markdown",
   "metadata": {},
   "source": [
    "<span style=\"color:#6990C3;\">del</span>"
   ]
  },
  {
   "attachments": {},
   "cell_type": "markdown",
   "metadata": {},
   "source": [
    "Remove y da lista"
   ]
  },
  {
   "cell_type": "code",
   "execution_count": 8,
   "metadata": {},
   "outputs": [
    {
     "name": "stdout",
     "output_type": "stream",
     "text": [
      "[0, 1, 2, 3]\n",
      "[0, 2, 3]\n"
     ]
    }
   ],
   "source": [
    "lista = [0, 1, 2, 3]\n",
    "print(lista)\n",
    "del lista[1]\n",
    "print(lista)\n"
   ]
  },
  {
   "attachments": {},
   "cell_type": "markdown",
   "metadata": {},
   "source": [
    "<span style=\"color:#6990C3;\">remove(y)</span>"
   ]
  },
  {
   "attachments": {},
   "cell_type": "markdown",
   "metadata": {},
   "source": [
    "Remove y da lista"
   ]
  },
  {
   "cell_type": "code",
   "execution_count": 9,
   "metadata": {},
   "outputs": [
    {
     "name": "stdout",
     "output_type": "stream",
     "text": [
      "[0, 1, 2, 3]\n",
      "[1, 2, 3]\n"
     ]
    }
   ],
   "source": [
    "lista = [0, 1, 2, 3]\n",
    "print(lista)\n",
    "lista.remove(0)\n",
    "print(lista)\n"
   ]
  },
  {
   "attachments": {},
   "cell_type": "markdown",
   "metadata": {},
   "source": [
    "<span style=\"color:#6990C3;\">sort()"
   ]
  },
  {
   "attachments": {},
   "cell_type": "markdown",
   "metadata": {},
   "source": [
    "Ordena por valor"
   ]
  },
  {
   "cell_type": "code",
   "execution_count": 10,
   "metadata": {},
   "outputs": [
    {
     "name": "stdout",
     "output_type": "stream",
     "text": [
      "[3, 1, 2]\n",
      "[1, 2, 3]\n"
     ]
    }
   ],
   "source": [
    "lista = [3, 1, 2]\n",
    "print(lista)\n",
    "lista.sort()\n",
    "print(lista)\n"
   ]
  },
  {
   "attachments": {},
   "cell_type": "markdown",
   "metadata": {},
   "source": [
    "<span style=\"color:#6990C3;\">extend(lista)"
   ]
  },
  {
   "attachments": {},
   "cell_type": "markdown",
   "metadata": {},
   "source": [
    "Concatena com outras listas"
   ]
  },
  {
   "cell_type": "code",
   "execution_count": 11,
   "metadata": {},
   "outputs": [
    {
     "name": "stdout",
     "output_type": "stream",
     "text": [
      "['a', 'e', 'i', 'o', 'u']\n",
      "['x', 'z']\n",
      "['a', 'e', 'i', 'o', 'u', 'x', 'z']\n"
     ]
    }
   ],
   "source": [
    "vogais = ['a', 'e', 'i', 'o', 'u']\n",
    "consoantes_estrangeiras = ['x', 'z']\n",
    "print(vogais)\n",
    "print(consoantes_estrangeiras)\n",
    "vogais.extend(consoantes_estrangeiras)\n",
    "print(vogais)\n"
   ]
  },
  {
   "attachments": {},
   "cell_type": "markdown",
   "metadata": {},
   "source": [
    "<span style=\"color:#6990C3;\">index()"
   ]
  },
  {
   "attachments": {},
   "cell_type": "markdown",
   "metadata": {},
   "source": [
    "Descobre a posição do elemento"
   ]
  },
  {
   "cell_type": "code",
   "execution_count": 12,
   "metadata": {},
   "outputs": [
    {
     "data": {
      "text/plain": [
       "0"
      ]
     },
     "execution_count": 12,
     "metadata": {},
     "output_type": "execute_result"
    }
   ],
   "source": [
    "lista = [1, 2, 3]\n",
    "lista.index(1)\n"
   ]
  },
  {
   "attachments": {},
   "cell_type": "markdown",
   "metadata": {},
   "source": [
    "<span style=\"color:#6990C3;\">clear()"
   ]
  },
  {
   "attachments": {},
   "cell_type": "markdown",
   "metadata": {},
   "source": [
    "Apaga todos os elementos da lista"
   ]
  },
  {
   "cell_type": "code",
   "execution_count": 13,
   "metadata": {},
   "outputs": [
    {
     "name": "stdout",
     "output_type": "stream",
     "text": [
      "[1, 2, 3]\n",
      "[]\n"
     ]
    }
   ],
   "source": [
    "lista = [1, 2, 3]\n",
    "print(lista)\n",
    "lista.clear()\n",
    "print(lista)\n"
   ]
  },
  {
   "attachments": {},
   "cell_type": "markdown",
   "metadata": {},
   "source": [
    "<span style=\"color:#6990C3;\">In"
   ]
  },
  {
   "attachments": {},
   "cell_type": "markdown",
   "metadata": {},
   "source": [
    "Retorna em booleano se o elemento existe na lista."
   ]
  },
  {
   "cell_type": "code",
   "execution_count": 9,
   "metadata": {},
   "outputs": [
    {
     "name": "stdout",
     "output_type": "stream",
     "text": [
      "True\n"
     ]
    }
   ],
   "source": [
    "lista=['A', 'B', 'C']\n",
    "print('A' in lista)"
   ]
  },
  {
   "attachments": {},
   "cell_type": "markdown",
   "metadata": {},
   "source": [
    "<span style=\"color:#6990C3;\">Sum"
   ]
  },
  {
   "attachments": {},
   "cell_type": "markdown",
   "metadata": {},
   "source": [
    "Retorna o somatório dos elementos da lista"
   ]
  },
  {
   "cell_type": "code",
   "execution_count": 10,
   "metadata": {},
   "outputs": [
    {
     "name": "stdout",
     "output_type": "stream",
     "text": [
      "6\n"
     ]
    }
   ],
   "source": [
    "lista = [1, 2, 3]\n",
    "print(sum(lista))\n"
   ]
  },
  {
   "attachments": {},
   "cell_type": "markdown",
   "metadata": {},
   "source": [
    "###### <h6 style=\"text-align: center; color: #C82F4B; font-weight: 700; font-size:15px;\">Construção</span></h6>"
   ]
  },
  {
   "attachments": {},
   "cell_type": "markdown",
   "metadata": {},
   "source": [
    "<p style=\"text-align:center;\">Em Python, as listas podem ser construídas de várias maneiras:</p>"
   ]
  },
  {
   "attachments": {},
   "cell_type": "markdown",
   "metadata": {},
   "source": [
    "<span style=\"color: #6890C3;\">Lista vazia</span>:"
   ]
  },
  {
   "cell_type": "code",
   "execution_count": null,
   "metadata": {},
   "outputs": [],
   "source": [
    "lista = []\n"
   ]
  },
  {
   "attachments": {},
   "cell_type": "markdown",
   "metadata": {},
   "source": [
    "<span style=\"color: #6890C3;\">Elementos separados por vírgula</span>:"
   ]
  },
  {
   "cell_type": "code",
   "execution_count": null,
   "metadata": {},
   "outputs": [],
   "source": [
    "lista = ['a', 'b', 'c']\n"
   ]
  },
  {
   "attachments": {},
   "cell_type": "markdown",
   "metadata": {},
   "source": [
    "<span style=\"color: #6890C3;\">List comprehension</span>:"
   ]
  },
  {
   "attachments": {},
   "cell_type": "markdown",
   "metadata": {},
   "source": [
    "Forma pythônica de criar uma lista com base em um <span style=\"color: #6890C3;\">objeto iterável</span>. Esse tipo de técnica é utilizada quando, dada uma sequência, deseja-se criar uma nova sequência, porém com as informações originais transformadas ou filtradas por um critério."
   ]
  },
  {
   "cell_type": "code",
   "execution_count": null,
   "metadata": {},
   "outputs": [],
   "source": [
    "numeros = [1, 2, 3, 4, 5]\n",
    "quadrados = [x ** 2 for x in numeros]\n",
    "print(quadrados)\n"
   ]
  },
  {
   "cell_type": "code",
   "execution_count": null,
   "metadata": {},
   "outputs": [],
   "source": [
    "linguagens = [\"Python\", \"Java\", \"JavaScript\",\n",
    "              \"C\", \"C#\", \"C++\", \"Swift\", \"Go\", \"Kotlin\"]\n",
    "\n",
    "# linguagens = '''Python Java JavaScript C C# C++ Swift Go Kotlin'''.split() # Essa sintaxe produz o mesmo resultado que a linha 1\n",
    "\n",
    "\n",
    "print(\"Antes da listcomp = \", linguagens)\n",
    "\n",
    "\n",
    "linguagens = [item.lower() for item in linguagens]\n",
    "\n",
    "\n",
    "print(\"\\nDepois da listcomp = \", linguagens)\n"
   ]
  },
  {
   "cell_type": "code",
   "execution_count": null,
   "metadata": {},
   "outputs": [],
   "source": [
    "linguagens = '''Python Java JavaScript C C# C++ Swift Go Kotlin'''.split()\n",
    "\n",
    "print(\"Antes da listcomp = \", linguagens)\n",
    "\n",
    "\n",
    "for i, item in enumerate(linguagens):\n",
    "\n",
    "    linguagens[i] = item.lower()\n",
    "\n",
    "\n",
    "print(\"\\nDepois da listcomp = \", linguagens)\n"
   ]
  },
  {
   "attachments": {},
   "cell_type": "markdown",
   "metadata": {},
   "source": [
    "Podemos também fazer com que só o que tenha <span style=\"color: #6890C3;\">\"Java\"</span> no texto seja exibido."
   ]
  },
  {
   "cell_type": "code",
   "execution_count": null,
   "metadata": {},
   "outputs": [
    {
     "name": "stdout",
     "output_type": "stream",
     "text": [
      "['Java', 'JavaScript']\n"
     ]
    }
   ],
   "source": [
    "linguagens = '''Python Java JavaScript C C# C++ Swift Go Kotlin'''.split()\n",
    "\n",
    "\n",
    "linguagens_java = [item for item in linguagens if \"Java\" in item]\n",
    "\n",
    "\n",
    "print(linguagens_java)\n"
   ]
  },
  {
   "cell_type": "code",
   "execution_count": null,
   "metadata": {},
   "outputs": [],
   "source": [
    "linguagens = '''Python Java JavaScript C C# C++ Swift Go Kotlin'''.split()\n",
    "\n",
    "linguagens_java = []\n",
    "\n",
    "\n",
    "for item in linguagens:\n",
    "\n",
    "    if \"Java\" in item:\n",
    "\n",
    "        linguagens_java.append(item)\n",
    "\n",
    "\n",
    "print(linguagens_java)\n"
   ]
  },
  {
   "attachments": {},
   "cell_type": "markdown",
   "metadata": {},
   "source": [
    "<span style=\"color: #6890C3;\">Construtor de tipo</span>:"
   ]
  },
  {
   "attachments": {},
   "cell_type": "markdown",
   "metadata": {},
   "source": [
    "Pode ser útil em situações em que você precisa criar uma lista a partir de um objeto iterável ou converter outro tipo de objeto em uma lista entre outros. "
   ]
  },
  {
   "cell_type": "code",
   "execution_count": null,
   "metadata": {},
   "outputs": [],
   "source": [
    "my_list = list()\n",
    "print(my_list)\n"
   ]
  },
  {
   "attachments": {},
   "cell_type": "markdown",
   "metadata": {},
   "source": [
    "<p style=\" border-bottom:solid #c82f4b40 5px;\">"
   ]
  },
  {
   "attachments": {},
   "cell_type": "markdown",
   "metadata": {},
   "source": [
    "###### <h6 style=\"text-align: center; color: #C82F4B; font-weight: 700; font-size:15px;\">Função map()</span></h6>"
   ]
  },
  {
   "attachments": {},
   "cell_type": "markdown",
   "metadata": {},
   "source": [
    "<p style=\"text-align:center;\">A função map() é utilizada para <span style=\"color: #6890C3;\">aplicar uma determinada função em cada item de um objeto iterável</span>. Para que essa transformação seja feita, a função map() exige que sejam passados <span style=\"color: #6890C3;\">dois parâmetros</span>: a função e o objeto iterável.</p>"
   ]
  },
  {
   "attachments": {},
   "cell_type": "markdown",
   "metadata": {},
   "source": [
    "<p style=\"text-align:center;\">Devemos observar que se aplicarmos map() sem antes colocar em uma lista, por exemplo, com list(), a função map() <span style=\"color: #6890C3;\">retorna um iterador</span> como <<span style=\"font-size:80%;\">map object at 0x0000022E6F7CD0B8</span>>. Por conta disso devemos \"tratar\" este iterador.</p>"
   ]
  },
  {
   "attachments": {},
   "cell_type": "markdown",
   "metadata": {},
   "source": [
    "A palavra-chave <span style=\"color: #6890C3;\">lambda</span> em Python é usada para criar <span style=\"color: #6890C3;\">funções anônimas</span>, ou seja, funções que não possuem um nome associado a elas. Essas funções geralmente são definidas em linha, dentro do código que as utiliza. Essas funções geralmente são definidas em linha, dentro do código que as utiliza. Por exemplo, <span style=\"color: #6890C3;\">em vez de definir uma função separada para calcular o quadrado de um número, você pode usar uma função lambda para isso</scan>."
   ]
  },
  {
   "cell_type": "code",
   "execution_count": null,
   "metadata": {},
   "outputs": [],
   "source": [
    "numeros = [1, 2, 3, 4, 5]\n",
    "quadrados = list(map(lambda x: x**2, numeros))\n",
    "print(quadrados)\n"
   ]
  },
  {
   "cell_type": "code",
   "execution_count": null,
   "metadata": {},
   "outputs": [],
   "source": [
    "linguagens = '''Python Java JavaScript C C# C++ Swift Go Kotlin'''.split()\n",
    "\n",
    "\n",
    "nova_lista = list(map(lambda x: x.lower(), linguagens))\n",
    "print(f\"A nova lista é = {nova_lista}\\n\")\n"
   ]
  },
  {
   "attachments": {},
   "cell_type": "markdown",
   "metadata": {},
   "source": [
    "<p style=\" border-bottom:solid #c82f4b40 5px;\">"
   ]
  },
  {
   "attachments": {},
   "cell_type": "markdown",
   "metadata": {},
   "source": [
    "###### <h6 style=\"text-align: center; color: #C82F4B; font-weight: 700; font-size:15px;\">Função filter()</span></h6>"
   ]
  },
  {
   "attachments": {},
   "cell_type": "markdown",
   "metadata": {},
   "source": [
    "<p style=\"text-align:center;\">A função filter() tem as mesmas características da função map(), mas, em vez de usarmos uma função para transformar os valores da lista, nós a usamos para filtrar.</p>"
   ]
  },
  {
   "attachments": {},
   "cell_type": "markdown",
   "metadata": {},
   "source": [
    "<p style=\"text-align:center;\">Caso tenha dúvidas em relação ao list() e lambda, veja acima em \"função map\".</p>"
   ]
  },
  {
   "cell_type": "code",
   "execution_count": null,
   "metadata": {},
   "outputs": [],
   "source": [
    "# range() cria um objeto numérico iterável, quando junto com list, cria uma lista que inclui todo o intervalo (aberto no último)\n",
    "numeros = list(range(0, 21))\n",
    "\n",
    "numeros_pares = list(filter(lambda x: x % 2 == 0, numeros))\n",
    "\n",
    "\n",
    "print(numeros_pares)\n"
   ]
  },
  {
   "attachments": {},
   "cell_type": "markdown",
   "metadata": {},
   "source": [
    "<p style=\" border-bottom:solid #c82f4b40 5px;\">"
   ]
  },
  {
   "attachments": {},
   "cell_type": "markdown",
   "metadata": {},
   "source": [
    "<link rel=\"stylesheet\" href=\"style.css\">\n",
    "\n",
    "##### <h5 id=\"centro\" class=\"verde-neon\" style=\"font-weight:700\">Tuplas</h5>"
   ]
  },
  {
   "attachments": {},
   "cell_type": "markdown",
   "metadata": {},
   "source": [
    "<p style=\"text-align:center;\">São objetos <span style=\"color: #6890C3;\">imutáveis</span>. Sua utilização ocorre em casos nos quais a <span style=\"color: #6890C3;\">ordem dos elementos é importante e não pode ser alterada</span>.</p>"
   ]
  },
  {
   "attachments": {},
   "cell_type": "markdown",
   "metadata": {},
   "source": [
    "###### <h6 style=\"text-align: center; color: #C82F4B; font-weight: 700; font-size:15px;\">Construção</span></h6>"
   ]
  },
  {
   "attachments": {},
   "cell_type": "markdown",
   "metadata": {},
   "source": [
    "<span style=\"color: #6890C3;\">Tupla vazia</span>:"
   ]
  },
  {
   "cell_type": "code",
   "execution_count": null,
   "metadata": {},
   "outputs": [],
   "source": [
    "tupla = ()\n"
   ]
  },
  {
   "attachments": {},
   "cell_type": "markdown",
   "metadata": {},
   "source": [
    "<span style=\"color: #6890C3;\">Separados por vírgulas</scan>:"
   ]
  },
  {
   "cell_type": "code",
   "execution_count": null,
   "metadata": {},
   "outputs": [],
   "source": [
    "tupla = ('a', 'b', 'c')\n"
   ]
  },
  {
   "attachments": {},
   "cell_type": "markdown",
   "metadata": {},
   "source": [
    "<span style=\"color: #6890C3;\">Construtor de tipo</span>:"
   ]
  },
  {
   "cell_type": "code",
   "execution_count": null,
   "metadata": {},
   "outputs": [],
   "source": [
    "# Criando uma tupla vazia\n",
    "tupla_vazia = tuple()\n",
    "print(tupla_vazia)  # Saída: ()\n",
    "\n",
    "# Criando uma tupla com alguns elementos\n",
    "tupla_frutas = tuple(['maçã', 'banana', 'laranja'])\n",
    "print(tupla_frutas)  # Saída: ('maçã', 'banana', 'laranja')\n",
    "\n",
    "# Criando uma tupla com um único elemento\n",
    "tupla_um_elemento = tuple(['chocolate'])\n",
    "print(tupla_um_elemento)  # Saída: ('chocolate',)\n",
    "\n",
    "# Criando uma tupla com diferentes tipos de dados\n",
    "tupla_mista = tuple(['texto', 42, True])\n",
    "print(tupla_mista)  # Saída: ('texto', 42, True)\n"
   ]
  },
  {
   "attachments": {},
   "cell_type": "markdown",
   "metadata": {},
   "source": [
    "<p style=\" border-bottom:solid #c82f4b40 5px;\">"
   ]
  },
  {
   "attachments": {},
   "cell_type": "markdown",
   "metadata": {},
   "source": [
    "<link rel=\"stylesheet\" href=\"style.css\">\n",
    "\n",
    "#### <h4 id=\"centro\" class=\"azul-neon\" style=\"font-weight:700\">Tipo set (conjunto)</h4>"
   ]
  },
  {
   "attachments": {},
   "cell_type": "markdown",
   "metadata": {},
   "source": [
    "<p style=\"text-align:center;\">Um objeto do tipo set <span style=\"color: #6890C3;\">habilita operações matemáticas de conjuntos</span>, tais como: união, intersecção, diferença, etc. Esse tipo de estrutura pode ser usado, portanto, em <span style=\"color: #6890C3;\">testes de associação e remoção de valores duplicados de uma sequência</span> (PSF, 2020c).</p>"
   ]
  },
  {
   "attachments": {},
   "cell_type": "markdown",
   "metadata": {},
   "source": [
    "##### <h5 style=\"text-align: center; color: #C82F4B; font-weight: 700;\">Exemplo</h5>"
   ]
  },
  {
   "attachments": {},
   "cell_type": "markdown",
   "metadata": {},
   "source": [
    "Veja um exemplo disso neste código que verifica se o componente está funcionando para poder vendermos:"
   ]
  },
  {
   "cell_type": "code",
   "execution_count": 55,
   "metadata": {},
   "outputs": [
    {
     "name": "stdout",
     "output_type": "stream",
     "text": [
      "Foram verificados 23 componentes.\n",
      "\n",
      "4 componentes apresentaram defeito.\n",
      "\n",
      "Os componentes que podem ser vendidos são:\n",
      "memória ram\n",
      "gabinete\n",
      "mouse\n",
      "no-break\n",
      "estabilizador\n",
      "hub\n",
      "placa de vídeo\n",
      "microfone\n",
      "cooler\n",
      "impressora\n",
      "teclado\n",
      "dissipador de calor\n",
      "modem\n",
      "placa de captura\n",
      "caixas de som\n",
      "placa mãe\n",
      "cpu\n",
      "joystick\n",
      "webcam\n"
     ]
    }
   ],
   "source": [
    "def create_report():\n",
    "\n",
    "    componentes_verificados = set(['caixas de som', 'cooler', 'dissipador de calor', 'cpu', 'hd', 'estabilizador', 'gabinete', 'hub', 'impressora', 'joystick', 'memória ram',\n",
    "                                  'microfone', 'modem', 'monitor', 'mouse', 'no-break', 'placa de captura', 'placa de som', 'placa de vídeo', 'placa mãe', 'scanner', 'teclado', 'webcam'])\n",
    "\n",
    "    componentes_com_defeito = set(['hd', 'monitor', 'placa de som', 'scanner'])\n",
    "\n",
    "    qtde_componentes_verificados = len(componentes_verificados)\n",
    "\n",
    "    qtde_componentes_com_defeito = len(componentes_com_defeito)\n",
    "\n",
    "    componentes_ok = componentes_verificados.difference(\n",
    "        componentes_com_defeito)\n",
    "\n",
    "    print(f\"Foram verificados {qtde_componentes_verificados} componentes.\\n\")\n",
    "\n",
    "    print(f\"{qtde_componentes_com_defeito} componentes apresentaram defeito.\\n\")\n",
    "\n",
    "    print(\"Os componentes que podem ser vendidos são:\")\n",
    "\n",
    "    for item in componentes_ok:\n",
    "\n",
    "        print(item)\n",
    "\n",
    "\n",
    "create_report()\n"
   ]
  },
  {
   "attachments": {},
   "cell_type": "markdown",
   "metadata": {},
   "source": [
    "<p style=\" border-bottom:solid #c82f4b40 5px;\">"
   ]
  },
  {
   "attachments": {},
   "cell_type": "markdown",
   "metadata": {},
   "source": [
    "##### <h5 style=\"text-align: center; color: #C82F4B; font-weight: 700;\">Construção</h5>"
   ]
  },
  {
   "attachments": {},
   "cell_type": "markdown",
   "metadata": {},
   "source": [
    "<p>Perceba que desta vez <span style=\"color: #6890C3;\">não tem a construção vazia</span>, isso porque <span style=\"color: #6890C3;\">não é possível criar um set vazio</span>, com set = {}, <span style=\"color: #6890C3;\">pois essa é a forma de construção de um dicionário</span>.</p>"
   ]
  },
  {
   "attachments": {},
   "cell_type": "markdown",
   "metadata": {},
   "source": [
    "<span style=\"color: #6890C3;\">Separados por vírgulas</span>:"
   ]
  },
  {
   "cell_type": "code",
   "execution_count": null,
   "metadata": {},
   "outputs": [],
   "source": [
    "set = {'a', 'b', 'c'}  # {}\n"
   ]
  },
  {
   "attachments": {},
   "cell_type": "markdown",
   "metadata": {},
   "source": [
    "<span style=\"color: #6890C3;\">Construtor do tipo</span>:"
   ]
  },
  {
   "attachments": {},
   "cell_type": "markdown",
   "metadata": {},
   "source": [
    "Para construir com utilização da função <span style=\"color: #6890C3;\">set(iterable)</span>, obrigatoriamente <span style=\"color: #6890C3;\">temos de passar um objeto iterável</span> para ser transformado em conjunto. Esse objeto pode ser uma <span style=\"color: #6890C3;\">lista, uma tupla ou um texto</span>."
   ]
  },
  {
   "cell_type": "code",
   "execution_count": null,
   "metadata": {},
   "outputs": [],
   "source": [
    "meu_set = set([1, 2, 3, 4, 5])  # ()\n"
   ]
  },
  {
   "cell_type": "code",
   "execution_count": null,
   "metadata": {},
   "outputs": [],
   "source": [
    "vogais_1 = {'aeiou'}  # sem uso do construtor\n",
    "\n",
    "print(type(vogais_1), vogais_1)\n",
    "\n",
    "\n",
    "vogais_2 = set('aeiou')  # construtor com string\n",
    "\n",
    "print(type(vogais_2), vogais_2)\n",
    "\n",
    "\n",
    "vogais_3 = set(['a', 'e', 'i', 'o', 'u'])  # construtor com lista\n",
    "\n",
    "print(type(vogais_3), vogais_3)\n",
    "\n",
    "\n",
    "vogais_4 = set(('a', 'e', 'i', 'o', 'u'))  # construtor com tupla\n",
    "\n",
    "print(type(vogais_4), vogais_4)\n"
   ]
  },
  {
   "attachments": {},
   "cell_type": "markdown",
   "metadata": {},
   "source": [
    "<p style=\" border-bottom:solid #c82f4b40 5px;\">"
   ]
  },
  {
   "attachments": {},
   "cell_type": "markdown",
   "metadata": {},
   "source": [
    "##### <h5 style=\"text-align: center; color: #C82F4B; font-weight: 700;  border-bottom:solid #c82f4b40 5px;\">Operações</h5>"
   ]
  },
  {
   "attachments": {},
   "cell_type": "markdown",
   "metadata": {},
   "source": [
    "<p style=\"text-align:center;\">Das operações que já conhecemos sobre sequências, conseguimos <span style=\"color: #6890C3;\">aproveitar</span> nessa nova estrutura:<br>- len(s)<br>- x in s<br>- x not in s</p>"
   ]
  },
  {
   "attachments": {},
   "cell_type": "markdown",
   "metadata": {},
   "source": [
    "<p style=\"text-align:center;\">Por hora, para novas funções, <span style=\"color: #6890C3;\">deduza tudo que tem como fazer com conjuntos e pesquise como fazer isso em set</span>.<br>Podemos encontrar <span style=\"color: #6890C3;\">mais funções</span> em: https://docs.python.org/pt-br/3/library/stdtypes.html</p>"
   ]
  },
  {
   "attachments": {},
   "cell_type": "markdown",
   "metadata": {},
   "source": [
    "<p style=\" border-bottom:solid #c82f4b40 5px;\">"
   ]
  },
  {
   "attachments": {},
   "cell_type": "markdown",
   "metadata": {},
   "source": [
    "<link rel=\"stylesheet\" href=\"style.css\">\n",
    "\n",
    "#### <h4 id=\"centro\" class=\"azul-neon\" style=\"font-weight:700\">Tipo mapping (dicionário)</h4>"
   ]
  },
  {
   "attachments": {},
   "cell_type": "markdown",
   "metadata": {},
   "source": [
    "<p style=\"text-align:center;\">As estruturas de dados que possuem um <span style=\"color: #6890C3;\">mapeamento entre uma chave e um valor</span> são consideradas objetos do tipo mapping.<br>Em Python, o objeto que possui essa propriedade é o <span style=\"color: #6890C3;\">dict (dicionário)</span>. Uma vez que esse objeto é <span style=\"color: #6890C3;\">mutável</span>, conseguimos atribuir um novo valor a uma chave já existente.</p>"
   ]
  },
  {
   "attachments": {},
   "cell_type": "markdown",
   "metadata": {},
   "source": [
    "##### <h5 style=\"text-align: center; color: #C82F4B; font-weight: 700;\">Construção</h5>"
   ]
  },
  {
   "attachments": {},
   "cell_type": "markdown",
   "metadata": {},
   "source": [
    "<span style=\"color: #6890C3;\">Dicionário vazio</span>:"
   ]
  },
  {
   "attachments": {},
   "cell_type": "markdown",
   "metadata": {},
   "source": [
    "Criação de dicionário vazio, com <span style=\"color: #6890C3;\">atribuição posterior</span> de chave e valor"
   ]
  },
  {
   "cell_type": "code",
   "execution_count": null,
   "metadata": {},
   "outputs": [],
   "source": [
    "dicionario = {}\n",
    "\n",
    "dicionario['nome'] = \"Rea\"\n",
    "\n",
    "dicionario['idade'] = 18\n",
    "\n",
    "print(dicionario)\n"
   ]
  },
  {
   "attachments": {},
   "cell_type": "markdown",
   "metadata": {},
   "source": [
    "<span style=\"color: #6890C3;\">Separado por vírgulas</span>:"
   ]
  },
  {
   "cell_type": "code",
   "execution_count": 1,
   "metadata": {},
   "outputs": [],
   "source": [
    "dicionario = {'chave1': 1, 'chave2': 2, 'chave3': 3}\n"
   ]
  },
  {
   "attachments": {},
   "cell_type": "markdown",
   "metadata": {},
   "source": [
    "<span style=\"color: #6890C3;\">Construtor de tipo</span>:"
   ]
  },
  {
   "cell_type": "code",
   "execution_count": null,
   "metadata": {},
   "outputs": [],
   "source": [
    "dicionario = dict([('chave1', 1), ('chave2', 2), ('chave3', 3)])\n"
   ]
  },
  {
   "attachments": {},
   "cell_type": "markdown",
   "metadata": {},
   "source": [
    "<p style=\" border-bottom:solid #c82f4b40 5px;\">"
   ]
  },
  {
   "attachments": {},
   "cell_type": "markdown",
   "metadata": {},
   "source": [
    "<link rel=\"stylesheet\" href=\"style.css\">\n",
    "\n",
    "### <h3 id=\"centro\" class=\"vermelho-neon\" style=\"font-weight:700\">Algoritmos de busca</h3>"
   ]
  },
  {
   "attachments": {},
   "cell_type": "markdown",
   "metadata": {},
   "source": [
    "<p style=\"text-align:center;\">Em Python, temos a operação <span style=\"color: #6890C3;\">\"in\"</span> ou \"not in\" usada para verificar se um valor está em uma sequência. Entretanto, <span style=\"color: #6890C3;\">quando utilizamos esses comandos, estamos sendo \"usuários\"</span> de um algoritmo que alguém escreveu e \"encapsulou\" neles. No entanto, como profissionais de tecnologia, <span style=\"color: #6890C3;\">precisamos saber o que está por trás do comando</span> e sermos capazes de fazermos nós mesmos.</p>"
   ]
  },
  {
   "attachments": {},
   "cell_type": "markdown",
   "metadata": {},
   "source": [
    "<link rel=\"stylesheet\" href=\"style.css\">\n",
    "\n",
    "#### <h4 id=\"centro\" class=\"azul-neon\" style=\"font-weight:700\">Busca linear (ou sequencial)</h4>"
   ]
  },
  {
   "attachments": {},
   "cell_type": "markdown",
   "metadata": {},
   "source": [
    "<p style=\"text-align:center;\">Uma busca linear (ou exaustiva) simplesmente percorre todos os elementos da sequência procurando aquele de destino, <span style=\"color: #6890C3;\">o que pode ser muito custoso computacionalmente</span>.</p>"
   ]
  },
  {
   "attachments": {},
   "cell_type": "markdown",
   "metadata": {},
   "source": [
    "<p style=\"text-align:center;\">Para implementar a busca linear, vamos precisar de uma <span style=\"color: #6890C3;\">estrutura de repetição</span> (for) para percorrer a sequência, e uma <span style=\"color: #6890C3;\">estrutura de decisão</span> (if) para verificar se o valor em uma determinada posição é o que procuramos.</p>"
   ]
  },
  {
   "cell_type": "code",
   "execution_count": 2,
   "metadata": {},
   "outputs": [
    {
     "name": "stdout",
     "output_type": "stream",
     "text": [
      "[7, 9, 11, 51, 81, 94, 126, 140, 144, 159, 167, 186, 208, 242, 249, 257, 270, 282, 291, 302, 318, 320, 390, 413, 467, 471, 472, 488, 492, 501, 536, 544, 551, 577, 579, 607, 625, 665, 678, 686, 747, 760, 809, 870, 919, 936, 943, 946, 954, 959]\n"
     ]
    },
    {
     "data": {
      "text/plain": [
       "False"
      ]
     },
     "execution_count": 2,
     "metadata": {},
     "output_type": "execute_result"
    }
   ],
   "source": [
    "import random\n",
    "\n",
    "\n",
    "def executar_busca_linear(lista, valor):\n",
    "\n",
    "    for elemento in lista:\n",
    "\n",
    "        if valor == elemento:\n",
    "\n",
    "            return True\n",
    "\n",
    "    return False\n",
    "\n",
    "\n",
    "lista = random.sample(range(1000), 50)\n",
    "\n",
    "print(sorted(lista))\n",
    "\n",
    "executar_busca_linear(lista, 10)\n"
   ]
  },
  {
   "attachments": {},
   "cell_type": "markdown",
   "metadata": {},
   "source": [
    "Antes de partirmos para o segundo código, veja como funciona a função index()."
   ]
  },
  {
   "cell_type": "code",
   "execution_count": 3,
   "metadata": {},
   "outputs": [
    {
     "name": "stdout",
     "output_type": "stream",
     "text": [
      "1\n"
     ]
    }
   ],
   "source": [
    "vogais = 'aeiou'\n",
    "\n",
    "\n",
    "resultado = vogais.index('e')\n",
    "\n",
    "print(resultado)\n"
   ]
  },
  {
   "cell_type": "code",
   "execution_count": 9,
   "metadata": {},
   "outputs": [
    {
     "name": "stdout",
     "output_type": "stream",
     "text": [
      "Valor encontrado na posição 3\n"
     ]
    }
   ],
   "source": [
    "def procurar_valor(lista, valor):\n",
    "\n",
    "    tamanho_lista = len(lista)\n",
    "\n",
    "    for i in range(tamanho_lista):\n",
    "\n",
    "        if valor == lista[i]:\n",
    "\n",
    "            return i\n",
    "\n",
    "    return None\n",
    "\n",
    "\n",
    "vogais = 'aeiou'\n",
    "\n",
    "\n",
    "indice_resultado = procurar_valor(lista=vogais, valor='o')\n",
    "\n",
    "\n",
    "if indice_resultado != None:\n",
    "\n",
    "    print(f\"Valor encontrado na posição {indice_resultado}\")\n",
    "\n",
    "else:\n",
    "\n",
    "    print(\"Valor não encontrado\")\n"
   ]
  },
  {
   "attachments": {},
   "cell_type": "markdown",
   "metadata": {},
   "source": [
    "<link rel=\"stylesheet\" href=\"style.css\">\n",
    "\n",
    "#### <h4 id=\"centro\" class=\"azul-neon\" style=\"font-weight:700\">Busca binária</h4>"
   ]
  },
  {
   "attachments": {},
   "cell_type": "markdown",
   "metadata": {},
   "source": [
    "<p style=\"text-align:center; color: grey\">A busca binária possui complexidade O(log2 N). Isso significa que, para valores grandes de N (listas grandes), o desempenho desse algoritmo é melhor se comparado à busca sequencial, que tem complexidade O(N).</p>\n",
    "<img src=\"../Jupyter/Img/Imagens de Conteúdos/Busca Binária.png\" alt=\"descrição da imagem\" width=\"600\" style=\"display: block; margin-left: auto; margin-right: auto;\">\n",
    "<p style=\"text-align:center;\">Os valores <span style=\"color:#6890C3\">precisar estar ordenados</span>. A lógica é a seguinte:<br><br><span style=\"color:#C82F4B\">1.</span> Encontra o item no meio da sequencia (meio da lista)<br><span style=\"color:#C82F4B\">2.</span> Se o valor procurado for igual ao item do meio, a busca se encerra.<br><span style=\"color:#C82F4B\">3.</span> Se não for, verifica-se se o valor buscado é maior ou menor que o valor central.<br><span style=\"color:#C82F4B\">4.</span> Se for maior, então a busca acontecerá na metade superior da sequência(descartando a inferior); se não for, então o inverso ocorre.</p>"
   ]
  },
  {
   "cell_type": "code",
   "execution_count": 21,
   "metadata": {},
   "outputs": [
    {
     "name": "stdout",
     "output_type": "stream",
     "text": [
      "[1, 2, 3, 4, 5, 6, 7, 8, 9, 10, 11, 12, 13, 14, 15, 16, 17, 18, 19, 20, 21, 22, 23, 24, 25, 26, 27, 28, 29, 30, 31, 32, 33, 34, 35, 36, 37, 38, 39, 40, 41, 42, 43, 44, 45, 46, 47, 48, 49]\n",
      "\n",
      " O índice da posição do valor é: 9\n",
      "\n",
      " Valor encontrado an posição 1\n"
     ]
    }
   ],
   "source": [
    "def executar_busca_binaria(lista, valor):\n",
    "\n",
    "    minimo = 0\n",
    "\n",
    "    maximo = len(lista) - 1  # len retorna o comprimento\n",
    "\n",
    "    while minimo <= maximo:\n",
    "\n",
    "        # Encontra o elemento que divide a lista ao meio\n",
    "\n",
    "        meio = (minimo + maximo) // 2  # média aritmética\n",
    "\n",
    "        # Verifica se o valor procurado está a esquerda ou direita do valor central\n",
    "\n",
    "        if valor < lista[meio]:\n",
    "\n",
    "            maximo = meio - 1\n",
    "\n",
    "        elif valor > lista[meio]:\n",
    "\n",
    "            minimo = meio + 1\n",
    "\n",
    "        else:\n",
    "\n",
    "            return meio  # Se o valor for encontrado para aqu, e meio terá o índice da posição\n",
    "\n",
    "    return None  # Se chegar até aqui, significa que o valor não foi encontrado\n",
    "\n",
    "\n",
    "lista = list(range(1, 50))\n",
    "print(lista)\n",
    "print('\\n O índice da posição do valor é:',\n",
    "      executar_busca_binaria(lista=lista, valor=10))\n",
    "\n",
    "\n",
    "vogais = ['a', 'e', 'i', 'o', 'u']\n",
    "resultado = executar_busca_binaria(lista=vogais, valor='e')\n",
    "if resultado != None:\n",
    "\n",
    "    print(f\"\\n Valor encontrado an posição {resultado}\")\n",
    "else:\n",
    "\n",
    "    print(\"\\nValor não encontrado\")\n"
   ]
  },
  {
   "attachments": {},
   "cell_type": "markdown",
   "metadata": {},
   "source": [
    "<link rel=\"stylesheet\" href=\"style.css\">\n",
    "\n",
    "### <h3 id=\"centro\" class=\"vermelho-neon\" style=\"font-weight:700\">Algoritmos de ordenação</h3>"
   ]
  },
  {
   "attachments": {},
   "cell_type": "markdown",
   "metadata": {},
   "source": [
    "<link rel=\"stylesheet\" href=\"style.css\">\n",
    "\n",
    "#### <h4 id=\"centro\" class=\"azul-neon\" style=\"font-weight:700\">Apresentação</h4>"
   ]
  },
  {
   "attachments": {},
   "cell_type": "markdown",
   "metadata": {},
   "source": [
    "<p style=\"text-align:center;\">Quase todos os dados são <span style=\"color:#6990C3\">mais úteis quando estão ordenados</span>.<br>Além de ser útil trabalhar com dados ordenados, estudar essa classe de algoritmos <span style=\"color:#6990C3;\">permite explorar várias técnicas de programação</span>, tais como a <span style=\"color:#6990C3;\">recursão</span> e o <span style=\"color:#6990C3;\">problema de dividir para conquistar</span><br><br>São <span style=\"color:#6990C3;\">inúmeras as aplicações que envolvem a necessidade de dados ordenados</span>. Podemos começar mencionando o algoritmo de <span style=\"color:#6990C3;\">busca binária</span>, que exige que os dados estejam ordenados.<br>Eis um exemplo prático de ordenação:</p>"
   ]
  },
  {
   "cell_type": "code",
   "execution_count": 27,
   "metadata": {},
   "outputs": [
    {
     "name": "stdout",
     "output_type": "stream",
     "text": [
      "lista1 =  [10, 4, 1, 15, -3]\n",
      "lista2 =  [1, 2, 3, 4, 5] \n",
      "\n",
      "lista_ordenada1 =  [-3, 1, 4, 10, 15]\n",
      "lista_ordenada2 =  None\n"
     ]
    }
   ],
   "source": [
    "lista1 = [10, 4, 1, 15, -3]\n",
    "lista2 = [3, 5, 1, 2, 4]\n",
    "\n",
    "\n",
    "# Não altera a lista original e faz a ordenação em uma nova lista;\n",
    "lista_ordenada1 = sorted(lista1)\n",
    "\n",
    "# Não altera a lista original e faz a ordenação em uma nova lista;\n",
    "lista_ordenada2 = lista2.sort()\n",
    "\n",
    "\n",
    "print('lista1 = ', lista1,)\n",
    "\n",
    "print('lista2 = ', lista2, '\\n')\n",
    "\n",
    "print('lista_ordenada1 = ', lista_ordenada1)\n",
    "\n",
    "print('lista_ordenada2 = ', lista_ordenada2)\n"
   ]
  },
  {
   "attachments": {},
   "cell_type": "markdown",
   "metadata": {},
   "source": [
    "<p style=\"text-align:center;\">Entretanto, ao usar a operação <span style=\"color: #6890C3;\">\"sort\"</span> e <span style=\"color: #6890C3;\">\"sorted\"</span> usada para ordenar, estamos sendo \"usuários\" de um algoritmo que alguém escreveu e \"encapsulou\" neles. No entanto, como profissionais de tecnologia, <span style=\"color: #6890C3;\">precisamos saber o que está por trás do comando</span> e sermos capazes de fazermos nós mesmos.</p>"
   ]
  },
  {
   "attachments": {},
   "cell_type": "markdown",
   "metadata": {},
   "source": [
    "<p style=\"text-align:center;\">A essência dos algoritmos de ordenação consiste em <span style=\"color:#6990C3;\">comparar dois valores</span>, verificar <span style=\"color:#6990C3;\">qual é menor e colocar na posição correta</span>. O que vai <span style=\"color:#6990C3;\">mudar, neste caso, é como e quando a comparação é feita</span>.</p>"
   ]
  },
  {
   "cell_type": "code",
   "execution_count": null,
   "metadata": {},
   "outputs": [],
   "source": [
    "lista = [7, 4]\n",
    "\n",
    "\n",
    "if lista[0] > lista[1]:\n",
    "\n",
    "    aux = lista[1]\n",
    "\n",
    "    lista[1] = lista[0]\n",
    "\n",
    "    lista[0] = aux\n",
    "\n",
    "\n",
    "print(lista)\n"
   ]
  },
  {
   "attachments": {},
   "cell_type": "markdown",
   "metadata": {},
   "source": [
    "<p style=\"text-align:center;\">A sintaxe adotada para fazer a troca no código da entrada 2 funciona para qualquer linguagem de programação. No entanto, como você já deve ter notado, <span style=\"color: #6890C3;\">em Python há \"mágicas\"</span>. Podemos fazer a troca usando a <span style=\"color: #6890C3;\">atribuição múltipla</span>. Nesse caso, a atribuição é <span style=\"color: #6890C3;\">feita de maneira posicional</span>: o primeiro valor após o sinal de igualdade vai para a primeira variável, e assim por diante. Veja, a seguir, o mesmo exemplo, agora com uma notação <span style=\"color: #6890C3;\">pythônica</span>.</p>"
   ]
  },
  {
   "cell_type": "code",
   "execution_count": null,
   "metadata": {},
   "outputs": [],
   "source": [
    "lista = [5, -1]\n",
    "\n",
    "\n",
    "if lista[0] > lista[1]:\n",
    "\n",
    "    lista[0], lista[1] = lista[1], lista[0]\n",
    "\n",
    "\n",
    "print(lista)\n"
   ]
  },
  {
   "attachments": {},
   "cell_type": "markdown",
   "metadata": {},
   "source": [
    "<p style=\"text-align:center;\">Pois bem, <span style=\"color: #6890C3;\">ordenar significa comparar e escolher o menor</span>. Fizemos isso para uma lista com dois valores. E se tivéssemos três deles, como faríamos a comparação e ordenação? <span style=\"color: #6890C3;\">É justamente esse \"como\" que dá origem aos diversos algoritmos de ordenação</span>. Para nosso estudo, vamos dividir os algoritmos nestes dois grupos, de acordo com a complexidade:<br><br>\n",
    "\n",
    "<span style=\"color: #6890C3;\">Complexidade O(N2)</span>: Neste grupo estão os algoritmos <span style=\"color: #6890C3;\">selection sort</span>, <span style=\"color: #6890C3;\">bubble sort</span> e <span style=\"color: #6890C3;\">insertion sort</span>. Esses algoritmos são <span style=\"color: #6890C3;\">lentos para ordenação de grandes listas</span>, porém são mais intuitivos de entender e possuem uma codificação mais simples.<br>\n",
    "<span style=\"color: #6890C3;\">Complexidade O(N log N)</span>: Deste grupo, vamos estudar os algoritmos <span style=\"color: #6890C3;\">merge sort</span> e <span style=\"color: #6890C3;\">quick sort</span>. Tais algoritmos possuem <span style=\"color: #6890C3;\">performance superior</span>, porém são um pouco <span style=\"color: #6890C3;\">mais complexos de serem implementados</span>.<p>"
   ]
  },
  {
   "attachments": {},
   "cell_type": "markdown",
   "metadata": {},
   "source": [
    "<link rel=\"stylesheet\" href=\"style.css\">\n",
    "\n",
    "#### <h4 id=\"centro\" class=\"azul-neon\" style=\"font-weight:700\">Complexidade O(N2)</h4>"
   ]
  },
  {
   "attachments": {},
   "cell_type": "markdown",
   "metadata": {},
   "source": [
    "<p style=\"text-align:center;\">Esses algoritmos são <span style=\"color: #6890C3;\">lentos para ordenação de grandes listas</span>, porém são mais <span style=\"color: #6890C3;\">intuitivos de entender</span> e possuem uma <span style=\"color: #6890C3;\">codificação mais simples</span>.</p>"
   ]
  },
  {
   "attachments": {},
   "cell_type": "markdown",
   "metadata": {},
   "source": [
    "<link rel=\"stylesheet\" href=\"style.css\">\n",
    "\n",
    "##### <h5 id=\"centro\" class=\"verde-neon\" style=\"font-weight:700\">Selection Sort (ordenação por seleção)</h5>"
   ]
  },
  {
   "attachments": {},
   "cell_type": "markdown",
   "metadata": {},
   "source": [
    "<p style=\"text-align:center;\">Faz a ordenação sempre escolhendo o <span style=\"color: #6890C3;\">menor valor</span> para <span style=\"color: #6890C3;\">ocupar os primeiros lugares da lista</span>.<br>Para uma lista de tamanho N, esse processo é feito <span style=\"color: #6890C3;\">N-1</span> vezes.</p>"
   ]
  },
  {
   "cell_type": "code",
   "execution_count": 5,
   "metadata": {},
   "outputs": [
    {
     "data": {
      "text/plain": [
       "[-1, 3, 5, 8, 9, 10, 11]"
      ]
     },
     "execution_count": 5,
     "metadata": {},
     "output_type": "execute_result"
    }
   ],
   "source": [
    "def executar_selection_sort(lista):\n",
    "\n",
    "    for i in range(0, len(lista)):\n",
    "\n",
    "        index_menor = i\n",
    "\n",
    "        for j in range(i+1, len(lista)):\n",
    "\n",
    "            if lista[j] < lista[index_menor]:\n",
    "\n",
    "                index_menor = j\n",
    "\n",
    "        lista[i], lista[index_menor] = lista[index_menor], lista[i]\n",
    "\n",
    "    return lista\n",
    "\n",
    "\n",
    "lista = [10, 9, 5, 8, 11, -1, 3]\n",
    "\n",
    "executar_selection_sort(lista)\n"
   ]
  },
  {
   "attachments": {},
   "cell_type": "markdown",
   "metadata": {},
   "source": [
    "<p style=\"text-align:center;\">Eis uma forma alternativa de se fazer (mas cuidado, tem limitações)</p>"
   ]
  },
  {
   "cell_type": "code",
   "execution_count": 12,
   "metadata": {},
   "outputs": [
    {
     "name": "stdout",
     "output_type": "stream",
     "text": [
      "A nova ficou: [-1, 3, 5, 8, 9, 10, 11]\n",
      "\n",
      "Porém a antiga ficou: []\n"
     ]
    }
   ],
   "source": [
    "def executar_selection_sort_2(lista):\n",
    "\n",
    "    lista_ordenada = []\n",
    "\n",
    "    while lista:\n",
    "\n",
    "        minimo = min(lista)\n",
    "\n",
    "        lista_ordenada.append(minimo)\n",
    "\n",
    "        lista.remove(minimo)\n",
    "\n",
    "    return lista_ordenada\n",
    "\n",
    "\n",
    "lista = [10, 9, 5, 8, 11, -1, 3]\n",
    "\n",
    "resultado = executar_selection_sort_2(lista)\n",
    "print(f\"A nova ficou: {resultado}\\n\")\n",
    "print(f\"Porém a antiga ficou: {lista}\")\n"
   ]
  },
  {
   "attachments": {},
   "cell_type": "markdown",
   "metadata": {},
   "source": [
    "<p style=\"text-align:center;\">Mas observe que a lista original foi modificada, inclusive, modificada ao ponto de ficar vazia.</p>"
   ]
  },
  {
   "attachments": {},
   "cell_type": "markdown",
   "metadata": {},
   "source": [
    "<link rel=\"stylesheet\" href=\"style.css\">\n",
    "\n",
    "##### <h5 id=\"centro\" class=\"verde-neon\" style=\"font-weight:700\">Bubble sort (ordenação por \"bolha\")</h5>"
   ]
  },
  {
   "attachments": {},
   "cell_type": "markdown",
   "metadata": {},
   "source": [
    "<p style=\"text-align:center;\">Recebe esse nome porque <span style=\"color: #6890C3;\">faz a ordenação sempre a partir do início da lista</span>, <span style=\"color: #6890C3;\">comparando um valor com seu vizinho</span>.<br>Se for menor, há troca; se não for, seleciona o próximo e compara, repentindo o processo.</p>"
   ]
  },
  {
   "cell_type": "code",
   "execution_count": 16,
   "metadata": {},
   "outputs": [
    {
     "data": {
      "text/plain": [
       "[-1, 3, 5, 8, 9, 10, 11]"
      ]
     },
     "execution_count": 16,
     "metadata": {},
     "output_type": "execute_result"
    }
   ],
   "source": [
    "def executar_bubble_sort(lista):\n",
    "\n",
    "    for i in range(len(lista) - 1):\n",
    "\n",
    "        for j in range(len(lista) - 1):\n",
    "\n",
    "            if lista[j] > lista[j + 1]:\n",
    "\n",
    "                lista[j], lista[j + 1] = lista[j + 1], lista[j]\n",
    "\n",
    "    return lista\n",
    "\n",
    "lista = [10, 9, 5, 8, 11, -1, 3]\n",
    "\n",
    "executar_bubble_sort(lista)\n",
    "executar_bubble_sort(lista)\n"
   ]
  },
  {
   "attachments": {},
   "cell_type": "markdown",
   "metadata": {},
   "source": [
    "<link rel=\"stylesheet\" href=\"style.css\">\n",
    "\n",
    "##### <h5 id=\"centro\" class=\"verde-neon\" style=\"font-weight:700\">Insertion sort (ordenação por inserção)</h5>"
   ]
  },
  {
   "attachments": {},
   "cell_type": "markdown",
   "metadata": {},
   "source": [
    "<p style=\"text-align:center;\">Recebe esse nome porque, partindo do princípio que <span style=\"color: #6890C3;\">a lista possui um único valor</span>, <span style=\"color: #6890C3;\">faz a ordenação pela simulação da inserção de novos valores na lista</span>.<br>Um novo valor precisa ser inserido na lista; nesse caso, ele é comparado com todos os valores já existentes (desde o início) para saber se precisam ser feitas trocas de posição.</p>"
   ]
  },
  {
   "cell_type": "code",
   "execution_count": null,
   "metadata": {},
   "outputs": [],
   "source": [
    "def executar_insertion_sort(lista):\n",
    "\n",
    "    for i in range(1, len(lista)):\n",
    "        valor_inserir = lista[i]\n",
    "        j = i - 1\n",
    "\n",
    "        while j >= 0 and lista[j] > valor_inserir:\n",
    "            lista[j + 1] = lista[j]\n",
    "            j -= 1\n",
    "\n",
    "        lista[j + 1] = valor_inserir\n",
    "\n",
    "    return lista\n",
    "\n",
    "\n",
    "lista = [10, 9, 5, 8, 11, -1, 3]\n",
    "\n",
    "executar_insertion_sort(lista)\n"
   ]
  },
  {
   "attachments": {},
   "cell_type": "markdown",
   "metadata": {},
   "source": [
    "<link rel=\"stylesheet\" href=\"style.css\">\n",
    "\n",
    "#### <h4 id=\"centro\" class=\"azul-neon\" style=\"font-weight:700\">Complexidade O(N log N)</h4>"
   ]
  },
  {
   "attachments": {},
   "cell_type": "markdown",
   "metadata": {},
   "source": [
    "<p style=\"text-align:center;\">Tais algoritmos possuem <span style=\"color: #6890C3;\">performance superior</span>, porém são um pouco <span style=\"color: #6890C3;\">mais complexos de serem implementados</span>.</p>"
   ]
  },
  {
   "attachments": {},
   "cell_type": "markdown",
   "metadata": {},
   "source": [
    "<link rel=\"stylesheet\" href=\"style.css\">\n",
    "\n",
    "##### <h5 id=\"centro\" class=\"verde-neon\" style=\"font-weight:700\">Merge Sort</h5>"
   ]
  },
  {
   "attachments": {},
   "cell_type": "markdown",
   "metadata": {},
   "source": [
    "<p style=\"text-align:center;\">Recebe esse nome porque faz a ordenação em duas etapa:<br>1- <span style=\"color: #6890C3;\">Divide</span> a lista em <span style=\"color: #6890C3;\">sublistas</span>;<br>2- <span style=\"color: #6890C3;\">Junta</span> (merge) as sublistas <span style=\"color: #6890C3;\">já ordenadas</span>.<br>Esse algoritmo é conhecido por usar a estratégia <span style=\"color: #6890C3;\">\"dividir para conquistar\"</span></p>"
   ]
  },
  {
   "cell_type": "code",
   "execution_count": null,
   "metadata": {},
   "outputs": [],
   "source": [
    "def executar_merge_sort(lista):\n",
    "\n",
    "    if len(lista) <= 1:\n",
    "        return lista\n",
    "\n",
    "    else:\n",
    "\n",
    "        meio = len(lista) // 2\n",
    "\n",
    "        esquerda = executar_merge_sort(lista[:meio])\n",
    "\n",
    "        direita = executar_merge_sort(lista[meio:])\n",
    "\n",
    "        return executar_merge(esquerda, direita)\n",
    "\n",
    "\n",
    "def executar_merge(esquerda, direita):\n",
    "\n",
    "    sub_lista_ordenada = []\n",
    "\n",
    "    topo_esquerda, topo_direita = 0, 0\n",
    "\n",
    "    while topo_esquerda < len(esquerda) and topo_direita < len(direita):\n",
    "\n",
    "        if esquerda[topo_esquerda] <= direita[topo_direita]:\n",
    "\n",
    "            sub_lista_ordenada.append(esquerda[topo_esquerda])\n",
    "\n",
    "            topo_esquerda += 1\n",
    "\n",
    "        else:\n",
    "\n",
    "            sub_lista_ordenada.append(direita[topo_direita])\n",
    "\n",
    "            topo_direita += 1\n",
    "\n",
    "    sub_lista_ordenada += esquerda[topo_esquerda:]\n",
    "\n",
    "    sub_lista_ordenada += direita[topo_direita:]\n",
    "\n",
    "    return sub_lista_ordenada\n",
    "\n",
    "\n",
    "lista = [10, 9, 5, 8, 11, -1, 3]\n",
    "\n",
    "executar_merge_sort(lista)\n"
   ]
  },
  {
   "attachments": {},
   "cell_type": "markdown",
   "metadata": {},
   "source": [
    "<link rel=\"stylesheet\" href=\"style.css\">\n",
    "\n",
    "##### <h5 id=\"centro\" class=\"verde-neon\" style=\"font-weight:700\">Quicksort</h5>"
   ]
  },
  {
   "attachments": {},
   "cell_type": "markdown",
   "metadata": {},
   "source": [
    "## <p style=\"border-bottom:solid #ffffff38 5px;\">"
   ]
  },
  {
   "attachments": {},
   "cell_type": "markdown",
   "metadata": {},
   "source": [
    "<link rel=\"stylesheet\" href=\"style.css\">\n",
    "\n",
    "## <h2 id=\"centro\" class=\"branco-neon\">Análise de Complexidade de Algoritmos</h2>"
   ]
  },
  {
   "attachments": {},
   "cell_type": "markdown",
   "metadata": {},
   "source": [
    "<div class=\"animated-border\">\n",
    "    <img src=\"../../Jupyter Configs/img/Mime and Dash Ilustrations/Bonbon & Chuchu na placa com efeito.png\" alt=\"descrição do gif\" width=\"900\" style=\"display: block; margin-left: auto; margin-right: auto; border-radius:20px\">\n",
    "</div>"
   ]
  },
  {
   "attachments": {},
   "cell_type": "markdown",
   "metadata": {},
   "source": [
    "<p style=\"text-align:center;\">Programas exigem <span style=\"color: #6890C3;\">recursos</span> de nosso computador, sendo assim, precisamos <span style=\"color: #6890C3;\">gerencia-los</span>.<br>A quantidade de recursos demandado por um programa é chamado de <span style=\"color: #6890C3;\">Complexidade</span></p><p style=\"text-align:center;\">Esses recursos são: <span style=\"color: #6890C3;\">processamento</span>(tempo) e <span style=\"color: #6890C3;\">memória</span>(espaço) .<br></p><p style=\"text-align:center;\"><br>Por hora, <span style=\"color: #6890C3;\">Analisar a Complexidade de um Algoritmo</span> é <span style=\"color: #6890C3;\">analisar como aumenta o tempo de execução </span><span style=\"color: #6890C3;\">a medida que o tamanho do problema cresce</span>.</p>"
   ]
  },
  {
   "attachments": {},
   "cell_type": "markdown",
   "metadata": {},
   "source": [
    "<link rel=\"stylesheet\" href=\"style.css\">\n",
    "\n",
    "### <h3 id=\"centro\" class=\"vermelho-neon\" style=\"font-weight:700\">Comparação de algoritmos</h3>"
   ]
  },
  {
   "attachments": {},
   "cell_type": "markdown",
   "metadata": {},
   "source": [
    "<p style=\"text-align:center;\">Quando pensamos em comparar algoritmos, a primeira coisa que vem à mente é o <span style=\"color: #6890C3;\">benchmark</span>.<br>Fazemos uma <span style=\"color: #6890C3;\">serie de medições</span> da <span style=\"color: #6890C3;\">execução da implementação do algoritmo</span> com <span style=\"color: #6890C3;\">entradas de tamanho distintos</span> e construímos um gráfico.<br>Executamos o mesmo processo para um outro algoritmo e comparamos a execução dos dois.<br><br>O problema dessa abordagem é que os dois algoritmos <span style=\"color: #6890C3;\">tem que executar exatamente sobre as mesmas condições</span>(hardware, linguagem, compilador e etc), qualquer alteração nessas condições pode alterar significativamente os resultados. Só que essas condições nem sempre são facilmente repicláveis.<br>Por essas <span style=\"color: #6890C3;\">limitações de condições, benchmark raramente é utilizado para comparação de algoritmos</span>.</p>"
   ]
  },
  {
   "attachments": {},
   "cell_type": "markdown",
   "metadata": {},
   "source": [
    "<link rel=\"stylesheet\" href=\"style.css\">\n",
    "\n",
    "### <h3 id=\"centro\" class=\"vermelho-neon\" style=\"font-weight:700\">Otimização</h3>"
   ]
  },
  {
   "attachments": {},
   "cell_type": "markdown",
   "metadata": {},
   "source": [
    "## <p style=\"border-bottom:solid #ffffff38 5px;\">"
   ]
  },
  {
   "attachments": {},
   "cell_type": "markdown",
   "metadata": {},
   "source": [
    "<link rel=\"stylesheet\" href=\"style.css\">\n",
    "\n",
    "## <h2 id=\"centro\" class=\"branco-neon\">Python Orientado a Objetos</h2>"
   ]
  },
  {
   "attachments": {},
   "cell_type": "markdown",
   "metadata": {},
   "source": [
    "<div class=\"animated-border\">\n",
    "    <img src=\"../../Jupyter Configs/img/Mime and Dash Ilustrations/Horses gif.gif\" alt=\"descrição do gif\" width=\"900\" style=\"display: block; margin-left: auto; margin-right: auto; border-radius:20px\">\n",
    "</div>"
   ]
  },
  {
   "attachments": {},
   "cell_type": "markdown",
   "metadata": {},
   "source": [
    "<link rel=\"stylesheet\" href=\"style.css\">\n",
    "\n",
    "### <h3 id=\"centro\" class=\"vermelho-neon\" style=\"font-weight:700\">Conceito Histórico e Definição</h3>"
   ]
  },
  {
   "attachments": {},
   "cell_type": "markdown",
   "metadata": {},
   "source": [
    "<p style=\"text-align:center;\">O desenvolvimento de software orientado a objetos (OO) existe desde o início dos anos<span style=\"color: #6890C3;\">1960</span>, mas, segundo Weisfeld (2013), foi somente em meados da década de <span style=\"color: #6890C3;\">1990</span> que o paradigma orientado a objetos <span style=\"color: #6890C3;\">começou a ganhar impulso</span>. De acordo com o mesmo autor, <span style=\"color: #6890C3;\">uma linguagem é entendida como orientada a objetos</span> se ela aplica o conceito de <span style=\"color: #C82F4B;\">abstração</span> e <span style=\"color: #C82F4B;\">suporta a implementação do encapsulamento</span>, da <span style=\"color: #C82F4B;\">herança</span> e do <span style=\"color: #C82F4B;\">polimorfismo</span>."
   ]
  },
  {
   "attachments": {},
   "cell_type": "markdown",
   "metadata": {},
   "source": [
    "<link rel=\"stylesheet\" href=\"style.css\">\n",
    "\n",
    "### <h3>Classe</h3>"
   ]
  },
  {
   "attachments": {},
   "cell_type": "markdown",
   "metadata": {},
   "source": [
    "<link rel=\"stylesheet\" href=\"style.css\">\n",
    "\n",
    "#### <h4>O que é Classe</h4>"
   ]
  },
  {
   "attachments": {},
   "cell_type": "markdown",
   "metadata": {},
   "source": [
    "<link rel=\"stylesheet\" href=\"style.css\">\n",
    "<p id=\"centro\">Na figura (A), em que temos a <span class=\"azul-neon\">classe funcionário</span>, são especificados o que um funcionário deve ter. No nosso caso, como <span class=\"vermelho-neon\">dados</span>, ele deve ter um CPF e um nome e, como comportamento, ele deve bater ponto e fazer login. Agora veja a figura (B) e a figura (C) – <span class=\"vermelho-neon\">esses dados estão \"preenchidos\"</span>, ou seja, <span class=\"vermelho-neon\">foram instanciados</span> e, portanto, <span class=\"verde-neon\">são objetos</span>.</p>"
   ]
  },
  {
   "attachments": {},
   "cell_type": "markdown",
   "metadata": {},
   "source": [
    "<link rel=\"stylesheet\" href=\"style.css\">\n",
    "<center>\n",
    "\n",
    "|  </span><span class=\"azul-neon\">Funcionário |\n",
    "|----------|\n",
    "| <span class=\"vermelho-neon\">cpf:</span> String |\n",
    "| <span class=\"vermelho-neon\">nome:</span> String |\n",
    "|                   |\n",
    "| <span class=\"vermelho-neon\">baterPonto():</span> String |\n",
    "| <span class=\"vermelho-neon\">fazerLogin():</span> Boolean |\n",
    "\n",
    "</center>\n"
   ]
  },
  {
   "attachments": {},
   "cell_type": "markdown",
   "metadata": {},
   "source": [
    "<p style=\"font-weight:900;text-align:center;\">B"
   ]
  },
  {
   "attachments": {},
   "cell_type": "markdown",
   "metadata": {},
   "source": [
    "<link rel=\"stylesheet\" href=\"style.css\">\n",
    "<center>\n",
    "\n",
    "|  <span class=\"azul-neon\">Funcionário</span> |\n",
    "|----------|\n",
    "| <span class=\"verde-neon\">(</span><span class=\"vermelho-neon\">cpf:</span> 508.673.148-79<span class=\"verde-neon\">)</span> |\n",
    "|<span class=\"verde-neon\">(</span><span class=\"vermelho-neon\">nome:</span> \"Func A\"<span class=\"verde-neon\">)</span> |\n",
    "|                   |\n",
    "| <span class=\"verde-neon\">(</span><span class=\"vermelho-neon\">baterPonto():</span> \"28-01-2023\"<span class=\"verde-neon\">)</span> |\n",
    "| <span class=\"verde-neon\">(</span><span class=\"vermelho-neon\">fazerLogin():</span> \"True\"<span class=\"verde-neon\">)</span> |\n",
    "\n",
    "</center>\n"
   ]
  },
  {
   "attachments": {},
   "cell_type": "markdown",
   "metadata": {},
   "source": [
    "<p style=\"font-weight:900;text-align:center;\">C"
   ]
  },
  {
   "attachments": {},
   "cell_type": "markdown",
   "metadata": {},
   "source": [
    "<link rel=\"stylesheet\" href=\"style.css\">\n",
    "<center>\n",
    "\n",
    "|  <span class=\"azul-neon\">Funcionário</span> |\n",
    "|----------|\n",
    "| <span class=\"verde-neon\">(</span><span class=\"vermelho-neon\">cpf:</span> 804.523.744-79<span class=\"verde-neon\">)</span> |\n",
    "|<span class=\"verde-neon\">(</span><span class=\"vermelho-neon\">nome:</span> \"Func B\"<span class=\"verde-neon\">)</span> |\n",
    "|                   |\n",
    "| <span class=\"verde-neon\">(</span><span class=\"vermelho-neon\">baterPonto():</span> \"24-01-2023\"<span class=\"verde-neon\">)</span> |\n",
    "| <span class=\"verde-neon\">(</span><span class=\"vermelho-neon\">fazerLogin():</span> \"True\"<span class=\"verde-neon\">)</span> |\n",
    "\n",
    "</center>\n"
   ]
  },
  {
   "attachments": {},
   "cell_type": "markdown",
   "metadata": {},
   "source": [
    "<link rel=\"stylesheet\" href=\"style.css\">\n",
    "\n",
    "#### <h4>Criando Classes</h4>"
   ]
  },
  {
   "attachments": {},
   "cell_type": "markdown",
   "metadata": {},
   "source": [
    "<link rel=\"stylesheet\" href=\"style.css\">\n",
    "\n",
    "<p>Utiliza-se a palavra reservada <span>class</span> para indicar a criação de uma classe, <span>seguida do nome e dois pontos</span>.<br> <span class=\"verde\">No bloco indentado</span> devem ser implementados os <span class=\"verde\">atributos e métodos da classe</span>. </p>"
   ]
  },
  {
   "attachments": {},
   "cell_type": "markdown",
   "metadata": {},
   "source": [
    "Todo método em uma classe deve receber como <span style=\"color:#C82F4B\">primeiro parâmetro uma variável que indica a referência à classe</span>; por convenção, adota-se o parâmetro <span style=\"color:#C82F4B\">self</span>."
   ]
  },
  {
   "cell_type": "code",
   "execution_count": 20,
   "metadata": {},
   "outputs": [
    {
     "name": "stdout",
     "output_type": "stream",
     "text": [
      "Olá João, seja bem vindo!\n"
     ]
    }
   ],
   "source": [
    "class PrimeiraClasse:\n",
    "    def imprimir_mensagem(self, nome): # Criando um método \n",
    "        print(f\"Olá {nome}, seja bem vindo!\")\n",
    "\n",
    "objeto = PrimeiraClasse() # Instanciando um objeto do tipo PrimeiraClasse\n",
    "objeto.imprimir_mensagem('João') #Caso apenas \"imprimir_mensagem('João')\" não funcionaria"
   ]
  },
  {
   "cell_type": "code",
   "execution_count": 17,
   "metadata": {},
   "outputs": [
    {
     "name": "stdout",
     "output_type": "stream",
     "text": [
      "Soma: 7\n",
      "Subtração: 6\n",
      "Multiplicação: 8\n",
      "Divisão: 3.2\n",
      "Resto da divisão: 1\n"
     ]
    }
   ],
   "source": [
    "class Calculadora:\n",
    "    def somar(self, n1, n2):\n",
    "\n",
    "        return n1 + n2\n",
    "\n",
    "    def subtrair(self, n1, n2):\n",
    "\n",
    "        return n1 - n2\n",
    "\n",
    "    def multiplicar(self, n1, n2):\n",
    "\n",
    "        return n1 * n2\n",
    "\n",
    "    def dividir(self, n1, n2):\n",
    "\n",
    "        return n1 / n2\n",
    "\n",
    "    def dividir_resto(self, n1, n2):\n",
    "\n",
    "        return n1 % n2\n",
    "\n",
    "calc = Calculadora()\n",
    "\n",
    "print('Soma:', calc.somar(4, 3))\n",
    "\n",
    "print('Subtração:', calc.subtrair(13, 7))\n",
    "\n",
    "print('Multiplicação:', calc.multiplicar(2, 4))\n",
    "\n",
    "print('Divisão:', calc.dividir(16, 5))\n",
    "\n",
    "print('Resto da divisão:', calc.dividir_resto(7, 3))"
   ]
  },
  {
   "attachments": {},
   "cell_type": "markdown",
   "metadata": {},
   "source": [
    "<link rel=\"stylesheet\" href=\"style.css\">\n",
    "\n",
    "#### <h4>Construtor da classe _init_()</h4>"
   ]
  },
  {
   "attachments": {},
   "cell_type": "markdown",
   "metadata": {},
   "source": [
    "<link rel=\"stylesheet\" href=\"style.css\">\n",
    "\n",
    "<p>Vamos aprender a criar e utilizar <span>atributos de instância</span>, também chamadas de <span>variáveis de instâncias</span>. Esse tipo de atributo é <span>capaz de receber um valor diferente para cada objeto</span>. Um atributo de instância é uma <span>variável precedida com o parâmetro self</span>, ou seja, a sintaxe para criar e utilizar é <span>self.nome_atributo</span>.</p>"
   ]
  },
  {
   "attachments": {},
   "cell_type": "markdown",
   "metadata": {},
   "source": [
    "<link rel=\"stylesheet\" href=\"style.css\">\n",
    "\n",
    "<p>Ao instanciar um novo objeto, <span>é possível determinar um estado inicial para variáveis de instâncias por meio do método construtor da classe</span>. Em Python, o método construtor é chamado de <span>__init__()</span>.<p>"
   ]
  },
  {
   "cell_type": "code",
   "execution_count": 1,
   "metadata": {},
   "outputs": [
    {
     "name": "stdout",
     "output_type": "stream",
     "text": [
      "Volume ao ligar a tv =  10\n",
      "Volume atual =  11\n"
     ]
    }
   ],
   "source": [
    "class Televisao:\n",
    "    def __init__(self): #Estado inicial \n",
    "        self.volume = 10\n",
    "\n",
    "    def aumentar_volume(self):\n",
    "        self.volume += 1\n",
    "    def diminuir_volume(self):\n",
    "        self.volume -= 1\n",
    "\n",
    "tv = Televisao()\n",
    "\n",
    "print(\"Volume ao ligar a tv = \", tv.volume)\n",
    "\n",
    "tv.aumentar_volume()\n",
    "\n",
    "print(\"Volume atual = \", tv.volume) "
   ]
  },
  {
   "attachments": {},
   "cell_type": "markdown",
   "metadata": {},
   "source": [
    "<link rel=\"stylesheet\" href=\"style.css\">\n",
    "\n",
    "#### <h4>Variáveis e métodos privados</h4>"
   ]
  },
  {
   "attachments": {},
   "cell_type": "markdown",
   "metadata": {},
   "source": [
    "<link rel=\"stylesheet\" href=\"style.css\">\n",
    "\n",
    "<p>Em linguagens de programação OO, como Java e C#, as classes, os atributos e os métodos são acompanhados de modificadores de acesso, que podem ser: public, private e protected. <span>Em Python, não existem modificadores de acesso e todos os recursos são públicos</span>. Para simbolizar que um atributo ou método é <span>privado, por convenção, usa-se um sublinhado \"_\"  antes do nome</span>; por exemplo, _cpf, _calcular_desconto().</p>"
   ]
  },
  {
   "attachments": {},
   "cell_type": "markdown",
   "metadata": {},
   "source": [
    "<link rel=\"stylesheet\" href=\"style.css\">\n",
    "\n",
    "<p>Conceitualmente, dado que um atributo é privado, <span>ele só pode ser acessado por membros da própria classe</span>. Portanto, ao <span>declarar um atributo privado, precisamos de métodos que acessem e recuperam os valores ali guardados</span>. Em Python, além de métodos para este fim, um atributo privado pode ser acessado por <span class=\"verde\">decorators (pesquise sobre decorators caso necessário)</span>.</p>"
   ]
  },
  {
   "attachments": {},
   "cell_type": "markdown",
   "metadata": {},
   "source": [
    "<link rel=\"stylesheet\" href=\"style.css\">\n",
    "\n",
    "<p class=\"vermelho-neon\">Lembre-se: em Python, atributos e métodos privados são apenas uma convenção, pois, na prática, os recursos podem ser acessados de qualquer forma.</p>"
   ]
  },
  {
   "cell_type": "code",
   "execution_count": 6,
   "metadata": {},
   "outputs": [
    {
     "name": "stdout",
     "output_type": "stream",
     "text": [
      "CPF: 123.456.789-00\n",
      "Saldo: 100\n"
     ]
    }
   ],
   "source": [
    "class ContaCorrente:\n",
    "    def __init__(self): #Estado inicial\n",
    "        self._saldo = 0\n",
    "        self._cpf = None\n",
    "\n",
    "    def set_cpf(self, cpf): \n",
    "        self._cpf = cpf\n",
    "    def get_cpf(self):\n",
    "        return self._cpf\n",
    "    \n",
    "    def depositar(self, valor):\n",
    "        self._saldo += valor\n",
    "    def get_saldo(self):\n",
    "        return self._saldo\n",
    "    \n",
    "# Criando um objeto conta\n",
    "minha_conta = ContaCorrente()\n",
    "\n",
    "# Setando o CPF da conta\n",
    "minha_conta.set_cpf('123.456.789-00')\n",
    "\n",
    "# Depositando R$ 100 na conta\n",
    "minha_conta.depositar(100)\n",
    "\n",
    "# Imprimindo o CPF e saldo da conta\n",
    "print('CPF:', minha_conta.get_cpf())\n",
    "print('Saldo:', minha_conta.get_saldo())\n",
    "\n"
   ]
  },
  {
   "attachments": {},
   "cell_type": "markdown",
   "metadata": {},
   "source": [
    "<link rel=\"stylesheet\" href=\"style.css\">\n",
    "\n",
    "### <h3>Atributos</h3>"
   ]
  },
  {
   "attachments": {},
   "cell_type": "markdown",
   "metadata": {},
   "source": [
    "<link rel=\"stylesheet\" href=\"style.css\">\n",
    "<p id=\"centro\"><span class=\"azul-neon\">Os dados armazenados em um objeto representam o estado do objeto</span>. Na terminologia de programação OO, esses dados são chamados de <span class=\"azul-neon\">atributos</span>. Os atributos contêm as <span class=\"azul-neon\">informações que diferenciam os vários objetos</span> – os funcionários, neste caso.</p>"
   ]
  },
  {
   "attachments": {},
   "cell_type": "markdown",
   "metadata": {},
   "source": [
    "<p style=\"font-weight:900;text-align:center;\">A"
   ]
  },
  {
   "attachments": {},
   "cell_type": "markdown",
   "metadata": {},
   "source": [
    "<link rel=\"stylesheet\" href=\"style.css\">\n",
    "<center>\n",
    "\n",
    "|  Funcionário |\n",
    "|----------|\n",
    "| cpf: String |\n",
    "| nome: String |\n",
    "|                   |\n",
    "| baterPonto(): String |\n",
    "| fazerLogin(): Boolean |\n",
    "\n",
    "</center>\n"
   ]
  },
  {
   "attachments": {},
   "cell_type": "markdown",
   "metadata": {},
   "source": [
    "<p style=\"font-weight:900;text-align:center;\">B"
   ]
  },
  {
   "attachments": {},
   "cell_type": "markdown",
   "metadata": {},
   "source": [
    "<link rel=\"stylesheet\" href=\"style.css\">\n",
    "<center>\n",
    "\n",
    "|  Funcionário |\n",
    "|----------|\n",
    "| <span class=\"azul-neon\">cpf: 508.673.148-79 |\n",
    "| <span class=\"azul-neon\">nome: \"Func A\" |\n",
    "|                   |\n",
    "| <span class=\"azul-neon\">baterPonto(): \"28-01-2023\" |\n",
    "| <span class=\"azul-neon\">fazerLogin(): \"True\" |\n",
    "\n",
    "</center>\n"
   ]
  },
  {
   "attachments": {},
   "cell_type": "markdown",
   "metadata": {},
   "source": [
    "<p style=\"font-weight:900;text-align:center;\">C"
   ]
  },
  {
   "attachments": {},
   "cell_type": "markdown",
   "metadata": {},
   "source": [
    "<link rel=\"stylesheet\" href=\"style.css\">\n",
    "<center>\n",
    "\n",
    "|  Funcionário |\n",
    "|----------|\n",
    "| <span class=\"azul-neon\">cpf: 804.523.744-79 |\n",
    "| <span class=\"azul-neon\">nome: \"Func B\" |\n",
    "|                   |\n",
    "| <span class=\"azul-neon\">baterPonto(): \"24-01-2023\" |\n",
    "| <span class=\"azul-neon\">fazerLogin(): \"True\" |\n",
    "\n",
    "</center>\n"
   ]
  },
  {
   "attachments": {},
   "cell_type": "markdown",
   "metadata": {},
   "source": [
    "<link rel=\"stylesheet\" href=\"style.css\">\n",
    "\n",
    "### <h3>Métodos</h5>"
   ]
  },
  {
   "attachments": {},
   "cell_type": "markdown",
   "metadata": {},
   "source": [
    "<link rel=\"stylesheet\" href=\"style.css\">\n",
    "<p id=\"centro\"><span class=\"verde-neon\">O comportamento de um objeto representa o que este pode fazer</span>. Nas linguagens procedurais, o comportamento é definido por <span class=\"verde-neon\">procedimentos, funções e sub-rotinas</span>. Na terminologia de programação OO, esses comportamentos <span class=\"verde-neon\">estão contidos nos métodos</span>, aos quais você envia uma mensagem para invocá-los. </p>"
   ]
  },
  {
   "attachments": {},
   "cell_type": "markdown",
   "metadata": {},
   "source": [
    "<link rel=\"stylesheet\" href=\"style.css\">\n",
    "\n",
    "<p>Em Python, o <span class=\"branco-neon\">Método é separado do objeto</span>, ele é da <span class=\"vermelho-neon\">classe</span>, <span class=\"branco-neon\">não do objeto e sim paralelo a ele</span>.<br><span class=\"verde-neon\">Mas ele acessa informações do objeto par algo</span>.</p>"
   ]
  },
  {
   "attachments": {},
   "cell_type": "markdown",
   "metadata": {},
   "source": [
    "<p style=\"font-weight:900;text-align:center;\">A"
   ]
  },
  {
   "attachments": {},
   "cell_type": "markdown",
   "metadata": {},
   "source": [
    "<link rel=\"stylesheet\" href=\"style.css\">\n",
    "<center>\n",
    "\n",
    "|  Funcionário |\n",
    "|----------|\n",
    "| cpf: String |\n",
    "| nome: String |\n",
    "|                   |\n",
    "| <span class=\"verde-neon\">baterPonto()</span>: String |\n",
    "| <span class=\"verde-neon\">fazerLogin()</span>: Boolean |\n",
    "\n",
    "</center>\n"
   ]
  },
  {
   "attachments": {},
   "cell_type": "markdown",
   "metadata": {},
   "source": [
    "<p style=\"font-weight:900;text-align:center;\">B"
   ]
  },
  {
   "attachments": {},
   "cell_type": "markdown",
   "metadata": {},
   "source": [
    "<link rel=\"stylesheet\" href=\"style.css\">\n",
    "<center>\n",
    "\n",
    "|  Funcionário |\n",
    "|----------|\n",
    "| cpf: 508.673.148-79 |\n",
    "| nome: \"Func A\" |\n",
    "|                   |\n",
    "| <span class=\"verde-neon\">baterPonto()</span>: \"28-01-2023\" |\n",
    "| <span class=\"verde-neon\">fazerLogin()</span>: \"True\" |\n",
    "\n",
    "</center>\n"
   ]
  },
  {
   "attachments": {},
   "cell_type": "markdown",
   "metadata": {},
   "source": [
    "<p style=\"font-weight:900;text-align:center;\">C"
   ]
  },
  {
   "attachments": {},
   "cell_type": "markdown",
   "metadata": {},
   "source": [
    "<link rel=\"stylesheet\" href=\"style.css\">\n",
    "<center>\n",
    "\n",
    "|  Funcionário |\n",
    "|----------|\n",
    "| cpf: 804.523.744-79 |\n",
    "| nome: \"Func B\" |\n",
    "|                   |\n",
    "| <span class=\"verde-neon\">baterPonto()</span>: \"24-01-2023\" |\n",
    "| <span class=\"verde-neon\">fazerLogin()</span>: \"True\" |\n",
    "\n",
    "</center>\n"
   ]
  },
  {
   "attachments": {},
   "cell_type": "markdown",
   "metadata": {},
   "source": [
    "<link rel=\"stylesheet\" href=\"style.css\">\n",
    "\n",
    "### <h3>Encapsulamento</h5>"
   ]
  },
  {
   "attachments": {},
   "cell_type": "markdown",
   "metadata": {},
   "source": [
    "<link rel=\"stylesheet\" href=\"style.css\">\n",
    "<p id=\"centro\">O ato de <span class=\"vermelho-neon\">combinar os atributos e métodos na mesma entidade</span> é, na linguagem OO, chamado de <span class=\"vermelho-neon\">encapsulamento</span>, termo que também aparece na prática de tornar atributos privados, quando estes são encapsulados em métodos para guardar e acessar seus valores.<p>"
   ]
  },
  {
   "attachments": {},
   "cell_type": "markdown",
   "metadata": {},
   "source": [
    "<p style=\"font-weight:900;text-align:center;\">A"
   ]
  },
  {
   "attachments": {},
   "cell_type": "markdown",
   "metadata": {},
   "source": [
    "<link rel=\"stylesheet\" href=\"style.css\">\n",
    "<center>\n",
    "\n",
    "|  Funcionário |\n",
    "|----------|\n",
    "| cpf: String |\n",
    "| nome: String |\n",
    "|                   |\n",
    "| baterPonto(): String |\n",
    "| fazerLogin(): Boolean |\n",
    "\n",
    "</center>\n"
   ]
  },
  {
   "attachments": {},
   "cell_type": "markdown",
   "metadata": {},
   "source": [
    "<p style=\"font-weight:900;text-align:center;\">B"
   ]
  },
  {
   "attachments": {},
   "cell_type": "markdown",
   "metadata": {},
   "source": [
    "<link rel=\"stylesheet\" href=\"style.css\">\n",
    "<center>\n",
    "\n",
    "|  Funcionário |\n",
    "|----------|\n",
    "| <span class=\"vermelho-neon\">cpf: 508.673.148-79</span> |\n",
    "| <span class=\"vermelho-neon\">nome: \"Func A\"</span> |\n",
    "|                   |\n",
    "| <span class=\"vermelho-neon\">baterPonto(): \"28-01-2023\"</span> |\n",
    "| <span class=\"vermelho-neon\">fazerLogin(): \"True\"</span> |\n",
    "\n",
    "</center>\n"
   ]
  },
  {
   "attachments": {},
   "cell_type": "markdown",
   "metadata": {},
   "source": [
    "<p style=\"font-weight:900;text-align:center;\">C"
   ]
  },
  {
   "attachments": {},
   "cell_type": "markdown",
   "metadata": {},
   "source": [
    "<link rel=\"stylesheet\" href=\"style.css\">\n",
    "<center>\n",
    "\n",
    "|  Funcionário |\n",
    "|----------|\n",
    "| <span class=\"vermelho-neon\">cpf: 804.523.744-79</span> |\n",
    "| <span class=\"vermelho-neon\">nome: \"Func B\"</span> |\n",
    "|                   |\n",
    "| <span class=\"vermelho-neon\">baterPonto(): \"24-01-2023\"</span> |\n",
    "| <span class=\"vermelho-neon\">fazerLogin(): \"True\"</span> |\n",
    "\n",
    "</center>\n"
   ]
  },
  {
   "attachments": {},
   "cell_type": "markdown",
   "metadata": {},
   "source": [
    "<link rel=\"stylesheet\" href=\"style.css\">\n",
    "\n",
    "### <h3>Herança</h5>"
   ]
  },
  {
   "attachments": {},
   "cell_type": "markdown",
   "metadata": {},
   "source": [
    "<link rel=\"stylesheet\" href=\"style.css\">\n",
    "\n",
    "#### <h4>O que é Herança</h4>"
   ]
  },
  {
   "attachments": {},
   "cell_type": "markdown",
   "metadata": {},
   "source": [
    "<link rel=\"stylesheet\" href=\"style.css\">\n",
    "<p id=\"centro\">Por meio desse mecanismo, <span>é possível fazer o reúso de código</span>, criando soluções mais organizadas. A herança <span>permite que uma classe herde os atributos e métodos de outra classe</span>.<br>Em Python, uma <span>classe aceita múltiplas heranças, ou seja, herda recursos de diversas classes</span>. </p>"
   ]
  },
  {
   "attachments": {},
   "cell_type": "markdown",
   "metadata": {},
   "source": [
    "<link rel=\"stylesheet\" href=\"style.css\">\n",
    "<p id=\"centro\">As classes funcionário e cliente herdam os atributos da classe pessoa. A classe pessoa pode ser chamada de <span class=\"vermelho-neon\">classe-pai, classe-base, superclasse, ancestral</span>; por sua vez, as classes derivadas são as <span class=\"verde-neon\">classes-filhas, subclasses</span>. </p>"
   ]
  },
  {
   "attachments": {},
   "cell_type": "markdown",
   "metadata": {},
   "source": [
    "<center><img src=\"../../Jupyter Configs/Img/Imagens de conteúdos/Herança.png\" alt=\"Descrição da imagem\"></center>"
   ]
  },
  {
   "attachments": {},
   "cell_type": "markdown",
   "metadata": {},
   "source": [
    "<link rel=\"stylesheet\" href=\"style.css\">\n",
    "\n",
    "<p>ps: Na herança, quando adicionamos a função __init__(), a <span class=\"verde-neon\">classe-filho não herdará o construtor dos pais</span>. Ou seja, o construtor da classe-filho <span class=\"verde-neon\">sobrescreve (override) o da classe-pai</span>. <br><span class=\"vermelho-neon\">Para utilizar o construtor da classe-base, é necessário invocá-lo explicitamente, dentro do construtor-filho, da seguinte forma: ClassePai.__init__()."
   ]
  },
  {
   "attachments": {},
   "cell_type": "markdown",
   "metadata": {},
   "source": [
    "<link rel=\"stylesheet\" href=\"style.css\">\n",
    "\n",
    "#### <h4>Criando Herança</h4>"
   ]
  },
  {
   "attachments": {},
   "cell_type": "markdown",
   "metadata": {},
   "source": [
    "<link rel=\"stylesheet\" href=\"style.css\">\n",
    "\n",
    "<p>A sintaxe para criar a herança <span>é feita com parênteses após o nome da classe</span>: class NomeClasseFilha(NomeClassePai). <span>Se for uma herança múltipla, cada superclasse deve ser separada por vírgula</span>.</p>"
   ]
  },
  {
   "cell_type": "code",
   "execution_count": 1,
   "metadata": {},
   "outputs": [
    {
     "name": "stdout",
     "output_type": "stream",
     "text": [
      "Funcionário A\n",
      "111.111.111-11\n"
     ]
    }
   ],
   "source": [
    "class Pessoa:\n",
    "    def __init__(self):\n",
    "        self.cpf = None\n",
    "        self.nome = None\n",
    "        self.endereco = None\n",
    "\n",
    "class Funcionario(Pessoa):\n",
    "    def __init__(self):\n",
    "        self.matricula = None\n",
    "        self.salario = None\n",
    "    def bater_ponto(self):\n",
    "        #Código\n",
    "        pass\n",
    "    def fazer_login(self):\n",
    "        #Còdigo\n",
    "        pass\n",
    "\n",
    "class Cliente(Pessoa):\n",
    "    def __init__(self):\n",
    "        self.codigo = None\n",
    "        self.dataCadastro = None\n",
    "    def fazer_compra(self):\n",
    "        #código\n",
    "        pass\n",
    "    def pagar_conta(self):\n",
    "        #código\n",
    "        pass\n",
    "\n",
    "f1 = Funcionario()\n",
    "\n",
    "f1.nome = \"Funcionário A\" \n",
    "\n",
    "print(f1.nome) #Prova que a classe Funcionário herdou nome da classe Pessoa\n",
    "\n",
    "c1 = Cliente()\n",
    "\n",
    "c1.cpf = \"111.111.111-11\"\n",
    "\n",
    "print(c1.cpf)#Prova que a classe Cliente herdou cpf da classe Pessoa"
   ]
  },
  {
   "attachments": {},
   "cell_type": "markdown",
   "metadata": {},
   "source": [
    "<link rel=\"stylesheet\" href=\"style.css\">\n",
    "\n",
    "#### <h4>Métodos Mágicos</h4>"
   ]
  },
  {
   "attachments": {},
   "cell_type": "markdown",
   "metadata": {},
   "source": [
    "<link rel=\"stylesheet\" href=\"style.css\">\n",
    "\n",
    "<p><span>Quando uma classe é criada</span> em Python, ela <span>herda</span>, mesmo que não declarado explicitamente, <span>todos os recursos de uma classe-base chamada object</span>."
   ]
  },
  {
   "attachments": {},
   "cell_type": "markdown",
   "metadata": {},
   "source": [
    "<link rel=\"stylesheet\" href=\"style.css\">\n",
    "\n",
    "<p>Veja o resultado da função <span class=\"vermelho-neon\">dir()</span>, que retorna uma lista com os recursos de um objeto.</p>"
   ]
  },
  {
   "cell_type": "code",
   "execution_count": 5,
   "metadata": {},
   "outputs": [
    {
     "data": {
      "text/plain": [
       "['__class__',\n",
       " '__delattr__',\n",
       " '__dict__',\n",
       " '__dir__',\n",
       " '__doc__',\n",
       " '__eq__',\n",
       " '__format__',\n",
       " '__ge__',\n",
       " '__getattribute__',\n",
       " '__getstate__',\n",
       " '__gt__',\n",
       " '__hash__',\n",
       " '__init__',\n",
       " '__init_subclass__',\n",
       " '__le__',\n",
       " '__lt__',\n",
       " '__module__',\n",
       " '__ne__',\n",
       " '__new__',\n",
       " '__reduce__',\n",
       " '__reduce_ex__',\n",
       " '__repr__',\n",
       " '__setattr__',\n",
       " '__sizeof__',\n",
       " '__str__',\n",
       " '__subclasshook__',\n",
       " '__weakref__',\n",
       " 'cpf']"
      ]
     },
     "execution_count": 5,
     "metadata": {},
     "output_type": "execute_result"
    }
   ],
   "source": [
    "class Pessoa:\n",
    "    def __init__(self):\n",
    "        self.cpf = None\n",
    "\n",
    "dir(Pessoa())"
   ]
  },
  {
   "attachments": {},
   "cell_type": "markdown",
   "metadata": {},
   "source": [
    "<link rel=\"stylesheet\" href=\"style.css\">\n",
    "<p>A classe Pessoa, que explicitamente não tem nenhuma herança, possui uma <span>série de recursos nos quais os nomes estão com underline (sublinhado)</span>. Todos eles são <span>chamados de métodos mágicos</span> e, <span class=\"verde-neon\">com a herança, podem ser sobrescritos</span>."
   ]
  },
  {
   "attachments": {},
   "cell_type": "markdown",
   "metadata": {},
   "source": [
    "<link rel=\"stylesheet\" href=\"style.css\">\n",
    "\n",
    "#### <h4>Método construtor na herança e sobrescrita</h4>"
   ]
  },
  {
   "attachments": {},
   "cell_type": "markdown",
   "metadata": {},
   "source": [
    "<link rel=\"stylesheet\" href=\"style.css\">\n",
    "\n",
    "##### <h5>Construtor na herança</h5>"
   ]
  },
  {
   "attachments": {},
   "cell_type": "markdown",
   "metadata": {},
   "source": [
    "<link rel=\"stylesheet\" href=\"style.css\">\n",
    "\n",
    "<p>Na herança, quando adicionamos a função __init__(), a <span class=\"verde\">classe-filho não herdará o construtor dos pais</span>. Ou seja, o construtor da classe-filho <span class=\"verde-neon\">sobrescreve (override) o da classe-pai</span>. <br><span class=\"vermelho\">Para utilizar o construtor da classe-base, é necessário invocá-lo explicitamente, dentro do construtor-filho, da seguinte forma: ClassePai.__init__()."
   ]
  },
  {
   "attachments": {},
   "cell_type": "markdown",
   "metadata": {},
   "source": [
    "<link rel=\"stylesheet\" href=\"style.css\">\n",
    "\n",
    "##### <h5>Sobrescrita</h5>"
   ]
  },
  {
   "attachments": {},
   "cell_type": "markdown",
   "metadata": {},
   "source": [
    "<link rel=\"stylesheet\" href=\"style.css\">\n",
    "\n",
    "<p>Para exemplificar, vamos implementar nossa própria versão da classe 'int', que é usada para instanciar objetos inteiros.</p>"
   ]
  },
  {
   "cell_type": "code",
   "execution_count": 9,
   "metadata": {},
   "outputs": [
    {
     "name": "stdout",
     "output_type": "stream",
     "text": [
      "1\n",
      "2\n",
      "2\n",
      "20\n",
      "7\n",
      "13\n"
     ]
    }
   ],
   "source": [
    "class intNovo(int):\n",
    "\n",
    "    def __init__(self, n):\n",
    "        int.__init__(n)\n",
    "\n",
    "    def __add__(a, b):\n",
    "         return 1\n",
    "\n",
    "    def __str__(n):\n",
    "        return '2'\n",
    "    \n",
    "a = intNovo(7) #Nosso\n",
    "b = intNovo(13)\n",
    "print(a + b)\n",
    "print(a)\n",
    "print(b)\n",
    "\n",
    "c = int(7) #Original\n",
    "d = int(13)\n",
    "print(c + d)\n",
    "print(c)\n",
    "print(d)"
   ]
  },
  {
   "attachments": {},
   "cell_type": "markdown",
   "metadata": {},
   "source": [
    "Ao sobrescrever os métodos mágicos, utilizamos outra importante técnica da OO, o polimorfismo. Essa técnica, vale dizer, pode ser utilizada em qualquer método, não somente nos mágicos. Construir métodos com diferentes comportamentos pode ser feito sobrescrevendo (override) ou sobrecarregando (overload) métodos. No primeiro caso, a classe-filho sobrescreve um método da classe-base, por exemplo, o construtor, ou qualquer outro método. No segundo caso, da sobrecarga, um método é escrito com diferentes assinaturas para suportar diferentes comportamentos.\n",
    "\n",
    "Em Python, graças à sua natureza de interpretação e tipagem dinâmica, a operação de sobrecarga não é suportada de forma direta, o que significa que não conseguimos escrever métodos com os mesmos nomes, mas diferentes parâmetros (RAMALHO, 2014). Para contornar essa característica, podemos escrever o método com parâmetros default. Assim, a depender dos que forem passados, mediante estruturas condicionais, o método pode ter diferentes comportamentos ou fazer o overload com a utilização do decorator functools.singledispatch, cuja explicação foge ao escopo e propósito desta seção [no entanto, recomendamos, para aprofundamento sobre o assunto, a leitura das páginas 202 a 205 da obra de Ramalho (2014), além da documentação oficial do Python (que você pode encontrar aqui)."
   ]
  },
  {
   "attachments": {},
   "cell_type": "markdown",
   "metadata": {},
   "source": [
    "<link rel=\"stylesheet\" href=\"style.css\">\n",
    "\n",
    "#### <h4>Herança Múltipla</h4>"
   ]
  },
  {
   "attachments": {},
   "cell_type": "markdown",
   "metadata": {},
   "source": [
    "<link rel=\"stylesheet\" href=\"style.css\">\n",
    "\n",
    "<p>Python permite que uma classe-filha <span>herde recursos de mais de uma superclasse</span>. Para isso, <span>basta declarar cada classe a ser herdada separada por vírgula</span>.<br><br> A seguir temos uma série de classes:<br> A classe PCIEthernet herda recursos das classes PCI e Ethernet; logo, PCIEthernet é uma PCI e também uma Ethernet.<br> A classe USBWireless herda de USB e Wireless, mas Wireless herda de Ethernet; logo, USBWireless é uma USB, uma Wireless e também uma Ethernet, o que pode ser confirmado pelos resultados da função <span>built-in isinstance(objeto, classe), que checa se um objeto é uma instância de uma determinada classe</span>."
   ]
  },
  {
   "cell_type": "code",
   "execution_count": 10,
   "metadata": {},
   "outputs": [
    {
     "name": "stdout",
     "output_type": "stream",
     "text": [
      "PCIEthernet é uma PCI? True\n",
      "PCIEthernet é uma Ethernet? True\n",
      "PCIEthernet é uma USB? False\n",
      "\n",
      "USBWireless é uma USB? True\n",
      "USBWireless é uma Wireless? True\n",
      "USBWireless é uma Ethernet? True\n",
      "USBWireless é uma PCI? False\n"
     ]
    }
   ],
   "source": [
    "class Ethernet():\n",
    " def __init__(self, name, mac_address):\n",
    "    self.name = name\n",
    "    self.mac_address = mac_address\n",
    "class PCI():\n",
    " def __init__(self, bus, vendor):\n",
    "    self.bus = bus\n",
    "    self.vendor = vendor\n",
    "class USB():\n",
    " def __init__(self, device):\n",
    "    self.device = device\n",
    "    \n",
    "class Wireless(Ethernet):\n",
    " def __init__(self, name, mac_address):\n",
    "    Ethernet.__init__(self, name, mac_address)\n",
    "\n",
    "\n",
    "class PCIEthernet(PCI, Ethernet):\n",
    " def __init__(self, bus, vendor, name, mac_address):\n",
    "    PCI.__init__(self, bus, vendor)\n",
    "    Ethernet.__init__(self, name, mac_address)\n",
    "class USBWireless(USB, Wireless):\n",
    " def __init__(self, device, name, mac_address):\n",
    "    USB.__init__(self, device)\n",
    "    Wireless.__init__(self, name, mac_address)\n",
    "\n",
    "\n",
    "eth0 = PCIEthernet('pci :0:0:1', 'realtek', 'eth0', '00:11:22:33:44')\n",
    "wlan0 = USBWireless('usb0', 'wlan0', '00:33:44:55:66')\n",
    "\n",
    "print('PCIEthernet é uma PCI?', isinstance(eth0, PCI))\n",
    "print('PCIEthernet é uma Ethernet?', isinstance(eth0, Ethernet))\n",
    "print('PCIEthernet é uma USB?', isinstance(eth0, USB))\n",
    "print('\\nUSBWireless é uma USB?', isinstance(wlan0, USB))\n",
    "print('USBWireless é uma Wireless?', isinstance(wlan0, Wireless))\n",
    "print('USBWireless é uma Ethernet?', isinstance(wlan0, Ethernet))\n",
    "print('USBWireless é uma PCI?', isinstance(wlan0, PCI))"
   ]
  },
  {
   "attachments": {},
   "cell_type": "markdown",
   "metadata": {},
   "source": [
    "<link rel=\"stylesheet\" href=\"style.css\">\n",
    "\n",
    "### <h3>Poliformismo</h5>"
   ]
  },
  {
   "attachments": {},
   "cell_type": "markdown",
   "metadata": {},
   "source": [
    "<link rel=\"stylesheet\" href=\"style.css\">\n",
    "<p id=\"centro\">Embora o polimorfismo esteja fortemente associado à herança, é frequentemente <span class=\"azul-neon\">citado separadamente à herança, como uma das vantagens mais poderosas das tecnologias orientadas a objetos</span>. <span class=\"azul-neon\">Quando uma mensagem é enviada para um objeto, este deve ter um método definido para responder a essa mensagem</span>. Em uma hierarquia de herança, todas as subclasses herdam as interfaces de sua superclasse. No entanto, como toda subclasse é uma entidade separada, <span class=\"azul-neon\">cada uma delas pode exigir uma resposta separada para a mesma mensagem</span>.</p>"
   ]
  },
  {
   "attachments": {},
   "cell_type": "markdown",
   "metadata": {},
   "source": [
    "<link rel=\"stylesheet\" href=\"style.css\">\n",
    "\n",
    "### <h3>Módulos</h3>"
   ]
  },
  {
   "attachments": {},
   "cell_type": "markdown",
   "metadata": {},
   "source": [
    "<link rel=\"stylesheet\" href=\"style.css\">\n",
    "\n",
    "#### <h4>O que são</h4>"
   ]
  },
  {
   "attachments": {},
   "cell_type": "markdown",
   "metadata": {},
   "source": []
  },
  {
   "attachments": {},
   "cell_type": "markdown",
   "metadata": {},
   "source": [
    "<link rel=\"stylesheet\" href=\"style.css\">\n",
    "\n",
    "<p>Uma solução pode <span>começar com algumas linhas de códigos</span>, mas, em pouco tempo, <span>passa a ter centenas</span>, <span>milhares</span> e até <span>milhões</span> delas. <span>Nesse cenário, trabalhar com um único fluxo de código se torna inviável</span>, razão pela qual <span>surge a necessidade de técnicas de implementação para organizar a solução</span>. </p>"
   ]
  },
  {
   "attachments": {},
   "cell_type": "markdown",
   "metadata": {},
   "source": [
    "<link rel=\"stylesheet\" href=\"style.css\">\n",
    "\n",
    "<p>Uma <span>opção para organizar o código é implementar funções</span>, contexto em que cada bloco passa a ser responsável por uma determinada funcionalidade. <span>Outra forma é utilizar a orientação a objetos e criar classes que encapsulam as características e os comportamentos de um determinado objeto</span>. <span class=\"verde\">Conseguimos utilizar ambas as técnicas para melhorar o código, mas, ainda assim, estamos falando de toda a solução agrupada em um arquivo Python (.py)</span>. Considerando a necessidade de implementar uma solução, o mundo <span class=\"verde\">ideal é: fazer a separação em funções ou classes e ainda realizar a separação em vários arquivos .py</span>, o que é chamado de <span class=\"vermelho-neon\">modular uma solução</span>.</p>"
   ]
  },
  {
   "attachments": {},
   "cell_type": "markdown",
   "metadata": {},
   "source": [
    "<link rel=\"stylesheet\" href=\"style.css\">\n",
    "\n",
    "#### <h4>Recebendo um módulo</h4>"
   ]
  },
  {
   "attachments": {},
   "cell_type": "markdown",
   "metadata": {},
   "source": [
    "<link rel=\"stylesheet\" href=\"style.css\">\n",
    "\n",
    "<p>Ainda segundo a documentação do site, é uma boa prática <span class=\"verde\">declarar primeiro as bibliotecas-padrão</span> (módulos built-in), <span class=\"verde\">depois as bibliotecas de terceiros</span> e, <span class=\"verde\">por fim, os módulos específicos criados para a aplicação</span>. Cada bloco deve ser separado por uma linha em branco.</p>"
   ]
  },
  {
   "attachments": {},
   "cell_type": "markdown",
   "metadata": {},
   "source": [
    "<link rel=\"stylesheet\" href=\"style.css\">\n",
    "\n",
    "<p>Para utilizar um módulo é preciso importá-lo para o arquivo. Essa importação pode ser feita de maneiras distintas:</p>"
   ]
  },
  {
   "attachments": {},
   "cell_type": "markdown",
   "metadata": {},
   "source": [
    "<link rel=\"stylesheet\" href=\"style.css\">\n",
    "\n",
    "<span>Todas as funcionalidades de um módulo são carregadas na memória."
   ]
  },
  {
   "cell_type": "code",
   "execution_count": null,
   "metadata": {},
   "outputs": [],
   "source": [
    "import math\n",
    "math.cos(45) #Precisa ter math. antes para funcionar. N teste aqui, teste em um arquivo. Jupyter importa math sozinho."
   ]
  },
  {
   "attachments": {},
   "cell_type": "markdown",
   "metadata": {},
   "source": [
    "<link rel=\"stylesheet\" href=\"style.css\">\n",
    "\n",
    "<span>Todas as funcionalidades de um módulo são carregadas na memória."
   ]
  },
  {
   "cell_type": "code",
   "execution_count": null,
   "metadata": {},
   "outputs": [],
   "source": [
    "import math as apelido\n",
    "apelido.cos(45) #Precisa ter apelido. antes para funcionar. N teste aqui, teste em um arquivo. Jupyter importa math sozinho."
   ]
  },
  {
   "attachments": {},
   "cell_type": "markdown",
   "metadata": {},
   "source": [
    "<link rel=\"stylesheet\" href=\"style.css\">\n",
    "\n",
    "<span>Somente funcionalidades específicas de um módulo são carregadas na memória."
   ]
  },
  {
   "cell_type": "code",
   "execution_count": null,
   "metadata": {},
   "outputs": [],
   "source": [
    "from math import cos\n",
    "cos(45) #Por ter importado apenas o cos, não precisa citar nada antes dele."
   ]
  },
  {
   "attachments": {},
   "cell_type": "markdown",
   "metadata": {},
   "source": [
    "<link rel=\"stylesheet\" href=\"style.css\">\n",
    "\n",
    "<span>Abgaixo temos algumas aplicações do que vimos"
   ]
  },
  {
   "cell_type": "code",
   "execution_count": null,
   "metadata": {},
   "outputs": [],
   "source": [
    "#O sys.exit(), diferente do break, para COMPLETAMENTE a execução do programa já naquele ponto, nada após ele é feito além do fechamento.\n",
    "\n",
    "import sys\n",
    "\n",
    "while 1:\n",
    "    print(\"Digite sair para sair: \")\n",
    "    resposta = input()\n",
    "    if resposta == 'sair':\n",
    "        sys.exit()\n",
    "    print('Você digitou' + resposta + ' e não \"sair\".')"
   ]
  },
  {
   "cell_type": "code",
   "execution_count": null,
   "metadata": {},
   "outputs": [],
   "source": [
    "# O código gera 6 números aleatórios entre 1 e 60.\n",
    "\n",
    "import random\n",
    "for i in range(6):\n",
    "    print(random.randint(1,60))"
   ]
  },
  {
   "cell_type": "code",
   "execution_count": null,
   "metadata": {},
   "outputs": [],
   "source": []
  },
  {
   "attachments": {},
   "cell_type": "markdown",
   "metadata": {},
   "source": [
    "<link rel=\"stylesheet\" href=\"style.css\">\n",
    "\n",
    "#### <h4>Enviando um módulo</h4>"
   ]
  },
  {
   "attachments": {},
   "cell_type": "markdown",
   "metadata": {},
   "source": [
    "<link rel=\"stylesheet\" href=\"style.css\">\n",
    "\n",
    "<p>Segundo a documentação oficial do Python, é preferível implementar, em <span class=\"vermelho-neon\">um arquivo separado, uma funcionalidade que você possa reutilizar</span>, criando assim um módulo.</p>"
   ]
  },
  {
   "cell_type": "code",
   "execution_count": null,
   "metadata": {},
   "outputs": [],
   "source": [
    "def fib(n):\n",
    "    a, b= 0, 1\n",
    "    while a < n:\n",
    "        print(a, end=' ')\n",
    "        a, b = b, a+b\n",
    "    print()\n",
    "\n",
    "def fib2():\n",
    "    result = []\n",
    "    a, b = 0, 1\n",
    "    while a > n:\n",
    "        result.append(a)\n",
    "        a, b = b, a+b\n",
    "    return result\n",
    "\n",
    "def hello():\n",
    "    print('hello world')\n",
    "\n",
    "import fib\n",
    "import fib2 \n",
    "import hello"
   ]
  },
  {
   "attachments": {},
   "cell_type": "markdown",
   "metadata": {},
   "source": [
    "<link rel=\"stylesheet\" href=\"style.css\">\n",
    "\n",
    "### <h3>Módulo como biblioteca</h3>"
   ]
  },
  {
   "attachments": {},
   "cell_type": "markdown",
   "metadata": {},
   "source": [
    "<link rel=\"stylesheet\" href=\"style.css\">\n",
    "\n",
    "<p>Falamos em módulo, mas em Python se ouve muito o termo biblioteca. O que será que eles têm em comum?</p>"
   ]
  },
  {
   "attachments": {},
   "cell_type": "markdown",
   "metadata": {},
   "source": [
    "<link rel=\"stylesheet\" href=\"style.css\">\n",
    "\n",
    "<p>Na verdade, um módulo <span class=\"vermelho-neon\" style=\"font-weight:700;\">pode</span> <span>ser uma biblioteca de códigos</span>, o qual possui <span>diversas funções (matemáticas, sistema operacional, etc.)</span> as quais <span>possibilitam a reutilização de código de uma forma elegante e eficiente</span>.</p>"
   ]
  },
  {
   "cell_type": "code",
   "execution_count": null,
   "metadata": {},
   "outputs": [],
   "source": [
    "import os #Sistema Operacional\n",
    "\n",
    "# Define o caminho onde a pasta será criada\n",
    "caminho = r'C:\\Users\\rea4d\\OneDrive\\Documentos\\Mkdir'\n",
    "\n",
    "# Cria a pasta usando a função mkdir do módulo os\n",
    "os.mkdir(caminho)\n",
    "\n",
    "#Retorna uma string representando o diretório deste programa\n",
    "cwd = os.getcwd()\n",
    "print(cwd)"
   ]
  },
  {
   "attachments": {},
   "cell_type": "markdown",
   "metadata": {},
   "source": [
    "<link rel=\"stylesheet\" href=\"style.css\">\n",
    "\n",
    "<p>Para utilizar um módulo é preciso importá-lo para o arquivo. Essa importação pode ser feita de maneiras distintas:</p>"
   ]
  },
  {
   "cell_type": "code",
   "execution_count": null,
   "metadata": {},
   "outputs": [],
   "source": [
    "import moduloXXText # Todas as funcionalidades de um módulo são carregadas na memória.\n",
    "\n",
    "import moduloXX as apelido # Todas as funcionalidades de um módulo são carregadas na memória.\n",
    "\n",
    "from moduloXX import itemA, itemB # Somente funcionalidades específicas de um módulo são carregadas na memória. Não precisa citar moduloXX. antes dos itens"
   ]
  },
  {
   "attachments": {},
   "cell_type": "markdown",
   "metadata": {},
   "source": [
    "<link rel=\"stylesheet\" href=\"style.css\">\n",
    "\n",
    "### <h3>Módulos (bibliotecas) built-in</h3>"
   ]
  },
  {
   "attachments": {},
   "cell_type": "markdown",
   "metadata": {},
   "source": [
    "<link rel=\"stylesheet\" href=\"style.css\">\n",
    "\n",
    "#### <h4>Explicação</h4>"
   ]
  },
  {
   "attachments": {},
   "cell_type": "markdown",
   "metadata": {},
   "source": [
    "<link rel=\"stylesheet\" href=\"style.css\">\n",
    "\n",
    "<p>Ao instalar o interpretador Python, também é feita a instalação de uma biblioteca de módulos, que <span class=\"verde\">pode variar de um sistema operacional para outro</span>.<br> <span class=\"vermelho-neon\">Alguns módulos estão embutidos no interpretador</span>; estes possibilitam acesso a <span class=\"vermelho-neon\">operações que não são parte do núcleo da linguagem</span>, mas <span class=\"vermelho-neon\">estão no interpretador seja por eficiência ou para permitir o acesso a chamadas do sistema operacional</span>.<br><span>Como estão embutidos no interpretador, esses módulos não precisam de nenhuma instalação adicional</span>.<br><br>São vários os módulos built-in disponíveis:<a href=\"https://docs.python.org/3/py-modindex.html\" url=\"https://docs.python.org/3/py-modindex.html\">https://docs.python.org/3/py-modindex.html</a>"
   ]
  },
  {
   "attachments": {},
   "cell_type": "markdown",
   "metadata": {},
   "source": [
    "<link rel=\"stylesheet\" href=\"style.css\">\n",
    "\n",
    "#### <h4>Mostrando algumas</h4>"
   ]
  },
  {
   "cell_type": "code",
   "execution_count": 1,
   "metadata": {},
   "outputs": [
    {
     "name": "stdout",
     "output_type": "stream",
     "text": [
      "13\n",
      "100\n",
      "[22269, 56090, 40189, 10076, 41807, 9637, 90068, 79006, 91831, 71132, 59837, 78920]\n"
     ]
    }
   ],
   "source": [
    "import random\n",
    "\n",
    "print(random.randint(0, 100)) # retorna um valor inteiro aleatório, de modo que esse número esteja no intervalo a, b. \n",
    "\n",
    "print(random.choice([1, 10, -1, 100])) # extrai um valor de forma aleatória de uma certa sequência.  \n",
    "\n",
    "print(random.sample(range(100000), k=12)) # random.sample(population, k): retorna uma lista com k elementos, extraídos da população."
   ]
  },
  {
   "cell_type": "code",
   "execution_count": 4,
   "metadata": {},
   "outputs": [
    {
     "name": "stdout",
     "output_type": "stream",
     "text": [
      "1) c:\\Users\\rea4d\\OneDrive\\Documentos\\GitHub\\Rea\\Estudos\\Python\\Caderno Jupyter\n",
      "\n",
      "2) ['Python Caderno Jupyter.ipynb', 'style.css', 'testes.py']\n",
      "\n",
      "3) 4\n",
      "\n",
      "4) rea4d\n",
      "\n",
      "5) c:\\Users\\rea4d\\AppData\\Local\\Programs\\Python\\Python311;c:\\Users\\rea4d\\AppData\\Roaming\\Python\\Python311\\Scripts;C:\\Program Files\\Common Files\\Oracle\\Java\\javapath;C:\\Program Files (x86)\\Common Files\\Oracle\\Java\\javapath;C:\\Program Files (x86)\\NVIDIA Corporation\\PhysX\\Common;C:\\Windows\\system32;C:\\Windows;C:\\Windows\\System32\\Wbem;C:\\Windows\\System32\\WindowsPowerShell\\v1.0\\;C:\\Windows\\System32\\OpenSSH\\;C:\\Program Files (x86)\\Paragon Software\\LinuxFS for Windows\\;C:\\Program Files (x86)\\Intel\\OpenCL SDK\\2.0\\bin\\x86;C:\\Program Files (x86)\\Intel\\OpenCL SDK\\2.0\\bin\\x64;C:\\Program Files\\Git\\cmd;C:\\Program Files\\dotnet\\;C:\\ProgramData\\chocolatey\\bin;C:\\Program Files (x86)\\Yarn\\bin\\;C:\\Program Files\\Java\\jdk-19;C:\\Program Files\\nodejs\\;C:\\Users\\rea4d\\AppData\\Local\\Programs\\Python\\Python311\\Scripts\\;C:\\Users\\rea4d\\AppData\\Local\\Programs\\Python\\Python311\\;C:\\Users\\rea4d\\AppData\\Local\\Microsoft\\WindowsApps;C:\\Users\\rea4d\\AppData\\Local\\GitHubDesktop\\bin;C:\\Users\\rea4d\\AppData\\Local\\Yarn\\bin;C:\\Program Files\\Multipass\\bin;C:\\Users\\rea4d\\AppData\\Roaming\\npm;C:\\Program Files\\MySQL\\MySQL Server 8.0\\bin;C:\\Users\\rea4d\\AppData\\Local\\Programs\\Microsoft VS Code\\bin;C:\\Program Files\\Common Files\\Oracle\\Java\\javapath;C:\\Program Files (x86)\\Common Files\\Oracle\\Java\\javapath;C:\\Program Files (x86)\\NVIDIA Corporation\\PhysX\\Common;C:\\Windows\\system32;C:\\Windows;C:\\Windows\\System32\\Wbem;C:\\Windows\\System32\\WindowsPowerShell\\v1.0\\;C:\\Windows\\System32\\OpenSSH\\;C:\\Program Files (x86)\\Paragon Software\\LinuxFS for Windows\\;C:\\Program Files (x86)\\Intel\\OpenCL SDK\\2.0\\bin\\x86;C:\\Program Files (x86)\\Intel\\OpenCL SDK\\2.0\\bin\\x64;C:\\Program Files\\Git\\cmd;C:\\Program Files\\dotnet\\;C:\\ProgramData\\chocolatey\\bin;C:\\Program Files (x86)\\Yarn\\bin\\;C:\\Program Files\\Java\\jdk-19;C:\\Program Files\\nodejs\\;C:\\Users\\rea4d\\AppData\\Local\\Programs\\Python\\Python311\\Scripts\\;C:\\Users\\rea4d\\AppData\\Local\\Programs\\Python\\Python311\\;C:\\Users\\rea4d\\AppData\\Local\\Microsoft\\WindowsApps;C:\\Users\\rea4d\\AppData\\Local\\GitHubDesktop\\bin;C:\\Users\\rea4d\\AppData\\Local\\Yarn\\bin;C:\\Program Files\\Multipass\\bin;C:\\Users\\rea4d\\AppData\\Roaming\\npm;C:\\Program Files\\MySQL\\MySQL Server 8.0\\bin;C:\\Users\\rea4d\\AppData\\Local\\Programs\\Microsoft VS Code\\bin\n",
      "\n",
      "6) 1892\n",
      "\n"
     ]
    }
   ],
   "source": [
    "import os\n",
    "\n",
    "print(f\"1) {os.getcwd()}\\n\") # retorna uma string com o caminho do diretório de trabalho. \n",
    "\n",
    "print(f\"2) {os.listdir()}\\n\") # retorna uma lista com todas as entradas de um diretório. Se não for especificado um caminho, então a busca é realizada em outro diretório de trabalho. \n",
    "\n",
    "print(f\"3) {os.cpu_count()}\\n\") # retorna um inteiro com o número de CPUs do sistema. \n",
    "\n",
    "print(f\"4) {os.getlogin()}\\n\") # retorna o nome do usário logado. \n",
    "\n",
    "print(f\"5) {os.getenv(key='path')}\\n\") # retorna uma string com o conteúdo de uma variável de ambiente especificada na key. \n",
    "\n",
    "print(f\"6) {os.getpid()}\\n\") # retorna o id do processo atual."
   ]
  },
  {
   "cell_type": "code",
   "execution_count": 6,
   "metadata": {},
   "outputs": [
    {
     "name": "stdout",
     "output_type": "stream",
     "text": [
      "meuArquivo\n",
      "meuArquivo\n",
      "meuArquivo\n"
     ]
    }
   ],
   "source": [
    "import re as RegEx\n",
    "\n",
    "string = 'meuArquivo_20-01-2020.py'\n",
    "\n",
    "padrao = \"[a-zA-Z]*\"\n",
    "\n",
    "texto1 = RegEx.search(padrao, string).group() # varre a string procurando o primeiro local onde o padrão de expressão regular produz uma correspondência e o retorna. \n",
    "# Retorna None se nenhuma correspondência é achada.\n",
    "\n",
    "texto2 = RegEx.match(padrao, string).group() # procura por um padrão no começo da string. Retorna None se a sequência não corresponder ao padrão.\n",
    "\n",
    "texto3 = RegEx.split(\"_\", string)[0] # divide uma string pelas ocorrências do padrão.\n",
    "\n",
    "print(texto1)\n",
    "\n",
    "print(texto2)\n",
    "\n",
    "print(texto3)"
   ]
  },
  {
   "cell_type": "code",
   "execution_count": 21,
   "metadata": {},
   "outputs": [
    {
     "name": "stdout",
     "output_type": "stream",
     "text": [
      "Data e hora de AGORA: 2023-05-01 17:12:28.223352\n",
      "\n",
      "Data e hora de hoje: 2023-05-01 17:12:28.223353\n",
      "\n",
      "Data e hora de ontem: 2023-04-30 17:12:28.223353\n",
      "\n",
      "Data e hora de 1 semana atrás: 2023-04-24 17:12:28.223353\n",
      "\n",
      "-\n",
      "-\n",
      "-\n",
      "-\n",
      "-\n",
      "Data de hoje formatado: 01-05-2023\n",
      "\n",
      "Data de ontem formatado: 30 de April de 2023\n",
      "\n",
      "-\n",
      "-\n",
      "-\n",
      "-\n",
      "-\n",
      "11/06/2019 15:30 -> 2019-06-11 15:30:00\n",
      "\n"
     ]
    }
   ],
   "source": [
    "import datetime as dt\n",
    "\n",
    "# Operações com data e hora\n",
    "agora = dt.datetime.now() #datetime para captura a data e hora do sistema.\n",
    "print(f\"Data e hora de AGORA: {agora}\\n\")\n",
    "\n",
    "hoje = dt.datetime.today() \n",
    "print(f\"Data e hora de hoje: {hoje}\\n\")\n",
    "\n",
    "ontem = hoje - dt.timedelta(days=1) #timedelta para subtrair 1 dia de uma data específica.\n",
    "print(f\"Data e hora de ontem: {ontem}\\n\")\n",
    "\n",
    "uma_semana_atras = hoje - dt.timedelta(weeks=1) \n",
    "print(f\"Data e hora de 1 semana atrás: {uma_semana_atras}\\n\")\n",
    "\n",
    "for i in range(0, 5):\n",
    "    print(\"-\")\n",
    "\n",
    "\n",
    "\n",
    "\n",
    "# Formatação\n",
    "\n",
    "hoje_formatado = dt.datetime.strftime(hoje, \"%d-%m-%Y\") # formatar a aparência de uma data específica\n",
    "print(f\"Data de hoje formatado: {hoje_formatado}\\n\")\n",
    "\n",
    "#https://docs.python.org/3/library/datetime.html#strftime-strptime-behavior\n",
    "\n",
    "ontem_formatado = dt.datetime.strftime(ontem, \"%d de %B de %Y\")\n",
    "print(f\"Data de ontem formatado: {ontem_formatado}\\n\")\n",
    "\n",
    "for i in range(0, 5):\n",
    "    print(\"-\")\n",
    "\n",
    "\n",
    "\n",
    "# Converção de string para data\n",
    "\n",
    "data_string = '11/06/2019 15:30'\n",
    "\n",
    "data_dt = dt.datetime.strptime(data_string, \"%d/%m/%Y %H:%M\") #converter uma string em um objeto do tipo datetime. Essa transformação é interessante, pois habilita as operações que vimos.\n",
    "print(f\"11/06/2019 15:30 -> {data_dt}\\n\")"
   ]
  },
  {
   "attachments": {},
   "cell_type": "markdown",
   "metadata": {},
   "source": [
    "<link rel=\"stylesheet\" href=\"style.css\">\n",
    "\n",
    "#### <h4>Lista de todas</h4>"
   ]
  },
  {
   "attachments": {},
   "cell_type": "markdown",
   "metadata": {},
   "source": [
    "<link rel=\"stylesheet\" href=\"style.css\">\n",
    "\n",
    "<p>Aqui você encontra todos os módulos em Python. Para saber o que tem dentro destes módulos, use dir() e help()"
   ]
  },
  {
   "cell_type": "code",
   "execution_count": 5,
   "metadata": {},
   "outputs": [
    {
     "name": "stdout",
     "output_type": "stream",
     "text": [
      "['__doc__', '__loader__', '__name__', '__package__', '__spec__', 'acos', 'acosh', 'asin', 'asinh', 'atan', 'atan2', 'atanh', 'cbrt', 'ceil', 'comb', 'copysign', 'cos', 'cosh', 'degrees', 'dist', 'e', 'erf', 'erfc', 'exp', 'exp2', 'expm1', 'fabs', 'factorial', 'floor', 'fmod', 'frexp', 'fsum', 'gamma', 'gcd', 'hypot', 'inf', 'isclose', 'isfinite', 'isinf', 'isnan', 'isqrt', 'lcm', 'ldexp', 'lgamma', 'log', 'log10', 'log1p', 'log2', 'modf', 'nan', 'nextafter', 'perm', 'pi', 'pow', 'prod', 'radians', 'remainder', 'sin', 'sinh', 'sqrt', 'tan', 'tanh', 'tau', 'trunc', 'ulp']\n",
      "\n",
      "Help on built-in function sqrt in module math:\n",
      "\n",
      "sqrt(x, /)\n",
      "    Return the square root of x.\n",
      "\n"
     ]
    }
   ],
   "source": [
    "import math\n",
    "print(f\"{dir(math)}\\n\")\n",
    "help(math.sqrt)\n"
   ]
  },
  {
   "attachments": {},
   "cell_type": "markdown",
   "metadata": {},
   "source": [
    "<link rel=\"stylesheet\" href=\"style.css\">\n",
    "\n",
    "###### <h5 class=\"branco-neon\">A-E</h5>"
   ]
  },
  {
   "attachments": {},
   "cell_type": "markdown",
   "metadata": {},
   "source": [
    "<center><div class=\"relative flex w-[calc(100%-50px)] flex-col gap-1 md:gap-3 lg:w-[calc(100%-115px)]\"><div class=\"flex flex-grow flex-col gap-3\"><div class=\"min-h-[20px] flex flex-col items-start gap-4 whitespace-pre-wrap break-words\"><div class=\"markdown prose w-full break-words dark:prose-invert light\"><table><thead><tr><th>Módulo</th><th>Descrição</th></tr></thead><tbody><tr><td>__ future __</td><td>Definições de declarações futuras</td></tr><tr><td>__ main __</td><td>Ambiente onde o código de nível superior é executado.</td></tr><tr><td>__thread</td><td>API de thread de baixo nível</td></tr><tr><td>abc</td><td>Classes abstratas base de acordo com PEP 3119</td></tr><tr><td>argparse</td><td>Biblioteca de análise de argumentos e opções da linha de comando</td></tr><tr><td>array</td><td>Matrizes eficientes em termos de espaço de valores numéricos uniformemente tipados</td></tr><tr><td>ast</td><td>Classes e manipulação da Árvore de sintaxe abstrata</td></tr><tr><td>asyncio</td><td>E / S assíncrona</td></tr><tr><td>atexit</td><td>Registra e executa funções de limpeza</td></tr><tr><td>audioop</td><td>Manipulação de dados de áudio brutos</td></tr><tr><td>base64</td><td>Codificação e decodificação de dados e fluxos</td></tr><tr><td>bdb</td><td>Estrutura de depuração</td></tr><tr><td>binascii</td><td>Ferramentas para conversão entre binário e várias representações binárias codificadas em ASCII</td></tr><tr><td>bisect</td><td>Algoritmos de bissecção de matrizes para pesquisa binária</td></tr><tr><td>builtins</td><td>O módulo que fornece o namespace incorporado</td></tr><tr><td>bz2</td><td>Interfaces para compressão e descompressão bzip2</td></tr><tr><td>calendar</td><td>Funções para trabalhar com calendários, incluindo emulação do programa cal do Unix</td></tr><tr><td>cgi</td><td>Ajuda para executar scripts Python por meio da Interface Gateway Comum</td></tr><tr><td>cgitb</td><td>Manipulador de rastreamento configurável para scripts CGI</td></tr><tr><td>chunk</td><td>Leitura de pedaços IFF</td></tr><tr><td>cmath</td><td>Funções matemáticas para números complexos</td></tr><tr><td>cmd</td><td>Construir interpretadores de comando orientados por linha</td></tr><tr><td>code</td><td>Instalações para implementar loops de leitura-avaliação-impressão</td></tr><tr><td>codecs</td><td>Codificar e decodificar dados e fluxos</td></tr><tr><td>codeop</td><td>Compilar (possivelmente incompleto) código Python</td></tr><tr><td>collections</td><td>Tipos de contêiner</td></tr><tr><td>colorsys</td><td>Funções de conversão entre RGB e outros sistemas de cores</td></tr><tr><td>compileall</td><td>Ferramentas para compilar em bytes todos os arquivos de origem Python em uma árvore de diretórios</td></tr><tr><td>configparser</td><td>Analisador de arquivo de configuração</td></tr><tr><td>contextlib</td><td>Utilitários para contextos com instruções</td></tr><tr><td>contextvars</td><td>Variáveis ​​de contexto</td></tr><tr><td>copy</td><td>Operações de cópia superficial e profunda</td></tr><tr><td>copyreg</td><td>Registrar funções de suporte de pickle</td></tr><tr><td>cProfile</td><td>Determinar o tempo de execução do programa</td></tr><tr><td>crypt (Unix)</td><td>Função crypt () usada para verificar senhas Unix</td></tr><tr><td>csv</td><td>Gravar e ler dados tabulares de arquivos delimitados</td></tr><tr><td>ctypes</td><td>Uma biblioteca de funções estrangeiras para Python</td></tr><tr><td>curses (Unix)</td><td>Uma interface para a biblioteca curses, fornecendo tratamento de terminal portátil</td></tr><tr><td>dataclasses</td><td>Gerar métodos especiais em classes definidas pelo usuário</td></tr><tr><td>datetime</td><td>Tipos básicos de data e hora</td></tr><tr><td>decimal</td><td>Implementação da especificação aritmética decimal geral</td></tr><tr><td>difflib</td><td>Auxiliares para calcular diferenças entre objetos</td></tr><tr><td>dis</td><td>Desmontador para bytecode Python</td></tr><tr><td>doctest</td><td>Testar pedaços de código dentro de docstrings</td></tr><tr><td>email</td><td>Suporte para análise, manipulação e geração de mensagens de email</td></tr><tr><td>ensurepip</td><td>Bootstrap do instalador \"pip\"</td></tr></tbody></table></div></div></div><div class=\"flex justify-between lg:block\"><div class=\"text-gray-400 flex self-end lg:self-center justify-center mt-2 gap-2 md:gap-3 lg:gap-1 lg:absolute lg:top-0 lg:translate-x-full lg:right-0 lg:mt-0 lg:pl-2 visible\"></path></svg></button></div></div></div><center>"
   ]
  },
  {
   "attachments": {},
   "cell_type": "markdown",
   "metadata": {},
   "source": [
    "<link rel=\"stylesheet\" href=\"style.css\">\n",
    "\n",
    "###### <h5 class=\"branco-neon\">E-M</h5>"
   ]
  },
  {
   "attachments": {},
   "cell_type": "markdown",
   "metadata": {},
   "source": [
    "<center><div class=\"relative flex w-[calc(100%-50px)] flex-col gap-1 md:gap-3 lg:w-[calc(100%-115px)]\"><div class=\"flex flex-grow flex-col gap-3\"><div class=\"min-h-[20px] flex flex-col items-start gap-4 whitespace-pre-wrap break-words\"><div class=\"markdown prose w-full break-words dark:prose-invert light\"><p></p><table><thead><tr><th>Módulo</th><th>Descrição</th></tr></thead><tbody><tr><td>enum</td><td>Implementação de uma classe de enumeração.</td></tr><tr><td>errno</td><td>Símbolos padrão do sistema errno.</td></tr><tr><td>faulthandler</td><td>Imprime o rastreamento de pilha do Python em caso de falha.</td></tr><tr><td>fcntl (Unix)</td><td>Chamadas de sistema fcntl() e ioctl().</td></tr><tr><td>filecmp</td><td>Compara arquivos de forma eficiente.</td></tr><tr><td>fileinput</td><td>Itera sobre a entrada padrão ou uma lista de arquivos.</td></tr><tr><td>fnmatch</td><td>Corresponde a padrões de nome de arquivo no estilo do shell Unix.</td></tr><tr><td>fractions</td><td>Números racionais.</td></tr><tr><td>ftplib</td><td>Cliente do protocolo FTP (requer sockets).</td></tr><tr><td>functools</td><td>Funções de ordem superior e operações em objetos invocáveis.</td></tr><tr><td>gc</td><td>Interface para o coletor de lixo que detecta ciclos.</td></tr><tr><td>getopt</td><td>Analisador de linha de comando portátil com suporte a nomes curtos e longos de opções.</td></tr><tr><td>getpass</td><td>Leitura portátil de senhas e obtenção do ID do usuário.</td></tr><tr><td>gettext</td><td>Serviços de internacionalização multilíngue.</td></tr><tr><td>glob</td><td>Expansão de padrões de nome de caminho no estilo do shell Unix.</td></tr><tr><td>graphlib</td><td>Funcionalidade para operar com estruturas semelhantes a gráficos.</td></tr><tr><td>grp (Unix)</td><td>O banco de dados de grupos (getgrnam() e amigos).</td></tr><tr><td>gzip</td><td>Interfaces para compressão e descompressão gzip usando objetos de arquivo.</td></tr><tr><td>hashlib</td><td>Algoritmos seguros de hash e resumo de mensagem.</td></tr><tr><td>heapq</td><td>Algoritmo de fila de prioridade (também conhecido como fila de prioridade).</td></tr><tr><td>hmac</td><td>Implementação de autenticação de mensagem com chave (HMAC).</td></tr><tr><td>html</td><td>Auxiliares para manipular HTML.</td></tr><tr><td>http</td><td>Códigos e mensagens de status HTTP.</td></tr><tr><td>idlelib</td><td>Pacote de implementação para o shell/editor IDLE.</td></tr><tr><td>imaplib</td><td>Cliente do protocolo IMAP4 (requer sockets).</td></tr><tr><td>imghdr</td><td>(Descontinuado) Determina o tipo de imagem contida em um arquivo ou fluxo de bytes.</td></tr><tr><td>imp</td><td>(Descontinuado) Acesso à implementação da declaração de importação.</td></tr><tr><td>importlib</td><td>A implementação da máquina de importação.</td></tr><tr><td>inspect</td><td>Extrai informações e código-fonte de objetos vivos.</td></tr><tr><td>io</td><td>Ferramentas básicas para trabalhar com fluxos.</td></tr><tr><td>ipaddress</td><td>Biblioteca de manipulação IPv4/IPv6.</td></tr><tr><td>itertools</td><td>Funções que criam iteradores para loops eficientes.</td></tr><tr><td>json</td><td>Codifica e decodifica o formato JSON.</td></tr><tr><td>keyword</td><td>Testa se uma string é uma palavra-chave em Python.</td></tr><tr><td>lib2to3</td><td>A biblioteca 2to3.</td></tr><tr><td>linecache</td><td>Fornece acesso aleatório a linhas individuais de arquivos de texto.</td></tr><tr><td>locale</td><td>Serviços de internacionalização.</td></tr><tr><td>logging</td><td>Sistema flexível de registro de eventos para aplicativos.</td></tr><tr><td>lzma</td><td>Um invólucro Python para a biblioteca de compressão liblzma.</td></tr><tr><td>mailbox</td><td>Manipula caixas de correio em vários formatos.</td></tr><tr><td></td><td></td></tr></tbody></table></div></div></div><div class=\"flex justify-between lg:block\"><div class=\"text-gray-400 flex self-end lg:self-center justify-center mt-2 gap-2 md:gap-3 lg:gap-1 lg:absolute lg:top-0 lg:translate-x-full lg:right-0 lg:mt-0 lg:pl-2 visible\"></path></svg></button></div></div></div></center>"
   ]
  },
  {
   "attachments": {},
   "cell_type": "markdown",
   "metadata": {},
   "source": [
    "<link rel=\"stylesheet\" href=\"style.css\">\n",
    "\n",
    "###### <h5 class=\"branco-neon\">M-R</h5>"
   ]
  },
  {
   "attachments": {},
   "cell_type": "markdown",
   "metadata": {},
   "source": [
    "<center><div class=\"relative flex w-[calc(100%-50px)] flex-col gap-1 md:gap-3 lg:w-[calc(100%-115px)]\"><div class=\"flex flex-grow flex-col gap-3\"><div class=\"min-h-[20px] flex flex-col items-start gap-4 whitespace-pre-wrap break-words\"><div class=\"markdown prose w-full break-words dark:prose-invert light\"><p>Segue abaixo a tabela 2x2 com os módulos built-in da linguagem Python e suas respectivas descrições, desconsiderando os módulos descontinuados:</p><table><thead><tr><th>Nome do Módulo</th><th>Descrição</th></tr></thead><tbody><tr><td><p>marshal</p></td><td>Converte objetos Python em fluxos de bytes e vice-versa (com diferentes restrições).</td></tr><tr><td><p>math</p></td><td>Funções matemáticas (sin(), etc.).</td></tr><tr><td><p>mimetypes</p></td><td>Mapeamento de extensões de nome de arquivo para tipos MIME.</td></tr><tr><td><p>mmap</p></td><td>Interface para arquivos com mapeamento de memória para Unix e Windows.</td></tr><tr><td><p>modulefinder</p></td><td>Encontra módulos usados por um script.</td></tr><tr><td><p>msvcrt</p> (Windows)</td><td>Rotinas úteis diversas da biblioteca MS VC++.</td></tr><tr><td><p>multiprocessing</p></td><td>Paralelismo baseado em processos.</td></tr><tr><td><p>netrc</p></td><td>Carregamento de arquivos .netrc.</td></tr><tr><td><p>nntplib</p></td><td>Cliente de protocolo NNTP (requer sockets).</td></tr><tr><td><p>numbers</p></td><td>Classes abstratas numéricas (Complex, Real, Integral, etc.).</td></tr><tr><td><p>operator</p></td><td>Funções correspondentes aos operadores padrão.</td></tr><tr><td><p>os</p></td><td>Interfaces de sistema operacional diversas.</td></tr><tr><td><p>pathlib</p></td><td>Caminhos do sistema de arquivos orientados a objetos.</td></tr><tr><td><p>pdb</p></td><td>O depurador Python para interpretadores interativos.</td></tr><tr><td><p>pickle</p></td><td>Converte objetos Python em fluxos de bytes e vice-versa.</td></tr><tr><td><p>pickletools</p></td><td>Contém extensos comentários sobre os protocolos pickle e os opps da máquina pickle, além de algumas funções úteis.</td></tr><tr><td><p>pkgutil</p></td><td>Utilidades para o sistema de importação.</td></tr><tr><td><p>platform</p></td><td>Recupera o máximo de dados de identificação de plataforma possível.</td></tr><tr><td><p>plistlib</p></td><td>Gera e analisa arquivos plist da Apple.</td></tr><tr><td><p>poplib</p></td><td>Cliente de protocolo POP3 (requer sockets).</td></tr><tr><td><p>posix</p> (Unix)</td><td>As chamadas do sistema POSIX mais comuns (normalmente usadas por meio do módulo os).</td></tr><tr><td><p>pprint</p></td><td>Impressora de dados com formatação.</td></tr><tr><td><p>profile</p></td><td>Perfilador de código-fonte Python.</td></tr><tr><td><p>pstats</p></td><td>Objeto de estatísticas para uso com o perfilador.</td></tr><tr><td><p>pty</p> (Unix)</td><td>Controle de pseudo-terminal para Unix.</td></tr><tr><td><p>pwd</p> (Unix)</td><td>O banco de dados de senhas (getpwnam() e amigos).</td></tr><tr><td><p>py_compile</p></td><td>Gera arquivos de código de byte a partir de arquivos de origem Python.</td></tr><tr><td><p>pyclbr</p></td><td>Suporta extração de informações para um navegador de módulos Python.</td></tr><tr><td><p>pydoc</p></td><td>Gerador de documentação e sistema de ajuda on-line.</td></tr><tr><td><p>queue</p></td><td>Uma classe de fila sincronizada.</td></tr><tr><td><p>quopri</p></td><td>Codifica e decodifica arquivos usando a codificação quoted-printable MIME.</td></tr><tr><td><p>random</p></td><td>Gera números pseudoaleatórios com várias distribuições comuns.</td></tr><tr><td><p>re</p></td><td>Operações de expressão regular.</td></tr><tr><td><p>readline</p> (Unix)</td><td>Suporte GNU readline para Python.</td></tr><tr><td><p>reprlib</p></td><td>Implementação alternativa de repr() com limites de tamanho.</td></tr><tr><td><p>resource</p> (Unix)</td><td>Uma interface</td></tr></tbody></table></div></div></div><div class=\"flex justify-between lg:block\"><div class=\"text-gray-400 flex self-end lg:self-center justify-center mt-2 gap-2 md:gap-3 lg:gap-1 lg:absolute lg:top-0 lg:translate-x-full lg:right-0 lg:mt-0 lg:pl-2 visible\"></path></svg></button></div></div></div></center>"
   ]
  },
  {
   "attachments": {},
   "cell_type": "markdown",
   "metadata": {},
   "source": [
    "<link rel=\"stylesheet\" href=\"style.css\">\n",
    "\n",
    "###### <h5 class=\"branco-neon\">R-T</h5>"
   ]
  },
  {
   "attachments": {},
   "cell_type": "markdown",
   "metadata": {},
   "source": [
    "<center><div class=\"relative flex w-[calc(100%-50px)] flex-col gap-1 md:gap-3 lg:w-[calc(100%-115px)]\"><div class=\"flex flex-grow flex-col gap-3\"><div class=\"min-h-[20px] flex flex-col items-start gap-4 whitespace-pre-wrap break-words\"><div class=\"markdown prose w-full break-words dark:prose-invert light\"><table><thead><tr><th>Módulo</th><th>Descrição</th></tr></thead><tbody><tr><td><p>resource</p></td><td>Uma interface para fornecer informações de uso de recursos no processo atual.</td></tr><tr><td><p>rlcompleter</p></td><td>Complementação de identificador Python, adequada para a biblioteca GNU readline.</td></tr><tr><td><p>runpy</p></td><td>Localize e execute módulos Python sem importá-los primeiro.</td></tr><tr><td><p>sched</p></td><td>Agendador de eventos de propósito geral.</td></tr><tr><td><p>secrets</p></td><td>Gere números aleatórios seguros para gerenciamento de segredos.</td></tr><tr><td><p>select</p></td><td>Aguarda a conclusão de I/O em várias transmissões.</td></tr><tr><td><p>selectors</p></td><td>Multiplexação de E/S de alto nível.</td></tr><tr><td><p>shelve</p></td><td>Persistência de objetos Python.</td></tr><tr><td><p>shlex</p></td><td>Análise léxica simples para idiomas semelhantes a shell Unix.</td></tr><tr><td><p>shutil</p></td><td>Operações de arquivo de alto nível, incluindo cópia.</td></tr><tr><td><p>signal</p></td><td>Definir manipuladores para eventos assíncronos.</td></tr><tr><td><p>site</p></td><td>Módulo responsável pela configuração específica do site.</td></tr><tr><td><p>smtplib</p></td><td>Cliente de protocolo SMTP (requer soquetes).</td></tr><tr><td><p>sndhdr</p></td><td>Determinar o tipo de arquivo de som.</td></tr><tr><td><p>socket</p></td><td>Interface de rede de baixo nível.</td></tr><tr><td><p>socketserver</p></td><td>Uma estrutura para servidores de rede.</td></tr><tr><td><p>spwd</p></td><td>O banco de dados de senha de sombra (getspnam() e amigos).</td></tr><tr><td><p>sqlite3</p></td><td>Uma implementação DB-API 2.0 usando SQLite 3.x.</td></tr><tr><td><p>ssl</p></td><td>Invólucro TLS/SSL para objetos de soquete.</td></tr><tr><td><p>stat</p></td><td>Utilitários para interpretar os resultados de os.stat(), os.lstat() e os.fstat().</td></tr><tr><td><p>statistics</p></td><td>Funções de estatísticas matemáticas.</td></tr><tr><td><p>string</p></td><td>Operações comuns de string.</td></tr><tr><td><p>stringprep</p></td><td>Preparação de string, de acordo com o RFC 3453.</td></tr><tr><td><p>struct</p></td><td>Interpretar bytes como dados binários compactados.</td></tr><tr><td><p>subprocess</p></td><td>Gerenciamento de subprocesso.</td></tr><tr><td><p>symtable</p></td><td>Interface para as tabelas de símbolos internas do compilador.</td></tr><tr><td><p>sys</p></td><td>Acesso a parâmetros e funções específicos do sistema.</td></tr><tr><td><p>sysconfig</p></td><td>Informações de configuração do Python.</td></tr><tr><td><p>syslog</p></td><td>Uma interface para as rotinas da biblioteca do syslog Unix.</td></tr><tr><td><p>tabnanny</p></td><td>Ferramenta para detectar problemas relacionados a espaços em branco em arquivos de origem Python em uma árvore de diretórios.</td></tr><tr><td><p>tarfile</p></td><td>Ler e gravar arquivos de arquivo de formato tar.</td></tr><tr><td><p>telnetlib</p></td><td>Cliente Telnet.</td></tr><tr><td><p>tempfile</p></td><td>Gere arquivos e diretórios temporários.</td></tr><tr><td><p>termios</p></td><td>Controle do estilo tty POSIX.</td></tr><tr><td><p>textwrap</p></td><td>Envolver e preencher texto.</td></tr><tr><td><p>threading</p></td><td>Paralelismo baseado em thread.</td></tr><tr><td><p>time</p></td><td>Acesso e conversões de tempo.</td></tr><tr><td><p>timeit</p></td><td>Mede o tempo de execução de pequenos trechos de código.</td></tr><tr><td><p>tkinter</p></td><td>Interface para Tcl/Tk para interfaces gráficas de usuário.</td></tr><tr><td><p>token</p></td><td>Constantes que representam nós terminais da árvore de análise.</td></tr><tr><td><p>tokenize</p></td><td>Scanner léxico para código-fonte Python.</td></tr><tr><td><p>tomllib</p></td><td>Analisa arquivos TOML.</td></tr><tr><td><p>trace</p></td><td>Rastreia a execução de declarações Python.</td></tr><tr><td><p>traceback</p></td><td>Imprime ou recupera um rastream</td></tr></tbody></table></div></div></div><div class=\"flex justify-between lg:block\"><div class=\"text-gray-400 flex self-end lg:self-center justify-center mt-2 gap-2 md:gap-3 lg:gap-1 lg:absolute lg:top-0 lg:translate-x-full lg:right-0 lg:mt-0 lg:pl-2 visible\"></div></div></div></center>"
   ]
  },
  {
   "attachments": {},
   "cell_type": "markdown",
   "metadata": {},
   "source": [
    "<link rel=\"stylesheet\" href=\"style.css\">\n",
    "\n",
    "###### <h5 class=\"branco-neon\">T-Z</h5>"
   ]
  },
  {
   "attachments": {},
   "cell_type": "markdown",
   "metadata": {},
   "source": [
    "<center><div class=\"relative flex w-[calc(100%-50px)] flex-col gap-1 md:gap-3 lg:w-[calc(100%-115px)]\"><div class=\"flex flex-grow flex-col gap-3\"><div class=\"min-h-[20px] flex flex-col items-start gap-4 whitespace-pre-wrap break-words\"><div class=\"markdown prose w-full break-words dark:prose-invert light\"><table><thead><tr><th>Módulo built-in</th><th>Descrição</th></tr></thead><tbody><tr><td>tracemalloc</td><td>Rastreia alocações de memória.</td></tr><tr><td>tty (Unix)</td><td>Funções de utilidade que realizam operações comuns de controle do terminal.</td></tr><tr><td>turtle</td><td>Um framework educacional para aplicativos gráficos simples.</td></tr><tr><td>turtledemo</td><td>Um visualizador para scripts de exemplo do turtle.</td></tr><tr><td>types</td><td>Nomes para tipos integrados.</td></tr><tr><td>typing</td><td>Suporte para dicas de tipo (veja :pep:<code>484</code>).</td></tr><tr><td>unicodedata</td><td>Acessa o Banco de Dados Unicode.</td></tr><tr><td>uu</td><td>Descontinuado: Codifica e decodifica arquivos no formato uuencode.</td></tr><tr><td>uuid</td><td>Objetos UUID (identificadores exclusivos universais) de acordo com o RFC 4122.</td></tr><tr><td>venv</td><td>Criação de ambientes virtuais.</td></tr><tr><td>warnings</td><td>Emite mensagens de aviso e controla a disposição dos mesmos.</td></tr><tr><td>wave</td><td>Fornece uma interface para o formato de som WAV.</td></tr><tr><td>weakref</td><td>Suporte para referências fracas e dicionários fracos.</td></tr><tr><td>webbrowser</td><td>Controlador fácil de usar para navegadores da web.</td></tr><tr><td>winreg (Windows)</td><td>Rotinas e objetos para manipulação do registro do Windows.</td></tr><tr><td>winsound (Windows)</td><td>Acesso ao mecanismo de reprodução de som do Windows.</td></tr><tr><td>wsgiref</td><td>Utilitários e Implementação de Referência do WSGI.</td></tr><tr><td>xdrlib</td><td>Descontinuado: Codificadores e decodificadores para a Representação de Dados Externos (XDR).</td></tr><tr><td>xml</td><td>Pacote contendo módulos de processamento XML.</td></tr><tr><td>xmlrpc</td><td>Descontinuado: Implementação do protocolo XML-RPC para Python.</td></tr><tr><td>zipapp</td><td>Gerencia arquivos zip executáveis Python.</td></tr><tr><td>zipfile</td><td>Lê e escreve arquivos de arquivo no formato ZIP.</td></tr><tr><td>zipimport</td><td>Suporte para importação de módulos Python de arquivos ZIP.</td></tr><tr><td>zlib</td><td>Interface de baixo nível para rotinas de compressão e descompressão compatíveis com gzip.</td></tr><tr><td>zoneinfo</td><td>Suporte a zona horária IANA.</td></tr></tbody></table></div></div></div><div class=\"flex justify-between lg:block\"><div class=\"text-gray-400 flex self-end lg:self-center justify-center mt-2 gap-2 md:gap-3 lg:gap-1 lg:absolute lg:top-0 lg:translate-x-full lg:right-0 lg:mt-0 lg:pl-2 visible\"></div></div></div></center>"
   ]
  },
  {
   "attachments": {},
   "cell_type": "markdown",
   "metadata": {},
   "source": [
    "## <p style=\"border-bottom:solid #ffffff38 5px;\">"
   ]
  },
  {
   "attachments": {},
   "cell_type": "markdown",
   "metadata": {},
   "source": [
    "<link rel=\"stylesheet\" href=\"style.css\">\n",
    "\n",
    "## <h2 id=\"centro\" class=\"branco-neon\">Exercícios</h2>"
   ]
  },
  {
   "attachments": {},
   "cell_type": "markdown",
   "metadata": {},
   "source": [
    "<div class=\"animated-border\">\n",
    "    <img src=\"../../Jupyter Configs/img/Mime and Dash Ilustrations/Encarando.png\" alt=\"descrição do gif\" width=\"900\" style=\"display: block; margin-left: auto; margin-right: auto; border-radius:20px\">\n",
    "</div>"
   ]
  },
  {
   "attachments": {},
   "cell_type": "markdown",
   "metadata": {},
   "source": [
    "<p style=\"text-align: center;\">Pode tratar-se tanto de <span style=\"color: #6890C3;\">exemplos práticos da sintaxe sobre algum tópico</span> específico do Python aplicados <span style=\"color: #6890C3;\">ou apenas códigos</span> que julguei necessário ou interessante de se guardar.</p>"
   ]
  },
  {
   "attachments": {},
   "cell_type": "markdown",
   "metadata": {},
   "source": [
    "<link rel=\"stylesheet\" href=\"style.css\">\n",
    "\n",
    "### <h3 id=\"centro\" class=\"vermelho-neon\" style=\"font-weight:700\">De conteúdos específicos</h3>"
   ]
  },
  {
   "attachments": {},
   "cell_type": "markdown",
   "metadata": {},
   "source": [
    "<link rel=\"stylesheet\" href=\"style.css\">\n",
    "\n",
    "#### <h4 id=\"centro\" class=\"azul-neon\" style=\"font-weight:700\">Textos</h4>"
   ]
  },
  {
   "attachments": {},
   "cell_type": "markdown",
   "metadata": {},
   "source": [
    "<link rel=\"stylesheet\" href=\"style.css\">\n",
    "\n",
    "##### <h5 id=\"centro\" class=\"verde-neon\" style=\"font-weight:700\">Mostrando quantas vezes uma palavra aparece em um texto</h5>"
   ]
  },
  {
   "attachments": {},
   "cell_type": "markdown",
   "metadata": {},
   "source": [
    "<p style=\"text-align:center;\">Este programa mostra quantas vezes apareceu a palavra <span style=\"color: #6890C3;\">\"string\"</span> no objeto <span style=\"color: #6890C3;\">\"texto\"</span>.</p>"
   ]
  },
  {
   "cell_type": "code",
   "execution_count": null,
   "metadata": {},
   "outputs": [],
   "source": [
    "texto = \"\"\"Operadores de String\n",
    "\n",
    "Python oferece operadores para processar texto (ou seja, valores de string).\n",
    "\n",
    "Assim como os números, as strings podem ser comparadas usando operadores de comparação:\n",
    "\n",
    "==, !=, <, > e assim por diante.\n",
    "\n",
    "O operador ==, por exemplo, retorna True se as strings nos dois lados do operador tiverem o mesmo valor (Perkovic, p. 23, 2016).\n",
    "\n",
    "\"\"\"\n",
    "\n",
    "print(f\"Tamanho do texto = {len(texto)}\")\n",
    "texto = texto.lower()\n",
    "\n",
    "\n",
    "texto = texto.replace(\",\", \"\").replace(\".\", \"\").replace(\n",
    "    \"(\", \"\").replace(\")\", \"\").replace(\"\\n\", \" \")\n",
    "lista_palavras = texto.split()\n",
    "\n",
    "\n",
    "print(f\"Tamanho da lista de palavras = {len(lista_palavras)}\")\n",
    "\n",
    "\n",
    "total = lista_palavras.count(\"string\") + lista_palavras.count(\"strings\")\n",
    "print(f\"Quantidade de vezes que string ou strings aparecem = {total}\")\n"
   ]
  },
  {
   "attachments": {},
   "cell_type": "markdown",
   "metadata": {},
   "source": [
    "<p style=\" border-bottom:solid #c82f4b40 5px;\">"
   ]
  },
  {
   "attachments": {},
   "cell_type": "markdown",
   "metadata": {},
   "source": [
    "<link rel=\"stylesheet\" href=\"style.css\">\n",
    "\n",
    "#### <h4 id=\"centro\" class=\"azul-neon\" style=\"font-weight:700\">Listas</h4>"
   ]
  },
  {
   "attachments": {},
   "cell_type": "markdown",
   "metadata": {},
   "source": [
    "<link rel=\"stylesheet\" href=\"style.css\">\n",
    "\n",
    "##### <h5 id=\"centro\" class=\"verde-neon\" style=\"font-weight:700\">Mostrando posição e valor em listas com \"for in\"</h5>"
   ]
  },
  {
   "attachments": {},
   "cell_type": "markdown",
   "metadata": {},
   "source": [
    "<p style=\"text-align:center;\">Estes programas, a cada <span style=\"color: #6890C3;\">iteração do for</span>, mostram a <span style=\"color: #6890C3;\">posição e o valor</span> naquela posição, tudo isso <span style=\"color: #6890C3;\">relativo a uma lista</span>.</p>"
   ]
  },
  {
   "cell_type": "code",
   "execution_count": null,
   "metadata": {},
   "outputs": [
    {
     "name": "stdout",
     "output_type": "stream",
     "text": [
      "Posição = 0, valor = a\n",
      "Posição = 1, valor = e\n",
      "Posição = 2, valor = i\n",
      "Posição = 3, valor = o\n",
      "Posição = 4, valor = u\n"
     ]
    }
   ],
   "source": [
    "vogais = ['a', 'e', 'i', 'o', 'u']\n",
    "\n",
    "\n",
    "for vogal in vogais:\n",
    "\n",
    "    # vogal vira o elemento dentro da lista vogais, e vai progredindo a cada iteração.\n",
    "    print(f'Posição = {vogais.index(vogal)}, valor = {vogal}')\n"
   ]
  },
  {
   "attachments": {},
   "cell_type": "markdown",
   "metadata": {},
   "source": [
    "Substituímos o contador manual (\"p\") pela função <span style=\"color: #6890C3;\">enumerate()</span>, que é usada para percorrer um objeto iterável retornando a posição e o valor. Por isso, na estrutura de repetição <span style=\"color: #6890C3;\">precisamos usar as variáves p e x</span>. A primeira guarda a posição e a segunda guarda o valor. Usamos o nome x propositalmente para que você perceba que o nome da variável é de livre escolha."
   ]
  },
  {
   "cell_type": "code",
   "execution_count": null,
   "metadata": {},
   "outputs": [
    {
     "name": "stdout",
     "output_type": "stream",
     "text": [
      "Tipo do objeto vogais = <class 'list'>\n",
      "Posição = 0, valor = a\n",
      "Posição = 1, valor = e\n",
      "Posição = 2, valor = i\n",
      "Posição = 3, valor = o\n",
      "Posição = 4, valor = u\n"
     ]
    }
   ],
   "source": [
    "\n",
    "vogais = []\n",
    "\n",
    "print(f\"Tipo do objeto vogais = {type(vogais)}\")\n",
    "\n",
    "\n",
    "vogais.append('a')\n",
    "\n",
    "vogais.append('e')\n",
    "\n",
    "vogais.append('i')\n",
    "\n",
    "vogais.append('o')\n",
    "\n",
    "vogais.append('u')\n",
    "\n",
    "\n",
    "for p, x in enumerate(vogais):\n",
    "\n",
    "    print(f\"Posição = {p}, valor = {x}\")\n"
   ]
  },
  {
   "attachments": {},
   "cell_type": "markdown",
   "metadata": {},
   "source": [
    "<p style=\" border-bottom:solid #c82f4b40 5px;\">"
   ]
  },
  {
   "attachments": {},
   "cell_type": "markdown",
   "metadata": {},
   "source": [
    "<link rel=\"stylesheet\" href=\"style.css\">\n",
    "\n",
    "##### <h5 id=\"centro\" class=\"verde-neon\" style=\"font-weight:700\">Mostrando algumas impressões interessantes em listas</h5>"
   ]
  },
  {
   "cell_type": "code",
   "execution_count": null,
   "metadata": {},
   "outputs": [],
   "source": [
    "frutas = [\"maça\", \"banana\", \"uva\", \"mamão\", \"maça\"]\n",
    "\n",
    "notas = [8.7, 5.2, 10, 3.5]\n",
    "\n",
    "\n",
    "print(\"maça\" in frutas)  # True\n",
    "\n",
    "print(\"abacate\" in frutas)  # False\n",
    "\n",
    "print(\"abacate\" not in frutas)  # True\n",
    "\n",
    "print(min(frutas))  # banana\n",
    "\n",
    "print(max(notas))  # 10\n",
    "\n",
    "print(frutas.count(\"maça\"))  # 2\n",
    "\n",
    "print(frutas.count(\"Maça\"))  # 0\n",
    "\n",
    "print(frutas + notas)\n",
    "\n",
    "print(2 * frutas)\n"
   ]
  },
  {
   "attachments": {},
   "cell_type": "markdown",
   "metadata": {},
   "source": [
    "<p style=\" border-bottom:solid #c82f4b40 5px;\">"
   ]
  },
  {
   "attachments": {},
   "cell_type": "markdown",
   "metadata": {},
   "source": [
    "<link rel=\"stylesheet\" href=\"style.css\">\n",
    "\n",
    "##### <h5 id=\"centro\" class=\"verde-neon\" style=\"font-weight:700\">Testando algumas operações reservadas a sequência com listas</h5>"
   ]
  },
  {
   "cell_type": "code",
   "execution_count": null,
   "metadata": {},
   "outputs": [],
   "source": [
    "lista = ['Python', 30.61, \"Java\", 51, ['a', 'b', 20], \"maça\"]\n",
    "\n",
    "\n",
    "print(f\"Tamanho da lista = {len(lista)}\")  # 6\n",
    "\n",
    "\n",
    "for i, item in enumerate(lista):\n",
    "\n",
    "    print(\n",
    "        f\"Posição = {i},\\t valor = {item} -----------------> tipo individual = {type(item)}\")\n",
    "\n",
    "\n",
    "print(\"\\nExemplos de slices:\\n\")\n",
    "\n",
    "\n",
    "print(\"lista[1] = \", lista[1])\n",
    "\n",
    "print(\"lista[0:2] = \", lista[0:2])\n",
    "\n",
    "print(\"lista[:2] = \", lista[:2])\n",
    "\n",
    "print(\"lista[3:5] = \", lista[3:5])\n",
    "\n",
    "print(\"lista[3:6] = \", lista[3:6])\n",
    "\n",
    "print(\"lista[3:] = \", lista[3:])\n",
    "\n",
    "print(\"lista[-2] = \", lista[-2])\n",
    "\n",
    "print(\"lista[-1] = \", lista[-1])\n",
    "\n",
    "print(\"lista[4][1] = \", lista[4][1])\n"
   ]
  },
  {
   "attachments": {},
   "cell_type": "markdown",
   "metadata": {},
   "source": [
    "<p style=\" border-bottom:solid #c82f4b40 5px;\">"
   ]
  },
  {
   "attachments": {},
   "cell_type": "markdown",
   "metadata": {},
   "source": [
    "<link rel=\"stylesheet\" href=\"style.css\">\n",
    "\n",
    "#### <h4 id=\"centro\" class=\"azul-neon\" style=\"font-weight:700\">Algoritmos de busca</h4>"
   ]
  },
  {
   "attachments": {},
   "cell_type": "markdown",
   "metadata": {},
   "source": [
    "<p style=\"text-align:center;\">Enquanto estudava acabei querendo testar desenvolver um programa que <span style=\"color: #6890C3;\">gera listas randômicas</span> e faz uma verificação se nelas tem o número <span style=\"color: #6890C3;\">10</span> e onde tem pelo <span style=\"color: #6890C3;\">índice</span> (<span style=\"color: #6890C3;\">onde originalmente tinha</span> e <span style=\"color: #6890C3;\">onde terá já arrumado</span> em ordem numérica). O software também informa <span style=\"color: #6890C3;\">quantas iterações precisou fazer</span> para chegar em uma lista que tivesse o número 10.</p>"
   ]
  },
  {
   "cell_type": "code",
   "execution_count": null,
   "metadata": {},
   "outputs": [
    {
     "name": "stdout",
     "output_type": "stream",
     "text": [
      "[4, 10, 26, 32, 37, 45, 104, 131, 142, 155, 168, 182, 209, 227, 230, 256, 282, 291, 293, 299, 353, 382, 394, 428, 447, 509, 514, 554, 560, 561, 576, 581, 589, 598, 600, 603, 635, 665, 674, 702, 718, 720, 734, 762, 790, 800, 835, 844, 948, 964]\n",
      "Possui, originalmente como index ---> 48\n",
      "Mas, agora que organizado, em ---> 1\n",
      "Foi necessário 68 iterações para gerar uma lista que tivesse.\n"
     ]
    }
   ],
   "source": [
    "import random\n",
    "\n",
    "\n",
    "import random\n",
    "\n",
    "\n",
    "def executar_busca_linear(lista, valor):\n",
    "\n",
    "    for elemento in lista:\n",
    "\n",
    "        if valor == elemento:\n",
    "\n",
    "            return True\n",
    "\n",
    "# criamos uma lista de 50 valores com números inteiros randômicos que variam entre 0 e 1000\n",
    "lista = random.sample(range(1000), 50)\n",
    "\n",
    "resultado = executar_busca_linear(lista, 10)\n",
    "\n",
    "resultado = executar_busca_linear(lista, 10)\n",
    "\n",
    "i = 0\n",
    "while resultado == False:\n",
    "    i = i + 1\n",
    "    resultado = executar_busca_linear(lista, 10)\n",
    "    lista = random.sample(range(1000), 50)\n",
    "    resultado = executar_busca_linear(lista, 10)\n",
    "\n",
    "if resultado == True:\n",
    "    print(sorted(lista))\n",
    "    print(f\"Possui, originalmente como index ---> {lista.index(10)}\")\n",
    "    lista = sorted(lista)\n",
    "    print(f\"Mas, agora que organizado, em ---> {lista.index(10)}\")\n",
    "    print(\"Não tem.\")\n",
    "else:\n",
    "    print(\"Não tem.\")\n"
   ]
  },
  {
   "attachments": {},
   "cell_type": "markdown",
   "metadata": {},
   "source": [
    "<link rel=\"stylesheet\" href=\"style.css\">\n",
    "\n",
    "##### <h5 id=\"centro\" class=\"verde-neon\" style=\"font-weight:700\">Mostrando posição e valor em listas com \"for in\"</h5>"
   ]
  },
  {
   "cell_type": "code",
   "execution_count": null,
   "metadata": {},
   "outputs": [
    {
     "name": "stdout",
     "output_type": "stream",
     "text": [
      "Tipo do objeto vogais = <class 'tuple'>\n",
      "Posição = 0, valor = a\n",
      "Posição = 1, valor = e\n",
      "Posição = 2, valor = i\n",
      "Posição = 3, valor = o\n",
      "Posição = 4, valor = u\n"
     ]
    }
   ],
   "source": [
    "vogais = ('a', 'e', 'i', 'o', 'u')\n",
    "\n",
    "\n",
    "for p, x in enumerate(vogais):\n",
    "\n",
    "    print(f\"Posição = {p}, valor = {x}\")\n"
   ]
  },
  {
   "attachments": {},
   "cell_type": "markdown",
   "metadata": {},
   "source": [
    "<p style=\" border-bottom:solid #c82f4b40 5px;\">"
   ]
  },
  {
   "attachments": {},
   "cell_type": "markdown",
   "metadata": {},
   "source": [
    "<link rel=\"stylesheet\" href=\"style.css\">\n",
    "\n",
    "### <h3 id=\"centro\" class=\"vermelho-neon\" style=\"font-weight:700\">Gerais</h3>"
   ]
  },
  {
   "attachments": {},
   "cell_type": "markdown",
   "metadata": {},
   "source": [
    "<link rel=\"stylesheet\" href=\"style.css\">\n",
    "\n",
    "#### <h4 id=\"center\">Inserção e impressão de valores</h4>"
   ]
  },
  {
   "attachments": {},
   "cell_type": "markdown",
   "metadata": {},
   "source": [
    "<p style=\"text-align: center;\">Basicamente, fazemos usando o <span style=\"color: #6890C3;\">input</span> e podemos imprimir com <span style=\"color: #6890C3;\">print(f\"{}\")</span></p>"
   ]
  },
  {
   "cell_type": "code",
   "execution_count": null,
   "metadata": {},
   "outputs": [
    {
     "name": "stdout",
     "output_type": "stream",
     "text": [
      "rea, é um prazer te conhecer!\n"
     ]
    }
   ],
   "source": [
    "nome = input(\"Qual o seu nome?: \")\n",
    "print(f\"{nome}, é um prazer te conhecer!\")\n"
   ]
  },
  {
   "attachments": {},
   "cell_type": "markdown",
   "metadata": {},
   "source": [
    "<link rel=\"stylesheet\" href=\"style.css\">\n",
    "\n",
    "#### <h4 id=\"center\">Tratamento de variável</h4>"
   ]
  },
  {
   "attachments": {},
   "cell_type": "markdown",
   "metadata": {},
   "source": [
    "<p style=\"text-align: center;\"><span style=\"color: #6890C3;\">Para explicar este tópico</span>, quis desenvolver um exemplo de programa que te informa o f(x) do x dado na função dada.</p><p style=\"text-align: center;\">Este programa tem <span style=\"color: #6890C3;\">diversos pontos de melhoria</span>, como a falta do uso de funções, vetores, estruturas de repetição, demonstração em gráfico, parte front e até mesmo solucionadores, mas a intenção deste software é apenas destacar na prática a importância de tratar variáveis quanto temos input(), que transforma em string aquilo que iremos querer que se comporte como número.</p>"
   ]
  },
  {
   "cell_type": "code",
   "execution_count": null,
   "metadata": {},
   "outputs": [
    {
     "name": "stdout",
     "output_type": "stream",
     "text": [
      "O tipo era <class 'str'>\n",
      "Agora virou <class 'float'>\n",
      "f(2.0)=8.0\n"
     ]
    }
   ],
   "source": [
    "# \"a\" atribuído, mas está em str.\n",
    "a = input(\"Digite o valor do coeficiente a: \")\n",
    "print(f\"O tipo era {type(a)}\")\n",
    "\n",
    "a = float(a)  # agora que tratado, está em float.\n",
    "print(f\"Agora virou {type(a)}\")\n",
    "\n",
    "b = input(\"Digite o valor do coeficiente b: \")\n",
    "b = float(b)\n",
    "c = input(\"Digite o valor do termo idependente c: \")\n",
    "c = float(c)\n",
    "x = input(\"Digite o valor de x: \")\n",
    "x = float(x)\n",
    "y = a*x**2+b*x+c\n",
    "print(f\"f({x})={y}\")\n"
   ]
  },
  {
   "attachments": {},
   "cell_type": "markdown",
   "metadata": {},
   "source": [
    "<p style=\"text-align:center;\">Este foi um exemplo prático, pois, caso não fosse tratada as variáveis, o código apresentaria um erro \"<span style=\"color: #6890C3;\">TypeError</span>\" ao ser executado.</p>"
   ]
  },
  {
   "attachments": {},
   "cell_type": "markdown",
   "metadata": {},
   "source": [
    "<link rel=\"stylesheet\" href=\"style.css\">\n",
    "\n",
    "#### <h4 id=\"center\">Função do primeiro grau com eval()</h4>"
   ]
  },
  {
   "attachments": {},
   "cell_type": "markdown",
   "metadata": {},
   "source": [
    "<p style=\"text-align:center;\">A função eval() usada no código <span style=\"color: #6890C3;\">recebe como entrada uma string</span> (sequência de caracteres) digitada pelo usuário, que nesse caso é uma equação linear. Essa entrada é <span style=\"color: #6890C3;\">analisada e avaliada como uma expressão Python</span> pela função:</p>"
   ]
  },
  {
   "cell_type": "code",
   "execution_count": null,
   "metadata": {},
   "outputs": [
    {
     "name": "stdout",
     "output_type": "stream",
     "text": [
      "\n",
      "A entrada do usuário 2*x+4 é do tipo <class 'str'>\n",
      "\n",
      "Resultado da equação para x = 0 é 4\n",
      "\n",
      "Resultado da equação para x = 1 é 6\n",
      "\n",
      "Resultado da equação para x = 2 é 8\n",
      "\n",
      "Resultado da equação para x = 3 é 10\n",
      "\n",
      "Resultado da equação para x = 4 é 12\n"
     ]
    }
   ],
   "source": [
    "equacao = input(\"Digite a fórmula geral da equação linear (a * x + b): \")\n",
    "\n",
    "print(f\"\\nA entrada do usuário {equacao} é do tipo {type(equacao)}\")\n",
    "\n",
    "\n",
    "for x in range(5):\n",
    "\n",
    "    y = eval(equacao)\n",
    "\n",
    "    print(f\"\\nResultado da equação para x = {x} é {y}\")\n"
   ]
  },
  {
   "attachments": {},
   "cell_type": "markdown",
   "metadata": {},
   "source": [
    "Entretanto, precisamos ressaltar que eval é uma instrução que requer prudência para o uso, pois é fácil alguém externo à aplicação fazer uma \"injection\" de código intruso."
   ]
  },
  {
   "attachments": {},
   "cell_type": "markdown",
   "metadata": {},
   "source": [
    "<link rel=\"stylesheet\" href=\"../Jupyter Style/style.css\"> \n",
    "\n",
    "#### <h4 id=\"center\">Apostador de números!<h4>"
   ]
  },
  {
   "cell_type": "code",
   "execution_count": null,
   "metadata": {},
   "outputs": [
    {
     "name": "stdout",
     "output_type": "stream",
     "text": [
      "________________________________________________________________________________\n",
      "\n",
      "Bem vindo!\n",
      "Quem será que vence, você ou a máquina?\n",
      "\n",
      "Este jogo basicamente depende de o computador tentar adivinhar o valor que você irá inserir   entre 1 e 2, antes que você insira (fica tranquilo, ele está sendo obrigado a ser honesto). Quem atingir 3 pontos primeiro vence.\n",
      "\n",
      "E aí, confiante? Que comecem os jogos!\n",
      "\n",
      "________________________________________________________________________________\n",
      "\n",
      "O computador está pensando.\n",
      "Ok, ele pensou.\n",
      "\n",
      "Sua vez! Insira qual o seu valor (fique tranquilo, só nós dois sabemos): \n",
      "\n",
      "Computador chutou: \n",
      "1\n",
      "--------------------------------------------------------------------------------\n",
      "Ele acertou! Um ponto para o pc.\n",
      "\n",
      " Pontos Você: 0\n",
      "\n",
      " Pontos Pc: 1\n",
      "________________________________________________________________________________\n",
      "\n",
      "O computador está pensando.\n",
      "Ok, ele pensou.\n",
      "\n",
      "Sua vez! Insira qual o seu valor (fique tranquilo, só nós dois sabemos): \n",
      "\n",
      "Computador chutou: \n",
      "1\n",
      "--------------------------------------------------------------------------------\n",
      "Ele acertou! Um ponto para o pc.\n",
      "\n",
      " Pontos Você: 0\n",
      "\n",
      " Pontos Pc: 2\n",
      "________________________________________________________________________________\n",
      "\n",
      "O computador está pensando.\n",
      "Ok, ele pensou.\n",
      "\n",
      "Sua vez! Insira qual o seu valor (fique tranquilo, só nós dois sabemos): \n",
      "\n",
      "Computador chutou: \n",
      "1\n",
      "--------------------------------------------------------------------------------\n",
      "Ele acertou! Um ponto para o pc.\n",
      "\n",
      " Pontos Você: 0\n",
      "\n",
      " Pontos Pc: 3\n",
      "--------------------------------------------------------------------------------\n",
      "\n",
      "E aí, o que achou? Fim do jogo.\n"
     ]
    }
   ],
   "source": [
    "#Caso tenha dificuldades em executar aqui, abra em outro arquivo.\n",
    "\n",
    "import random\n",
    "import time\n",
    "\n",
    "def linha(caractere):\n",
    "    for i in range(0, 80, 1):\n",
    "        print(caractere, end=\"\")\n",
    "\n",
    "acertos_humano=0\n",
    "acertos_pc=0\n",
    "\n",
    "caractere = '_'\n",
    "\n",
    "linha(caractere);\n",
    "print(\"\\n\\nBem vindo!\\nQuem será que vence, você ou a máquina?\\n\\nEste jogo basicamente depende de você tentar adivinhar o valor que o computador irá inserir entre 1 e 2. Quem atingir 3 pontos primeiro vence.\\n\\nE aí, confiante? Que comecem os jogos!\\n\")\n",
    "#time.sleep(1)\n",
    "\n",
    "while 1:\n",
    "    linha(caractere)\n",
    "\n",
    "    time.sleep(2)\n",
    "    num_pc=random.randint(1, 2)\n",
    "    print(\"\\n\\nOk, ele escolheu.\")\n",
    "    time.sleep(2)\n",
    "    print(\"\\nSua vez! Insira se acha que é 1 ou 2: \")\n",
    "    num=input()\n",
    "    print(\"\\nReal valor: \")\n",
    "    print(num_pc)\n",
    "    time.sleep(2)\n",
    "\n",
    "    if int(num_pc)==int(num):\n",
    "        print(\"\\n                 O computador foi descoberto e você ganhou um ponto.\")\n",
    "        acertos_humano=acertos_humano+1\n",
    "        print('\\n                             Pontos Você: '+str(acertos_humano))\n",
    "        time.sleep(2)\n",
    "        print(\"\\n                             Pontos Pc: \"+str(acertos_pc))\n",
    "    else:\n",
    "        print(\"\\n                        Você errou! Um ponto para o pc.\")\n",
    "        acertos_pc=acertos_pc+1\n",
    "        time.sleep(2)\n",
    "        print('\\n                             Pontos Você: '+str(acertos_humano))\n",
    "        time.sleep(2)\n",
    "        print(\"\\n                             Pontos Pc: \"+str(acertos_pc))\n",
    "\n",
    "    if acertos_humano==3 or acertos_pc== 3:\n",
    "        linha(\"_\")\n",
    "        print('\\n\\n                               O vencedor foi o ')\n",
    "        if acertos_humano>acertos_pc:\n",
    "            print(\"\\n                                  Humano!\")\n",
    "            linha(\"-\")\n",
    "            time.sleep(1)\n",
    "            print(\"\\n\\n                     E aí, o que achou? Fim do jogo.\")\n",
    "            time.sleep(6)\n",
    "            break;\n",
    "        else:\n",
    "            print(\"\\n                                     Pc!\")\n",
    "            linha(\"-\")\n",
    "            time.sleep(1)\n",
    "            print(\"\\n\\n                     E aí, o que achou? Fim do jogo.\")\n",
    "            time.sleep(6)\n",
    "            break;\n"
   ]
  },
  {
   "cell_type": "code",
   "execution_count": null,
   "metadata": {},
   "outputs": [
    {
     "name": "stdout",
     "output_type": "stream",
     "text": [
      "Estou pensando em um número 1 and 20.\n",
      "Tente adivinhar o número\n",
      "Sua tentativa foi muito alta.\n",
      "Tente adivinhar o número\n",
      "Sua tentativa foi muito alta.\n",
      "Tente adivinhar o número\n",
      "Sua tentativa foi muito alta.\n",
      "Tente adivinhar o número\n",
      "Sua tentativa foi muito alta.\n",
      "Tente adivinhar o número\n",
      "Sua tentativa foi muito alta.\n",
      "Tente adivinhar o número\n",
      "Sua tentativa foi muito alta.\n",
      "Que pena, não conseguiu dessa vez. O número que eu estava pensando era 1\n"
     ]
    }
   ],
   "source": [
    "#Versão do professor\n",
    "\n",
    "import random\n",
    "secretNumber = random.randint(1, 20)\n",
    "print('Estou pensando em um número 1 and 20.')\n",
    "\n",
    "for tries in range(1, 7):\n",
    "    print('Tente adivinhar o número')\n",
    "    guess = int(input())\n",
    "\n",
    "    if guess < secretNumber:\n",
    "        print('Sua tentativa foi muito baixa.')\n",
    "    elif guess > secretNumber:\n",
    "        print('Sua tentativa foi muito alta.')\n",
    "    else:\n",
    "        break    # This condition is the correct guess!\n",
    "\n",
    "if guess == secretNumber:\n",
    "    print('Muito bem! Você acertou meu número em ' + str(tries) + ' tentativas!')\n",
    "else:\n",
    "    print('Que pena, não conseguiu dessa vez. O número que eu estava pensando era ' + str(secretNumber))"
   ]
  },
  {
   "attachments": {},
   "cell_type": "markdown",
   "metadata": {},
   "source": [
    "## <p style=\"border-bottom:solid #ffffff38 5px;\">"
   ]
  },
  {
   "attachments": {},
   "cell_type": "markdown",
   "metadata": {},
   "source": [
    "# <p style=\"border-bottom:solid #ffffff38 5px;\">"
   ]
  },
  {
   "attachments": {},
   "cell_type": "markdown",
   "metadata": {},
   "source": [
    "<link rel=\"stylesheet\" href=\"style.css\">\n",
    "\n",
    "# <h1 id=\"centro\" class=\"branco-neon\" style=\"font-weight:700\">Automação de Processos com Python</h1>"
   ]
  },
  {
   "attachments": {},
   "cell_type": "markdown",
   "metadata": {},
   "source": [
    "<div class=\"animated-border\">\n",
    "    <img src=\"../../Jupyter Configs/img/Mime and Dash Ilustrations/Mime and Dash money.gif\" alt=\"descrição do gif\" width=\"900\" style=\"display: block; margin-left: auto; margin-right: auto; border-radius:20px\">\n",
    "</div>"
   ]
  },
  {
   "attachments": {},
   "cell_type": "markdown",
   "metadata": {},
   "source": [
    "## <p style=\"border-bottom:solid #ffffff38 5px;\">"
   ]
  },
  {
   "attachments": {},
   "cell_type": "markdown",
   "metadata": {},
   "source": [
    "<link rel=\"stylesheet\" href=\"style.css\">\n",
    "\n",
    "## <h2>Acessando arquivos</h2>"
   ]
  },
  {
   "attachments": {},
   "cell_type": "markdown",
   "metadata": {},
   "source": [
    "<link rel=\"stylesheet\" href=\"style.css\">\n",
    "\n",
    "<p>Abaixo, temos exemplos de como podemos acessar arquivos e também mudar o diretório atual para o de algum outro.</p>"
   ]
  },
  {
   "cell_type": "code",
   "execution_count": 12,
   "metadata": {},
   "outputs": [
    {
     "name": "stdout",
     "output_type": "stream",
     "text": [
      "d:\\Novos\\Documents\\Studies\\Python\\Caderno Jupyter\n",
      "c:\\windows\\system32\n"
     ]
    }
   ],
   "source": [
    "from pathlib import Path\n",
    "import os\n",
    "\n",
    "print(Path.cwd())\n",
    "\n",
    "os.chdir('c:\\\\windows\\\\system32')\n",
    "print(Path.cwd())"
   ]
  },
  {
   "attachments": {},
   "cell_type": "markdown",
   "metadata": {},
   "source": [
    "## <p style=\"border-bottom:solid #ffffff38 5px;\">"
   ]
  }
 ],
 "metadata": {
  "kernelspec": {
   "display_name": "Python 3",
   "language": "python",
   "name": "python3"
  },
  "language_info": {
   "codemirror_mode": {
    "name": "ipython",
    "version": 3
   },
   "file_extension": ".py",
   "mimetype": "text/x-python",
   "name": "python",
   "nbconvert_exporter": "python",
   "pygments_lexer": "ipython3",
   "version": "3.12.3"
  },
  "orig_nbformat": 4
 },
 "nbformat": 4,
 "nbformat_minor": 2
}
