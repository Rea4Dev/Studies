{
 "cells": [
  {
   "attachments": {},
   "cell_type": "markdown",
   "metadata": {},
   "source": [
    "<link rel=\"stylesheet\" href=\"style.css\">\n",
    "\n",
    "# <h1 id=\"centro\" class=\"branco-neon\" style=\"font-weight:700\">Automação de Processos com Python</h1>"
   ]
  },
  {
   "attachments": {},
   "cell_type": "markdown",
   "metadata": {},
   "source": [
    "<div class=\"animated-border\">\n",
    "    <img src=\"../../Jupyter Configs/img/Mime and Dash Ilustrations/Mime and Dash money.gif\" alt=\"descrição do gif\" width=\"900\" style=\"display: block; margin-left: auto; margin-right: auto; border-radius:20px\">\n",
    "</div>"
   ]
  },
  {
   "attachments": {},
   "cell_type": "markdown",
   "metadata": {},
   "source": [
    "## <p style=\"border-bottom:solid #ffffff38 5px;\">"
   ]
  },
  {
   "attachments": {},
   "cell_type": "markdown",
   "metadata": {},
   "source": [
    "<link rel=\"stylesheet\" href=\"style.css\">\n",
    "\n",
    "## <h2>Arquivos</h2>"
   ]
  },
  {
   "attachments": {},
   "cell_type": "markdown",
   "metadata": {},
   "source": [
    "<link rel=\"stylesheet\" href=\"style.css\">\n",
    "\n",
    "### <h3>Consultas e mudanças</h3>"
   ]
  },
  {
   "attachments": {},
   "cell_type": "markdown",
   "metadata": {},
   "source": [
    "Abaixo, temos exemplos de como podemos acessar arquivos e também mudar o diretório atual para o de algum outro.</p>"
   ]
  },
  {
   "cell_type": "code",
   "execution_count": 1,
   "metadata": {},
   "outputs": [
    {
     "name": "stdout",
     "output_type": "stream",
     "text": [
      "d:\\Novos\\Documents\\Studies\\Python\\Caderno Jupyter\n",
      "c:\\windows\\system32\n",
      "C:\\Users\\Administrator\n"
     ]
    }
   ],
   "source": [
    "from pathlib import Path\n",
    "import os\n",
    "\n",
    "print(Path.cwd())\n",
    "\n",
    "os.chdir('c:\\\\windows\\\\system32')\n",
    "print(Path.cwd())\n",
    "\n",
    "print(Path.home())"
   ]
  },
  {
   "attachments": {},
   "cell_type": "markdown",
   "metadata": {},
   "source": [
    "<link rel=\"stylesheet\" href=\"style.css\">\n",
    "\n",
    "### <h3>Caminhos e módulos</h3>"
   ]
  },
  {
   "attachments": {},
   "cell_type": "markdown",
   "metadata": {},
   "source": [
    "Caminhos podem ser diferentes e operarem de formas diferentes, além de existirem informações muito úteis para trabalhar com eles. \n",
    "Assim sendo, aqui vão algumas:\n",
    "\n",
    "<ul><li><strong>Caminho absoluto</strong> : Sempre começa com a pasta raiz.\n",
    "<li><strong>Caminho relativo</strong> : Relativo a pasta atual do programa atual.\n",
    "<li><strong>Pasta \".\"</strong> : Esta pasta.\n",
    "<li><strong>Pasta \"..\"</strong> : Pasta pai.\n",
    "<li>Módulo pathlib<strong> - is_absolute() </strong>: Verdadeiro se o caminho é absoluto. \n",
    "<li>Módulo os.path<strong> - os.path.abspath(path)</strong> : Retorna string do caminho absoluto.\n",
    "<li>Módulo os.path<strong> - os.path.isabs(path)</strong> : Verdadeiro se o caminho é absoluto.\n",
    "<li>Módulo os.path<strong> - os.path.relpath(path, start)</strong> : Retorna string do caminho relativo."
   ]
  },
  {
   "attachments": {},
   "cell_type": "markdown",
   "metadata": {},
   "source": [
    "<link rel=\"stylesheet\" href=\"style.css\">\n",
    "\n",
    "### <h3>Extraindo partes do arquivo</h3>"
   ]
  },
  {
   "attachments": {},
   "cell_type": "markdown",
   "metadata": {},
   "source": [
    "Existe uma nomenclatura quando se trata de caminhos, e esta nomenclatura será importante inclusive conceitualmente para a manipulação dos arquivos. Assim sendo, abaixo está listado cada uma das nomenclaturas."
   ]
  },
  {
   "attachments": {},
   "cell_type": "markdown",
   "metadata": {},
   "source": [
    "<link rel=\"stylesheet\" href=\"style.css\">\n",
    "\n",
    "#### <h4 id=\"center\">Anchor</h4>"
   ]
  },
  {
   "attachments": {},
   "cell_type": "markdown",
   "metadata": {},
   "source": [
    "<p style=\"text-align:center;font-size:20px\">A âncora é a pasta raiz do sistema de arquivos."
   ]
  },
  {
   "attachments": {},
   "cell_type": "markdown",
   "metadata": {},
   "source": [
    "<link rel=\"stylesheet\" href=\"style.css\">\n",
    "\n",
    "<p id=\"center\" style=\"font-size:40px;\"><span class=\"red-neon\">c:\\</span>aulas\\python\\script.py"
   ]
  },
  {
   "attachments": {},
   "cell_type": "markdown",
   "metadata": {},
   "source": [
    "## <p style=\"border-bottom:solid #ffffff38 5px;\">"
   ]
  }
 ],
 "metadata": {
  "kernelspec": {
   "display_name": "Python 3",
   "language": "python",
   "name": "python3"
  },
  "language_info": {
   "codemirror_mode": {
    "name": "ipython",
    "version": 3
   },
   "file_extension": ".py",
   "mimetype": "text/x-python",
   "name": "python",
   "nbconvert_exporter": "python",
   "pygments_lexer": "ipython3",
   "version": "3.12.3"
  },
  "orig_nbformat": 4
 },
 "nbformat": 4,
 "nbformat_minor": 2
}
