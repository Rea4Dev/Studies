{
 "cells": [
  {
   "attachments": {},
   "cell_type": "markdown",
   "metadata": {},
   "source": [
    "<link rel=\"stylesheet\" href=\"style.css\">\n",
    "\n",
    "# <h1 id=\"centro\" class=\"branco-neon\" style=\"font-weight:700\">Automação de Processos com Python</h1>"
   ]
  },
  {
   "attachments": {},
   "cell_type": "markdown",
   "metadata": {},
   "source": [
    "<div class=\"animated-border\">\n",
    "    <img src=\"../../Jupyter Configs/img/Mime and Dash Ilustrations/Mime and Dash money.gif\" alt=\"descrição do gif\" width=\"900\" style=\"display: block; margin-left: auto; margin-right: auto; border-radius:20px\">\n",
    "</div>"
   ]
  },
  {
   "attachments": {},
   "cell_type": "markdown",
   "metadata": {},
   "source": [
    "## <p style=\"border-bottom:solid #ffffff38 5px;\">"
   ]
  },
  {
   "attachments": {},
   "cell_type": "markdown",
   "metadata": {},
   "source": [
    "<link rel=\"stylesheet\" href=\"style.css\">\n",
    "\n",
    "## <h2>Arquivos</h2>"
   ]
  },
  {
   "attachments": {},
   "cell_type": "markdown",
   "metadata": {},
   "source": [
    "<link rel=\"stylesheet\" href=\"style.css\">\n",
    "\n",
    "### <h3>Consultas e mudanças</h3>"
   ]
  },
  {
   "attachments": {},
   "cell_type": "markdown",
   "metadata": {},
   "source": [
    "Abaixo, temos exemplos de como podemos acessar arquivos e também mudar o diretório atual para o de algum outro.</p>"
   ]
  },
  {
   "cell_type": "code",
   "execution_count": 1,
   "metadata": {},
   "outputs": [
    {
     "name": "stdout",
     "output_type": "stream",
     "text": [
      "d:\\Novos\\Documents\\Studies\\Python\\Caderno Jupyter\n",
      "c:\\windows\\system32\n",
      "C:\\Users\\Administrator\n"
     ]
    }
   ],
   "source": [
    "from pathlib import Path\n",
    "import os\n",
    "\n",
    "print(Path.cwd())\n",
    "\n",
    "os.chdir('c:\\\\windows\\\\system32')\n",
    "print(Path.cwd())\n",
    "\n",
    "print(Path.home())"
   ]
  },
  {
   "attachments": {},
   "cell_type": "markdown",
   "metadata": {},
   "source": [
    "<link rel=\"stylesheet\" href=\"style.css\">\n",
    "\n",
    "### <h3>Caminhos e módulos</h3>"
   ]
  },
  {
   "attachments": {},
   "cell_type": "markdown",
   "metadata": {},
   "source": [
    "Caminhos podem ser diferentes e operarem de formas diferentes, além de existirem informações muito úteis para trabalhar com eles. \n",
    "Assim sendo, aqui vão algumas:\n",
    "\n",
    "<ul><li><strong>Caminho absoluto</strong> : Sempre começa com a pasta raiz.\n",
    "<li><strong>Caminho relativo</strong> : Relativo a pasta atual do programa atual.\n",
    "<li><strong>Pasta \".\"</strong> : Esta pasta.\n",
    "<li><strong>Pasta \"..\"</strong> : Pasta pai.\n",
    "<li>Módulo pathlib<strong> - is_absolute() </strong>: Verdadeiro se o caminho é absoluto. \n",
    "<li>Módulo os.path<strong> - os.path.abspath(path)</strong> : Retorna string do caminho absoluto.\n",
    "<li>Módulo os.path<strong> - os.path.isabs(path)</strong> : Verdadeiro se o caminho é absoluto.\n",
    "<li>Módulo os.path<strong> - os.path.relpath(path, start)</strong> : Retorna string do caminho relativo."
   ]
  },
  {
   "attachments": {},
   "cell_type": "markdown",
   "metadata": {},
   "source": [
    "<link rel=\"stylesheet\" href=\"style.css\">\n",
    "\n",
    "### <h3>Extraindo partes do arquivo</h3>"
   ]
  },
  {
   "attachments": {},
   "cell_type": "markdown",
   "metadata": {},
   "source": [
    "Existe uma nomenclatura quando se trata de caminhos, e esta nomenclatura será importante inclusive conceitualmente para a manipulação dos arquivos."
   ]
  },
  {
   "attachments": {},
   "cell_type": "markdown",
   "metadata": {},
   "source": [
    "<link rel=\"stylesheet\" href=\"style.css\">\n",
    "\n",
    "#### <h4 id=\"center\">Nomenclaturas</h4>"
   ]
  },
  {
   "attachments": {},
   "cell_type": "markdown",
   "metadata": {},
   "source": [
    "<link rel=\"stylesheet\" href=\"style.css\">\n",
    "\n",
    "##### <h5 id=\"center\">Anchor</h5>"
   ]
  },
  {
   "attachments": {},
   "cell_type": "markdown",
   "metadata": {},
   "source": [
    "<p style=\"text-align:center;font-size:20px\">A âncora é a pasta raiz do sistema de arquivos."
   ]
  },
  {
   "attachments": {},
   "cell_type": "markdown",
   "metadata": {},
   "source": [
    "<link rel=\"stylesheet\" href=\"style.css\">\n",
    "\n",
    "<p id=\"center\" style=\"font-size:30px;\"><span class=\"red-neon\">c:\\</span>aulas\\python\\script.py"
   ]
  },
  {
   "cell_type": "code",
   "execution_count": 5,
   "metadata": {},
   "outputs": [
    {
     "data": {
      "text/plain": [
       "'c:\\\\'"
      ]
     },
     "execution_count": 5,
     "metadata": {},
     "output_type": "execute_result"
    }
   ],
   "source": [
    "from pathlib import Path\n",
    "endereco = Path('c:/aulas/python/script.py')\n",
    "\n",
    "endereco.anchor"
   ]
  },
  {
   "attachments": {},
   "cell_type": "markdown",
   "metadata": {},
   "source": [
    "<link rel=\"stylesheet\" href=\"style.css\">\n",
    "\n",
    "##### <h5 id=\"center\">Drive</h5>"
   ]
  },
  {
   "attachments": {},
   "cell_type": "markdown",
   "metadata": {},
   "source": [
    "<p style=\"text-align:center;font-size:20px\">No Windows, é uma letra que representa o disco rígido ou outro dispositivo de armazenamento."
   ]
  },
  {
   "attachments": {},
   "cell_type": "markdown",
   "metadata": {},
   "source": [
    "<link rel=\"stylesheet\" href=\"style.css\">\n",
    "\n",
    "<p id=\"center\" style=\"font-size:30px;\"><span class=\"red-neon\">c:</span>\\aulas\\python\\script.py"
   ]
  },
  {
   "cell_type": "code",
   "execution_count": 6,
   "metadata": {},
   "outputs": [
    {
     "data": {
      "text/plain": [
       "'c:'"
      ]
     },
     "execution_count": 6,
     "metadata": {},
     "output_type": "execute_result"
    }
   ],
   "source": [
    "from pathlib import Path\n",
    "endereco = Path('c:/aulas/python/script.py')\n",
    "\n",
    "endereco.drive"
   ]
  },
  {
   "attachments": {},
   "cell_type": "markdown",
   "metadata": {},
   "source": [
    "<link rel=\"stylesheet\" href=\"style.css\">\n",
    "\n",
    "##### <h5 id=\"center\">Parent</h5>"
   ]
  },
  {
   "attachments": {},
   "cell_type": "markdown",
   "metadata": {},
   "source": [
    "<p style=\"text-align:center;font-size:20px\">É a pasta que contém o arquivo."
   ]
  },
  {
   "attachments": {},
   "cell_type": "markdown",
   "metadata": {},
   "source": [
    "<link rel=\"stylesheet\" href=\"style.css\">\n",
    "\n",
    "<p id=\"center\" style=\"font-size:30px;\"><span class=\"red-neon\">c:\\aulas\\python\\</span>script.py"
   ]
  },
  {
   "cell_type": "code",
   "execution_count": 22,
   "metadata": {},
   "outputs": [
    {
     "name": "stdout",
     "output_type": "stream",
     "text": [
      "c:\\aulas\\python\n",
      "c:\\aulas\\python\n",
      "c:\\aulas\n",
      "c:\\aulas\\python\n"
     ]
    }
   ],
   "source": [
    "#Retore os '#' de cada um que quera testar\n",
    "from pathlib import Path\n",
    "endereco = Path('c:/aulas/python/script.py')\n",
    "\n",
    "print(endereco.parent)\n",
    "\n",
    "print(endereco.parents[0]) #retorna um array\n",
    "\n",
    "print(endereco.parents[1])\n",
    "\n",
    "print(endereco.parents[-3])"
   ]
  },
  {
   "attachments": {},
   "cell_type": "markdown",
   "metadata": {},
   "source": [
    "<link rel=\"stylesheet\" href=\"style.css\">\n",
    "\n",
    "##### <h5 id=\"center\">Name</h5>"
   ]
  },
  {
   "attachments": {},
   "cell_type": "markdown",
   "metadata": {},
   "source": [
    "<p style=\"text-align:center;font-size:20px\">Nome do arquivo"
   ]
  },
  {
   "attachments": {},
   "cell_type": "markdown",
   "metadata": {},
   "source": [
    "<link rel=\"stylesheet\" href=\"style.css\">\n",
    "\n",
    "<p id=\"center\" style=\"font-size:30px;\">c:\\aulas\\python\\<span class=\"red-neon\">script.py</span>"
   ]
  },
  {
   "cell_type": "code",
   "execution_count": 10,
   "metadata": {},
   "outputs": [
    {
     "data": {
      "text/plain": [
       "'script.py'"
      ]
     },
     "execution_count": 10,
     "metadata": {},
     "output_type": "execute_result"
    }
   ],
   "source": [
    "from pathlib import Path\n",
    "endereco = Path('c:/aulas/python/script.py')\n",
    "\n",
    "endereco.name"
   ]
  },
  {
   "attachments": {},
   "cell_type": "markdown",
   "metadata": {},
   "source": [
    "<link rel=\"stylesheet\" href=\"style.css\">\n",
    "\n",
    "##### <h5 id=\"center\">Stem</h5>"
   ]
  },
  {
   "attachments": {},
   "cell_type": "markdown",
   "metadata": {},
   "source": [
    "<p style=\"text-align:center;font-size:20px\">Nome base"
   ]
  },
  {
   "attachments": {},
   "cell_type": "markdown",
   "metadata": {},
   "source": [
    "<link rel=\"stylesheet\" href=\"style.css\">\n",
    "\n",
    "<p id=\"center\" style=\"font-size:30px;\">c:\\aulas\\python\\<span class=\"red-neon\">script</span>.py"
   ]
  },
  {
   "cell_type": "code",
   "execution_count": 8,
   "metadata": {},
   "outputs": [
    {
     "data": {
      "text/plain": [
       "'script'"
      ]
     },
     "execution_count": 8,
     "metadata": {},
     "output_type": "execute_result"
    }
   ],
   "source": [
    "from pathlib import Path\n",
    "endereco = Path('c:/aulas/python/script.py')\n",
    "\n",
    "endereco.stem"
   ]
  },
  {
   "attachments": {},
   "cell_type": "markdown",
   "metadata": {},
   "source": [
    "<link rel=\"stylesheet\" href=\"style.css\">\n",
    "\n",
    "##### <h5 id=\"center\">Suffix</h5>"
   ]
  },
  {
   "attachments": {},
   "cell_type": "markdown",
   "metadata": {},
   "source": [
    "<p style=\"text-align:center;font-size:20px\">Extensão do arquivo"
   ]
  },
  {
   "attachments": {},
   "cell_type": "markdown",
   "metadata": {},
   "source": [
    "<link rel=\"stylesheet\" href=\"style.css\">\n",
    "\n",
    "<p id=\"center\" style=\"font-size:30px;\">c:\\aulas\\python\\script.<span class=\"red-neon\">py</span>"
   ]
  },
  {
   "cell_type": "code",
   "execution_count": 9,
   "metadata": {},
   "outputs": [
    {
     "data": {
      "text/plain": [
       "'.py'"
      ]
     },
     "execution_count": 9,
     "metadata": {},
     "output_type": "execute_result"
    }
   ],
   "source": [
    "from pathlib import Path\n",
    "endereco = Path('c:/aulas/python/script.py')\n",
    "\n",
    "endereco.suffix"
   ]
  },
  {
   "attachments": {},
   "cell_type": "markdown",
   "metadata": {},
   "source": [
    "<link rel=\"stylesheet\" href=\"style.css\">\n",
    "\n",
    "#### <h4 id=\"center\">Alternativa - Operational System</h4>"
   ]
  },
  {
   "attachments": {},
   "cell_type": "markdown",
   "metadata": {},
   "source": [
    "Além disso, podemos também utilizar as funções do módulo 'os' built-in. Abaixo estão alguns exemplos."
   ]
  },
  {
   "cell_type": "code",
   "execution_count": 24,
   "metadata": {},
   "outputs": [
    {
     "name": "stdout",
     "output_type": "stream",
     "text": [
      "exercicio.py\n",
      "c:\\users\\rea\n",
      "('c:\\\\users\\\\rea', 'exercicio.py')\n"
     ]
    }
   ],
   "source": [
    "import os\n",
    "arquivo = 'c:\\\\users\\\\rea\\\\exercicio.py'\n",
    "\n",
    "print(os.path.basename(arquivo))\n",
    "print(os.path.dirname(arquivo))\n",
    "print(os.path.split(arquivo))\n"
   ]
  },
  {
   "attachments": {},
   "cell_type": "markdown",
   "metadata": {},
   "source": [
    "<link rel=\"stylesheet\" href=\"style.css\">\n",
    "\n",
    "### <h3>Criando pastas</h3>"
   ]
  },
  {
   "attachments": {},
   "cell_type": "markdown",
   "metadata": {},
   "source": [
    "Abaixo temos formas diferentes e diferentes aplicações para criar pastas."
   ]
  },
  {
   "cell_type": "code",
   "execution_count": 25,
   "metadata": {},
   "outputs": [],
   "source": [
    "import os\n",
    "os.makedirs('c:/Teste/python/criado/criado') #Verifique na pasta especificada antes e depois. Verá que criou de fato as pastas criado1 e criado2."
   ]
  },
  {
   "cell_type": "code",
   "execution_count": 27,
   "metadata": {},
   "outputs": [],
   "source": [
    "from pathlib import Path\n",
    "Path(r'c:/Teste/python/criado').mkdir() #Só cria uma pasta por vez dessa forma"
   ]
  },
  {
   "cell_type": "code",
   "execution_count": 29,
   "metadata": {},
   "outputs": [],
   "source": [
    "from pathlib import Path\n",
    "Path(r'c:/Teste/python/criado/criado/criado').mkdir(parents=True) #Agora cria vários de uma vez"
   ]
  },
  {
   "attachments": {},
   "cell_type": "markdown",
   "metadata": {},
   "source": [
    "<link rel=\"stylesheet\" href=\"style.css\">\n",
    "\n",
    "### <h3>Listando Arquivos</h3>"
   ]
  },
  {
   "attachments": {},
   "cell_type": "markdown",
   "metadata": {},
   "source": [
    "<link rel=\"stylesheet\" href=\"style.css\">\n",
    "\n",
    "#### <h4>Comandos</h4>"
   ]
  },
  {
   "attachments": {},
   "cell_type": "markdown",
   "metadata": {},
   "source": [
    "Mostrando todos elementos de um arquivo"
   ]
  },
  {
   "cell_type": "code",
   "execution_count": 33,
   "metadata": {},
   "outputs": [
    {
     "data": {
      "text/plain": [
       "['New folder', 'New Text Document.txt', 'python']"
      ]
     },
     "execution_count": 33,
     "metadata": {},
     "output_type": "execute_result"
    }
   ],
   "source": [
    "import os\n",
    "os.listdir('c:/teste')"
   ]
  },
  {
   "attachments": {},
   "cell_type": "markdown",
   "metadata": {},
   "source": [
    "Como mostrar o tamanho de um arquivo"
   ]
  },
  {
   "cell_type": "code",
   "execution_count": 36,
   "metadata": {},
   "outputs": [
    {
     "data": {
      "text/plain": [
       "1680"
      ]
     },
     "execution_count": 36,
     "metadata": {},
     "output_type": "execute_result"
    }
   ],
   "source": [
    "import os\n",
    "os.path.getsize('c:/Teste/New Text Document.txt')"
   ]
  },
  {
   "attachments": {},
   "cell_type": "markdown",
   "metadata": {},
   "source": [
    "Mostrando o número de elementos de uma pasta"
   ]
  },
  {
   "cell_type": "code",
   "execution_count": 38,
   "metadata": {},
   "outputs": [
    {
     "name": "stdout",
     "output_type": "stream",
     "text": [
      "1680\n"
     ]
    }
   ],
   "source": [
    "from pathlib import Path\n",
    "import os\n",
    "total_size=0\n",
    "for filename in os.listdir('c:/Teste'):\n",
    "    total_size = total_size + os.path.getsize(Path('c:/Teste') / filename)\n",
    "\n",
    "print(total_size)\n",
    "\n",
    "#Lembrando que ele aponta apenas o tamanho dos elementos na pasta Teste, e não os elementos dos elementos (no caso, arquivos dentro das pastas)."
   ]
  },
  {
   "attachments": {},
   "cell_type": "markdown",
   "metadata": {},
   "source": [
    "<link rel=\"stylesheet\" href=\"style.css\">\n",
    "\n",
    "#### <h4>Filtrando</h4>"
   ]
  },
  {
   "attachments": {},
   "cell_type": "markdown",
   "metadata": {},
   "source": [
    "Podemos filtrar o tipo de arquivo que queremos operar utilizando o glob()."
   ]
  },
  {
   "cell_type": "code",
   "execution_count": 42,
   "metadata": {},
   "outputs": [
    {
     "name": "stdout",
     "output_type": "stream",
     "text": [
      "c:Teste\\New Text Document.txt\n"
     ]
    }
   ],
   "source": [
    "for filename in Path('c:Teste').glob('*.txt'):\n",
    "    print(filename)"
   ]
  },
  {
   "attachments": {},
   "cell_type": "markdown",
   "metadata": {},
   "source": [
    "<link rel=\"stylesheet\" href=\"style.css\">\n",
    "\n",
    "#### <h4>Validação de caminhos</h4>"
   ]
  },
  {
   "attachments": {},
   "cell_type": "markdown",
   "metadata": {},
   "source": [
    "<link rel=\"stylesheet\" href=\"style.css\">\n",
    "\n",
    "<p>O método <span>exists()</span> irá retornar um valor boleano a depender se o diretório indicado existe ou não.</p>"
   ]
  },
  {
   "cell_type": "code",
   "execution_count": 43,
   "metadata": {},
   "outputs": [
    {
     "data": {
      "text/plain": [
       "True"
      ]
     },
     "execution_count": 43,
     "metadata": {},
     "output_type": "execute_result"
    }
   ],
   "source": [
    "from pathlib import Path\n",
    "Path('c:/Teste/python').exists()"
   ]
  },
  {
   "attachments": {},
   "cell_type": "markdown",
   "metadata": {},
   "source": [
    "<link rel=\"stylesheet\" href=\"style.css\">\n",
    "\n",
    "<p>O método <span>is_file()</span> irá retornar um valor boleano a depender se o diretório indicado é um arquivo ou não.</p>"
   ]
  },
  {
   "cell_type": "code",
   "execution_count": 45,
   "metadata": {},
   "outputs": [
    {
     "data": {
      "text/plain": [
       "True"
      ]
     },
     "execution_count": 45,
     "metadata": {},
     "output_type": "execute_result"
    }
   ],
   "source": [
    "from pathlib import Path\n",
    "Path('c:/Teste/New Text Document.txt').is_file()"
   ]
  },
  {
   "attachments": {},
   "cell_type": "markdown",
   "metadata": {},
   "source": [
    "<link rel=\"stylesheet\" href=\"style.css\">\n",
    "\n",
    "<p>O método <span>is_dir()</span> irá retornar um valor boleano a depender se o diretório indicado é uma pasta ou não.</p>"
   ]
  },
  {
   "cell_type": "code",
   "execution_count": 1,
   "metadata": {},
   "outputs": [
    {
     "data": {
      "text/plain": [
       "True"
      ]
     },
     "execution_count": 1,
     "metadata": {},
     "output_type": "execute_result"
    }
   ],
   "source": [
    "from pathlib import Path\n",
    "Path('c:/Teste/python').is_dir()"
   ]
  },
  {
   "attachments": {},
   "cell_type": "markdown",
   "metadata": {},
   "source": [
    "<link rel=\"stylesheet\" href=\"style.css\">\n",
    "\n",
    "### <h3>Lendo arquivos de texto</h3>"
   ]
  },
  {
   "attachments": {},
   "cell_type": "markdown",
   "metadata": {},
   "source": [
    "<link rel=\"stylesheet\" href=\"style.css\">\n",
    "\n",
    "<p><ul><li>Usaremos a função \"<span>open(arquivo, modo)</span>\"<br>Modos:<ul><li>'r' - leitura</li><li>'w' - escrita</li><li>'a' - adicionar</li></li>"
   ]
  },
  {
   "attachments": {},
   "cell_type": "markdown",
   "metadata": {},
   "source": [
    "<link rel=\"stylesheet\" href=\"style.css\">\n",
    "\n",
    "<p><ul><li>Também temos a função \"<span>read()</span>\" - lê todo o texto do arquivo em uma string</li>\n",
    "<li>Também temos a função \"<span>read()</span>\" - lê todo o texto do arquivo em uma string</li>\n",
    "<li>Também temos a função \"<span>readline()</span>\" - lê linha por linha retornando uma string</li>\n",
    "<li>Também temos a função \"<span>readlines()</span>\" - lê todas as linhas do arquivo retornando uma lista de strings</li>"
   ]
  },
  {
   "attachments": {},
   "cell_type": "markdown",
   "metadata": {},
   "source": [
    "Por fim, temos a função close() para fechar."
   ]
  },
  {
   "cell_type": "code",
   "execution_count": 3,
   "metadata": {},
   "outputs": [
    {
     "name": "stdout",
     "output_type": "stream",
     "text": [
      "Mapaches superiores!\n",
      "UTF8: Ç á ã\n"
     ]
    }
   ],
   "source": [
    "with open('c:/teste/New Text Document.txt',encoding='utf8') as f:\n",
    "    contents = f.read()\n",
    "    print(contents)"
   ]
  },
  {
   "cell_type": "code",
   "execution_count": 6,
   "metadata": {},
   "outputs": [
    {
     "name": "stdout",
     "output_type": "stream",
     "text": [
      "line 1: Mapaches superiores!\n",
      "\n",
      "line 2: UTF8: Ç á ã\n"
     ]
    }
   ],
   "source": [
    "linhas = []\n",
    "with open('c:/Teste/New Text Document.txt',encoding='utf8') as f:\n",
    "    linhas = f.readlines()\n",
    "\n",
    "count = 0\n",
    "for line in linhas:\n",
    "    count += 1\n",
    "    print(f'line {count}: {line}')"
   ]
  },
  {
   "cell_type": "code",
   "execution_count": 9,
   "metadata": {},
   "outputs": [
    {
     "name": "stdout",
     "output_type": "stream",
     "text": [
      "Mapaches superiores!\n",
      "\n",
      "UTF8: Ç á ã\n"
     ]
    }
   ],
   "source": [
    "with open('c:/Teste/New Text Document.txt',encoding='utf8') as f:\n",
    "    linhas = f.readline()\n",
    "    while linhas:\n",
    "        print(linhas)\n",
    "        linhas = f.readline()"
   ]
  },
  {
   "attachments": {},
   "cell_type": "markdown",
   "metadata": {},
   "source": [
    "<link rel=\"stylesheet\" href=\"style.css\">\n",
    "\n",
    "### <h3>Criando arquivos de texto</h3>"
   ]
  },
  {
   "attachments": {},
   "cell_type": "markdown",
   "metadata": {},
   "source": [
    "<link rel=\"stylesheet\" href=\"style.css\">\n",
    "\n",
    "#### <h4>Método write</h4>"
   ]
  },
  {
   "cell_type": "code",
   "execution_count": 24,
   "metadata": {},
   "outputs": [],
   "source": [
    "linhas = ['Bonbon','&','Chuchu!']\n",
    "with open('c:/Teste/readme.txt', 'w') as arquivo:\n",
    "    for line in linhas:\n",
    "        arquivo.write(line)\n",
    "        arquivo.write('\\n')"
   ]
  },
  {
   "attachments": {},
   "cell_type": "markdown",
   "metadata": {},
   "source": [
    "<link rel=\"stylesheet\" href=\"style.css\">\n",
    "\n",
    "#### <h4>Método write lines</h4>"
   ]
  },
  {
   "cell_type": "code",
   "execution_count": 25,
   "metadata": {},
   "outputs": [],
   "source": [
    "linhas = ['Mime ','and',' Dash!']\n",
    "with open('c:/Teste/readme.txt', 'w') as arquivo:\n",
    "    arquivo.writelines(linhas)"
   ]
  },
  {
   "attachments": {},
   "cell_type": "markdown",
   "metadata": {},
   "source": [
    "## <p style=\"border-bottom:solid #ffffff38 5px;\">"
   ]
  }
 ],
 "metadata": {
  "kernelspec": {
   "display_name": "Python 3",
   "language": "python",
   "name": "python3"
  },
  "language_info": {
   "codemirror_mode": {
    "name": "ipython",
    "version": 3
   },
   "file_extension": ".py",
   "mimetype": "text/x-python",
   "name": "python",
   "nbconvert_exporter": "python",
   "pygments_lexer": "ipython3",
   "version": "3.12.3"
  },
  "orig_nbformat": 4
 },
 "nbformat": 4,
 "nbformat_minor": 2
}
