{
 "cells": [
  {
   "attachments": {},
   "cell_type": "markdown",
   "metadata": {},
   "source": [
    "<link rel=\"stylesheet\" href=\"../Jupyter Style/style.css\">\n",
    "\n",
    "# <h1>Python</h1>"
   ]
  },
  {
   "attachments": {},
   "cell_type": "markdown",
   "metadata": {},
   "source": [
    "<div class=\"animated-border\">\n",
    "    <img src=\"../Images/Mime and Dash Ilustrations/Gifs/Go, give me money!.gif\" alt=\"descrição do gif\" width=\"900\" style=\"display: block; margin-left: auto; margin-right: auto; border-radius:20px\">\n",
    "</div>"
   ]
  },
  {
   "attachments": {},
   "cell_type": "markdown",
   "metadata": {},
   "source": [
    "<link rel=\"stylesheet\" href=\"../Jupyter Style/style.css\"> \n",
    "\n",
    "## <h2>Conceitos<h2>"
   ]
  },
  {
   "attachments": {},
   "cell_type": "markdown",
   "metadata": {},
   "source": [
    "<link rel=\"stylesheet\" href=\"../Jupyter Style/style.css\"> \n",
    "\n",
    "### <h3>Contatenação, input() e len()<h3>"
   ]
  },
  {
   "attachments": {},
   "cell_type": "markdown",
   "metadata": {},
   "source": [
    "<link rel=\"stylesheet\" href=\"../Jupyter Style/style.css\"> \n",
    "\n",
    "<p>A função built-in <span>len()</span> aceita strings e retornará a quantidade de letras.</p>\n",
    "<br><p>A função built-in <span>input()</span> é uma função que irá sempre retornar o valor de entrada como string.</p>\n",
    "<br><p><span class=\"green-neon\">Contatenação</span> trata-se de uma junção, e no caso, é apenas possível contatenar uma string a outra (jamais outro tipo de valor). Costuma usar-se o \"+\"."
   ]
  },
  {
   "cell_type": "code",
   "execution_count": 7,
   "metadata": {},
   "outputs": [
    {
     "name": "stdout",
     "output_type": "stream",
     "text": [
      "Insira uma frase\n",
      "A frase digitada foi: Mime and Dash\n",
      "\n",
      "O numero de letras da frase é: \n",
      "13\n"
     ]
    }
   ],
   "source": [
    "\n",
    "#* Aplicação dos três conceitos\n",
    "\n",
    "print(\"Insira uma frase\")\n",
    "frase = input()\n",
    "\n",
    "print('A frase digitada foi: '+frase)\n",
    "\n",
    "numero_de_letras = len(frase)\n",
    "#*print('A quantidade de letras da frase é: ' + numero_de_letras) Não funcionaria pois não podemos contatenar nada que não seja string com string.\n",
    "print(\"\\nO numero de letras da frase é: \")\n",
    "print(numero_de_letras)"
   ]
  },
  {
   "cell_type": "code",
   "execution_count": 3,
   "metadata": {},
   "outputs": [
    {
     "name": "stdout",
     "output_type": "stream",
     "text": [
      "Digite um número: \n",
      "1\n",
      "\n",
      "Digite outro número: \n",
      "2\n",
      "\n",
      "A soma destes valores é: \n",
      "12\n"
     ]
    }
   ],
   "source": [
    "\n",
    "#* O exemplo abaixo mostra como o input() só retorna string (logo não funcionará a soma)\n",
    "\n",
    "print(\"Digite um número: \")\n",
    "num1 = input()\n",
    "print(num1)\n",
    "\n",
    "print(\"\\nDigite outro número: \")\n",
    "num2 = input()\n",
    "print(num2)\n",
    "\n",
    "print(\"\\nA soma destes valores é: \")\n",
    "resultado = num1+num2\n",
    "print(resultado)"
   ]
  },
  {
   "cell_type": "code",
   "execution_count": 4,
   "metadata": {},
   "outputs": [
    {
     "ename": "TypeError",
     "evalue": "can only concatenate str (not \"int\") to str",
     "output_type": "error",
     "traceback": [
      "\u001b[1;31m---------------------------------------------------------------------------\u001b[0m",
      "\u001b[1;31mTypeError\u001b[0m                                 Traceback (most recent call last)",
      "Cell \u001b[1;32mIn[4], line 6\u001b[0m\n\u001b[0;32m      4\u001b[0m num2 \u001b[39m=\u001b[39m \u001b[39m2\u001b[39m\n\u001b[0;32m      5\u001b[0m soma \u001b[39m=\u001b[39m num1 \u001b[39m+\u001b[39m num2\n\u001b[1;32m----> 6\u001b[0m \u001b[39mprint\u001b[39m(\u001b[39m'\u001b[39;49m\u001b[39m1 + 2 = \u001b[39;49m\u001b[39m'\u001b[39;49m\u001b[39m+\u001b[39;49msoma)\n",
      "\u001b[1;31mTypeError\u001b[0m: can only concatenate str (not \"int\") to str"
     ]
    }
   ],
   "source": [
    "\n",
    "#* Este outro exemplo mostra como a contatenação só ocorre com letras\n",
    "\n",
    "num1 = 1\n",
    "num2 = 2\n",
    "soma = num1 + num2\n",
    "print('1 + 2 = '+soma)"
   ]
  },
  {
   "attachments": {},
   "cell_type": "markdown",
   "metadata": {},
   "source": [
    "<link rel=\"stylesheet\" href=\"../Jupyter Style/style.css\"> \n",
    "\n",
    "### <h3>Funções built-in conversoras de tipo<h3>"
   ]
  },
  {
   "attachments": {},
   "cell_type": "markdown",
   "metadata": {},
   "source": [
    "<link rel=\"stylesheet\" href=\"../Jupyter Style/style.css\"> \n",
    "\n",
    "<p>A função <span>str()</span> converte o que tiver nela para <span class=\"green-neon\">string</span>.</p>\n",
    "<p>A função <span>int()</span> converte o que tiver nela para <span class=\"green-neon\">int</span>. O mesmo se aplica ao <span class=\"green-neon\">float()</span>.</p>"
   ]
  },
  {
   "cell_type": "code",
   "execution_count": 18,
   "metadata": {},
   "outputs": [
    {
     "name": "stdout",
     "output_type": "stream",
     "text": [
      "12\n",
      "\n",
      "\n",
      "3\n"
     ]
    }
   ],
   "source": [
    "num1 = 1\n",
    "num2 = 2\n",
    "num1 = str(num1)\n",
    "num2 = str(num2)\n",
    "resultado = num1 + num2\n",
    "print(resultado)\n",
    "\n",
    "print(\"\\n\")\n",
    "\n",
    "num1 = int(num1)\n",
    "num2 = int(num2)\n",
    "resultado = num1+num2\n",
    "print(resultado)"
   ]
  },
  {
   "attachments": {},
   "cell_type": "markdown",
   "metadata": {},
   "source": [
    "<link rel=\"stylesheet\" href=\"../Jupyter Style/style.css\"> \n",
    "\n",
    "### <h3>Comando continue<h3>"
   ]
  },
  {
   "attachments": {},
   "cell_type": "markdown",
   "metadata": {},
   "source": [
    "<link rel=\"stylesheet\" href=\"../Jupyter Style/style.css\"> \n",
    "\n",
    "<p>O comando <span>continue</span> irá levar a estrutura de volta ao início de seu bloco.</p>"
   ]
  },
  {
   "cell_type": "code",
   "execution_count": 4,
   "metadata": {},
   "outputs": [
    {
     "name": "stdout",
     "output_type": "stream",
     "text": [
      "Insira o ID: \n",
      "Bem vindo, Rea! Insira sua senha: \n",
      "Bem vindo ao programa!\n"
     ]
    }
   ],
   "source": [
    "while 1:\n",
    "    print('Insira o ID: ')\n",
    "    name=input()\n",
    "    if name!='Rea':\n",
    "        continue\n",
    "    print('Bem vindo, Rea! Insira sua senha: ')\n",
    "    senha=input()\n",
    "    if senha == '852456Re!':\n",
    "        break\n",
    "print(\"Bem vindo ao programa!\")\n",
    "\n",
    "#Ps: Faz parte do fluxograma original deste programa, inclusive, que quando errar a senha volte para o início. Não se assuste."
   ]
  },
  {
   "attachments": {},
   "cell_type": "markdown",
   "metadata": {},
   "source": [
    "<link rel=\"stylesheet\" href=\"../Jupyter Style/style.css\"> \n",
    "\n",
    "### <h3>Importando Módulos<h3>"
   ]
  },
  {
   "attachments": {},
   "cell_type": "markdown",
   "metadata": {},
   "source": [
    "<link rel=\"stylesheet\" href=\"../Jupyter Style/style.css\"> \n",
    "\n",
    "#### <h4>Importando Módulos Standart</h4>"
   ]
  },
  {
   "attachments": {},
   "cell_type": "markdown",
   "metadata": {},
   "source": [
    "<link rel=\"stylesheet\" href=\"../Jupyter Style/style.css\"> \n",
    "\n",
    "<p>Podemos importar módulos standart para operar com suas funções e objetos.</p>"
   ]
  },
  {
   "attachments": {},
   "cell_type": "markdown",
   "metadata": {},
   "source": [
    "<link rel=\"stylesheet\" href=\"../Jupyter Style/style.css\"> \n",
    "\n",
    "##### <h5>Módulo Random</h5>"
   ]
  },
  {
   "cell_type": "code",
   "execution_count": 6,
   "metadata": {},
   "outputs": [
    {
     "name": "stdout",
     "output_type": "stream",
     "text": [
      "59\n",
      "43\n",
      "23\n",
      "58\n",
      "16\n",
      "13\n"
     ]
    }
   ],
   "source": [
    "# O código gera 6 números aleatórios entre 1 e 60.\n",
    "\n",
    "import random\n",
    "for i in range(6):\n",
    "    print(random.randint(1,60))"
   ]
  },
  {
   "cell_type": "code",
   "execution_count": 7,
   "metadata": {},
   "outputs": [
    {
     "name": "stdout",
     "output_type": "stream",
     "text": [
      "51\n",
      "6\n",
      "31\n",
      "45\n",
      "33\n",
      "47\n"
     ]
    }
   ],
   "source": [
    "# Forma alternativa de fazer. Aqui não precisamos prefixar com (random.)\n",
    "\n",
    "from random import *\n",
    "for i in range(6):\n",
    "    print(randint(1,60))"
   ]
  },
  {
   "cell_type": "code",
   "execution_count": 8,
   "metadata": {},
   "outputs": [
    {
     "name": "stdout",
     "output_type": "stream",
     "text": [
      "11\n",
      "17\n",
      "41\n",
      "4\n",
      "56\n",
      "52\n"
     ]
    }
   ],
   "source": [
    "# Forma alternativa de fazer. Aqui só importamos o que vamos usar\n",
    "\n",
    "from random import randint\n",
    "for i in range(6):\n",
    "    print(randint(1,60))"
   ]
  },
  {
   "attachments": {},
   "cell_type": "markdown",
   "metadata": {},
   "source": [
    "<link rel=\"stylesheet\" href=\"../Jupyter Style/style.css\"> \n",
    "\n",
    "##### <h5>Módulo System</h5>"
   ]
  },
  {
   "attachments": {},
   "cell_type": "markdown",
   "metadata": {},
   "source": [
    "<link rel=\"stylesheet\" href=\"../Jupyter Style/style.css\"> \n",
    "\n",
    "<p>Podemos importar módulos standart para operar com suas funções e objetos.</p>"
   ]
  },
  {
   "cell_type": "code",
   "execution_count": 9,
   "metadata": {},
   "outputs": [
    {
     "name": "stdout",
     "output_type": "stream",
     "text": [
      "Digite sair para sair: \n",
      "Você digitouEu não lhe tannnnkoe não \"sair\".\n",
      "Digite sair para sair: \n",
      "Você digitouEu não lhe tannnnnkoe não \"sair\".\n",
      "Digite sair para sair: \n"
     ]
    },
    {
     "ename": "SystemExit",
     "evalue": "",
     "output_type": "error",
     "traceback": [
      "An exception has occurred, use %tb to see the full traceback.\n",
      "\u001b[1;31mSystemExit\u001b[0m\n"
     ]
    },
    {
     "name": "stderr",
     "output_type": "stream",
     "text": [
      "C:\\Users\\Administrator\\AppData\\Roaming\\Python\\Python312\\site-packages\\IPython\\core\\interactiveshell.py:3585: UserWarning: To exit: use 'exit', 'quit', or Ctrl-D.\n",
      "  warn(\"To exit: use 'exit', 'quit', or Ctrl-D.\", stacklevel=1)\n"
     ]
    }
   ],
   "source": [
    "#O sys.exit(), diferente do break, para COMPLETAMENTE a execução do programa já naquele ponto, nada após ele é feito além do fechamento.\n",
    "\n",
    "import sys\n",
    "\n",
    "while 1:\n",
    "    print(\"Digite sair para sair: \")\n",
    "    resposta = input()\n",
    "    if resposta == 'sair':\n",
    "        sys.exit()\n",
    "    print('Você digitou' + resposta + ' e não \"sair\".')"
   ]
  },
  {
   "attachments": {},
   "cell_type": "markdown",
   "metadata": {},
   "source": [
    "<link rel=\"stylesheet\" href=\"../Jupyter Style/style.css\"> \n",
    "\n",
    "#### <h4>Importando Módulos Próprios (pendente)</h4>"
   ]
  },
  {
   "attachments": {},
   "cell_type": "markdown",
   "metadata": {},
   "source": [
    "<link rel=\"stylesheet\" href=\"../Jupyter Style/style.css\"> \n",
    "\n",
    "### <h3>Parâmetros, Recursividade e Retorno<h3>"
   ]
  },
  {
   "attachments": {},
   "cell_type": "markdown",
   "metadata": {},
   "source": [
    "<link rel=\"stylesheet\" href=\"../Jupyter Style/style.css\"> \n",
    "\n",
    "#### <h4>Parâmetros e retorno<h4>"
   ]
  },
  {
   "attachments": {},
   "cell_type": "markdown",
   "metadata": {},
   "source": [
    "\n",
    "<link rel=\"stylesheet\" href=\"../Jupyter Style/style.css\"> \n",
    "\n",
    "##### <h5>Parâmetros<h5>"
   ]
  },
  {
   "cell_type": "code",
   "execution_count": 3,
   "metadata": {},
   "outputs": [
    {
     "name": "stdout",
     "output_type": "stream",
     "text": [
      "O valor do salário é de:  3500.0\n"
     ]
    }
   ],
   "source": [
    "def calcular_salario(qtd_horas, valor_hora):\n",
    "    horas = float(qtd_horas)\n",
    "    taxa = float(valor_hora)\n",
    "\n",
    "    if horas<=40:\n",
    "        salario = horas * taxa\n",
    "    else:\n",
    "        h_excd = horas - 40\n",
    "        salario = 40*taxa+(h_excd*(1.5*taxa))\n",
    "    return salario\n",
    "\n",
    "str_horas = input('Quantidade de horas trabalhadas: ')\n",
    "str_taxa = input('Digite a taxa: ')\n",
    "salario_calculado = calcular_salario(str_horas, str_taxa)\n",
    "\n",
    "print('O valor do salário é de: ', salario_calculado)"
   ]
  },
  {
   "attachments": {},
   "cell_type": "markdown",
   "metadata": {},
   "source": [
    "<link rel=\"stylesheet\" href=\"../Jupyter Style/style.css\"> \n",
    "\n",
    "##### <h5>Parâmetros renomeados<h5>"
   ]
  },
  {
   "cell_type": "code",
   "execution_count": 5,
   "metadata": {},
   "outputs": [
    {
     "name": "stdout",
     "output_type": "stream",
     "text": [
      "24.441802087462015\n"
     ]
    }
   ],
   "source": [
    "def IMC(peso, altura):\n",
    "    print(peso/altura**2)\n",
    "\n",
    "IMC(74, 1.74)\n",
    "\n",
    "#IMC(altura=1.74, peso=74) Também funcionaria"
   ]
  },
  {
   "attachments": {},
   "cell_type": "markdown",
   "metadata": {},
   "source": [
    "<link rel=\"stylesheet\" href=\"../Jupyter Style/style.css\"> \n",
    "\n",
    "#### <h4>Recursividade<h4>"
   ]
  },
  {
   "attachments": {},
   "cell_type": "markdown",
   "metadata": {},
   "source": [
    "<link rel=\"stylesheet\" href=\"../Jupyter Style/style.css\"> \n",
    "\n",
    "### <h3>Tratamento de Exceções<h3>"
   ]
  },
  {
   "attachments": {},
   "cell_type": "markdown",
   "metadata": {},
   "source": [
    "<link rel=\"stylesheet\" href=\"../Jupyter Style/style.css\"> \n",
    "\n",
    "<p>Para tratamento de exceções temos os três principais blocos:\n",
    "<ul><li><span>Try</span>: A aplicação em questão.</li>\n",
    "<li><span>Except</span>: Onde você colocará a exceção e como prosseguir caso ela aconteça.</li>\n",
    "<li><span>Finally</span>: Instrução que independente do código ter tido exceções ou não, irá acontecer.</li>\n",
    "</p>"
   ]
  },
  {
   "cell_type": "code",
   "execution_count": 28,
   "metadata": {},
   "outputs": [
    {
     "name": "stdout",
     "output_type": "stream",
     "text": [
      "Operação ignorada pois não é possível dividir por zero.\n",
      "Processo de conta Finalizado.\n",
      "\n",
      "\n",
      "None\n"
     ]
    }
   ],
   "source": [
    "def dividir (a, b):\n",
    "    try:\n",
    "        return a/b\n",
    "    except ZeroDivisionError:\n",
    "        print(\"Operação ignorada pois não é possível dividir por zero.\")\n",
    "    except TypeError:\n",
    "        print(\"Operação ignorada pois há presença de tipos incorretos.\")\n",
    "    finally:\n",
    "        print(\"Processo de conta Finalizado.\\n\\n\")\n",
    "     \n",
    "print(dividir(4, 0))"
   ]
  },
  {
   "attachments": {},
   "cell_type": "markdown",
   "metadata": {},
   "source": [
    "<link rel=\"stylesheet\" href=\"../Jupyter Style/style.css\"> \n",
    "\n",
    "## <h2>Exercícios<h2>"
   ]
  },
  {
   "attachments": {},
   "cell_type": "markdown",
   "metadata": {},
   "source": [
    "<link rel=\"stylesheet\" href=\"../Jupyter Style/style.css\"> \n",
    "\n",
    "### <h3 class=\"blue-neon\">Apostador de números!<h3>"
   ]
  },
  {
   "cell_type": "code",
   "execution_count": 41,
   "metadata": {},
   "outputs": [
    {
     "name": "stdout",
     "output_type": "stream",
     "text": [
      "________________________________________________________________________________\n",
      "\n",
      "Bem vindo!\n",
      "Quem será que vence, você ou a máquina?\n",
      "\n",
      "Este jogo basicamente depende de o computador tentar adivinhar o valor que você irá inserir   entre 1 e 2, antes que você insira (fica tranquilo, ele está sendo obrigado a ser honesto). Quem atingir 3 pontos primeiro vence.\n",
      "\n",
      "E aí, confiante? Que comecem os jogos!\n",
      "\n",
      "________________________________________________________________________________\n",
      "\n",
      "O computador está pensando.\n",
      "Ok, ele pensou.\n",
      "\n",
      "Sua vez! Insira qual o seu valor (fique tranquilo, só nós dois sabemos): \n",
      "\n",
      "Computador chutou: \n",
      "1\n",
      "--------------------------------------------------------------------------------\n",
      "Ele acertou! Um ponto para o pc.\n",
      "\n",
      " Pontos Você: 0\n",
      "\n",
      " Pontos Pc: 1\n",
      "________________________________________________________________________________\n",
      "\n",
      "O computador está pensando.\n",
      "Ok, ele pensou.\n",
      "\n",
      "Sua vez! Insira qual o seu valor (fique tranquilo, só nós dois sabemos): \n",
      "\n",
      "Computador chutou: \n",
      "1\n",
      "--------------------------------------------------------------------------------\n",
      "Ele acertou! Um ponto para o pc.\n",
      "\n",
      " Pontos Você: 0\n",
      "\n",
      " Pontos Pc: 2\n",
      "________________________________________________________________________________\n",
      "\n",
      "O computador está pensando.\n",
      "Ok, ele pensou.\n",
      "\n",
      "Sua vez! Insira qual o seu valor (fique tranquilo, só nós dois sabemos): \n",
      "\n",
      "Computador chutou: \n",
      "1\n",
      "--------------------------------------------------------------------------------\n",
      "Ele acertou! Um ponto para o pc.\n",
      "\n",
      " Pontos Você: 0\n",
      "\n",
      " Pontos Pc: 3\n",
      "--------------------------------------------------------------------------------\n",
      "\n",
      "E aí, o que achou? Fim do jogo.\n"
     ]
    }
   ],
   "source": [
    "#Caso tenha dificuldades em executar aqui, abra em outro arquivo.\n",
    "\n",
    "import random\n",
    "import time\n",
    "\n",
    "def linha(caractere):\n",
    "    for i in range(0, 80, 1):\n",
    "        print(caractere, end=\"\")\n",
    "\n",
    "acertos_humano=0\n",
    "acertos_pc=0\n",
    "\n",
    "caractere = '_'\n",
    "\n",
    "linha(caractere);\n",
    "print(\"\\n\\nBem vindo!\\nQuem será que vence, você ou a máquina?\\n\\nEste jogo basicamente depende de você tentar adivinhar o valor que o computador irá inserir entre 1 e 2. Quem atingir 3 pontos primeiro vence.\\n\\nE aí, confiante? Que comecem os jogos!\\n\")\n",
    "#time.sleep(1)\n",
    "\n",
    "while 1:\n",
    "    linha(caractere)\n",
    "\n",
    "    time.sleep(2)\n",
    "    num_pc=random.randint(1, 2)\n",
    "    print(\"\\n\\nOk, ele escolheu.\")\n",
    "    time.sleep(2)\n",
    "    print(\"\\nSua vez! Insira se acha que é 1 ou 2: \")\n",
    "    num=input()\n",
    "    print(\"\\nReal valor: \")\n",
    "    print(num_pc)\n",
    "    time.sleep(2)\n",
    "\n",
    "    if int(num_pc)==int(num):\n",
    "        print(\"\\n                 O computador foi descoberto e você ganhou um ponto.\")\n",
    "        acertos_humano=acertos_humano+1\n",
    "        print('\\n                             Pontos Você: '+str(acertos_humano))\n",
    "        time.sleep(2)\n",
    "        print(\"\\n                             Pontos Pc: \"+str(acertos_pc))\n",
    "    else:\n",
    "        print(\"\\n                        Você errou! Um ponto para o pc.\")\n",
    "        acertos_pc=acertos_pc+1\n",
    "        time.sleep(2)\n",
    "        print('\\n                             Pontos Você: '+str(acertos_humano))\n",
    "        time.sleep(2)\n",
    "        print(\"\\n                             Pontos Pc: \"+str(acertos_pc))\n",
    "\n",
    "    if acertos_humano==3 or acertos_pc== 3:\n",
    "        linha(\"_\")\n",
    "        print('\\n\\n                               O vencedor foi o ')\n",
    "        if acertos_humano>acertos_pc:\n",
    "            print(\"\\n                                  Humano!\")\n",
    "            linha(\"-\")\n",
    "            time.sleep(1)\n",
    "            print(\"\\n\\n                     E aí, o que achou? Fim do jogo.\")\n",
    "            time.sleep(6)\n",
    "            break;\n",
    "        else:\n",
    "            print(\"\\n                                     Pc!\")\n",
    "            linha(\"-\")\n",
    "            time.sleep(1)\n",
    "            print(\"\\n\\n                     E aí, o que achou? Fim do jogo.\")\n",
    "            time.sleep(6)\n",
    "            break;\n"
   ]
  },
  {
   "cell_type": "code",
   "execution_count": 42,
   "metadata": {},
   "outputs": [
    {
     "name": "stdout",
     "output_type": "stream",
     "text": [
      "Estou pensando em um número 1 and 20.\n",
      "Tente adivinhar o número\n",
      "Sua tentativa foi muito alta.\n",
      "Tente adivinhar o número\n",
      "Sua tentativa foi muito alta.\n",
      "Tente adivinhar o número\n",
      "Sua tentativa foi muito alta.\n",
      "Tente adivinhar o número\n",
      "Sua tentativa foi muito alta.\n",
      "Tente adivinhar o número\n",
      "Sua tentativa foi muito alta.\n",
      "Tente adivinhar o número\n",
      "Sua tentativa foi muito alta.\n",
      "Que pena, não conseguiu dessa vez. O número que eu estava pensando era 1\n"
     ]
    }
   ],
   "source": [
    "#Versão do professor\n",
    "\n",
    "import random\n",
    "secretNumber = random.randint(1, 20)\n",
    "print('Estou pensando em um número 1 and 20.')\n",
    "\n",
    "for tries in range(1, 7):\n",
    "    print('Tente adivinhar o número')\n",
    "    guess = int(input())\n",
    "\n",
    "    if guess < secretNumber:\n",
    "        print('Sua tentativa foi muito baixa.')\n",
    "    elif guess > secretNumber:\n",
    "        print('Sua tentativa foi muito alta.')\n",
    "    else:\n",
    "        break    # This condition is the correct guess!\n",
    "\n",
    "if guess == secretNumber:\n",
    "    print('Muito bem! Você acertou meu número em ' + str(tries) + ' tentativas!')\n",
    "else:\n",
    "    print('Que pena, não conseguiu dessa vez. O número que eu estava pensando era ' + str(secretNumber))"
   ]
  },
  {
   "attachments": {},
   "cell_type": "markdown",
   "metadata": {},
   "source": [
    "## <p style=\"border-bottom:solid #ffffff38 5px;\">"
   ]
  }
 ],
 "metadata": {
  "kernelspec": {
   "display_name": "Python 3",
   "language": "python",
   "name": "python3"
  },
  "language_info": {
   "codemirror_mode": {
    "name": "ipython",
    "version": 3
   },
   "file_extension": ".py",
   "mimetype": "text/x-python",
   "name": "python",
   "nbconvert_exporter": "python",
   "pygments_lexer": "ipython3",
   "version": "3.12.3"
  },
  "orig_nbformat": 4
 },
 "nbformat": 4,
 "nbformat_minor": 2
}
