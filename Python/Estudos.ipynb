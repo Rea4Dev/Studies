{
 "cells": [
  {
   "attachments": {},
   "cell_type": "markdown",
   "metadata": {},
   "source": [
    "<link rel=\"stylesheet\" href=\"../Jupyter Style/style.css\">\n",
    "\n",
    "# <h1>Python</h1>"
   ]
  },
  {
   "attachments": {},
   "cell_type": "markdown",
   "metadata": {},
   "source": [
    "<div class=\"animated-border\">\n",
    "    <img src=\"../Images/Mime and Dash Ilustrations/Gifs/Go, give me money!.gif\" alt=\"descrição do gif\" width=\"900\" style=\"display: block; margin-left: auto; margin-right: auto; border-radius:20px\">\n",
    "</div>"
   ]
  },
  {
   "attachments": {},
   "cell_type": "markdown",
   "metadata": {},
   "source": [
    "<link rel=\"stylesheet\" href=\"../Jupyter Style/style.css\"> \n",
    "\n",
    "## <h2>Introdução<h2>"
   ]
  },
  {
   "attachments": {},
   "cell_type": "markdown",
   "metadata": {},
   "source": [
    "<link rel=\"stylesheet\" href=\"../Jupyter Style/style.css\"> \n",
    "\n",
    "### <h3>Contatenação, input() e len()<h3>"
   ]
  },
  {
   "attachments": {},
   "cell_type": "markdown",
   "metadata": {},
   "source": [
    "<link rel=\"stylesheet\" href=\"../Jupyter Style/style.css\"> \n",
    "\n",
    "<p>A função built-in <span>len()</span> aceita strings e retornará a quantidade de letras.</p>\n",
    "<br><p>A função built-in <span>input()</span> é uma função que irá sempre retornar o valor de entrada como string.</p>\n",
    "<br><p><span class=\"green-neon\">Contatenação</span> trata-se de uma junção, e no caso, é apenas possível contatenar uma string a outra (jamais outro tipo de valor). Costuma usar-se o \"+\"."
   ]
  },
  {
   "cell_type": "code",
   "execution_count": 7,
   "metadata": {},
   "outputs": [
    {
     "name": "stdout",
     "output_type": "stream",
     "text": [
      "Insira uma frase\n",
      "A frase digitada foi: Mime and Dash\n",
      "\n",
      "O numero de letras da frase é: \n",
      "13\n"
     ]
    }
   ],
   "source": [
    "#!Aplicação dos três conceitos\n",
    "\n",
    "print(\"Insira uma frase\")\n",
    "frase = input()\n",
    "\n",
    "print('A frase digitada foi: '+frase)\n",
    "\n",
    "numero_de_letras = len(frase)\n",
    "#print('A quantidade de letras da frase é: ' + numero_de_letras) Não funcionaria pois não podemos contatenar nada que não seja string com string.\n",
    "print(\"\\nO numero de letras da frase é: \")\n",
    "print(numero_de_letras)"
   ]
  },
  {
   "cell_type": "code",
   "execution_count": null,
   "metadata": {},
   "outputs": [],
   "source": []
  },
  {
   "attachments": {},
   "cell_type": "markdown",
   "metadata": {},
   "source": [
    "## <p style=\"border-bottom:solid #ffffff38 5px;\">"
   ]
  }
 ],
 "metadata": {
  "kernelspec": {
   "display_name": "Python 3",
   "language": "python",
   "name": "python3"
  },
  "language_info": {
   "codemirror_mode": {
    "name": "ipython",
    "version": 3
   },
   "file_extension": ".py",
   "mimetype": "text/x-python",
   "name": "python",
   "nbconvert_exporter": "python",
   "pygments_lexer": "ipython3",
   "version": "3.12.3"
  },
  "orig_nbformat": 4
 },
 "nbformat": 4,
 "nbformat_minor": 2
}
