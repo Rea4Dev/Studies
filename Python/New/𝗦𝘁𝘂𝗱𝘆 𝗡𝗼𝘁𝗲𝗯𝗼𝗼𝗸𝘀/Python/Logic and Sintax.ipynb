{
 "cells": [
  {
   "attachments": {},
   "cell_type": "markdown",
   "metadata": {},
   "source": [
    "<link rel=\"stylesheet\" href=\"../../Configurations folder/style/style.css\">\n",
    "\n",
    "## <h2>Lógica de Programação e Sintaxe em Python</h2>"
   ]
  },
  {
   "attachments": {},
   "cell_type": "markdown",
   "metadata": {},
   "source": [
    "<div class=\"animated-border\">\n",
    "    <img src=\"../../Configurations folder/Images/Mime and Dash ilustrations/Gifs/Go, give me money!.gif\" alt=\"descrição do gif\" width=\"900\" style=\"display: block; margin-left: auto; margin-right: auto; border-radius:20px\">\n",
    "</div>"
   ]
  },
  {
   "attachments": {},
   "cell_type": "markdown",
   "metadata": {},
   "source": [
    "<link rel=\"stylesheet\" href=\"../../Configurations folder/style/style.css\">\n",
    "\n",
    "### <h3>Variáveis</h3>"
   ]
  },
  {
   "attachments": {},
   "cell_type": "markdown",
   "metadata": {},
   "source": [
    "<link rel=\"stylesheet\" href=\"../../Configurations folder/style/style.css\">\n",
    "\n",
    "#### <h4>O que são</h4>"
   ]
  },
  {
   "attachments": {},
   "cell_type": "markdown",
   "metadata": {},
   "source": [
    "<link rel=\"stylesheet\" href=\"../../Configurations folder/style/style.css\">\n",
    "\n",
    "<p>Variáveis são espaços na memória onde podemos armazenar:<p><ul>\n",
    "<li><p><span>Números</span>;</p>\n",
    "<li><p><span>Caracteres</span>;</p>\n",
    "<li><p><span>Textos</span>;</p>\n",
    "<li><p><span>Relações com outras variáveis</span>.</p>\n",
    "<li><p><span>...</span></p><br>\n",
    "<p>Variáveis podem ser alteradas em \"tempo de execução\", o que significa que você pode utilizar mais de uma vez a mesma variável, seja atribuindo diferentes valores ou o que for.</p><p>Assim sendo, dizemos que as variáveis são \"mutáveis\".</p>"
   ]
  },
  {
   "attachments": {},
   "cell_type": "markdown",
   "metadata": {},
   "source": [
    "<p style=\"border-bottom:solid #c82f4b40 5px;\">"
   ]
  },
  {
   "attachments": {},
   "cell_type": "markdown",
   "metadata": {},
   "source": [
    "<link rel=\"stylesheet\" href=\"../../Configurations folder/style/style.css\">\n",
    "\n",
    "#### <h4>Como declarar</h4>"
   ]
  },
  {
   "attachments": {},
   "cell_type": "markdown",
   "metadata": {},
   "source": [
    "<link rel=\"stylesheet\" href=\"../../Configurations folder/style/style.css\">\n",
    "\n",
    "<p>Para declarar uma variável em Python, seguimos a seguinte sintaxe:</p>\n",
    "<span style=\"font-family:consolas;\">nome_da_variável = valor</span><br>\n",
    "<br><p>Veja que: <ul><li><p>Utilizamos o sinal de <span>atribuição</span> \"<span>=</span>\". Este sinal é o que atribuir a variável um valor.<br>Para uma variável, lê-se \"variável recebe 10\" ou então \"variável tem 10 atribuído a ela\" por exemplo, e afins.</p><br>\n",
    "<li><p>Não importa a quantidade de espaços que colocamos entre o nome da variável e o valor.</p>\n",
    "<li><p>Existem nomes de variáveis restritas, geralmente, quando se trata de nomes que já existem na sintaxe da linguagem.</p>\n",
    "<li><p>Para armazenar certos tipos de variáveis existem formas específicas de declaração.</p>"
   ]
  },
  {
   "cell_type": "code",
   "execution_count": null,
   "metadata": {},
   "outputs": [],
   "source": [
    "# Variável armazenando número. \n",
    "variavel1 = 10\n",
    "\n",
    "# Variável armazenando texto.\n",
    "variavel_texto = \"Este é um texto\"\n",
    "variável_texto2 = 'Este é outro texto'\n",
    "variavel_texto3 = \"\"\"E este é um outro texto.\n",
    "No caso, este texto mostra a ultilidade das aspas triplas, que é servir para essas situações onde você em apenas um print faz o trabalho que geralmente teria que ter outras funções print() e/ou utilizar o \\ n.\n",
    "Veja que não coloquei sequer quebra de linha (mas ao dar espaço aqui dentro já quebra neste caso de aspas triplas), esta forma é formatada para servir assim.\n",
    "É bem útil em alguns casos, então é importante ter armazenado como utilizar e para quê.\"\"\"\n",
    "\n",
    "# Variável armazenando resultado\n",
    "resultado = 1 + 2\n",
    "\n",
    "# Variável armazenando variaveis (e operando)\n",
    "numero1 = 1\n",
    "numero2 = 2\n",
    "soma = numero1 + numero2\n",
    "\n",
    "# E assim vai..."
   ]
  },
  {
   "attachments": {},
   "cell_type": "markdown",
   "metadata": {},
   "source": [
    "<p style=\"border-bottom:solid #c82f4b40 5px;\">"
   ]
  },
  {
   "attachments": {},
   "cell_type": "markdown",
   "metadata": {},
   "source": [
    "<link rel=\"stylesheet\" href=\"../../Configurations folder/style/style.css\">\n",
    "\n",
    "#### <h4>Entrando valores nas variáveis</h4>"
   ]
  },
  {
   "attachments": {},
   "cell_type": "markdown",
   "metadata": {},
   "source": [
    "<link rel=\"stylesheet\" href=\"../../Configurations folder/style/style.css\">\n",
    "\n",
    "<p>De forma rápida, dizemos na computação que o seu teclado (usuário utilizando) é uma <span>entrada</span> de dados, e já o monitor (terminal do programa) é a <span>saída</span> desses dados.<br>\n",
    "Desta forma, para que se <span>entre</span> com dados em uma variável, é necessário utilizar a função <span class=\"red-neon\">input()</span> e para que <span>saia</span> dados utilizamos a função<span class=\"red-neon\">print()</span>.<br><br>\n",
    "<p>Sobre o print():</p>\n",
    "<ul>\n",
    "<li><p>Para a saída direta de uma variável, apenas a coloque dentro dos parênteses.</p>\n",
    "<li><p>Para a saída de apenas textos, será necessário colocar o texto dentro de aspas ou aspas duplas.</p>\n",
    "<li><p>Aspas simples permitem a <span>contatenação</span>, que nada mais é que a junção de textos através do operador <span>+</span>. Só é possível contatenar textos com textos.</p></ul>\n",
    "<br><br>\n",
    "<p>Sobre o input():</p>\n",
    "<ul>\n",
    "<li><p>Ou você utiliza o input para extrair uma entrada e armazena esta entrada numa variável;</p>\n",
    "<li><p>Ou você colocará dentro do input() tudo aquilo que você precisa extrair uma entrada (neste caso, você pode através apenas do input() colocar um texto que aparecerá na <span>saída</span> antes de extrair o valor a ser inserido).</p>"
   ]
  },
  {
   "cell_type": "code",
   "execution_count": 1,
   "metadata": {},
   "outputs": [
    {
     "name": "stdout",
     "output_type": "stream",
     "text": [
      "Olá! Este é o juntador de números.\n",
      "\n",
      "Por favor, insira o primeiro número: \n",
      "Agora o segundo: \n",
      "\n",
      "O resultado é 13\n"
     ]
    }
   ],
   "source": [
    "# Exemplo 1\n",
    "print(\"Olá! Este é o juntador de números.\\n\")\n",
    "\n",
    "print(\"Por favor, insira o primeiro número: \")\n",
    "numero1 = input() #Tudo que for digitado no input, se não alterado, vai ser salvo como string\n",
    "\n",
    "print(\"Agora o segundo: \\n\")\n",
    "numero2 = input()\n",
    "\n",
    "resultado = numero1+numero2\n",
    "print(f'O resultado é {resultado}') \n",
    "\n",
    "# O print com este \"f\" significa formatado, nele podemos automaticamente juntar texto com os valores de variáveis, com tanto que essas variáveis sejam mencionadas ali dentro e estejam entre chaves. Nele também é possível juntar texto e números, o que não pode com o print() normal."
   ]
  },
  {
   "cell_type": "code",
   "execution_count": 4,
   "metadata": {},
   "outputs": [
    {
     "name": "stdout",
     "output_type": "stream",
     "text": [
      "5\n"
     ]
    }
   ],
   "source": [
    "# Exemplo 2\n",
    "\n",
    "num1 = input(\"Digite um número: \")\n",
    "\n",
    "print(num1)"
   ]
  },
  {
   "attachments": {},
   "cell_type": "markdown",
   "metadata": {},
   "source": [
    "<p style=\"border-bottom:solid #c82f4b40 5px;\">"
   ]
  },
  {
   "attachments": {},
   "cell_type": "markdown",
   "metadata": {},
   "source": [
    "<link rel=\"stylesheet\" href=\"../../Configurations folder/style/style.css\">\n",
    "\n",
    "#### <h4>Tipos de variáveis</h4>"
   ]
  },
  {
   "attachments": {},
   "cell_type": "markdown",
   "metadata": {},
   "source": [
    "<link rel=\"stylesheet\" href=\"../../Configurations folder/style/style.css\">\n",
    "\n",
    "<p>No que diz respeito ao conteúdo das variáveis, podemos classificá-las de acordo com seu <span>tipo</span>. <br>Em Python, não precisamos especificar qual o tipo de uma variável quando vamos operar com ela, basta colocar o valor que automaticamente é definido o tipo correspondente para ela.</p>\n",
    "<br>\n",
    "<p>São eles:</p>\n",
    "<br>\n",
    "<ul>\n",
    "<li>Inteiro (int)<br>\n",
    "<p>Tipos inteiros, incluem os negativos e os positivos, só não incluem números decimais (ou seja, com vírgula).</p>\n",
    "<p>Ex: -2, -1, 0, 1, 2\n",
    "<p>Para forçar uma variável se transformar em inteiro, usamos o <span>int()</span> colocando a variável a ser transformada dentro dele.</p>\n",
    "<br>\n",
    "<li>Decimal (float)<br>\n",
    "<p>Tipos decimais incluem os inteiros, entretanto, com o adicional de também possuírem números decimais (ou seja, com vírgula).</p>\n",
    "<p>Ex: (-2),  (-1,5),  (0),  (1,3),  (2,2)</p>\n",
    "<p>Para forçar uma variável a se tranformar em decilam, usamos o <span>float()</span> colocando a variável a ser transformada dentro dele.\n",
    "<br>\n",
    "<br>\n",
    "<li>Texto (string)<br>\n",
    "<p>Tipos textos incluem de letras únicas até textos inteiros.</p>\n",
    "<p>Para forçar uma variável a se tranformar em texto, usamos o <span>str()</span> colocando a variável a ser transformada dentro dele.\n",
    "<br>\n",
    "<br>\n",
    "<li>Lógico (boolean)<br>\n",
    "<p>Tipos lógicos só incluem um de dois valores: Verdadeiro (True ou 1) ou Falso (False ou 0).</p>\n",
    "<br>\n",
    "<br>\n",
    "<p>Cada tipo de variável ocupa mais ou menos espaço, entretanto, em Python, a memória é alocada de dinamicamente, o que significa que o valor que uma variável ocupa depende da quantidade de elementos que está dentro dela (ela opera e ocupa baseado no quanto de memória a máquina tem, ou seja, não possui um limite definido. Motivo este que faz Python ser uma das principais escolhas para ramos matemáticos e científicos.).</p>\n",
    "<br>\n",
    "<p>Por mais que o espaço ocupado seja alocado desta forma, a escolha entre um tipo o outra ainda é importante para economia. Por exemplo, decimal (float) ocupa mais que inteiro (int), logo, não vamos simplesmente usar decimal para tudo.</p>"
   ]
  },
  {
   "attachments": {},
   "cell_type": "markdown",
   "metadata": {},
   "source": [
    "<link rel=\"stylesheet\" href=\"../../Configurations folder/style/style.css\">\n",
    "\n",
    "##### <h5>Funções e Métodos de teste de tipo</h5>"
   ]
  },
  {
   "attachments": {},
   "cell_type": "markdown",
   "metadata": {},
   "source": [
    "<link rel=\"stylesheet\" href=\"../../Configurations folder/style/style.css\">\n",
    "\n",
    "###### <h6>Função type()</h6>"
   ]
  },
  {
   "attachments": {},
   "cell_type": "markdown",
   "metadata": {},
   "source": [
    "<link rel=\"stylesheet\" href=\"../../Configurations folder/style/style.css\">\n",
    "\n",
    "<p>A função type irá retornar <span>o tipo da variável indicada</span>."
   ]
  },
  {
   "cell_type": "code",
   "execution_count": null,
   "metadata": {},
   "outputs": [],
   "source": [
    "digitado = input(\"Digite algo: \")\n",
    "print(f'Você digitou \"{digitado}\". E é {type(digitado)}.')"
   ]
  },
  {
   "attachments": {},
   "cell_type": "markdown",
   "metadata": {},
   "source": [
    "<link rel=\"stylesheet\" href=\"../../Configurations folder/style/style.css\">\n",
    "\n",
    "<p>No caso acima, veja que <span>sempre vai retornar uma string</span> pois neste caso estamos usando o <span>input()</span>, que se não convertido, <span>sempre armazenará uma string</span>."
   ]
  },
  {
   "attachments": {},
   "cell_type": "markdown",
   "metadata": {},
   "source": [
    "<link rel=\"stylesheet\" href=\"../../Configurations folder/style/style.css\">\n",
    "\n",
    "###### <h6>Método .isinstance()</h6>"
   ]
  },
  {
   "attachments": {},
   "cell_type": "markdown",
   "metadata": {},
   "source": [
    "<link rel=\"stylesheet\" href=\"../../Configurations folder/style/style.css\">\n",
    "\n",
    "<p>O método .isinstance() irá retornar <span>se a variável indicada é desta natureza</span>.\n",
    "<p>Entretanto, para a aplicação abaixo, <span>irá retornar se o valor captado pode ser convertido</span>."
   ]
  },
  {
   "cell_type": "code",
   "execution_count": 30,
   "metadata": {},
   "outputs": [
    {
     "name": "stdout",
     "output_type": "stream",
     "text": [
      "Você digitou \"5\". E é True para numérico.\n"
     ]
    }
   ],
   "source": [
    "digitado = input(\"Digite algo: \")\n",
    "print(f'Você digitou \"{digitado}\". E é {digitado.isnumeric()} para numérico.')"
   ]
  },
  {
   "attachments": {},
   "cell_type": "markdown",
   "metadata": {},
   "source": [
    "<link rel=\"stylesheet\" href=\"../../Configurations folder/style/style.css\">\n",
    "\n",
    "<p>Existem diversas outras instâncias para o método .isinstance (ao digitar .is(), dê uma lida no que cada um faz). Vale a pena conhecê-los!"
   ]
  },
  {
   "attachments": {},
   "cell_type": "markdown",
   "metadata": {},
   "source": [
    "##### <p style=\"border-bottom:solid #c82f4b40 5px;\">"
   ]
  },
  {
   "attachments": {},
   "cell_type": "markdown",
   "metadata": {},
   "source": [
    "<link rel=\"stylesheet\" href=\"../../Configurations folder/style/style.css\">\n",
    "\n",
    "### <h3>Operadores</h3>"
   ]
  },
  {
   "attachments": {},
   "cell_type": "markdown",
   "metadata": {},
   "source": [
    "<link rel=\"stylesheet\" href=\"../../Configurations folder/style/style.css\">\n",
    "\n",
    "#### <h4>O que são</h4>"
   ]
  },
  {
   "attachments": {},
   "cell_type": "markdown",
   "metadata": {},
   "source": [
    "<link rel=\"stylesheet\" href=\"../../Configurations folder/style/style.css\">\n",
    "\n",
    "<p>Os operadores <span>são símbolos especiais que realizam operações em operandos para produzir um resultado</span>. Eles são utilizados para realizar <span>cálculos</span>, <span>comparações</span> e <span>outras operações</span> em diferentes tipos de dados.</p>\n",
    "<br>\n",
    "<p>Existem vários tipos de operadores em Python, incluindo:</p>\n",
    "<br>\n",
    "<ul>\n",
    "<li><p>Operadores <span style=\"font-size:105%;\">Aritméticos</span>: São utilizados para realizar operações matemáticas básicas, como adição, subtração, multiplicação, divisão, etc.</p></li>\n",
    "<li><p>Operadores de <span style=\"font-size:105%;\">Atribuição</span>: São usados para atribuir valores a variáveis. O operador de atribuição básico em Python é o sinal de igual (=).</p></li>\n",
    "<li><p>Operadores de <span style=\"font-size:105%;\">Comparação</span> (Relacionais): São usados para comparar dois valores e retornar um resultado booleano que indica se a comparação é verdadeira ou falsa.</p></li>\n",
    "<li><p>Operadores <span style=\"font-size:105%;\">Lógicos</span>: São utilizados para realizar operações lógicas em valores booleanos. Os operadores lógicos mais comuns são AND, OR e NOT.</p></li>\n",
    "<li><p>Operadores de <span style=\"font-size:105%;\">Identidade</span>: São usados para verificar se dois objetos têm a mesma identidade (ou seja, se estão armazenados no mesmo local na memória).</p></li>\n",
    "<li><p>Operadores de <span style=\"font-size:105%;\">Associação</span> (Membership): São utilizados para verificar se um valor está presente em uma sequência (como uma lista, tupla, conjunto ou dicionário).</p></li>\n",
    "<li><p>Operadores de <span style=\"font-size:105%;\">Bitwise</span>: São usados para realizar operações bit a bit em valores inteiros.</p></li>\n",
    "</ul>\n",
    "<br>\n",
    "<p>Esses operadores são fundamentais para realizar diferentes tipos de operações em Python e são amplamente utilizados em programação para manipular dados e controlar o fluxo de execução do programa.</span>"
   ]
  },
  {
   "attachments": {},
   "cell_type": "markdown",
   "metadata": {},
   "source": [
    "<p style=\"border-bottom:solid #c82f4b40 5px;\">"
   ]
  },
  {
   "attachments": {},
   "cell_type": "markdown",
   "metadata": {},
   "source": [
    "<link rel=\"stylesheet\" href=\"../../Configurations folder/style/style.css\">\n",
    "\n",
    "#### <h4>Operadores Aritméticos</h4>"
   ]
  },
  {
   "attachments": {},
   "cell_type": "markdown",
   "metadata": {},
   "source": [
    "<link rel=\"stylesheet\" href=\"../../Configurations folder/style/style.css\">\n",
    "\n",
    "<p>Os operadores aritméticos são utilizados para realizar operações matemáticas básicas em números. Eles permitem realizar adições, subtrações, multiplicações, divisões, entre outras operações.</p>"
   ]
  },
  {
   "attachments": {},
   "cell_type": "markdown",
   "metadata": {},
   "source": [
    "<link rel=\"stylesheet\" href=\"../../Configurations folder/style/style.css\">\n",
    "\n",
    "<p><span class=\"red-neon\" style=\"font-size:150%;\">Atenção!</span></p>\n",
    "<p>Você ainda irá se deparar com a <span style=\"font-size:105%\">Ordem de Precedência</span> quando for trabalhar com operadores aritméticos!.</p>\n",
    "<p>Dito isso, aqui está a ordem:</p>\n",
    "<br>\n",
    "<ul>\n",
    "<li> ()\n",
    "<li> **\n",
    "<li> * <span>➡</span> / <span>➡</span> // <span>➡</span> %\n",
    "<li> + <span>➡</span> -\n",
    "</ul>"
   ]
  },
  {
   "attachments": {},
   "cell_type": "markdown",
   "metadata": {},
   "source": [
    "<link rel=\"stylesheet\" href=\"../../Configurations folder/style/style.css\">\n",
    "\n",
    "##### <h5>Adição</h5>"
   ]
  },
  {
   "attachments": {},
   "cell_type": "markdown",
   "metadata": {},
   "source": [
    "<link rel=\"stylesheet\" href=\"../../Configurations folder/style/style.css\">\n",
    "\n",
    "<p>O operador de adição em Python é o <span style=\"font-size:150%;\">+</span>.</p>\n",
    "<p>Utilizado para adicionar dois valores.</p>"
   ]
  },
  {
   "cell_type": "code",
   "execution_count": 1,
   "metadata": {},
   "outputs": [
    {
     "name": "stdout",
     "output_type": "stream",
     "text": [
      "7\n"
     ]
    }
   ],
   "source": [
    "numero1 = 3\n",
    "numero2 = 4\n",
    "\n",
    "print(numero1 + numero2)"
   ]
  },
  {
   "attachments": {},
   "cell_type": "markdown",
   "metadata": {},
   "source": [
    "<link rel=\"stylesheet\" href=\"../../Configurations folder/style/style.css\">\n",
    "\n",
    "<p>Uma curiosidade é que, além da função aritimética deste operador, podemos utilizá-lo para contatenar strings!</p>"
   ]
  },
  {
   "cell_type": "code",
   "execution_count": 19,
   "metadata": {},
   "outputs": [
    {
     "name": "stdout",
     "output_type": "stream",
     "text": [
      "Olá mundo!\n"
     ]
    }
   ],
   "source": [
    "print(\"Olá\" + \" mundo!\")"
   ]
  },
  {
   "attachments": {},
   "cell_type": "markdown",
   "metadata": {},
   "source": [
    "<link rel=\"stylesheet\" href=\"../../Configurations folder/style/style.css\">\n",
    "\n",
    "##### <h5>Subtração</h5>"
   ]
  },
  {
   "attachments": {},
   "cell_type": "markdown",
   "metadata": {},
   "source": [
    "<link rel=\"stylesheet\" href=\"../../Configurations folder/style/style.css\">\n",
    "\n",
    "<p>O operador de subtração em Python é o <span style=\"font-size:150%;\">-</span>.</p>\n",
    "<p>Utilizado para subtrair dois valores.</p>"
   ]
  },
  {
   "cell_type": "code",
   "execution_count": 2,
   "metadata": {},
   "outputs": [
    {
     "name": "stdout",
     "output_type": "stream",
     "text": [
      "1\n"
     ]
    }
   ],
   "source": [
    "numero1 = 3\n",
    "numero2 = 4\n",
    "\n",
    "print(numero2 - numero1)"
   ]
  },
  {
   "attachments": {},
   "cell_type": "markdown",
   "metadata": {},
   "source": [
    "<link rel=\"stylesheet\" href=\"../../Configurations folder/style/style.css\">\n",
    "\n",
    "##### <h5>Multiplicação</h5>"
   ]
  },
  {
   "attachments": {},
   "cell_type": "markdown",
   "metadata": {},
   "source": [
    "<link rel=\"stylesheet\" href=\"../../Configurations folder/style/style.css\">\n",
    "\n",
    "<p>O operador de multiplicação em Python é o <span style=\"font-size:150%;\">*</span>.</p>\n",
    "<p>Utilizado para multiplicar dois valores.</p>"
   ]
  },
  {
   "cell_type": "code",
   "execution_count": 3,
   "metadata": {},
   "outputs": [
    {
     "name": "stdout",
     "output_type": "stream",
     "text": [
      "12\n"
     ]
    }
   ],
   "source": [
    "numero1 = 3\n",
    "numero2 = 4\n",
    "\n",
    "print(numero1 * numero2)"
   ]
  },
  {
   "attachments": {},
   "cell_type": "markdown",
   "metadata": {},
   "source": [
    "<link rel=\"stylesheet\" href=\"../../Configurations folder/style/style.css\">\n",
    "\n",
    "<p>Uma curiosidade é que, além da função aritimética deste operador, podemos utilizá-lo para repetir strings!</p>"
   ]
  },
  {
   "cell_type": "code",
   "execution_count": 18,
   "metadata": {},
   "outputs": [
    {
     "name": "stdout",
     "output_type": "stream",
     "text": [
      "--------------------\n"
     ]
    }
   ],
   "source": [
    "print(\"-\"*20)"
   ]
  },
  {
   "attachments": {},
   "cell_type": "markdown",
   "metadata": {},
   "source": [
    "<link rel=\"stylesheet\" href=\"../../Configurations folder/style/style.css\">\n",
    "\n",
    "##### <h5>Divisão</h5>"
   ]
  },
  {
   "attachments": {},
   "cell_type": "markdown",
   "metadata": {},
   "source": [
    "<link rel=\"stylesheet\" href=\"../../Configurations folder/style/style.css\">\n",
    "\n",
    "<p>O operador de divisão em Python é o <span style=\"font-size:150%;\">/</span>.</p>\n",
    "<p>Utilizado para dividir dois valores.</p>"
   ]
  },
  {
   "cell_type": "code",
   "execution_count": 4,
   "metadata": {},
   "outputs": [
    {
     "name": "stdout",
     "output_type": "stream",
     "text": [
      "0.75\n"
     ]
    }
   ],
   "source": [
    "numero1 = 3\n",
    "numero2 = 4\n",
    "\n",
    "print(numero1 / numero2)"
   ]
  },
  {
   "attachments": {},
   "cell_type": "markdown",
   "metadata": {},
   "source": [
    "<link rel=\"stylesheet\" href=\"../../Configurations folder/style/style.css\">\n",
    "\n",
    "##### <h5>Divisão inteira</h5>"
   ]
  },
  {
   "attachments": {},
   "cell_type": "markdown",
   "metadata": {},
   "source": [
    "<link rel=\"stylesheet\" href=\"../../Configurations folder/style/style.css\">\n",
    "\n",
    "<p>O operador de divisão intera em Python é o <span style=\"font-size:150%;\">//</span>.</p>\n",
    "<p>Utilizado para dividir um valor pelo outro e retornar apenas a parte inteira do resultado, descartando a parte decimal.</p>"
   ]
  },
  {
   "cell_type": "code",
   "execution_count": 5,
   "metadata": {},
   "outputs": [
    {
     "name": "stdout",
     "output_type": "stream",
     "text": [
      "0\n"
     ]
    }
   ],
   "source": [
    "numero1 = 3\n",
    "numero2 = 4\n",
    "\n",
    "print(numero1 // numero2)"
   ]
  },
  {
   "attachments": {},
   "cell_type": "markdown",
   "metadata": {},
   "source": [
    "<link rel=\"stylesheet\" href=\"../../Configurations folder/style/style.css\">\n",
    "\n",
    "##### <h5>Exponencação</h5>"
   ]
  },
  {
   "attachments": {},
   "cell_type": "markdown",
   "metadata": {},
   "source": [
    "<link rel=\"stylesheet\" href=\"../../Configurations folder/style/style.css\">\n",
    "\n",
    "<p>O operador de exponenciação em Python é o <span style=\"font-size:150%;\">**</span>.</p>\n",
    "<p>Utilizado para elevar um valor à potência de outro valor.</p>"
   ]
  },
  {
   "cell_type": "code",
   "execution_count": 9,
   "metadata": {},
   "outputs": [
    {
     "name": "stdout",
     "output_type": "stream",
     "text": [
      "9\n"
     ]
    }
   ],
   "source": [
    "numero1 = 3\n",
    "numero2 = 2\n",
    "\n",
    "print(numero1 ** numero2)"
   ]
  },
  {
   "attachments": {},
   "cell_type": "markdown",
   "metadata": {},
   "source": [
    "<link rel=\"stylesheet\" href=\"../../Configurations folder/style/style.css\">\n",
    "\n",
    "<p>É possível também fazer qualquer tipo de raíz, basta elevar a uma potência fracionária cujo denominador seja o tipo de raiz que quer.</p>"
   ]
  },
  {
   "cell_type": "code",
   "execution_count": null,
   "metadata": {},
   "outputs": [],
   "source": [
    "numero1 = 16\n",
    "\n",
    "print(numero1 **(1/2)) #Exemplo de raiz quadrada\n",
    "print(numero1 **(1/3)) #Exemplo de raiz cúbica"
   ]
  },
  {
   "attachments": {},
   "cell_type": "markdown",
   "metadata": {},
   "source": [
    "<link rel=\"stylesheet\" href=\"../../Configurations folder/style/style.css\">\n",
    "\n",
    "##### <h5>Módulo</h5>"
   ]
  },
  {
   "attachments": {},
   "cell_type": "markdown",
   "metadata": {},
   "source": [
    "<link rel=\"stylesheet\" href=\"../../Configurations folder/style/style.css\">\n",
    "\n",
    "<p>O operador de módulo em Python é o <span style=\"font-size:150%;\">%</span>.</p>\n",
    "<p>Utilizado para retornar o resto da divisão inteira entre dois valores.</p>"
   ]
  },
  {
   "cell_type": "code",
   "execution_count": 6,
   "metadata": {},
   "outputs": [
    {
     "name": "stdout",
     "output_type": "stream",
     "text": [
      "3\n"
     ]
    }
   ],
   "source": [
    "numero1 = 3\n",
    "numero2 = 4\n",
    "\n",
    "print(numero1 % numero2)"
   ]
  },
  {
   "attachments": {},
   "cell_type": "markdown",
   "metadata": {},
   "source": [
    "##### <p style=\"border-bottom:solid #c82f4b40 5px;\">"
   ]
  },
  {
   "attachments": {},
   "cell_type": "markdown",
   "metadata": {},
   "source": [
    "<link rel=\"stylesheet\" href=\"../../Configurations folder/style/style.css\">\n",
    "\n",
    "### <h3>Módulos</h3>"
   ]
  },
  {
   "attachments": {},
   "cell_type": "markdown",
   "metadata": {},
   "source": [
    "<link rel=\"stylesheet\" href=\"../../Configurations folder/style/style.css\">\n",
    "\n",
    "#### <h4>O que são</h4>"
   ]
  },
  {
   "attachments": {},
   "cell_type": "markdown",
   "metadata": {},
   "source": [
    "<link rel=\"stylesheet\" href=\"../../Configurations folder/style/style.css\">\n",
    "\n",
    "<p>Um módulo em Python é um arquivo contendo definições e declarações de Python. O nome do arquivo é o nome do módulo com a extensão \".py\". Um módulo pode conter <span>variáveis, funções e classes que podem ser usadas em outros programas</span> Python.</p>\n",
    "<p>Existem três tipos principais de módulos em Python:</p>\n",
    "<br>\n",
    "<ul>\n",
    "<li><span style=\"font-size:110%\">Módulos Built-in:</span><p>São módulos que vêm pré-instalados com o Python e estão prontamente disponíveis para uso. Eles incluem, por exemplo: math, random, os, detetime.</p>\n",
    "<li><span style=\"font-size:110%\">Módulos padrão:</span><p>São módulos que estão disponíveis na biblioteca padrão do Python, mas não são carregados automaticamente. Eles podem ser importados e usados conforme necessário. Alguns exemplos incluem: collections, json, re.</p>\n",
    "<li><span style=\"font-size:110%\">Módulos de terceiros:</span><p>São módulos desenvolvidos por terceiros e disponibilizados para uso na comunidade Python. Eles abrangem uma ampla gama de funcionalidades e podem ser instalados usando gerenciadores de pacotes como pip.</p>"
   ]
  },
  {
   "attachments": {},
   "cell_type": "markdown",
   "metadata": {},
   "source": [
    "<p style=\"border-bottom:solid #c82f4b40 5px;\">"
   ]
  },
  {
   "attachments": {},
   "cell_type": "markdown",
   "metadata": {},
   "source": [
    "<link rel=\"stylesheet\" href=\"../../Configurations folder/style/style.css\">\n",
    "\n",
    "#### <h4>Exemplos dos tipos de módulos</h4>"
   ]
  },
  {
   "attachments": {},
   "cell_type": "markdown",
   "metadata": {},
   "source": [
    "<link rel=\"stylesheet\" href=\"../../Configurations folder/style/style.css\">\n",
    "\n",
    "##### <h5>Módulos Built-in</h5>"
   ]
  },
  {
   "attachments": {},
   "cell_type": "markdown",
   "metadata": {},
   "source": [
    "<link rel=\"stylesheet\" href=\"../../Configurations folder/style/style.css\">\n",
    "\n",
    "<p>Abaixo, temos um exemplo prático de um módulo built-in:"
   ]
  },
  {
   "cell_type": "code",
   "execution_count": 1,
   "metadata": {},
   "outputs": [
    {
     "name": "stdout",
     "output_type": "stream",
     "text": [
      "A raiz é: 9.0\n"
     ]
    }
   ],
   "source": [
    "import math\n",
    "raizDoNumero = math.sqrt(int(input(\"Digite um número: \")))\n",
    "print(f\"A raiz é: {raizDoNumero}\")"
   ]
  },
  {
   "attachments": {},
   "cell_type": "markdown",
   "metadata": {},
   "source": [
    "<link rel=\"stylesheet\" href=\"../../Configurations folder/style/style.css\">\n",
    "\n",
    "<p>Importamos o módulo math e usamos o método sqrt, que é para raiz quadrada.<p>\n",
    "<p>Para verificar os outros métodos, basta após math. apertar <span>CTRL+ESPAÇO</span> que irá aparecer uma lista de métodos e a descrição breve deles.</p>"
   ]
  },
  {
   "attachments": {},
   "cell_type": "markdown",
   "metadata": {},
   "source": [
    "<link rel=\"stylesheet\" href=\"../../Configurations folder/style/style.css\">\n",
    "\n",
    "##### <h5>Módulos padrão</h5>"
   ]
  },
  {
   "attachments": {},
   "cell_type": "markdown",
   "metadata": {},
   "source": [
    "<link rel=\"stylesheet\" href=\"../../Configurations folder/style/style.css\">\n",
    "\n",
    "##### <h5>Módulos de terceiros</h5>"
   ]
  },
  {
   "attachments": {},
   "cell_type": "markdown",
   "metadata": {},
   "source": [
    "<link rel=\"stylesheet\" href=\"../../Configurations folder/style/style.css\">\n",
    "\n",
    "<p>Os módulos <span>de terceiros devem ser instalados por meio do terminal</span>, utilizando geralmente a nomenclatura <span>pip install nome</span>.</p>\n",
    "<p>Abaixo temos um exemplo de um módulo de terceiro que reproduz mp3.</p>"
   ]
  },
  {
   "cell_type": "code",
   "execution_count": 1,
   "metadata": {},
   "outputs": [
    {
     "name": "stdout",
     "output_type": "stream",
     "text": [
      "pygame 2.5.2 (SDL 2.28.3, Python 3.12.3)\n",
      "Hello from the pygame community. https://www.pygame.org/contribute.html\n"
     ]
    },
    {
     "data": {
      "text/plain": [
       "<Event(4352-AudioDeviceAdded {'which': 0, 'iscapture': 0})>"
      ]
     },
     "execution_count": 1,
     "metadata": {},
     "output_type": "execute_result"
    }
   ],
   "source": [
    "import pygame\n",
    "pygame.init()\n",
    "pygame.mixer.music.load('D:/Novos/Documents/Data-Studies/Configurations folder/Sounds/GlaDos.wav')\n",
    "pygame.mixer.music.play()\n",
    "input()\n",
    "pygame.event.wait()"
   ]
  },
  {
   "attachments": {},
   "cell_type": "markdown",
   "metadata": {},
   "source": [
    "<link rel=\"stylesheet\" href=\"../../Configurations folder/style/style.css\">\n",
    "\n",
    "##### <h5>Módulos pessoais</h5>"
   ]
  },
  {
   "attachments": {},
   "cell_type": "markdown",
   "metadata": {},
   "source": [
    "<link rel=\"stylesheet\" href=\"../../Configurations folder/style/style.css\">\n",
    "\n",
    "<p>Você também pode <span>criar sua própria biblioteca de módulos</span> e ir importando sempre que necessário! Neste caso não seria necessário instalar nada, mas existe uma forma correta de fazer isso.</p>"
   ]
  },
  {
   "attachments": {},
   "cell_type": "markdown",
   "metadata": {},
   "source": [
    "##### <p style=\"border-bottom:solid #c82f4b40 5px;\">"
   ]
  },
  {
   "attachments": {},
   "cell_type": "markdown",
   "metadata": {},
   "source": [
    "<link rel=\"stylesheet\" href=\"../../Configurations folder/style/style.css\">\n",
    "\n",
    "#### <h4>Formas de importar</h4>"
   ]
  },
  {
   "attachments": {},
   "cell_type": "markdown",
   "metadata": {},
   "source": [
    "<link rel=\"stylesheet\" href=\"../../Configurations folder/style/style.css\">\n",
    "\n",
    "##### <h5>import módulo</h5>"
   ]
  },
  {
   "attachments": {},
   "cell_type": "markdown",
   "metadata": {},
   "source": [
    "<link rel=\"stylesheet\" href=\"../../Configurations folder/style/style.css\">\n",
    "\n",
    "<p>Aqui, <span>importamos todo o módulo math</span>.</p>\n",
    "<p>Importar todo o módulo é indicado caso você vá usar poucos ou até apenas um método do módulo, pois vai pesar desnecessariamente o programa.</p>"
   ]
  },
  {
   "cell_type": "code",
   "execution_count": 4,
   "metadata": {},
   "outputs": [
    {
     "name": "stdout",
     "output_type": "stream",
     "text": [
      "A raiz é: 9\n"
     ]
    }
   ],
   "source": [
    "import math\n",
    "raizDoNumero = math.sqrt(int(input(\"Digite um número: \")))\n",
    "print(f\"A raiz é: {raizDoNumero:.0f}\")"
   ]
  },
  {
   "attachments": {},
   "cell_type": "markdown",
   "metadata": {},
   "source": [
    "<link rel=\"stylesheet\" href=\"../../Configurations folder/style/style.css\">\n",
    "\n",
    "##### <h5>from módulo import método</h5>"
   ]
  },
  {
   "attachments": {},
   "cell_type": "markdown",
   "metadata": {},
   "source": [
    "<link rel=\"stylesheet\" href=\"../../Configurations folder/style/style.css\">\n",
    "\n",
    "<p>Aqui, <span>importamos somente o método que utilizaremos</span>, otimizando o uso.</p>\n",
    "<p>Por termos importado apenas o método, <span>podemos omitir o nome do módulo.</span> .</span>"
   ]
  },
  {
   "cell_type": "code",
   "execution_count": 3,
   "metadata": {},
   "outputs": [
    {
     "name": "stdout",
     "output_type": "stream",
     "text": [
      "A raiz é: 9\n"
     ]
    }
   ],
   "source": [
    "from math import sqrt \n",
    "raizDoNumero = sqrt(int(input(\"Digite um número: \")))\n",
    "print(f\"A raiz é: {raizDoNumero:.0f}\")\n",
    "\n",
    "#Caso quisesse outros além do sqrt, bastava ir incluindo com vírgulas, como na linha abaixo\n",
    "#? from math import sqrt, floor "
   ]
  },
  {
   "attachments": {},
   "cell_type": "markdown",
   "metadata": {},
   "source": [
    "<link rel=\"stylesheet\" href=\"../../Configurations folder/style/style.css\">\n",
    "\n",
    "##### <h5>from módulo import método as nome</h5>"
   ]
  },
  {
   "attachments": {},
   "cell_type": "markdown",
   "metadata": {},
   "source": [
    "<link rel=\"stylesheet\" href=\"../../Configurations folder/style/style.css\">\n",
    "\n",
    "<p>Aqui, além de importarmos <span>apenas o método que utilizaremos</span>, também <span>mudamos seu nome</span> para o que quisermos.\n",
    "<p>Além de um uso otimizado para apenas o método que queremos, mudamos seu nome para o que queríamos.</p>"
   ]
  },
  {
   "cell_type": "code",
   "execution_count": 8,
   "metadata": {},
   "outputs": [
    {
     "name": "stdout",
     "output_type": "stream",
     "text": [
      "A raiz é: 9\n"
     ]
    }
   ],
   "source": [
    "from math import sqrt as raiz\n",
    "raizDoNumero = raiz(int(input(\"Digite um número: \")))\n",
    "print(f\"A raiz é: {raizDoNumero:.0f}\")"
   ]
  },
  {
   "attachments": {},
   "cell_type": "markdown",
   "metadata": {},
   "source": [
    "##### <p style=\"border-bottom:solid #c82f4b40 5px;\">"
   ]
  },
  {
   "attachments": {},
   "cell_type": "markdown",
   "metadata": {},
   "source": [
    "<link rel=\"stylesheet\" href=\"../../Configurations folder/style/style.css\">\n",
    "\n",
    "### <h3>Manipulando textos</h3>"
   ]
  },
  {
   "attachments": {},
   "cell_type": "markdown",
   "metadata": {},
   "source": [
    "<link rel=\"stylesheet\" href=\"../../Configurations folder/style/style.css\">\n",
    "\n",
    "#### <h4>Análise de textos</h4>"
   ]
  },
  {
   "attachments": {},
   "cell_type": "markdown",
   "metadata": {},
   "source": [
    "<link rel=\"stylesheet\" href=\"../../Configurations folder/style/style.css\">\n",
    "\n",
    "<p>A análise de textos é <span>vital para uma boa manipulação de textos</span>, desta forma, abaixo encontra-se algumas das funções e métodos de análise de textos.</p"
   ]
  },
  {
   "attachments": {},
   "cell_type": "markdown",
   "metadata": {},
   "source": [
    "<link rel=\"stylesheet\" href=\"../../Configurations folder/style/style.css\">\n",
    "\n",
    "##### <h5>Impressão</h5>"
   ]
  },
  {
   "attachments": {},
   "cell_type": "markdown",
   "metadata": {},
   "source": [
    "<link rel=\"stylesheet\" href=\"../../Configurations folder/style/style.css\">\n",
    "\n",
    "<p>Abaixo, encontra-se alguns exemplos importantes de formas de imprimir utilizando \":\".</p>"
   ]
  },
  {
   "cell_type": "code",
   "execution_count": 20,
   "metadata": {},
   "outputs": [
    {
     "name": "stdout",
     "output_type": "stream",
     "text": [
      "C\n",
      "Casa\n",
      "Casal Python\n",
      "CslPto\n",
      "Codar\n",
      "Python\n",
      "Codar em Casal Python\n",
      "CslPto\n"
     ]
    }
   ],
   "source": [
    "frase = \"Codar em Casal Python\"\n",
    "print(frase[9])\n",
    "print(frase[9:13]) #veja que inclui o 9 mas não inclui 0 13\n",
    "print(frase[9:21])\n",
    "print(frase[9:21:2]) #pulando de 2 em 2\n",
    "print(frase[:5])\n",
    "print(frase[15:])\n",
    "print(frase[:])\n",
    "print(frase[9::2])"
   ]
  },
  {
   "attachments": {},
   "cell_type": "markdown",
   "metadata": {},
   "source": [
    "<link rel=\"stylesheet\" href=\"../../Configurations folder/style/style.css\">\n",
    "\n",
    "##### <h5>len()</h5>"
   ]
  },
  {
   "attachments": {},
   "cell_type": "markdown",
   "metadata": {},
   "source": [
    "<link rel=\"stylesheet\" href=\"../../Configurations folder/style/style.css\">\n",
    "\n",
    "<p>A função <span>len()</span> irá retornar a <span>quantidade de caracteres</span> presentes em uma string.</p>"
   ]
  },
  {
   "cell_type": "code",
   "execution_count": 6,
   "metadata": {},
   "outputs": [
    {
     "data": {
      "text/plain": [
       "17"
      ]
     },
     "execution_count": 6,
     "metadata": {},
     "output_type": "execute_result"
    }
   ],
   "source": [
    "frase = \"Analisando textos\"\n",
    "len(frase)"
   ]
  },
  {
   "attachments": {},
   "cell_type": "markdown",
   "metadata": {},
   "source": [
    "<link rel=\"stylesheet\" href=\"../../Configurations folder/style/style.css\">\n",
    "\n",
    "##### <h5>.count()</h5>"
   ]
  },
  {
   "attachments": {},
   "cell_type": "markdown",
   "metadata": {},
   "source": [
    "<link rel=\"stylesheet\" href=\"../../Configurations folder/style/style.css\">\n",
    "\n",
    "<p>O método <span>.count()</span> irá retornar a <span>quantidade de vezes que o caractere apareceu</span> na string.</p>"
   ]
  },
  {
   "cell_type": "code",
   "execution_count": 9,
   "metadata": {},
   "outputs": [
    {
     "data": {
      "text/plain": [
       "2"
      ]
     },
     "execution_count": 9,
     "metadata": {},
     "output_type": "execute_result"
    }
   ],
   "source": [
    "frase = \"Analisando textos\"\n",
    "frase.count('o')"
   ]
  },
  {
   "cell_type": "code",
   "execution_count": 10,
   "metadata": {},
   "outputs": [
    {
     "data": {
      "text/plain": [
       "1"
      ]
     },
     "execution_count": 10,
     "metadata": {},
     "output_type": "execute_result"
    }
   ],
   "source": [
    "frase = \"Analisando textos\"\n",
    "frase.count('o', 0, 11) \n",
    "# Analisa do 0 até o 11 quantas vezes aparece \"o\"."
   ]
  },
  {
   "attachments": {},
   "cell_type": "markdown",
   "metadata": {},
   "source": [
    "<link rel=\"stylesheet\" href=\"../../Configurations folder/style/style.css\">\n",
    "\n",
    "##### <h5>.find()</h5>"
   ]
  },
  {
   "attachments": {},
   "cell_type": "markdown",
   "metadata": {},
   "source": [
    "<link rel=\"stylesheet\" href=\"../../Configurations folder/style/style.css\">\n",
    "\n",
    "<p>O método <span>.find()</span> irá retornar o <span>índice do início de onde apareceu a sequência que inseriu</span>.</p>"
   ]
  },
  {
   "cell_type": "code",
   "execution_count": 12,
   "metadata": {},
   "outputs": [
    {
     "data": {
      "text/plain": [
       "7"
      ]
     },
     "execution_count": 12,
     "metadata": {},
     "output_type": "execute_result"
    }
   ],
   "source": [
    "frase = \"Analisando textos\"\n",
    "frase.find('ndo')"
   ]
  },
  {
   "attachments": {},
   "cell_type": "markdown",
   "metadata": {},
   "source": [
    "<link rel=\"stylesheet\" href=\"../../Configurations folder/style/style.css\">\n",
    "\n",
    "##### <h5>in</h5>"
   ]
  },
  {
   "attachments": {},
   "cell_type": "markdown",
   "metadata": {},
   "source": [
    "<link rel=\"stylesheet\" href=\"../../Configurations folder/style/style.css\">\n",
    "\n",
    "<p>O operador de pertencimento <span>in</span> irá retornar <span>verdadeiro ou falso</span> para a situação específica.</p>"
   ]
  },
  {
   "cell_type": "code",
   "execution_count": 13,
   "metadata": {},
   "outputs": [
    {
     "data": {
      "text/plain": [
       "True"
      ]
     },
     "execution_count": 13,
     "metadata": {},
     "output_type": "execute_result"
    }
   ],
   "source": [
    "frase = \"Analisando textos\"\n",
    "'textos' in frase"
   ]
  },
  {
   "attachments": {},
   "cell_type": "markdown",
   "metadata": {},
   "source": [
    "##### <p style=\"border-bottom:solid #c82f4b40 5px;\">"
   ]
  },
  {
   "attachments": {},
   "cell_type": "markdown",
   "metadata": {},
   "source": [
    "<link rel=\"stylesheet\" href=\"../../Configurations folder/style/style.css\">\n",
    "\n",
    "#### <h4>Transformação de textos</h4>"
   ]
  },
  {
   "attachments": {},
   "cell_type": "markdown",
   "metadata": {},
   "source": [
    "<link rel=\"stylesheet\" href=\"../../Configurations folder/style/style.css\">\n",
    "\n",
    "<p>A transformação de textos também é <span>vital para uma boa manipulação de textos</span>, desta forma, abaixo encontra-se algumas das funções e métodos de transformação de textos.</p"
   ]
  },
  {
   "attachments": {},
   "cell_type": "markdown",
   "metadata": {},
   "source": [
    "<link rel=\"stylesheet\" href=\"../../Configurations folder/style/style.css\">\n",
    "\n",
    "##### <h5>.replace()</h5>"
   ]
  },
  {
   "attachments": {},
   "cell_type": "markdown",
   "metadata": {},
   "source": [
    "<link rel=\"stylesheet\" href=\"../../Configurations folder/style/style.css\">\n",
    "\n",
    "<p>O método <span>.replace()</span> irá <span>substituir</span> o <span>texto por outro</span>.</p>"
   ]
  },
  {
   "cell_type": "code",
   "execution_count": 3,
   "metadata": {},
   "outputs": [
    {
     "name": "stdout",
     "output_type": "stream",
     "text": [
      "Analisando stringss\n"
     ]
    }
   ],
   "source": [
    "frase = \"Analisando textos\"\n",
    "print(frase.replace(\"texto\", \"strings\")) \n",
    "\n",
    "# Não muda na variável, muda apenas para executar. Se você printar apenas a variável ela continuará original."
   ]
  },
  {
   "attachments": {},
   "cell_type": "markdown",
   "metadata": {},
   "source": [
    "<link rel=\"stylesheet\" href=\"../../Configurations folder/style/style.css\">\n",
    "\n",
    "##### <h5>.upper() e lower()</h5>"
   ]
  },
  {
   "attachments": {},
   "cell_type": "markdown",
   "metadata": {},
   "source": [
    "<link rel=\"stylesheet\" href=\"../../Configurations folder/style/style.css\">\n",
    "\n",
    "<p>O método <span>.upper()</span> irá <span>deixar em maiúscula</span> toda a string.</p>"
   ]
  },
  {
   "attachments": {},
   "cell_type": "markdown",
   "metadata": {},
   "source": [
    "<link rel=\"stylesheet\" href=\"../../Configurations folder/style/style.css\">\n",
    "\n",
    "<p>O método <span>.lower()</span> irá <span>deixar em minúscula</span> toda a string.</p>"
   ]
  },
  {
   "cell_type": "code",
   "execution_count": 5,
   "metadata": {},
   "outputs": [
    {
     "name": "stdout",
     "output_type": "stream",
     "text": [
      "ANALISANDO TEXTOS\n"
     ]
    }
   ],
   "source": [
    "frase = \"Analisando textos\"\n",
    "print(frase.upper())\n",
    "\n",
    "# Não muda na variável, muda apenas para executar. Se você printar apenas a variável ela continuará original."
   ]
  },
  {
   "cell_type": "code",
   "execution_count": 6,
   "metadata": {},
   "outputs": [
    {
     "name": "stdout",
     "output_type": "stream",
     "text": [
      "analisando textos\n"
     ]
    }
   ],
   "source": [
    "frase = \"Analisando textos\"\n",
    "print(frase.lower())\n",
    "\n",
    "# Não muda na variável, muda apenas para executar. Se você printar apenas a variável ela continuará original."
   ]
  },
  {
   "attachments": {},
   "cell_type": "markdown",
   "metadata": {},
   "source": [
    "<link rel=\"stylesheet\" href=\"../../Configurations folder/style/style.css\">\n",
    "\n",
    "##### <h5>.capitalize() e title()</h5>"
   ]
  },
  {
   "attachments": {},
   "cell_type": "markdown",
   "metadata": {},
   "source": [
    "<link rel=\"stylesheet\" href=\"../../Configurations folder/style/style.css\">\n",
    "\n",
    "<p>O método <span>.capitalize()</span> irá <span>deixar tudo em maiúscula</span>, exceto a <span>primeira letra da primeira frase</span>.</p>"
   ]
  },
  {
   "attachments": {},
   "cell_type": "markdown",
   "metadata": {},
   "source": [
    "<link rel=\"stylesheet\" href=\"../../Configurations folder/style/style.css\">\n",
    "\n",
    "<p>O método <span>.title()</span> irá <span>deixar tudo em maiúscula</span>, exceto a <span>primeira letra de cada frase</span>.</p>"
   ]
  },
  {
   "cell_type": "code",
   "execution_count": 15,
   "metadata": {},
   "outputs": [
    {
     "name": "stdout",
     "output_type": "stream",
     "text": [
      "Analisando textos\n"
     ]
    }
   ],
   "source": [
    "frase = \"analisando textos\"\n",
    "print(frase.capitalize())\n",
    "\n",
    "# Não muda na variável, muda apenas para executar. Se você printar apenas a variável ela continuará original."
   ]
  },
  {
   "cell_type": "code",
   "execution_count": 14,
   "metadata": {},
   "outputs": [
    {
     "name": "stdout",
     "output_type": "stream",
     "text": [
      "Analisando Textos\n"
     ]
    }
   ],
   "source": [
    "frase = \"analisando textos\"\n",
    "print(frase.title())\n",
    "\n",
    "# Não muda na variável, muda apenas para executar. Se você printar apenas a variável ela continuará original."
   ]
  },
  {
   "attachments": {},
   "cell_type": "markdown",
   "metadata": {},
   "source": [
    "<link rel=\"stylesheet\" href=\"../../Configurations folder/style/style.css\">\n",
    "\n",
    "##### <h5>.strip()</h5>"
   ]
  },
  {
   "attachments": {},
   "cell_type": "markdown",
   "metadata": {},
   "source": [
    "<link rel=\"stylesheet\" href=\"../../Configurations folder/style/style.css\">\n",
    "\n",
    "<p>O método <span>.strip()</span> irá <span>remover</span> os <span>espaços em branco</span> do começo e do fim da string.</p>"
   ]
  },
  {
   "cell_type": "code",
   "execution_count": 13,
   "metadata": {},
   "outputs": [
    {
     "name": "stdout",
     "output_type": "stream",
     "text": [
      "Analisando textos\n"
     ]
    }
   ],
   "source": [
    "frase = \"    Analisando textos    \"\n",
    "print(frase.strip()) \n",
    "\n",
    "# Não muda na variável, muda apenas para executar. Se você printar apenas a variável ela continuará original."
   ]
  },
  {
   "attachments": {},
   "cell_type": "markdown",
   "metadata": {},
   "source": [
    "<link rel=\"stylesheet\" href=\"../../Configurations folder/style/style.css\">\n",
    "\n",
    "<p>Existe também a variação de <span>.rstrip()</span> para tirar <span>somente da direita</span> e <span>.lstrip()</span> para tirar <span>somente da esquerda</span>.</p>"
   ]
  },
  {
   "attachments": {},
   "cell_type": "markdown",
   "metadata": {},
   "source": [
    "##### <p style=\"border-bottom:solid #c82f4b40 5px;\">"
   ]
  },
  {
   "attachments": {},
   "cell_type": "markdown",
   "metadata": {},
   "source": [
    "<link rel=\"stylesheet\" href=\"../../Configurations folder/style/style.css\">\n",
    "\n",
    "#### <h4>Divisão de textos</h4>"
   ]
  },
  {
   "attachments": {},
   "cell_type": "markdown",
   "metadata": {},
   "source": [
    "<link rel=\"stylesheet\" href=\"../../Configurations folder/style/style.css\">\n",
    "\n",
    "<p>A divisão de textos também é <span>vital para uma boa manipulação de textos</span>, desta forma, abaixo encontra-se algumas das funções e métodos de divisão de textos.</p"
   ]
  },
  {
   "attachments": {},
   "cell_type": "markdown",
   "metadata": {},
   "source": [
    "<link rel=\"stylesheet\" href=\"../../Configurations folder/style/style.css\">\n",
    "\n",
    "##### <h5>.split()</h5>"
   ]
  },
  {
   "attachments": {},
   "cell_type": "markdown",
   "metadata": {},
   "source": [
    "<link rel=\"stylesheet\" href=\"../../Configurations folder/style/style.css\">\n",
    "\n",
    "<p>Transforma a <span>string em diversas outras string</span>, tirando como base para separar <span>os espaços</span>. Gera uma lista dessas strings, dessa forma, sendo acessível através do índice e os elementos dessas strings na lista também possuíndo índices.</p>\n",
    "<img src=\"../../Configurations Folder/Images/Ilustrative images/split().png\" style=\"height:200px;display: block; margin: 0 auto;\"></img>"
   ]
  },
  {
   "cell_type": "code",
   "execution_count": 4,
   "metadata": {},
   "outputs": [
    {
     "name": "stdout",
     "output_type": "stream",
     "text": [
      "['Codar', 'em', 'casal', 'Python']\n",
      "Codar\n"
     ]
    }
   ],
   "source": [
    "frase = 'Codar em casal Python'\n",
    "print(frase.split())\n",
    "print(frase.split()[0])"
   ]
  },
  {
   "attachments": {},
   "cell_type": "markdown",
   "metadata": {},
   "source": [
    "##### <p style=\"border-bottom:solid #c82f4b40 5px;\">"
   ]
  },
  {
   "attachments": {},
   "cell_type": "markdown",
   "metadata": {},
   "source": [
    "<link rel=\"stylesheet\" href=\"../../Configurations folder/style/style.css\">\n",
    "\n",
    "#### <h4>Junção de textos</h4>"
   ]
  },
  {
   "attachments": {},
   "cell_type": "markdown",
   "metadata": {},
   "source": [
    "<link rel=\"stylesheet\" href=\"../../Configurations folder/style/style.css\">\n",
    "\n",
    "<p>A junção de textos também é <span>vital para uma boa manipulação de textos</span>, desta forma, abaixo encontra-se algumas das funções e métodos de junção de textos.</p"
   ]
  },
  {
   "attachments": {},
   "cell_type": "markdown",
   "metadata": {},
   "source": [
    "<link rel=\"stylesheet\" href=\"../../Configurations folder/style/style.css\">\n",
    "\n",
    "##### <h5>''.join()</h5>"
   ]
  },
  {
   "attachments": {},
   "cell_type": "markdown",
   "metadata": {},
   "source": [
    "<link rel=\"stylesheet\" href=\"../../Configurations folder/style/style.css\">\n",
    "\n",
    "<p><span>Junta</span> todo o texto, anteriormente splitado, por exemplo, agora <span>com o que estiver entre o ''</span>.</p>"
   ]
  },
  {
   "cell_type": "code",
   "execution_count": 19,
   "metadata": {},
   "outputs": [
    {
     "name": "stdout",
     "output_type": "stream",
     "text": [
      "Codar-em-casal-Python\n"
     ]
    }
   ],
   "source": [
    "frase = 'Codar em casal Python'\n",
    "print('-'.join(frase.split()))"
   ]
  },
  {
   "attachments": {},
   "cell_type": "markdown",
   "metadata": {},
   "source": [
    "<link rel=\"stylesheet\" href=\"../../Configurations folder/style/style.css\">\n",
    "\n",
    "#### <h4>Estilizações no terminal</h4>"
   ]
  },
  {
   "attachments": {},
   "cell_type": "markdown",
   "metadata": {},
   "source": [
    "<link rel=\"stylesheet\" href=\"../../Configurations folder/style/style.css\">\n",
    "\n",
    "<p>Estilizações podem ser úteis no terminal para<span> tornar a experiência do usuário mais intuitiva </span>quando se trata de programas que rodam diretamente no terminal.</p><br>\n",
    "<p>Por enquanto usaremos a mais básica delas. Basta aplicar antes de textos (como por exemplo, dentro dos input(\"\") e dos print(\"\")) como a imagem abaixo:</p>\n",
    "<br>\n",
    "<img src=\"../../Configurations Folder/Images/Ilustrative images/Colors.png\" style=\"height:500px;display: block; margin: 0 auto;\"></img>"
   ]
  },
  {
   "cell_type": "code",
   "execution_count": 5,
   "metadata": {},
   "outputs": [
    {
     "name": "stdout",
     "output_type": "stream",
     "text": [
      "\u001b[1;31mOlá, mundo!\n"
     ]
    }
   ],
   "source": [
    "print(\"\\033[1;31mOlá, mundo!\")"
   ]
  },
  {
   "attachments": {},
   "cell_type": "markdown",
   "metadata": {},
   "source": [
    "##### <p style=\"border-bottom:solid #c82f4b40 5px;\">"
   ]
  },
  {
   "attachments": {},
   "cell_type": "markdown",
   "metadata": {},
   "source": [
    "<link rel=\"stylesheet\" href=\"../../Configurations folder/style/style.css\">\n",
    "\n",
    "### <h3>Estruturas Condicionais</h3>"
   ]
  },
  {
   "attachments": {},
   "cell_type": "markdown",
   "metadata": {},
   "source": [
    "<link rel=\"stylesheet\" href=\"../../Configurations folder/style/style.css\">\n",
    "\n",
    "<p>As estruturas condicionais são recursos fundamentais em programação que <span>permitem que um programa tome decisões com base em condições específicas</span>. Elas permitem que o fluxo de execução de um programa seja <span>controlado com base em diferentes situações</span>.</p>"
   ]
  },
  {
   "attachments": {},
   "cell_type": "markdown",
   "metadata": {},
   "source": [
    "<link rel=\"stylesheet\" href=\"../../Configurations folder/style/style.css\">\n",
    "\n",
    "#### <h4>If</h4>"
   ]
  },
  {
   "attachments": {},
   "cell_type": "markdown",
   "metadata": {},
   "source": [
    "<link rel=\"stylesheet\" href=\"../../Configurations folder/style/style.css\">\n",
    "\n",
    "<p>Estrutura condicional que, <span>caso sua condição seja verificada como verdadeira (True)</span>, permite que um <span>bloco de código seja executado</span>.</p>"
   ]
  },
  {
   "cell_type": "code",
   "execution_count": 2,
   "metadata": {},
   "outputs": [
    {
     "name": "stdout",
     "output_type": "stream",
     "text": [
      "Você tem 18 anos, logo, é maior de idade.\n"
     ]
    }
   ],
   "source": [
    "idade = int(input(\"Quantos anos você tem?\"))\n",
    "\n",
    "if idade >= 18:\n",
    "    print(f\"Você tem {idade} anos, logo, é maior de idade.\")"
   ]
  },
  {
   "attachments": {},
   "cell_type": "markdown",
   "metadata": {},
   "source": [
    "<link rel=\"stylesheet\" href=\"../../Configurations folder/style/style.css\">\n",
    "\n",
    "<p>Diferente do que algumas pessoas pensam a princípio, o \"If\" não é inútil quando sozinho pois, por vezes, <span>você apenas quer verificar a presença de algo</span> e executar um código caso verdadeiro, mas caso não, que apenas ignore e siga em frente. É justamente nesse tipo de situação onde o \"If\" sozinho seria interessante.</p>"
   ]
  },
  {
   "attachments": {},
   "cell_type": "markdown",
   "metadata": {},
   "source": [
    "<link rel=\"stylesheet\" href=\"../../Configurations folder/style/style.css\">\n",
    "\n",
    "#### <h4>If else</h4>"
   ]
  },
  {
   "attachments": {},
   "cell_type": "markdown",
   "metadata": {},
   "source": [
    "<link rel=\"stylesheet\" href=\"../../Configurations folder/style/style.css\">\n",
    "\n",
    "<p>Estrutura condicional que, <span>caso sua condição seja verificada como verdadeira (True)</span>, permite que um <span>bloco de código seja executado</span>. <span class=\"red-neon\">Caso seja falsa, um outro bloco será executado</span>.</p>"
   ]
  },
  {
   "cell_type": "code",
   "execution_count": 3,
   "metadata": {},
   "outputs": [
    {
     "name": "stdout",
     "output_type": "stream",
     "text": [
      "Você só tem 11 anos. Você é menor de idade.\n"
     ]
    }
   ],
   "source": [
    "idade = int(input(\"Quantos anos você tem?\"))\n",
    "\n",
    "if idade >= 18:\n",
    "    print(f\"Você tem {idade} anos, logo, é maior de idade.\")\n",
    "else:\n",
    "    print(f\"Você só tem {idade} anos. Você é menor de idade.\")"
   ]
  },
  {
   "attachments": {},
   "cell_type": "markdown",
   "metadata": {},
   "source": [
    "<link rel=\"stylesheet\" href=\"../../Configurations folder/style/style.css\">\n",
    "\n",
    "##### <h5>If else(simplificado)</h5>"
   ]
  },
  {
   "attachments": {},
   "cell_type": "markdown",
   "metadata": {},
   "source": [
    "<link rel=\"stylesheet\" href=\"../../Configurations folder/style/style.css\">\n",
    "\n",
    "<p>Existe um \"if else simplificado\" para alguns casos. Funciona da <span>mesma forma, mas claramente com uma utilidade mais simples e limitada</span>.</p>"
   ]
  },
  {
   "cell_type": "code",
   "execution_count": 5,
   "metadata": {},
   "outputs": [
    {
     "name": "stdout",
     "output_type": "stream",
     "text": [
      "Você é menor de idade.\n"
     ]
    }
   ],
   "source": [
    "idade = int(input(\"Quantos anos você tem?\"))\n",
    "\n",
    "print(f\"Você tem {idade} anos, logo, é maior de idade.\" if idade>=18 else \"Você é menor de idade.\")"
   ]
  },
  {
   "attachments": {},
   "cell_type": "markdown",
   "metadata": {},
   "source": [
    "<link rel=\"stylesheet\" href=\"../../Configurations folder/style/style.css\">\n",
    "\n",
    "#### <h4>elif</h4>"
   ]
  },
  {
   "attachments": {},
   "cell_type": "markdown",
   "metadata": {},
   "source": [
    "<link rel=\"stylesheet\" href=\"../../Configurations folder/style/style.css\">\n",
    "\n",
    "<p>Estrutura condicional que, <span>caso sua condição seja verificada como verdadeira (True)</span>, permite que um <span>bloco de código seja executado</span>. <span class=\"red-neon\">Caso seja falsa, uma outra condição será verificada</span>. A continuidade a partir disso depende da opção do programador, podendo parar aí (terminando no elif), ir para um bloco caso falso (um else após o elif) ou verificar mais uma condição (outro elif).</p>"
   ]
  },
  {
   "cell_type": "code",
   "execution_count": 5,
   "metadata": {},
   "outputs": [
    {
     "name": "stdout",
     "output_type": "stream",
     "text": [
      "Você é um recém nascido.\n"
     ]
    }
   ],
   "source": [
    "idade = int(input(\"Quantos anos você tem?\"))\n",
    "\n",
    "if idade >= 18:\n",
    "    print(f\"Você tem {idade} anos, logo, é maior de idade.\")\n",
    "elif idade > 0:\n",
    "    print(f\"Você só tem {idade} anos. Você é menor de idade.\")\n",
    "else:\n",
    "    print(f\"Você é um recém nascido.\")"
   ]
  },
  {
   "attachments": {},
   "cell_type": "markdown",
   "metadata": {},
   "source": [
    "<link rel=\"stylesheet\" href=\"../../Configurations folder/style/style.css\">\n",
    "\n",
    "### <h3>Estruturas de Repetição</h3>"
   ]
  },
  {
   "attachments": {},
   "cell_type": "markdown",
   "metadata": {},
   "source": [
    "<link rel=\"stylesheet\" href=\"../../Configurations folder/style/style.css\">\n",
    "\n",
    "<p>As estruturas de repetição permitem <span>executar um bloco de código repetidamente com base em uma condição ou sequência de elementos</span>. Sua importância reside na automação de tarefas repetitivas, simplificação do código e na capacidade de lidar com conjuntos de dados de forma eficiente, economizando tempo e esforço do programador.</p>"
   ]
  },
  {
   "attachments": {},
   "cell_type": "markdown",
   "metadata": {},
   "source": [
    "<link rel=\"stylesheet\" href=\"../../Configurations folder/style/style.css\">\n",
    "\n",
    "#### <h4>For</h4>"
   ]
  },
  {
   "attachments": {},
   "cell_type": "markdown",
   "metadata": {},
   "source": [
    "<link rel=\"stylesheet\" href=\"../../Configurations folder/style/style.css\">\n",
    "\n",
    "<p>O \"for\" em Python é uma estrutura de controle de fluxo que permite iterar sobre itens de qualquer sequência, como listas, tuplas, strings, etc. Ele <span>percorre cada item da sequência e executa um bloco de código para cada item</span>.<br>O \"for\" é especialmente <span>útil</span> quando você precisa <span>realizar uma ação para cada elemento em uma coleção de dados</span>, tornando a iteração sobre eles mais simples e eficiente.</p>\n",
    "<br>\n",
    "<p>Aplicações</p>\n",
    "<ul>\n",
    "<li>Situaçõs em que sei o limite.</li>\n",
    "<li>Ações com elementos em dados.</li>\n",
    "<li>Situações em que não precisamos de uma interrupção condicional na execução. Queremos que de fato percorra inteiro.</li></ul>\n",
    "<br>\n",
    "<p>Tradução da Sintaxe:</p>\n",
    "<p style=\"font-family:consolas\"><span>laço</span> número <span>no</span> <span class=\"red-neon\">intervalo(</span>0 a 3, adicionando 1<span class=\"red-neon\">)</span></p>\n",
    "<p style=\"font-family:consolas\"><span>for</span> n <span>in</span> <span class=\"red-neon\">range(</span>0, 3, 1<span class=\"red-neon\">)</span></p>"
   ]
  },
  {
   "attachments": {},
   "cell_type": "markdown",
   "metadata": {},
   "source": [
    "<link rel=\"stylesheet\" href=\"../../Configurations folder/style/style.css\">\n",
    "\n",
    "##### <h5>Exemplos</h5>"
   ]
  },
  {
   "attachments": {},
   "cell_type": "markdown",
   "metadata": {},
   "source": [
    "<link rel=\"stylesheet\" href=\"../../Configurations folder/style/style.css\">\n",
    "\n",
    "<p>No código abaixo, estamos focados em executar o código do bloco n vezes, ou seja, a cada iteração.</p"
   ]
  },
  {
   "cell_type": "code",
   "execution_count": 2,
   "metadata": {},
   "outputs": [
    {
     "name": "stdout",
     "output_type": "stream",
     "text": [
      "Teste 0\n",
      "Teste 1\n",
      "Teste 2\n",
      "Teste 3\n"
     ]
    }
   ],
   "source": [
    "for numero in range(0, 4, 1):  #? [0;4) Intervalo fechado no 0 e aberto no 4.\n",
    "    print(f\"Teste {numero}\")"
   ]
  },
  {
   "attachments": {},
   "cell_type": "markdown",
   "metadata": {},
   "source": [
    "<link rel=\"stylesheet\" href=\"../../Configurations folder/style/style.css\">\n",
    "\n",
    "<p>No código abaixo, estamos pedindo a configuração do for e focados em executar o código do bloco n vezes, ou seja, a cada iteração.</p"
   ]
  },
  {
   "cell_type": "code",
   "execution_count": null,
   "metadata": {},
   "outputs": [],
   "source": [
    "inicio = int(input(\"Selecione o início: \"))\n",
    "fim = int(input(\"Selecione o fim: \"))\n",
    "passo = int(input(\"Selecione o passo: \"))\n",
    "\n",
    "if fim > inicio:\n",
    "    fim += 1\n",
    "    for numero in range(inicio, fim, passo):\n",
    "        print(f\"Teste {numero}\")\n",
    "elif inicio > fim:\n",
    "    fim -= 1\n",
    "    for numero in range(inicio, fim, passo):\n",
    "        print(f\"Teste {numero}\")\n",
    "else:\n",
    "    print(\"Numeros de fim e inicio iguais.\")\n"
   ]
  },
  {
   "attachments": {},
   "cell_type": "markdown",
   "metadata": {},
   "source": [
    "<link rel=\"stylesheet\" href=\"../../Configurations folder/style/style.css\">\n",
    "\n",
    "<p>No código abaixo, estamos pedindo quantos valores se quer somar e somando eles.</p"
   ]
  },
  {
   "cell_type": "code",
   "execution_count": 25,
   "metadata": {},
   "outputs": [
    {
     "name": "stdout",
     "output_type": "stream",
     "text": [
      "A soma de tudo deu 6\n"
     ]
    }
   ],
   "source": [
    "qValores = int(input(\"Quantos valores quer somar?: \"))\n",
    "resultado = 0\n",
    "\n",
    "for i in range(1, (qValores+1)):\n",
    "    valor = float(input(f\"Digite o {i}° valor: \"))\n",
    "    resultado = resultado + valor\n",
    "print(f\"A soma de tudo deu {resultado:.0f}\")"
   ]
  },
  {
   "attachments": {},
   "cell_type": "markdown",
   "metadata": {},
   "source": [
    "<link rel=\"stylesheet\" href=\"../../Configurations folder/style/style.css\">\n",
    "\n",
    "#### <h4>While</h4>"
   ]
  },
  {
   "attachments": {},
   "cell_type": "markdown",
   "metadata": {},
   "source": [
    "<link rel=\"stylesheet\" href=\"../../Configurations folder/style/style.css\">\n",
    "\n",
    "<p>O \"while\" em Python é uma estrutura de controle de fluxo que<span> permite a repetição de um bloco de código enquanto uma condição especificada permanece verdadeira</span>. Ele continua executando o bloco de código repetidamente até que a condição se torne falsa.<br>O \"while\" é <span>útil quando</span> você deseja executar um conjunto de instruções várias vezes, com base em uma <span>condição que pode mudar durante a execução</span> do programa.</p>"
   ]
  },
  {
   "attachments": {},
   "cell_type": "markdown",
   "metadata": {},
   "source": [
    "<link rel=\"stylesheet\" href=\"../../Configurations folder/style/style.css\">\n",
    "\n",
    "<p>Aplicações</p>\n",
    "<ul>\n",
    "<li>Situaçõs em que sei o limite.</p>\n",
    "<li>Situações em que não sei o limite.</p>\n",
    "<li>Quando necessita de flag. Pois aqui tem como interromper o laço a qualquer momento durante a execução (pois há a constante verificação).</p>\n",
    "<br>\n",
    "<p>Tradução da Sintaxe:</p>\n",
    "<p style=\"font-family:consolas\"><span>enquanto</span> condição == verdadeira:</p>\n",
    "<p style=\"font-family:consolas\"><span>while</span> c < 10:</p>"
   ]
  },
  {
   "attachments": {},
   "cell_type": "markdown",
   "metadata": {},
   "source": [
    "<link rel=\"stylesheet\" href=\"../../Configurations folder/style/style.css\">\n",
    "\n",
    "##### <h5>Exemplos</h5>"
   ]
  },
  {
   "attachments": {},
   "cell_type": "markdown",
   "metadata": {},
   "source": [
    "<link rel=\"stylesheet\" href=\"../../Configurations folder/style/style.css\">\n",
    "\n",
    "<p>O código abaixo ilustra bem a funcionalidade do <span>while</span> no que se trata de <span>operar sem limite definido</span>.<br>Chamamos o <span class=\"red-neon\">valor != \"Terminei\"</span> de <span>breakpoint/flag</span>."
   ]
  },
  {
   "cell_type": "code",
   "execution_count": 12,
   "metadata": {},
   "outputs": [
    {
     "name": "stdout",
     "output_type": "stream",
     "text": [
      "\n",
      "Fim.\n"
     ]
    }
   ],
   "source": [
    "r = \"S\"\n",
    "\n",
    "while r == \"S\":\n",
    "    num = int(input(\"Digite um valor: \"))\n",
    "    r = input(\"Quer continuar? [S/N] \").strip().upper()\n",
    "\n",
    "print(\"\\nFim.\")"
   ]
  },
  {
   "attachments": {},
   "cell_type": "markdown",
   "metadata": {},
   "source": [
    "<link rel=\"stylesheet\" href=\"../../Configurations folder/style/style.css\">\n",
    "\n",
    "##### <h5>While True + break</h5>"
   ]
  },
  {
   "attachments": {},
   "cell_type": "markdown",
   "metadata": {},
   "source": [
    "<link rel=\"stylesheet\" href=\"../../Configurations folder/style/style.css\">\n",
    "\n",
    "<p>O <span>break</span> é uma instrução que você pode usar para <span>sair de um loop</span>, <strong>mesmo que a condição original ainda seja verdadeira</strong>.<br>Quando <span>usado com while True</span>, ele permite que você tenha <span>controle total sobre quando e como</span> o loop deve <span>terminar</span>.</p>\n",
    "<br>\n",
    "<p>Aplicações</p>\n",
    "<ul>\n",
    "<li><strong>Controle Flexível</strong>: Permite que você crie loops que dependem de múltiplas condições ou eventos, em vez de uma única condição lógica simples.</p>\n",
    "<li><strong>Simplicidade</strong>: Em alguns casos, usar while True com break pode tornar o código mais legível e fácil de entender, especialmente quando as condições de saída do loop são complexas.</p>\n",
    "<li><strong>Uso Comum em Menus e Interfaces de Linha de Comando</strong>: É comum em programas que precisam interagir continuamente com o usuário até que uma condição específica de saída seja atendida.</p>"
   ]
  },
  {
   "attachments": {},
   "cell_type": "markdown",
   "metadata": {},
   "source": [
    "## <p style=\"border-bottom:solid #ffffff38 5px;\">"
   ]
  }
 ],
 "metadata": {
  "kernelspec": {
   "display_name": "Python 3",
   "language": "python",
   "name": "python3"
  },
  "language_info": {
   "codemirror_mode": {
    "name": "ipython",
    "version": 3
   },
   "file_extension": ".py",
   "mimetype": "text/x-python",
   "name": "python",
   "nbconvert_exporter": "python",
   "pygments_lexer": "ipython3",
   "version": "3.12.3"
  },
  "orig_nbformat": 4
 },
 "nbformat": 4,
 "nbformat_minor": 2
}
