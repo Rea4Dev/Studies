<!DOCTYPE html>
<html>
<head>
    <link rel="stylesheet" href="../Jupyter Style/style.css">
</head>
<body>
    <h1 id="center" class="white-neon" style="font-weight:700">Programação de Sistemas Embarcados</h1>

    <div class="animated-border">
        <img src="../Images/Mime and Dash Ilustrations/Gifs/Join with us.gif" alt="descrição do gif" width="900" style="display: block; margin-left: auto; margin-right: auto; border-radius:20px">
    </div>

    <h2 class="white-neon">Fundamentos e Linguagem C</h2>

    <h3 class="red-neon">Introdução</h3>

    <h4 class="blue-neon">↴ O que são sistemas embarcados</h4>

    <h5 class="sub">↴↴ Um tema amplo</h5>

    <p>O tema de sistemas embarcados é <span>bastante amplo</span>, <span class="red-neon">indo de</span> sistemas simples com <span>poucos bytes de memória</span> <span class="red-neon">até</span> sistemas de entretenimento <span>complexos com comunicações de alta velocidade</span>, <span class="red-neon">passando por</span> sistemas de suporte à vida, controles de <span>operações críticas e com altos requisitos de segurança, confiabilidade e estabilidade</span>.
    <br><span>Esta variedade <span class="red-neon">traz consigo</span> diferentes abordagens de programação</span>, frameworks e camadas de abstração. <span><span class="red-neon">Cada projeto apresenta</span> estruturas próprias e diferenças substantivas na programação dos periféricos</span>.
    <br>
    <br>Abordar todos estes aspectos <span class="red-neon">é</span> uma tarefa <span>complexa</span>, principalmente para aqueles que estão ingressando nesta área.
    </p>

    <h5 class="sub">↴↴ Nossa escolha</h5>

    <p>
    <br>Os sistemas <span>abordados</span> <span class="red-neon">são</span> aqueles baseados em <span>microcontroladores com pouca capacidade de processamento e armazenamento</span>. Estes componentes <span class="red-neon">oferecem</span> um <span>bom balanço entre simplicidade e quantidade de recursos</span>, <span class="red-neon">sendo</span> <span>ideal</span> para aqueles que estão começando seus estudos sobre programação embarcada.
    <br>Isto <span class="red-neon">também oferece</span> uma boa <span>oportunidade</span> para <span>entendermos a relação entre eletrônica e programação</span>, <span class="red-neon">e também</span> conceitos relacionados à <span>evolução temporal dos circuitos</span>.
    </p>

    <h2 class="white-neon">Anexos</h2>
</body>
</html>
